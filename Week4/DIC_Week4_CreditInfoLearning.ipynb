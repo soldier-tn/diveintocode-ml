{
  "nbformat": 4,
  "nbformat_minor": 0,
  "metadata": {
    "colab": {
      "name": "DIC_Week4_CreditInfoLearning.ipynb",
      "provenance": [],
      "toc_visible": true
    },
    "kernelspec": {
      "name": "python3",
      "display_name": "Python 3"
    },
    "language_info": {
      "name": "python"
    }
  },
  "cells": [
    {
      "cell_type": "markdown",
      "metadata": {
        "id": "xX1xXxOuuuz6"
      },
      "source": [
        "#信用情報の学習"
      ]
    },
    {
      "cell_type": "markdown",
      "metadata": {
        "id": "BrgxX7ZvwWy4"
      },
      "source": [
        "##【問題1】コンペティション内容の確認\n",
        "コンペティションのOverviewページ読み、「Home Credit Default Risk」について以下の観点について確認してください。\n",
        "\n",
        "\n",
        "- 何を学習し、何を予測するのか\n",
        "- どのようなファイルを作りKaggleに提出するか\n",
        "- 提出されたものはどういった指標値で評価されるのか"
      ]
    },
    {
      "cell_type": "markdown",
      "metadata": {
        "id": "A_zMRsnwz0ds"
      },
      "source": [
        "###【問題1 解答】\n",
        "- 何を学習し、何を予測するのか\n",
        "      各顧客の収入やローン、住居等に関する個人情報を学習し、ローンの返済能力の有無（TARGET変数）を予測\n",
        "- どのようなファイルを作りKaggleに提出するか\n",
        "      下記のようにSK_ID_CURRごとにTARGET変数の確率を予測し、一覧化したファイル。\n",
        "        SK_ID_CURR,TARGET\n",
        "        100001,0.1\n",
        "        100005,0.9\n",
        "        100013,0.2\n",
        "- 提出されたものはどういった指標値で評価されるのか\n",
        "      TARGET変数に関するROC曲線の下面積（AUC）"
      ]
    },
    {
      "cell_type": "markdown",
      "metadata": {
        "id": "LX7Xy1fB2DsI"
      },
      "source": [
        "##【問題2】学習と検証\n",
        "データを簡単に分析、前処理し、学習、検証するまでの一連の流れを作成・実行してください。\n",
        "\n",
        "\n",
        "検証にはこのコンペティションで使用される評価指標を用いるようにしてください。学習に用いる手法は指定しません。"
      ]
    },
    {
      "cell_type": "code",
      "metadata": {
        "id": "1ieDNZWcsrHk"
      },
      "source": [
        "import numpy as np\n",
        "\n",
        "#google driveのモジュールをインポート\n",
        "from google.colab import drive\n",
        "#google driveのマウント\n",
        "drive.mount('/content/drive')\n",
        "\n",
        "csv_path = \"drive/My Drive/DIVE INTO CODE/Week3/application_train.csv\" # ファイル名（パス）を指定する\n",
        "\n",
        "import pandas as pd\n",
        "df = pd.read_csv(csv_path)\n",
        "\n",
        "#df = df.iloc[:10000, :]   #データ数を削減"
      ],
      "execution_count": null,
      "outputs": []
    }
  ]
}
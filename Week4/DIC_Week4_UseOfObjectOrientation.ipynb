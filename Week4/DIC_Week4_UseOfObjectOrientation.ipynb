{
  "nbformat": 4,
  "nbformat_minor": 0,
  "metadata": {
    "colab": {
      "name": "DIC_Week4_UseOfObjectOrientation.ipynb",
      "provenance": [],
      "collapsed_sections": []
    },
    "kernelspec": {
      "name": "python3",
      "display_name": "Python 3"
    },
    "language_info": {
      "name": "python"
    }
  },
  "cells": [
    {
      "cell_type": "markdown",
      "metadata": {
        "id": "FJs-ruOgLBLp"
      },
      "source": [
        "#オブジェクト指向の活用"
      ]
    },
    {
      "cell_type": "markdown",
      "metadata": {
        "id": "E6eUjuBgLX2Y"
      },
      "source": [
        "##【問題1】これまで利用してきたクラスの列挙\n",
        "クラスを使う際はインスタンス化を行うことと、クラスの命名法がわかりました。この情報を元に、これまでの課題で利用してきたコードの中でどのようなクラスがあったかを答えてください。\n",
        "\n",
        "\n",
        "Pandas、matplotlib、scikit-learnからそれぞれ1つ以上見つけてください。"
      ]
    },
    {
      "cell_type": "markdown",
      "metadata": {
        "id": "5CLR-y2pLZkg"
      },
      "source": [
        "###【問題1 解答】\n",
        "- Pandas\n",
        "      DataFrame, Series\n",
        "- matplotlib\n",
        "      Figure, Axes\n",
        "- scikit-learn\n",
        "      LogisticRegression, DecisionTreeClassifier"
      ]
    },
    {
      "cell_type": "markdown",
      "metadata": {
        "id": "HAB6oKz-M3zP"
      },
      "source": [
        "##【問題2】これまで利用してきたメソッドやインスタンス変数の列挙\n",
        "これまでの課題で利用してきたコードの中でどのようなメソッドやインスタンス変数があったかを答えてください。\n",
        "\n",
        "\n",
        "最低でもそれぞれ5つ以上答えてください。"
      ]
    },
    {
      "cell_type": "markdown",
      "metadata": {
        "id": "9Jj4_hgiNA0v"
      },
      "source": [
        "###【問題2 解答】\n",
        "1. DataFrameのメソッド\n",
        "```\n",
        "drop, sum, copy, head, discribe, isnull\n",
        "```\n",
        "2. DataFrameのインスタンス変数（Attribute）\n",
        "```\n",
        "loc, iloc, dtypes, columns, index, shape\n",
        "```"
      ]
    },
    {
      "cell_type": "markdown",
      "metadata": {
        "id": "B-t4aCjyOk24"
      },
      "source": [
        "##【問題3】標準化クラスをスクラッチで作成\n",
        "理解をより深めるため、StandardScalerをスクラッチで作成しましょう。scikit-learnは使わず、NumPyなどを活用して標準化の計算を記述します。具体的にはfitメソッドとtransformメソッドを作ります。\n",
        "\n",
        "\n",
        "今回は雛形を用意しました。クラスの作成方法は関数に近いです。メソッドはクラスの中にさらにインデントを一段下げて記述します。\n",
        "\n",
        "\n",
        "インスタンス変数を作成する際はself.mean_のようにselfを付けます。クラスの外からscaler.mean_と書いていたscalerの部分が自分自身を表すselfになっています。"
      ]
    },
    {
      "cell_type": "code",
      "metadata": {
        "colab": {
          "base_uri": "https://localhost:8080/"
        },
        "id": "drq7nm4LK-5z",
        "outputId": "47917ba3-38df-4256-9e2c-83be29d99ef0"
      },
      "source": [
        "class ScratchStandardScaler():\n",
        "    \"\"\"\n",
        "    標準化のためのクラス\n",
        "    Attributes\n",
        "    ----------\n",
        "    mean_ : 次の形のndarray, shape(n_features,)\n",
        "        平均\n",
        "    var_ : 次の形のndarray, shape(n_features,)\n",
        "        分散\n",
        "    \"\"\"\n",
        "    def fit(self, X):\n",
        "        \"\"\"\n",
        "        標準化のために平均と標準偏差を計算する。\n",
        "        Parameters\n",
        "        ----------\n",
        "        X : 次の形のndarray, shape (n_samples, n_features)\n",
        "            訓練データ\n",
        "        \"\"\"\n",
        "        self.mean_ =  X.mean(axis=0)  #平均（1 x n_featuresの行列）\n",
        "        self.var_ =  X.var(axis=0)  #分散（1 x n_featuresの行列）\n",
        "        \n",
        "        return\n",
        "\n",
        "    def transform(self, X):\n",
        "        \"\"\"\n",
        "        fitで求めた値を使い標準化を行う。\n",
        "        Parameters\n",
        "        ----------\n",
        "        X : 次の形のndarray, shape (n_samples, n_features)\n",
        "            特徴量\n",
        "        Returns\n",
        "        ----------\n",
        "        X_scaled : 次の形のndarray, shape (n_samples, n_features)\n",
        "            標準化された特緒量\n",
        "        \"\"\"\n",
        "        X_scaled = (X - self.mean_) / (self.var_)**(1/2)    #標準化\n",
        "\n",
        "        return X_scaled\n",
        "\n",
        "\n",
        "###動作確認###\n",
        "import numpy as np\n",
        "\n",
        "X = np.array([[1,2,3],\n",
        "              [2,5,6],\n",
        "              [2,5,6],\n",
        "              [2,5,6],\n",
        "              [2,5,6],\n",
        "              [4,8,10]])\n",
        "print(\"X:\")\n",
        "print(X)\n",
        "\n",
        "#自作したStandardScalerを用いて標準化\n",
        "sss = ScratchStandardScaler()\n",
        "sss.fit(X)\n",
        "X_scaled = sss.transform(X)\n",
        "print(\"\\n\")\n",
        "print(\"X_scaled:\")\n",
        "print(X_scaled)\n",
        "\n",
        "\n",
        "#scikit-learnのStandardScalerを用いて標準化（比較用）\n",
        "from sklearn.preprocessing import StandardScaler\n",
        "\n",
        "scaler = StandardScaler()\n",
        "scaler.fit(X)\n",
        "X_scaled_scikit = scaler.transform(X)\n",
        "\n",
        "print(\"\\n\")\n",
        "print(\"X_scaled_scikit:\")\n",
        "print(X_scaled_scikit)\n",
        "\n",
        "#(X_scaled == X_scaled_scikit)\n",
        "print(\"\\n\")\n",
        "print(\"X_scaled == X_scaled_scikit:\")\n",
        "print(X_scaled == X_scaled_scikit)"
      ],
      "execution_count": null,
      "outputs": [
        {
          "output_type": "stream",
          "text": [
            "X:\n",
            "[[ 1  2  3]\n",
            " [ 2  5  6]\n",
            " [ 2  5  6]\n",
            " [ 2  5  6]\n",
            " [ 2  5  6]\n",
            " [ 4  8 10]]\n",
            "\n",
            "\n",
            "X_scaled:\n",
            "[[-1.29986737 -1.73205081 -1.55654065]\n",
            " [-0.18569534  0.         -0.08192319]\n",
            " [-0.18569534  0.         -0.08192319]\n",
            " [-0.18569534  0.         -0.08192319]\n",
            " [-0.18569534  0.         -0.08192319]\n",
            " [ 2.04264872  1.73205081  1.88423342]]\n",
            "\n",
            "\n",
            "X_scaled_scikit:\n",
            "[[-1.29986737 -1.73205081 -1.55654065]\n",
            " [-0.18569534  0.         -0.08192319]\n",
            " [-0.18569534  0.         -0.08192319]\n",
            " [-0.18569534  0.         -0.08192319]\n",
            " [-0.18569534  0.         -0.08192319]\n",
            " [ 2.04264872  1.73205081  1.88423342]]\n",
            "\n",
            "\n",
            "X_scaled == X_scaled_scikit:\n",
            "[[ True  True  True]\n",
            " [ True  True  True]\n",
            " [ True  True  True]\n",
            " [ True  True  True]\n",
            " [ True  True  True]\n",
            " [ True  True  True]]\n"
          ],
          "name": "stdout"
        }
      ]
    },
    {
      "cell_type": "code",
      "metadata": {
        "colab": {
          "base_uri": "https://localhost:8080/"
        },
        "id": "_M0JuipLXHs0",
        "outputId": "86d1915a-7a5c-47b4-bbd0-f83c388d54eb"
      },
      "source": [
        "###動作確認###\n",
        "\n",
        "import numpy as np\n",
        "from sklearn.datasets import load_iris\n",
        "data = load_iris()\n",
        "X = data.data[:10]\n",
        "\n",
        "\n",
        "#自作したStandardScalerを用いて標準化\n",
        "scratch_scaler = ScratchStandardScaler()\n",
        "scratch_scaler.fit(X)\n",
        "print(\"平均 : {}\".format(scratch_scaler.mean_))\n",
        "print(\"分散 : {}\".format(scratch_scaler.var_))\n",
        "X_std_scratch = scratch_scaler.transform(X)\n",
        "print(\"X_std_scratch:\")\n",
        "print(X_std_scratch)\n",
        "print(\"\\n\")\n",
        "\n",
        "#scikit-learnのStandardScalerを用いて標準化（比較用）\n",
        "from sklearn.preprocessing import StandardScaler\n",
        "scaler = StandardScaler()\n",
        "scaler.fit(X)\n",
        "print(\"平均 : {}\".format(scaler.mean_))\n",
        "print(\"分散 : {}\".format(scaler.var_))\n",
        "X_std_scikit = scaler.transform(X)\n",
        "print(\"X_std_scikit:\")\n",
        "print(X_std_scikit)\n",
        "print(\"\\n\")\n",
        "\n",
        "#(X_std_scratch == X_std_scikit)\n",
        "print(\"X_std_scratch == X_std_scikit:\")\n",
        "print(X_std_scratch == X_std_scikit)"
      ],
      "execution_count": null,
      "outputs": [
        {
          "output_type": "stream",
          "text": [
            "平均 : [4.86 3.31 1.45 0.22]\n",
            "分散 : [0.0764 0.0849 0.0105 0.0056]\n",
            "X_std_scratch:\n",
            "[[ 0.86828953  0.65207831 -0.48795004 -0.26726124]\n",
            " [ 0.14471492 -1.06391725 -0.48795004 -0.26726124]\n",
            " [-0.57885968 -0.37751902 -1.46385011 -0.26726124]\n",
            " [-0.94064699 -0.72071813  0.48795004 -0.26726124]\n",
            " [ 0.50650222  0.99527742 -0.48795004 -0.26726124]\n",
            " [ 1.95365143  2.02487476  2.43975018  2.40535118]\n",
            " [-0.94064699  0.3088792  -0.48795004  1.06904497]\n",
            " [ 0.50650222  0.3088792   0.48795004 -0.26726124]\n",
            " [-1.66422159 -1.40711636 -0.48795004 -0.26726124]\n",
            " [ 0.14471492 -0.72071813  0.48795004 -1.60356745]]\n",
            "\n",
            "\n",
            "平均 : [4.86 3.31 1.45 0.22]\n",
            "分散 : [0.0764 0.0849 0.0105 0.0056]\n",
            "X_std_scikit:\n",
            "[[ 0.86828953  0.65207831 -0.48795004 -0.26726124]\n",
            " [ 0.14471492 -1.06391725 -0.48795004 -0.26726124]\n",
            " [-0.57885968 -0.37751902 -1.46385011 -0.26726124]\n",
            " [-0.94064699 -0.72071813  0.48795004 -0.26726124]\n",
            " [ 0.50650222  0.99527742 -0.48795004 -0.26726124]\n",
            " [ 1.95365143  2.02487476  2.43975018  2.40535118]\n",
            " [-0.94064699  0.3088792  -0.48795004  1.06904497]\n",
            " [ 0.50650222  0.3088792   0.48795004 -0.26726124]\n",
            " [-1.66422159 -1.40711636 -0.48795004 -0.26726124]\n",
            " [ 0.14471492 -0.72071813  0.48795004 -1.60356745]]\n",
            "\n",
            "\n",
            "X_std_scratch == X_std_scikit:\n",
            "[[ True  True  True  True]\n",
            " [ True  True  True  True]\n",
            " [ True  True  True  True]\n",
            " [ True  True  True  True]\n",
            " [ True  True  True  True]\n",
            " [ True  True  True  True]\n",
            " [ True  True  True  True]\n",
            " [ True  True  True  True]\n",
            " [ True  True  True  True]\n",
            " [ True  True  True  True]]\n"
          ],
          "name": "stdout"
        }
      ]
    },
    {
      "cell_type": "markdown",
      "metadata": {
        "id": "2ZpfIcWSUhXU"
      },
      "source": [
        "##【問題4】 四則演算を行うクラスの作成\n",
        "上記ExampleClassは足し算のメソッドを持っていますが、これに引き算、掛け算、割り算のメソッドを加えてください。\n",
        "\n",
        "\n",
        "コンストラクタに入力されたvalueが文字列や配列など数値以外だった場合にはエラーを出すようにしてください。\n",
        "\n",
        "\n",
        "クラス名や説明文も適切に書き換えてください。"
      ]
    },
    {
      "cell_type": "code",
      "metadata": {
        "colab": {
          "base_uri": "https://localhost:8080/"
        },
        "id": "3ObZe9NWOvs-",
        "outputId": "fbc42ffc-2abd-42d5-ae8e-e7e958d174e0"
      },
      "source": [
        "class FourArithmeticOperator():\n",
        "    \"\"\"\n",
        "    四則演算を行うクラス\n",
        "    Parameters\n",
        "    ----------\n",
        "    value : float or int\n",
        "        初期値\n",
        "    Attributes\n",
        "    ----------\n",
        "    value : float or int\n",
        "        計算結果\n",
        "    \"\"\"\n",
        "    def __init__(self, value):\n",
        "        if((type(value) == int) or (type(value) == float)):\n",
        "            #コンストラクタの引数がint型またはfloat型の場合のみ、self.value変数に値をセット\n",
        "            self.value = value\n",
        "            print(\"初期値{}が設定されました\".format(self.value))\n",
        "        else:\n",
        "            #コンストラクタの引数がint型・float型以外のデータ型のため、警告を出力\n",
        "            print(\"Warning: {}型のデータが入力されました。int型またはfloat型の数値を入力してください!\".format(type(value)))\n",
        "            self.value = 0\n",
        "\n",
        "    def add(self, value):\n",
        "        \"\"\"\n",
        "        受け取った引数をself.valueに加える\n",
        "        \"\"\"\n",
        "        print(\"{}に{}が足されました\".format(self.value, value))\n",
        "        self.value += value\n",
        "\n",
        "    def subtract(self, value):\n",
        "        \"\"\"\n",
        "        受け取った引数をself.valueから引く\n",
        "        \"\"\"\n",
        "        print(\"{}から{}が引かれました\".format(self.value, value))\n",
        "        self.value -= value\n",
        "\n",
        "    def multiply(self, value):\n",
        "        \"\"\"\n",
        "        受け取った引数をself.valueに掛ける\n",
        "        \"\"\"\n",
        "        print(\"{}に{}が掛けられました\".format(self.value, value))\n",
        "        self.value *= value\n",
        "\n",
        "    def divide(self, value):\n",
        "        \"\"\"\n",
        "        受け取った引数でself.valueを割る\n",
        "        \"\"\"\n",
        "        print(\"{}が{}で割られました\".format(self.value, value))\n",
        "        self.value /= value\n",
        "\n",
        "example = FourArithmeticOperator(5)\n",
        "print(\"value : {}\".format(example.value))\n",
        "example.add(3)\n",
        "print(\"value : {}\".format(example.value))\n",
        "example.subtract(2)\n",
        "print(\"value : {}\".format(example.value))\n",
        "example.multiply(10)\n",
        "print(\"value : {}\".format(example.value))\n",
        "example.divide(3)\n",
        "print(\"value : {}\".format(example.value))\n",
        "\n",
        "example = FourArithmeticOperator(\"dummy\")"
      ],
      "execution_count": 49,
      "outputs": [
        {
          "output_type": "stream",
          "text": [
            "初期値5が設定されました\n",
            "value : 5\n",
            "5に3が足されました\n",
            "value : 8\n",
            "8から2が引かれました\n",
            "value : 6\n",
            "6に10が掛けられました\n",
            "value : 60\n",
            "60が3で割られました\n",
            "value : 20.0\n",
            "Warning: <class 'str'>型のデータが入力されました。int型またはfloat型の数値を入力してください!\n"
          ],
          "name": "stdout"
        }
      ]
    },
    {
      "cell_type": "code",
      "metadata": {
        "id": "SvlwPgMecA27"
      },
      "source": [
        ""
      ],
      "execution_count": null,
      "outputs": []
    }
  ]
}
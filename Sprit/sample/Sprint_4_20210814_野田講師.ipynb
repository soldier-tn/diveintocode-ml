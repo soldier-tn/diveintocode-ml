{
 "cells": [
  {
   "cell_type": "markdown",
   "metadata": {},
   "source": [
    "# Sprint 4"
   ]
  },
  {
   "cell_type": "markdown",
   "metadata": {},
   "source": [
    "# ライブラリの読み込み"
   ]
  },
  {
   "cell_type": "code",
   "execution_count": 25,
   "metadata": {},
   "outputs": [],
   "source": [
    "import numpy as np\n",
    "import pandas as pd\n",
    "from sklearn.datasets import load_iris\n",
    "from sklearn.model_selection import train_test_split\n",
    "from sklearn.metrics import confusion_matrix,precision_score,recall_score,f1_score\n",
    "import matplotlib.pyplot as plt\n",
    "%matplotlib inline"
   ]
  },
  {
   "cell_type": "markdown",
   "metadata": {},
   "source": [
    "# スクラッチ実装"
   ]
  },
  {
   "cell_type": "code",
   "execution_count": 26,
   "metadata": {},
   "outputs": [],
   "source": [
    "class ScratchLogisticRegression():\n",
    "    \n",
    "    def __init__(self, iter_num, lr,lam):\n",
    "        \"\"\"各種変数初期化＆定義\n",
    "        Parameters\n",
    "        ----------\n",
    "        iter:学習回数\n",
    "        lr:学習率\n",
    "        theta:重み\n",
    "        lam:正則化パラメータ\n",
    "        train_loss:訓練データの損失\n",
    "        val_loss:評価データの損失\n",
    "        \"\"\"\n",
    "        self.iter_num = iter_num\n",
    "        self.lr = lr\n",
    "        self.theta = np.random.rand(X.shape[1]+1)\n",
    "        self.lam = lam\n",
    "        self.train_loss = np.zeros(self.iter_num+1)\n",
    "        self.val_loss = np.zeros(self.iter_num+1)\n",
    "\n",
    "    def fit(self, X_train, y_train, X_val=None, y_val=None):\n",
    "        \"\"\"訓練\n",
    "        Parameters\n",
    "        ----------\n",
    "        X_train:訓練データ（説明変数）\n",
    "        y_train:訓練データ（目的変数）\n",
    "        X_val:評価データ（説明変数）\n",
    "        y_val:評価データ（目的変数）\n",
    "        \"\"\"\n",
    "        # 損失の初期値保存\n",
    "        self.train_loss[0] = self.mean_crossentropy_error(X_train,y_train)\n",
    "        if X_val is not None:\n",
    "            self.val_loss[0] = self.mean_crossentropy_error(X_val,y_val)\n",
    "\n",
    "        # 学習回数分ループ\n",
    "        for n in range(self.iter_num):\n",
    "            # Θを更新\n",
    "            self.gradient_descent(X_train,y_train)\n",
    "            # 損失計算と保存\n",
    "            self.train_loss[n+1] = self.mean_crossentropy_error(X_train,y_train)\n",
    "            if X_val is not None:\n",
    "                self.val_loss[n+1] = self.mean_crossentropy_error(X_val,y_val)\n",
    "                \n",
    "        # 最終結果格納\n",
    "        self.prediction = self.predict_proba(X)\n",
    "        self.prediction_class = np.where(self.prediction >= 0.5,1,0)\n",
    "\n",
    "    def gradient_descent(self,X_train,y_train):\n",
    "        \"\"\"Θ更新（最急降下法）\n",
    "        Parameters\n",
    "        ----------\n",
    "        X_train:訓練データ（説明変数）\n",
    "        y_train:訓練データ（目的変数）\n",
    "        X_val:評価データ（説明変数）\n",
    "        y_val:評価データ（目的変数）\n",
    "        \"\"\"\n",
    "        # 誤差\n",
    "        error = (self.predict_proba(X_train) - y_train.flatten())\n",
    "        # 勾配\n",
    "        grad= np.dot(X_train.T,error)/X_train.shape[0]\n",
    "        # 定数項の勾配\n",
    "        bias_grad = np.sum(error)/X_train.shape[0]\n",
    "        # l2正則化項\n",
    "        l2 = self.lam * self.theta[:-1] / X_train.shape[0]\n",
    "        # 学習率を考慮して更新\n",
    "        self.theta[:-1] = self.theta[:-1] - self.lr * (grad + l2)\n",
    "        self.theta[-1] = self.theta[-1] - self.lr * bias_grad\n",
    "        \n",
    "\n",
    "    def predict(self, X):\n",
    "        \"\"\"予測\n",
    "        Parameters\n",
    "        ----------\n",
    "        X:説明変数\n",
    "        \"\"\"\n",
    "        return  np.where(self.predict_proba(X) >= 0.5,1,0)\n",
    "\n",
    "    def predict_proba(self, X):\n",
    "        \"\"\"確率予測\n",
    "        Parameters\n",
    "        ----------\n",
    "        X:説明変数\n",
    "        \"\"\"\n",
    "        # xとΘの積（定数項は別で扱う）\n",
    "        _y = np.dot(self.theta[:-1],X.T) + self.theta[-1]\n",
    "        # sigmoid関数を適用\n",
    "        y = self.sigmoid(_y)\n",
    "        return y\n",
    "    \n",
    "    def sigmoid(self,y):\n",
    "        \"\"\"sigmoid関数\n",
    "        Parameters\n",
    "        ----------\n",
    "        y:sigmoid関数に通したい値\n",
    "        \"\"\"\n",
    "        return 1 / (1 + np.exp(-y))\n",
    "    \n",
    "    def mean_crossentropy_error(self,X,y):\n",
    "        \"\"\"クロスエントロピー誤差関数\n",
    "        Parameters\n",
    "        ----------\n",
    "        X:sigmoid関数に通したい値\n",
    "        \"\"\"\n",
    "        # 予測値を計算\n",
    "        prediction = self.predict_proba(X)\n",
    "        # クロスエントロピー誤差\n",
    "        crossentropy =  -np.sum(y *  np.log(prediction) + (1-y) * np.log(1-prediction))/X.shape[0]\n",
    "        # l2正則化\n",
    "        l2_decay = np.sum(self.theta[:-1]**2)*self.lam/(2 * X.shape[0])\n",
    "        return crossentropy + l2_decay"
   ]
  },
  {
   "cell_type": "markdown",
   "metadata": {},
   "source": [
    "# データ読み込み＆前処理"
   ]
  },
  {
   "cell_type": "code",
   "execution_count": 27,
   "metadata": {},
   "outputs": [],
   "source": [
    "iris = load_iris()\n",
    "X = iris.data[50:,:]\n",
    "y = iris.target[50:]\n",
    "y = np.where(y==1, 0, 1)\n",
    "X = np.array(X)\n",
    "y = np.array(y)\n",
    "y = y.reshape([100,1])"
   ]
  },
  {
   "cell_type": "code",
   "execution_count": 28,
   "metadata": {},
   "outputs": [
    {
     "data": {
      "text/html": [
       "<div>\n",
       "<style scoped>\n",
       "    .dataframe tbody tr th:only-of-type {\n",
       "        vertical-align: middle;\n",
       "    }\n",
       "\n",
       "    .dataframe tbody tr th {\n",
       "        vertical-align: top;\n",
       "    }\n",
       "\n",
       "    .dataframe thead th {\n",
       "        text-align: right;\n",
       "    }\n",
       "</style>\n",
       "<table border=\"1\" class=\"dataframe\">\n",
       "  <thead>\n",
       "    <tr style=\"text-align: right;\">\n",
       "      <th></th>\n",
       "      <th>sepal_length</th>\n",
       "      <th>sepal_width</th>\n",
       "      <th>petal_length</th>\n",
       "      <th>petal_width</th>\n",
       "    </tr>\n",
       "  </thead>\n",
       "  <tbody>\n",
       "    <tr>\n",
       "      <th>0</th>\n",
       "      <td>7.0</td>\n",
       "      <td>3.2</td>\n",
       "      <td>4.7</td>\n",
       "      <td>1.4</td>\n",
       "    </tr>\n",
       "    <tr>\n",
       "      <th>1</th>\n",
       "      <td>6.4</td>\n",
       "      <td>3.2</td>\n",
       "      <td>4.5</td>\n",
       "      <td>1.5</td>\n",
       "    </tr>\n",
       "    <tr>\n",
       "      <th>2</th>\n",
       "      <td>6.9</td>\n",
       "      <td>3.1</td>\n",
       "      <td>4.9</td>\n",
       "      <td>1.5</td>\n",
       "    </tr>\n",
       "    <tr>\n",
       "      <th>3</th>\n",
       "      <td>5.5</td>\n",
       "      <td>2.3</td>\n",
       "      <td>4.0</td>\n",
       "      <td>1.3</td>\n",
       "    </tr>\n",
       "    <tr>\n",
       "      <th>4</th>\n",
       "      <td>6.5</td>\n",
       "      <td>2.8</td>\n",
       "      <td>4.6</td>\n",
       "      <td>1.5</td>\n",
       "    </tr>\n",
       "  </tbody>\n",
       "</table>\n",
       "</div>"
      ],
      "text/plain": [
       "   sepal_length  sepal_width  petal_length  petal_width\n",
       "0           7.0          3.2           4.7          1.4\n",
       "1           6.4          3.2           4.5          1.5\n",
       "2           6.9          3.1           4.9          1.5\n",
       "3           5.5          2.3           4.0          1.3\n",
       "4           6.5          2.8           4.6          1.5"
      ]
     },
     "execution_count": 28,
     "metadata": {},
     "output_type": "execute_result"
    }
   ],
   "source": [
    "iris_df = pd.DataFrame(X, columns=[\"sepal_length\",\"sepal_width\", \"petal_length\", \"petal_width\"])\n",
    "iris_label = pd.DataFrame(y, columns=[\"Species\"])\n",
    "iris_df.head()"
   ]
  },
  {
   "cell_type": "code",
   "execution_count": 37,
   "metadata": {},
   "outputs": [],
   "source": [
    "(X_train, X_test, y_train, y_test) = train_test_split(X, y, test_size=0.3, random_state=0,)"
   ]
  },
  {
   "cell_type": "markdown",
   "metadata": {},
   "source": [
    "# 学習"
   ]
  },
  {
   "cell_type": "code",
   "execution_count": 45,
   "metadata": {
    "scrolled": true
   },
   "outputs": [],
   "source": [
    "slr = ScratchLogisticRegression(iter_num=10000, lr=0.0001,lam = 0.1)\n",
    "slr.fit(X_train,y_train,X_test,y_test)"
   ]
  },
  {
   "cell_type": "markdown",
   "metadata": {},
   "source": [
    "# 推定"
   ]
  },
  {
   "cell_type": "code",
   "execution_count": 46,
   "metadata": {},
   "outputs": [
    {
     "data": {
      "text/plain": [
       "array([0.45454924, 0.52474298, 0.4722843 , 0.52929071, 0.49606373,\n",
       "       0.5278913 , 0.55180808, 0.54184667, 0.4572079 , 0.59112726,\n",
       "       0.51154362, 0.56116457, 0.43087328, 0.51413839, 0.55588326,\n",
       "       0.47943993, 0.58027884, 0.46867072, 0.4941721 , 0.49676272,\n",
       "       0.61193337, 0.50361031, 0.49327067, 0.4740078 , 0.47861851,\n",
       "       0.48293736, 0.45049238, 0.5177115 , 0.54336312, 0.4823367 ,\n",
       "       0.50196462, 0.48593875, 0.50748646, 0.54150935, 0.5961704 ,\n",
       "       0.58389811, 0.49205948, 0.45701705, 0.55212935, 0.5386461 ,\n",
       "       0.5188865 , 0.52052968, 0.50108794, 0.52901072, 0.53645653,\n",
       "       0.5246688 , 0.53764708, 0.49500947, 0.55286989, 0.53466281,\n",
       "       0.680887  , 0.60939873, 0.54044327, 0.55315726, 0.60746961,\n",
       "       0.48762786, 0.64597989, 0.45953152, 0.49835402, 0.6253169 ,\n",
       "       0.59388244, 0.55831909, 0.57144354, 0.62661256, 0.69384699,\n",
       "       0.64839682, 0.54324581, 0.53300113, 0.49098592, 0.50207789,\n",
       "       0.60366711, 0.64878709, 0.45075582, 0.55562553, 0.58985082,\n",
       "       0.48684499, 0.56999504, 0.58551052, 0.59256509, 0.44559992,\n",
       "       0.4677146 , 0.48628915, 0.60956786, 0.50396963, 0.48475233,\n",
       "       0.52336244, 0.67544692, 0.5560194 , 0.59508871, 0.5696766 ,\n",
       "       0.63304458, 0.60891639, 0.60939873, 0.60825418, 0.65633749,\n",
       "       0.6184038 , 0.56216398, 0.58313209, 0.6700504 , 0.59807617])"
      ]
     },
     "execution_count": 46,
     "metadata": {},
     "output_type": "execute_result"
    }
   ],
   "source": [
    "slr.prediction"
   ]
  },
  {
   "cell_type": "code",
   "execution_count": 47,
   "metadata": {},
   "outputs": [
    {
     "data": {
      "text/plain": [
       "array([0, 1, 0, 1, 0, 1, 1, 1, 0, 1, 1, 1, 0, 1, 1, 0, 1, 0, 0, 0, 1, 1,\n",
       "       0, 0, 0, 0, 0, 1, 1, 0, 1, 0, 1, 1, 1, 1, 0, 0, 1, 1, 1, 1, 1, 1,\n",
       "       1, 1, 1, 0, 1, 1, 1, 1, 1, 1, 1, 0, 1, 0, 0, 1, 1, 1, 1, 1, 1, 1,\n",
       "       1, 1, 0, 1, 1, 1, 0, 1, 1, 0, 1, 1, 1, 0, 0, 0, 1, 1, 0, 1, 1, 1,\n",
       "       1, 1, 1, 1, 1, 1, 1, 1, 1, 1, 1, 1])"
      ]
     },
     "execution_count": 47,
     "metadata": {},
     "output_type": "execute_result"
    }
   ],
   "source": [
    "slr.prediction_class"
   ]
  },
  {
   "cell_type": "markdown",
   "metadata": {},
   "source": [
    "# テストデータに対する評価"
   ]
  },
  {
   "cell_type": "code",
   "execution_count": 48,
   "metadata": {},
   "outputs": [],
   "source": [
    "y_pred = slr.predict(X_test)\n",
    "y_pred = y_pred.reshape(y_test.shape)"
   ]
  },
  {
   "cell_type": "code",
   "execution_count": 49,
   "metadata": {},
   "outputs": [
    {
     "name": "stdout",
     "output_type": "stream",
     "text": [
      "0.5652173913043478\n",
      "0.8666666666666667\n",
      "0.6842105263157895\n",
      "[[ 5 10]\n",
      " [ 2 13]]\n"
     ]
    }
   ],
   "source": [
    "print(\"{}\".format(precision_score(y_test,y_pred)))\n",
    "print(\"{}\".format(recall_score(y_test,y_pred)))\n",
    "print(\"{}\".format(f1_score(y_test,y_pred)))\n",
    "print(confusion_matrix(y_test, y_pred))"
   ]
  },
  {
   "cell_type": "markdown",
   "metadata": {},
   "source": [
    "# 可視化"
   ]
  },
  {
   "cell_type": "code",
   "execution_count": 50,
   "metadata": {},
   "outputs": [
    {
     "data": {
      "text/plain": [
       "<matplotlib.legend.Legend at 0x2265e5ba0f0>"
      ]
     },
     "execution_count": 50,
     "metadata": {},
     "output_type": "execute_result"
    },
    {
     "data": {
      "image/png": "[encoded data removed]",
      "text/plain": [
       "<Figure size 432x288 with 1 Axes>"
      ]
     },
     "metadata": {
      "needs_background": "light"
     },
     "output_type": "display_data"
    }
   ],
   "source": [
    "plt.plot(np.arange(1,len(slr.train_loss)+1),slr.train_loss,label='train_loss',linewidth=5)\n",
    "plt.plot(np.arange(1,len(slr.val_loss)+1),slr.val_loss,label='val_loss',linewidth=5)\n",
    "plt.legend()"
   ]
  },
  {
   "cell_type": "code",
   "execution_count": 51,
   "metadata": {},
   "outputs": [
    {
     "data": {
      "text/plain": [
       "array([-0.32807687,  0.18798088, -0.06798216,  0.70916574,  0.83937706])"
      ]
     },
     "execution_count": 51,
     "metadata": {},
     "output_type": "execute_result"
    }
   ],
   "source": [
    "slr.theta"
   ]
  },
  {
   "cell_type": "markdown",
   "metadata": {},
   "source": [
    "# 決定領域"
   ]
  },
  {
   "cell_type": "code",
   "execution_count": 52,
   "metadata": {},
   "outputs": [],
   "source": [
    "from matplotlib.colors import ListedColormap\n",
    "import matplotlib.patches as mpatches\n",
    "\n",
    "def decision_region(X, y, model, step=0.01, title='decision region', xlabel='xlabel', ylabel='ylabel', target_names=['setosa','versicolor']):\n",
    "\n",
    "    # setting\n",
    "    scatter_color = ['red', 'blue']\n",
    "    contourf_color = ['pink', 'skyblue']\n",
    "    n_class = 2\n",
    "    marker = [\"o\", \"^\"]\n",
    "\n",
    "    # pred\n",
    "    mesh_f0, mesh_f1  = np.meshgrid(np.arange(np.min(X[:,0])-0.5, np.max(X[:,0])+0.5, step), np.arange(np.min(X[:,1])-0.5, np.max(X[:,1])+0.5, step))\n",
    "    mesh = np.c_[np.ravel(mesh_f0),np.ravel(mesh_f1)]\n",
    "    y_pred = model.predict(mesh).reshape(mesh_f0.shape)\n",
    "\n",
    "    # plot\n",
    "    plt.title(title)\n",
    "    plt.xlabel(xlabel)\n",
    "    plt.ylabel(ylabel)\n",
    "    plt.contourf(mesh_f0, mesh_f1, y_pred, n_class-1, cmap=ListedColormap(contourf_color))\n",
    "    plt.contour(mesh_f0, mesh_f1, y_pred, n_class-1, colors='y', linewidths=3, alpha=0.5)\n",
    "    for i, target in enumerate(set(y)):\n",
    "        plt.scatter(X[y==target][:, 0], X[y==target][:, 1], s=80, color=scatter_color[i], label=target_names[i], marker=marker[i])\n",
    "    patches = [mpatches.Patch(color=scatter_color[i], label=target_names[i]) for i in range(n_class)]\n",
    "    plt.legend(handles=patches)\n",
    "    plt.legend()\n",
    "    plt.show()"
   ]
  },
  {
   "cell_type": "code",
   "execution_count": 58,
   "metadata": {},
   "outputs": [],
   "source": [
    "X = iris.data[:100,:]\n",
    "y = iris.target[:100]\n",
    "X = X[:,[0,2]]\n",
    "(X_train, X_test, y_train, y_test) = train_test_split(X, y, test_size=0.5, random_state=0,)"
   ]
  },
  {
   "cell_type": "code",
   "execution_count": 59,
   "metadata": {},
   "outputs": [],
   "source": [
    "slr = ScratchLogisticRegression(iter_num=10000, lr=0.0001,lam = 0.1)\n",
    "slr.fit(X_train, y_train,X_test,y_test)"
   ]
  },
  {
   "cell_type": "code",
   "execution_count": 60,
   "metadata": {},
   "outputs": [
    {
     "data": {
      "image/png": "[encoded data removed]",
      "text/plain": [
       "<Figure size 432x288 with 1 Axes>"
      ]
     },
     "metadata": {
      "needs_background": "light"
     },
     "output_type": "display_data"
    }
   ],
   "source": [
    "decision_region(X, y, slr, step=0.01, title='ScratchLogisticRegression', xlabel='xlabel', ylabel='ylabel', target_names=['setosa','versicolor'])"
   ]
  }
 ],
 "metadata": {
  "kernelspec": {
   "display_name": "Python 3",
   "language": "python",
   "name": "python3"
  },
  "language_info": {
   "codemirror_mode": {
    "name": "ipython",
    "version": 3
   },
   "file_extension": ".py",
   "mimetype": "text/x-python",
   "name": "python",
   "nbconvert_exporter": "python",
   "pygments_lexer": "ipython3",
   "version": "3.6.8"
  }
 },
 "nbformat": 4,
 "nbformat_minor": 2
}

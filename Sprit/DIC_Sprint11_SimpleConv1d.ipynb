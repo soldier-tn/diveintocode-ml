{
  "nbformat": 4,
  "nbformat_minor": 0,
  "metadata": {
    "colab": {
      "name": "DIC_Sprint11_SimpleConv1d.ipynb",
      "provenance": [],
      "collapsed_sections": [],
      "toc_visible": true
    },
    "kernelspec": {
      "name": "python3",
      "display_name": "Python 3"
    },
    "language_info": {
      "name": "python"
    }
  },
  "cells": [
    {
      "cell_type": "markdown",
      "metadata": {
        "id": "E8z2VHwzZCRK"
      },
      "source": [
        "# SimpleConv1d"
      ]
    },
    {
      "cell_type": "markdown",
      "metadata": {
        "id": "0uvk_J9CsjFv"
      },
      "source": [
        "## 【事前準備】"
      ]
    },
    {
      "cell_type": "code",
      "metadata": {
        "id": "tFcsyfrfsFT_"
      },
      "source": [
        "# scikit-learnの「set_config(display=\"diagram\")」を使用するため、scikitlearnを最新verに更新\n",
        "# !pip install scikit-learn==0.23.2 --target drive/My\\ Drive/MyModule\n",
        "# !pip install scikit-learn==0.23.2\n",
        "# !pip list\n",
        "## Google Drive上にインストールしたモジュールのインポート##\n",
        "import sys\n",
        "sys.path.append('/content/drive/My Drive/MyModule')"
      ],
      "execution_count": 109,
      "outputs": []
    },
    {
      "cell_type": "code",
      "metadata": {
        "id": "BzA3rbuKIS0r"
      },
      "source": [
        "## モジュールのインポート ##\n",
        "# 一般\n",
        "import random\n",
        "import math\n",
        "# データ分析\n",
        "import numpy as np\n",
        "import pandas as pd\n",
        "import matplotlib.pyplot as plt\n",
        "import matplotlib.style\n",
        "%matplotlib inline\n",
        "matplotlib.style.use('ggplot')\n",
        "import seaborn as sns\n",
        "from matplotlib.colors import ListedColormap\n",
        "import matplotlib.patches as mpatches\n",
        "# scikit-learn\n",
        "from sklearn.model_selection import train_test_split\n",
        "from sklearn.model_selection import KFold\n",
        "from sklearn.model_selection import StratifiedKFold\n",
        "from sklearn import metrics\n",
        "from sklearn.metrics import accuracy_score\n",
        "from sklearn.metrics import precision_score\n",
        "from sklearn.metrics import recall_score\n",
        "from sklearn.metrics import f1_score\n",
        "from sklearn.metrics import roc_auc_score\n",
        "from sklearn.metrics import confusion_matrix\n",
        "from sklearn.metrics import mean_squared_error\n",
        "from sklearn.metrics import mean_absolute_error\n",
        "from sklearn.preprocessing import StandardScaler\n",
        "from sklearn.preprocessing import MinMaxScaler\n",
        "from sklearn.preprocessing import OneHotEncoder\n",
        "from sklearn.pipeline import Pipeline\n",
        "from sklearn.pipeline import make_pipeline\n",
        "from sklearn.linear_model import LinearRegression\n",
        "from sklearn.linear_model import LogisticRegression\n",
        "from sklearn.linear_model import SGDRegressor\n",
        "from sklearn.linear_model import SGDClassifier\n",
        "from sklearn.svm import SVR\n",
        "from sklearn.svm import SVC\n",
        "from sklearn.tree import DecisionTreeRegressor\n",
        "from sklearn.tree import DecisionTreeClassifier, export_graphviz\n",
        "from sklearn.decomposition import PCA\n",
        "from sklearn.datasets import load_iris\n",
        "from sklearn.datasets import make_blobs\n",
        "# 決定木可視化のためのツール\n",
        "import graphviz\n",
        "import pydotplus\n",
        "from IPython.display import Image\n",
        "from sklearn.externals.six import StringIO\n",
        "# Keras\n",
        "from keras.datasets import mnist\n",
        "# その他\n",
        "from google.colab import drive #GoogleDriveモジュール\n",
        "# drive.mount('/content/drive') #GoogleDriveのマウント"
      ],
      "execution_count": 110,
      "outputs": []
    },
    {
      "cell_type": "markdown",
      "metadata": {
        "id": "dwI4JcL3Z2nU"
      },
      "source": [
        "## 【実装】"
      ]
    },
    {
      "cell_type": "markdown",
      "metadata": {
        "id": "DoBy26n9a6s6"
      },
      "source": [
        "### ●MNISTのデータセット"
      ]
    },
    {
      "cell_type": "code",
      "metadata": {
        "colab": {
          "base_uri": "https://localhost:8080/"
        },
        "id": "pSgcTwgrY82Z",
        "outputId": "fe9d061a-c837-48b2-97f0-03877765320c"
      },
      "source": [
        "(X_train, y_train), (X_test, y_test) = mnist.load_data()\n",
        "\n",
        "print(X_train.shape) # (60000, 28, 28)\n",
        "print(X_test.shape) # (10000, 28, 28)\n",
        "print(X_train[0].dtype) # uint8\n",
        "print(X_train[0])\n",
        "\n",
        "# 各画像のピクセルデータを平滑化（28x28 ⇒ 784x1）\n",
        "X_train = X_train.reshape(-1, 784)\n",
        "X_test = X_test.reshape(-1, 784)"
      ],
      "execution_count": 111,
      "outputs": [
        {
          "output_type": "stream",
          "text": [
            "(60000, 28, 28)\n",
            "(10000, 28, 28)\n",
            "uint8\n",
            "[[0 0 0 ... 0 0 0]\n",
            " [0 0 0 ... 0 0 0]\n",
            " [0 0 0 ... 0 0 0]\n",
            " ...\n",
            " [0 0 0 ... 0 0 0]\n",
            " [0 0 0 ... 0 0 0]\n",
            " [0 0 0 ... 0 0 0]]\n"
          ],
          "name": "stdout"
        }
      ]
    },
    {
      "cell_type": "code",
      "metadata": {
        "colab": {
          "base_uri": "https://localhost:8080/",
          "height": 282
        },
        "id": "GLWtIegEbVPr",
        "outputId": "9bef8fcd-d2af-45a9-bbf9-51525e636598"
      },
      "source": [
        "## 画像を可視化 ##\n",
        "index = 0\n",
        "image = X_train[index].reshape(28,28)\n",
        "# X_train[index]: (784,)\n",
        "# image: (28, 28)\n",
        "plt.imshow(image, 'gray')\n",
        "plt.title('label : {}'.format(y_train[index]))\n",
        "plt.show()"
      ],
      "execution_count": 112,
      "outputs": [
        {
          "output_type": "display_data",
          "data": {
            "image/png": "[encoded data removed]",
            "text/plain": [
              "<Figure size 432x288 with 1 Axes>"
            ]
          },
          "metadata": {}
        }
      ]
    },
    {
      "cell_type": "code",
      "metadata": {
        "colab": {
          "base_uri": "https://localhost:8080/",
          "height": 401
        },
        "id": "W6NMDgYHbu_r",
        "outputId": "1967ce06-37d8-42eb-8167-80893d9bbdf1"
      },
      "source": [
        "index = 0\n",
        "image = X_train[index].reshape(28,28)\n",
        "image = image.astype(np.float) # float型に変換\n",
        "# image -= 105.35 # 意図的に負の小数値を作り出してみる\n",
        "image[0] = -105.35 # 意図的に負の小数値を作り出してみる\n",
        "\n",
        "# 自動スケーリングあり\n",
        "plt.imshow(image, 'gray')   # 最小値が0となるように自動的にスケーリングされる\n",
        "plt.title('label : {}'.format(y_train[index]))\n",
        "plt.show()\n",
        "print(image[:10]) # 値を確認"
      ],
      "execution_count": 113,
      "outputs": [
        {
          "output_type": "display_data",
          "data": {
            "image/png": "[encoded data removed]",
            "text/plain": [
              "<Figure size 432x288 with 1 Axes>"
            ]
          },
          "metadata": {}
        },
        {
          "output_type": "stream",
          "text": [
            "[[-105.35 -105.35 -105.35 ... -105.35 -105.35 -105.35]\n",
            " [   0.      0.      0.   ...    0.      0.      0.  ]\n",
            " [   0.      0.      0.   ...    0.      0.      0.  ]\n",
            " ...\n",
            " [   0.      0.      0.   ...    0.      0.      0.  ]\n",
            " [   0.      0.      0.   ...    0.      0.      0.  ]\n",
            " [   0.      0.      0.   ...    0.      0.      0.  ]]\n"
          ],
          "name": "stdout"
        }
      ]
    },
    {
      "cell_type": "code",
      "metadata": {
        "colab": {
          "base_uri": "https://localhost:8080/",
          "height": 265
        },
        "id": "bqnOyS8YdTRX",
        "outputId": "e862ede7-cf70-4376-c27b-5e3622e32d6e"
      },
      "source": [
        "# 自動スケーリング無し\n",
        "plt.imshow(image, 'gray', vmin = 0, vmax = 255);   # 範囲外の値は0 or 255に置換される (自動スケールされない)"
      ],
      "execution_count": 114,
      "outputs": [
        {
          "output_type": "display_data",
          "data": {
            "image/png": "[encoded data removed]",
            "text/plain": [
              "<Figure size 432x288 with 1 Axes>"
            ]
          },
          "metadata": {}
        }
      ]
    },
    {
      "cell_type": "code",
      "metadata": {
        "colab": {
          "base_uri": "https://localhost:8080/"
        },
        "id": "I-YJzf_9fRku",
        "outputId": "33ff21a5-6b0c-4b6b-8f3d-170f7306f5f9"
      },
      "source": [
        "## 画像データを正規化 ##\n",
        "# X_train1 = X_train.astype(np.float) / 255\n",
        "# X_test1 = X_test.astype(np.float) / 255\n",
        "scaler = MinMaxScaler()\n",
        "scaler.fit(X_train)\n",
        "X_train_transformed = scaler.transform(X_train)\n",
        "X_test_transformed = scaler.transform(X_test)\n",
        "print(X_train_transformed.max()) # 1.0\n",
        "print(X_test_transformed.min()) # 0.0"
      ],
      "execution_count": 115,
      "outputs": [
        {
          "output_type": "stream",
          "text": [
            "1.0\n",
            "0.0\n"
          ],
          "name": "stdout"
        }
      ]
    },
    {
      "cell_type": "code",
      "metadata": {
        "colab": {
          "base_uri": "https://localhost:8080/"
        },
        "id": "gDYvUVXqfjkT",
        "outputId": "3a07c024-a08b-4161-fcfa-2e496a3bfc65"
      },
      "source": [
        "## One Hot Encoding ##\n",
        "enc = OneHotEncoder(handle_unknown='ignore', sparse=False)\n",
        "y_train_one_hot = enc.fit_transform(y_train[:, np.newaxis])\n",
        "y_test_one_hot = enc.transform(y_test[:, np.newaxis])\n",
        "print(y_train.shape) # (60000,)\n",
        "print(y_train_one_hot.shape) # (60000, 10)\n",
        "print(y_train_one_hot.dtype) # float64\n",
        "print(y_train)\n",
        "print(y_train_one_hot)"
      ],
      "execution_count": 116,
      "outputs": [
        {
          "output_type": "stream",
          "text": [
            "(60000,)\n",
            "(60000, 10)\n",
            "float64\n",
            "[5 0 4 ... 5 6 8]\n",
            "[[0. 0. 0. ... 0. 0. 0.]\n",
            " [1. 0. 0. ... 0. 0. 0.]\n",
            " [0. 0. 0. ... 0. 0. 0.]\n",
            " ...\n",
            " [0. 0. 0. ... 0. 0. 0.]\n",
            " [0. 0. 0. ... 0. 0. 0.]\n",
            " [0. 0. 0. ... 0. 1. 0.]]\n"
          ],
          "name": "stdout"
        }
      ]
    },
    {
      "cell_type": "code",
      "metadata": {
        "colab": {
          "base_uri": "https://localhost:8080/"
        },
        "id": "HCTTqxvYjzjS",
        "outputId": "03a849a2-f94c-4173-c095-2f3cd38604c0"
      },
      "source": [
        "# X_train1, X_test1, y_train1, y_test1 = train_test_split(X_train_transformed, y_train, train_size=0.8, random_state=0)\n",
        "# print(X_train1.shape) # (48000, 784)\n",
        "# print(X_test1.shape) # (12000, 784)\n",
        "# print(y_train1.shape) # (48000,)\n",
        "# print(y_test1.shape) # (12000,)\n",
        "\n",
        "\n",
        "X_train1, X_test1, y_train1, y_test1 = train_test_split(X_train_transformed, y_train, train_size=0.99, random_state=0)\n",
        "print(X_train1.shape)\n",
        "print(X_test1.shape)\n",
        "print(y_train1.shape)\n",
        "print(y_test1.shape)\n",
        "\n",
        "X_train2, X_test2, y_train2, y_test2 = train_test_split(X_train_transformed[:6000, :], y_train[:6000], train_size=0.8, random_state=0)\n",
        "print(X_train2.shape) # (4800, 784)\n",
        "print(X_test2.shape) # (1200, 784)\n",
        "print(y_train2.shape) # (4800,)\n",
        "print(y_test2.shape) # (1200,)"
      ],
      "execution_count": 117,
      "outputs": [
        {
          "output_type": "stream",
          "text": [
            "(59400, 784)\n",
            "(600, 784)\n",
            "(59400,)\n",
            "(600,)\n",
            "(4800, 784)\n",
            "(1200, 784)\n",
            "(4800,)\n",
            "(1200,)\n"
          ],
          "name": "stdout"
        }
      ]
    },
    {
      "cell_type": "code",
      "metadata": {
        "colab": {
          "base_uri": "https://localhost:8080/"
        },
        "id": "uQ_wt0313wlL",
        "outputId": "7fdca8a9-73b1-47ff-f315-6c9f84d9c8e2"
      },
      "source": [
        "y_train1"
      ],
      "execution_count": 118,
      "outputs": [
        {
          "output_type": "execute_result",
          "data": {
            "text/plain": [
              "array([4, 4, 7, ..., 7, 1, 4], dtype=uint8)"
            ]
          },
          "metadata": {},
          "execution_count": 118
        }
      ]
    },
    {
      "cell_type": "markdown",
      "metadata": {
        "id": "y_zQOvkvqLhk"
      },
      "source": [
        "### ●Scratch1dCNNClassifierクラス"
      ]
    },
    {
      "cell_type": "code",
      "metadata": {
        "id": "HzC-oNjInMAl"
      },
      "source": [
        "\n",
        "class Scratch1dCNNClassifier():\n",
        "    \"\"\"\n",
        "    1次元CNNネットワーク分類器\n",
        "    Parameters\n",
        "    ----------\n",
        "    Attributes\n",
        "    ----------\n",
        "    \"\"\"\n",
        "    def __init__(self, layer_list, epoch, batch_size, early_stop=None, random_state=None, verbose=True):\n",
        "        self.verbose = verbose\n",
        "        self.flag = 0\n",
        "        self.layer_list = layer_list    # 各層のリスト（fitメソッドにて各層のクラスをインスタンス化）\n",
        "        self.layer_num = len(layer_list)   # 層の数\n",
        "        self.epoch = epoch  # エポック\n",
        "        self.batch_size = batch_size    # バッチサイズ\n",
        "        self.early_stop = early_stop    # 早期打ち切りのイテレーション回数\n",
        "        self.random_state = random_state\n",
        "        np.random.seed(random_state)   #乱数シードを設定\n",
        "        self.enc = OneHotEncoder(handle_unknown='ignore', sparse=False)   # OneHotエンコーダ\n",
        "        self.loss = np.array([])    # 損失関数（学習データ）\n",
        "        self.val_loss = np.array([])    # 損失関数（検証データ）\n",
        "\n",
        "    def fit(self, X, y, X_val=None, y_val=None):\n",
        "        \"\"\"\n",
        "        ニューラルネットワーク分類器を学習する。\n",
        "        Parameters\n",
        "        ----------\n",
        "        X : 次の形のndarray, shape (n_samples, n_features)\n",
        "            訓練データの特徴量\n",
        "        y : 次の形のndarray, shape (n_samples, )\n",
        "            訓練データの正解値\n",
        "        X_val : 次の形のndarray, shape (n_samples, n_features)\n",
        "            検証データの特徴量\n",
        "        y_val : 次の形のndarray, shape (n_samples, )\n",
        "            検証データの正解値\n",
        "        \"\"\"\n",
        "        n_samples = X.shape[0]    # サンプル数\n",
        "        counter = 0   # 早期終了用のカウンタ\n",
        "\n",
        "        # 学習に使用する各種変数を初期化\n",
        "        self._init_variables(X)\n",
        "\n",
        "        # 学習データの目的変数をOneHotエンコーディング\n",
        "        Y = self.enc.fit_transform(y[:, np.newaxis])\n",
        "        # ミニバッチ学習用のクラス作成\n",
        "        get_mini_batch = GetMiniBatch(X, Y, batch_size=self.batch_size, seed=self.random_state)\n",
        "\n",
        "        # 検証データも与えられている場合\n",
        "        if ((X_val is not None) and (y_val is not None)):\n",
        "            # OneHotエンコーディング\n",
        "            Y_val = enc.transform(y_val[:, np.newaxis])\n",
        "\n",
        "        # エポックの回数ループ\n",
        "        for j in range(self.epoch):\n",
        "            if self.verbose:   print(\"■エポック{}回目\".format(j))   # デバッグ情報出力\n",
        "            get_mini_batch.__iter__()  # ミニバッチのイテレータをリセット\n",
        "\n",
        "            # 全バッチデータを学習完了するまでループ（＝イテレーションの回数）\n",
        "            for i, (X_mini, Y_mini) in enumerate(get_mini_batch):\n",
        "                if self.verbose:   print(\"■イテレーション{}回目\".format(i))   # デバッグ情報出力\n",
        "                # 入力層から出力層までの順伝播処理および逆伝播処理\n",
        "                Zout = self._exec_propagation(X_mini, Y_mini)\n",
        "                # 損失関数\n",
        "                self.loss = np.append(self.loss, self._calcurate_loss(Y_mini, Zout))\n",
        "\n",
        "                # 検証データも与えられている場合は検証データに対しても同様の処理を行う\n",
        "                if ((X_val is not None) and (y_val is not None)):\n",
        "                    # 入力層から出力層までの順伝播処理\n",
        "                    Zout_val = self._exec_forward_propagation(X_val)\n",
        "                    # 損失関数\n",
        "                    self.val_loss = np.append(self.val_loss, self._calcurate_loss(Y_val, Zout_val))\n",
        "\n",
        "                # 早期終了のイテレーション回数が設定されている場合、カウンタをインクリメント\n",
        "                if (self.early_stop is not None):\n",
        "                    counter += 1\n",
        "                    # カウンタが設定値に到達したら学習を強制終了\n",
        "                    if (counter >= self.early_stop):\n",
        "                        break\n",
        "\n",
        "            # カウンタが設定値に到達したら学習を強制終了\n",
        "            if (self.early_stop is not None):\n",
        "                if (counter >= self.early_stop):\n",
        "                    break\n",
        "\n",
        "        if self.verbose:   print(\"■学習完了\")\n",
        "        return\n",
        "\n",
        "    def predict(self, X):\n",
        "        \"\"\"\n",
        "        DNN分類器を使い推定する。\n",
        "        Parameters\n",
        "        ----------\n",
        "        X : 次の形のndarray, shape (n_samples, n_features)\n",
        "            特徴量データ\n",
        "        Returns\n",
        "        -------\n",
        "        y_pred    次の形のndarray, shape (n_samples, )\n",
        "            ラベルの推定値\n",
        "        \"\"\"\n",
        "        Z = self._exec_forward_propagation(X)   # 順伝播処理\n",
        "        y_pred = np.argmax(Z, axis=1)\n",
        "        return  y_pred\n",
        "\n",
        "    def predict_proba(self, X):\n",
        "        \"\"\"\n",
        "        DNN分類器を使い推定値の確率を出力する。\n",
        "        Parameters\n",
        "        ----------\n",
        "        X : 次の形のndarray, shape (n_samples, n_features)\n",
        "            特徴量データ\n",
        "        Returns\n",
        "        -------\n",
        "        y_pred_proba    次の形のndarray, shape (n_samples, n_output)\n",
        "            ラベルの各クラスごとの確率の推定値\n",
        "        \"\"\"\n",
        "        y_pred_proba = self._exec_forward_propagation(X)   # 順伝播処理\n",
        "        return  y_pred_proba\n",
        "\n",
        "    def plot_learning_curve(self):\n",
        "        \"\"\"\n",
        "        学習曲線をプロットする関数\n",
        "        Parameters\n",
        "        ----------\n",
        "        None\n",
        "        Returns\n",
        "        -------\n",
        "        None\n",
        "        \"\"\"\n",
        "        # 学習データと検証データのそれぞれの損失関数の値をグラフに描画\n",
        "        fig, ax = plt.subplots(figsize=(15, 10), dpi=50)\n",
        "        ax.set_title(\"Learning Curve\")\n",
        "        ax.set_xlabel(\"Iteration Number\")\n",
        "        ax.set_ylabel(\"Loss\")\n",
        "        ax.plot(self.loss, color = \"blue\", label=\"train\")\n",
        "        ax.plot(self.val_loss, color = \"red\", label=\"validation\")\n",
        "        ax.legend(loc='best') # 凡例を最適位置に表示\n",
        "        plt.show()\n",
        "        return\n",
        "\n",
        "    def _init_variables(self, X):\n",
        "        \"\"\"\n",
        "        学習に使用する各種変数を初期化する\n",
        "        Parameters\n",
        "        ----------\n",
        "        X : 次の形のndarray, shape (n_samples, n_features)\n",
        "            特徴量データ\n",
        "        Returns\n",
        "        -------\n",
        "        None\n",
        "        \"\"\"\n",
        "        if self.verbose:   print(\"■_init_variablesメソッド開始\")  # デバッグ情報出力\n",
        "        n_samples = X.shape[0]    # サンプル数\n",
        "\n",
        "        self.iter = int(n_samples / self.batch_size)   # イテレーション数\n",
        "        self.layer = [LayerClass(**keywards) for LayerClass, keywards in self.layer_list]    # 各層のインスタンスのリスト\n",
        "\n",
        "        if self.verbose:   print(\"■_init_variablesメソッド終了\")  # デバッグ情報出力\n",
        "        return\n",
        "\n",
        "    def _exec_propagation(self, X, Y):\n",
        "        \"\"\"\n",
        "        順伝播処理および逆伝播処理を実行する（学習データ用）\n",
        "        Parameters\n",
        "        ----------\n",
        "        X : 次の形のndarray, shape (batch_size, n_features)\n",
        "            特徴量データ\n",
        "        Y : 次の形のndarray, shape (batch_size, n_output)\n",
        "            訓練データの正解値(OneHotEncoding済み)\n",
        "        Returns\n",
        "        -------\n",
        "        \"\"\"\n",
        "        # デバッグ情報出力\n",
        "        if self.verbose:   print(\"■_exec_propagationメソッド開始\")\n",
        "\n",
        "        # 順伝播処理\n",
        "        A1 = self.layer[0].forward(X)                # SimpleConv1dLayer\n",
        "        Z1 = self.layer[1].forward(A1)               # SigmoidLayer or TanhLayer or ReLU\n",
        "        A2 = self.layer[2].forward(Z1)               # SimpleConv1dLayer\n",
        "        Z2 = self.layer[3].forward(A2)               # SigmoidLayer or TanhLayer or ReLU\n",
        "        A3 = self.layer[4].forward(Z2)               # FullyConnectedLayer\n",
        "        Zout = self.layer[5].forward(A3)             # SoftmaxLayer\n",
        "\n",
        "        # 逆伝播処理\n",
        "        dA3 = self.layer[5].backward(Zout, Y)        # SoftmaxLayer\n",
        "        dZ2 = self.layer[4].backward(dA3, Z2)        # FullyConnectedLayer\n",
        "        dA2 = self.layer[3].backward(A2, dZ2)        # SigmoidLayer or TanhLayer or ReLU\n",
        "        dZ1 = self.layer[2].backward(dA2, Z1)        # SimpleConv1dLayer\n",
        "        dA1 = self.layer[1].backward(A1, dZ1)        # SigmoidLayer or TanhLayer or ReLU\n",
        "        _   = self.layer[0].backward(dA1, X)         # SimpleConv1dLayer\n",
        "\n",
        "        if self.verbose:   print(\"■_exec_propagationメソッド終了\")    # デバッグ情報出力\n",
        "        return  Zout\n",
        "\n",
        "    def _exec_forward_propagation(self, X):\n",
        "        \"\"\"\n",
        "        入力層から出力層まで順伝播処理を実行する（検証データ用）\n",
        "        Parameters\n",
        "        ----------\n",
        "        X : 次の形のndarray, shape (n_sample, n_features)\n",
        "            特徴量データ\n",
        "        Returns\n",
        "        -------\n",
        "        Zout : 次の形のndarray, shape (n_sample, n_output)\n",
        "            出力層の出力\n",
        "        \"\"\"\n",
        "        # デバッグ情報出力\n",
        "        if self.verbose:   print(\"■_exec_forward_propagationメソッド開始\")\n",
        "\n",
        "        # 各サンプルデータを１つずつ取り出して順伝播処理実行\n",
        "        for i, X_online in enumerate(X):\n",
        "            # デバッグ情報出力\n",
        "            if self.verbose:   print(\"■{}番目の検証データ\".format(i))\n",
        "\n",
        "            # 順伝播処理\n",
        "            A1 = self.layer[0].forward(X_online.reshape(1, -1))         # SimpleConv1dLayer\n",
        "            Z1 = self.layer[1].forward(A1)               # SigmoidLayer or TanhLayer or ReLU\n",
        "            A2 = self.layer[2].forward(Z1)               # SimpleConv1dLayer\n",
        "            Z2 = self.layer[3].forward(A2)               # SigmoidLayer or TanhLayer or ReLU\n",
        "            A3 = self.layer[4].forward(Z2)               # FullyConnectedLayer\n",
        "            Zout_temp = self.layer[5].forward(A3)        # SoftmaxLayer\n",
        "\n",
        "            if (i == 0):\n",
        "                Zout = Zout_temp\n",
        "            else:\n",
        "                Zout = np.append(Zout, Zout_temp, axis=0)\n",
        "\n",
        "        if self.verbose:   print(\"■_exec_forward_propagationメソッド終了\")    # デバッグ情報出力\n",
        "        return Zout\n",
        "\n",
        "    def _calcurate_loss(self, Y, Z):\n",
        "        \"\"\"\n",
        "        損失関数（交差エントロピー誤差: L = -1/(batch_size)*ΣΣy_jk*log(Z_jk)）の計算\n",
        "        Parameters\n",
        "        ----------\n",
        "        Y : 次の形のndarray, shape (batch_size, n_output)\n",
        "            正解ラベルデータ（OneHotEncoding済み）\n",
        "        Z : 次の形のndarray, shape (batch_size, n_output)\n",
        "            出力層での出力値\n",
        "        Returns\n",
        "        ----------\n",
        "        loss : numpy.float\n",
        "          損失関数(交差エントロピー誤差)\n",
        "        \"\"\"\n",
        "        batch_size = Y.shape[0]\n",
        "        n_output = Y.shape[1]\n",
        "        sigma = 0\n",
        "\n",
        "        sigma = (Y * np.log(Z)).sum()   # ΣΣy_jk*log(Z_jk)の計算\n",
        "        loss = - (1 / batch_size) * sigma\n",
        "        return  loss\n"
      ],
      "execution_count": 119,
      "outputs": []
    },
    {
      "cell_type": "markdown",
      "metadata": {
        "id": "wv6yuMxirD-d"
      },
      "source": [
        "### ●GetMiniBatchクラス"
      ]
    },
    {
      "cell_type": "code",
      "metadata": {
        "colab": {
          "base_uri": "https://localhost:8080/"
        },
        "id": "oUZTe8fBrFVp",
        "outputId": "ad792ad1-2a9c-43ff-97ba-8ccd93cc188f"
      },
      "source": [
        "class GetMiniBatch:\n",
        "    \"\"\"\n",
        "    ミニバッチを取得するイテレータ\n",
        "    Parameters\n",
        "    ----------\n",
        "    X : 次の形のndarray, shape (n_samples, n_features)\n",
        "      訓練データ\n",
        "    y : 次の形のndarray, shape (n_samples, 1)\n",
        "      正解値\n",
        "    batch_size : int\n",
        "      バッチサイズ\n",
        "    seed : int\n",
        "      NumPyの乱数のシード\n",
        "    \"\"\"\n",
        "    def __init__(self, X, y, batch_size = 20, seed=0):\n",
        "        self.batch_size = batch_size\n",
        "        np.random.seed(seed)\n",
        "        shuffle_index = np.random.permutation(np.arange(X.shape[0]))\n",
        "        self._X = X[shuffle_index]\n",
        "        self._y = y[shuffle_index]\n",
        "        self._stop = np.ceil(X.shape[0]/self.batch_size).astype(np.int)\n",
        "        self._counter = 0\n",
        "    def __len__(self):\n",
        "        return self._stop\n",
        "    def __getitem__(self,item):\n",
        "        p0 = item*self.batch_size\n",
        "        p1 = item*self.batch_size + self.batch_size\n",
        "        return self._X[p0:p1], self._y[p0:p1]        \n",
        "    def __iter__(self):\n",
        "        self._counter = 0\n",
        "        return self\n",
        "    def __next__(self):\n",
        "        if self._counter >= self._stop:\n",
        "            raise StopIteration()\n",
        "            # print(\"Warning: バッチデータが最後に達しました！　データの先頭に戻ります!!!(self._counter = {})\".format(self._counter))\n",
        "            # self._counter = 0\n",
        "        p0 = self._counter*self.batch_size\n",
        "        p1 = self._counter*self.batch_size + self.batch_size\n",
        "        self._counter += 1\n",
        "        return self._X[p0:p1], self._y[p0:p1]\n",
        "\n",
        "\n",
        "## ミニバッチデータを取得するサンプルコード ##\n",
        "get_mini_batch = GetMiniBatch(X_train1, y_train1, batch_size=20, seed=0)\n",
        "# get_mini_batch = GetMiniBatch(X_test1, y_test1, batch_size=20, seed=0)\n",
        "print(\"len(get_mini_batch):\")\n",
        "print(len(get_mini_batch)) # 2400\n",
        "print(\"get_mini_batch[5]:\")\n",
        "print(get_mini_batch[5]) # 5番目のミニバッチが取得できる\n",
        "# for i, (mini_X_train, mini_y_train) in enumerate(get_mini_batch):\n",
        "#     # このfor文内でミニバッチが使える\n",
        "#     # print(\"■{}番目のmini_X_train\".format(i))\n",
        "#     # print(mini_X_train[0])\n",
        "#     pass\n",
        "\n",
        "a = get_mini_batch.__iter__()\n",
        "for i in range(2):\n",
        "    mini_X_train, mini_y_train = get_mini_batch.__next__()\n",
        "    print(mini_X_train, mini_y_train)"
      ],
      "execution_count": 120,
      "outputs": [
        {
          "output_type": "stream",
          "text": [
            "len(get_mini_batch):\n",
            "2970\n",
            "get_mini_batch[5]:\n",
            "(array([[0., 0., 0., ..., 0., 0., 0.],\n",
            "       [0., 0., 0., ..., 0., 0., 0.],\n",
            "       [0., 0., 0., ..., 0., 0., 0.],\n",
            "       ...,\n",
            "       [0., 0., 0., ..., 0., 0., 0.],\n",
            "       [0., 0., 0., ..., 0., 0., 0.],\n",
            "       [0., 0., 0., ..., 0., 0., 0.]]), array([1, 2, 3, 9, 0, 9, 4, 0, 2, 7, 1, 3, 4, 4, 4, 7, 9, 9, 2, 5],\n",
            "      dtype=uint8))\n",
            "[[0. 0. 0. ... 0. 0. 0.]\n",
            " [0. 0. 0. ... 0. 0. 0.]\n",
            " [0. 0. 0. ... 0. 0. 0.]\n",
            " ...\n",
            " [0. 0. 0. ... 0. 0. 0.]\n",
            " [0. 0. 0. ... 0. 0. 0.]\n",
            " [0. 0. 0. ... 0. 0. 0.]] [9 6 8 2 9 7 0 7 2 7 4 5 8 9 6 3 2 0 7 5]\n",
            "[[0. 0. 0. ... 0. 0. 0.]\n",
            " [0. 0. 0. ... 0. 0. 0.]\n",
            " [0. 0. 0. ... 0. 0. 0.]\n",
            " ...\n",
            " [0. 0. 0. ... 0. 0. 0.]\n",
            " [0. 0. 0. ... 0. 0. 0.]\n",
            " [0. 0. 0. ... 0. 0. 0.]] [4 5 7 6 3 2 6 8 3 3 9 3 4 8 8 3 1 9 8 7]\n"
          ],
          "name": "stdout"
        }
      ]
    },
    {
      "cell_type": "code",
      "metadata": {
        "colab": {
          "base_uri": "https://localhost:8080/"
        },
        "id": "Jvp0nmnRBRxY",
        "outputId": "d78515d6-da0c-4043-f7b4-773407996855"
      },
      "source": [
        "a = [1, 2, 3]\n",
        "id(a)"
      ],
      "execution_count": 121,
      "outputs": [
        {
          "output_type": "execute_result",
          "data": {
            "text/plain": [
              "140101980678736"
            ]
          },
          "metadata": {},
          "execution_count": 121
        }
      ]
    },
    {
      "cell_type": "markdown",
      "metadata": {
        "id": "qTzqAY6fi6PO"
      },
      "source": [
        "### ●FullyConnectedLayerクラス"
      ]
    },
    {
      "cell_type": "code",
      "metadata": {
        "id": "ZPnAus02i4Gg"
      },
      "source": [
        "class FullyConnectedLayer:\n",
        "    \"\"\"\n",
        "    ノード数n_nodes_prevからn_nodes_currentへの全結合層\n",
        "    Parameters\n",
        "    ----------\n",
        "    n_nodes_prev : int\n",
        "      前の層のノード数\n",
        "    n_nodes_current : int\n",
        "      後の層のノード数\n",
        "    initializer : 初期化方法のインスタンス\n",
        "    optimizer : 最適化手法のインスタンス\n",
        "    \"\"\"\n",
        "    def __init__(self, n_nodes_prev, n_nodes_current, initializer, optimizer, verbose=False):\n",
        "        self.n_nodes_prev = n_nodes_prev\n",
        "        self.n_nodes_current = n_nodes_current\n",
        "        self.initializer = initializer  # WとBの初期化に使用\n",
        "        self.optimizer = optimizer  # WとBの更新時に使用\n",
        "        self.verbose = verbose\n",
        "        # initializerのメソッドを使い、self.Wとself.Bを初期化する\n",
        "        self.W =self.initializer.init_W(n_nodes_prev, n_nodes_current) # 重み\n",
        "        self.B =self.initializer.init_B(n_nodes_prev, n_nodes_current) # バイアス\n",
        "        self.W_log = np.array([])\n",
        "        self.B_log = np.array([])\n",
        "        self.flag = 1\n",
        "\n",
        "    def forward(self, Zprev):\n",
        "        \"\"\"\n",
        "        フォワード\n",
        "        Parameters\n",
        "        ----------\n",
        "        Zprev : 次の形のndarray, shape (batch_size, n_nodes_prev)\n",
        "            入力\n",
        "        Returns\n",
        "        ----------\n",
        "        A : 次の形のndarray, shape (batch_size, n_nodes_current)\n",
        "            出力\n",
        "        \"\"\"\n",
        "        if self.verbose:   print(\"■全結合層 処理（順伝播）実行\")   # デバッグ情報出力\n",
        "        A = (Zprev @ self.W) + self.B.reshape(1, self.B.shape[0])\n",
        "        return A\n",
        "\n",
        "    def backward(self, dA, Zprev):\n",
        "        \"\"\"\n",
        "        バックワード\n",
        "        Parameters\n",
        "        ----------\n",
        "        dA : 次の形のndarray, shape (batch_size, n_nodes_current)\n",
        "            後ろから流れてきた勾配\n",
        "        Zprev : 次の形のndarray, shape (batch_size, prev_node_num)\n",
        "            前層の出力Z（当層が第2層の場合、Zprev=Z1）\n",
        "        Returns\n",
        "        ----------\n",
        "        dZprev : 次の形のndarray, shape (batch_size, prev_node_num)\n",
        "            前に流す勾配\n",
        "        \"\"\"\n",
        "        if self.verbose:   print(\"■全結合層 処理（順伝播）実行\")   # デバッグ情報出力\n",
        "        dW = Zprev.T @ dA\n",
        "        dB = dA.sum(axis=0)\n",
        "        dZprev = dA @ self.W.T\n",
        "\n",
        "        # 更新\n",
        "        self.W = self.optimizer.update(self.W, dW, \"W\")\n",
        "        self.B = self.optimizer.update(self.B, dB, \"B\")\n",
        "\n",
        "        # # パラメータの一部のみログに記録\n",
        "        # if (self.flag == 1):\n",
        "        #     self.W_log = self.W[0, :2].reshape(1, -1)\n",
        "        #     self.B_log = self.B[:2].reshape(1, -1)\n",
        "        #     self.flag = 0\n",
        "        # else:\n",
        "        #     self.W_log = np.append(self.W_log, self.W[0, :2].reshape(1, -1), axis=0)\n",
        "        #     self.B_log = np.append(self.B_log, self.B[:2].reshape(1, -1), axis=0)\n",
        "\n",
        "        return dZprev\n"
      ],
      "execution_count": 122,
      "outputs": []
    },
    {
      "cell_type": "markdown",
      "metadata": {
        "id": "B2x960wnRja2"
      },
      "source": [
        "### ●SimpleConv1dクラス"
      ]
    },
    {
      "cell_type": "code",
      "metadata": {
        "id": "vslTKO1VRldh"
      },
      "source": [
        "class SimpleConv1dLayer:\n",
        "    \"\"\"\n",
        "    1次元の畳み込み層\n",
        "    Parameters\n",
        "    ----------\n",
        "    \"\"\"\n",
        "    def __init__(self, n_ch_out, n_ch_in, filter_size, padding, stride, initializer, optimizer, verbose=False):\n",
        "        self.n_ch_out = n_ch_out    # 出力チャネル数\n",
        "        self.n_ch_in = n_ch_in    # 入力チャネル数\n",
        "        self.filter_size = filter_size  # フィルターサイズ\n",
        "        self.padding = padding  # パディング\n",
        "        self.stride = stride    # ストライド\n",
        "        self.initializer = initializer  # WとBの初期化に使用\n",
        "        self.optimizer = optimizer  # WとBの更新時に使用\n",
        "        self.verbose = verbose\n",
        "        self.W = self.initializer.init_W_conv(n_ch_out, n_ch_in, filter_size)   # 重み\n",
        "        self.B = self.initializer.init_B_conv(n_ch_out)   # バイアス\n",
        "        # self.B = np.zeros((n_ch_out, 1))   # バイアス\n",
        "\n",
        "    def forward(self, X):\n",
        "        \"\"\"\n",
        "        順伝播処理\n",
        "        Parameters\n",
        "        ----------\n",
        "        X : 次の形のndarray, shape (n_ch_in, n_in)\n",
        "            入力\n",
        "        Returns\n",
        "        ----------\n",
        "        A : 次の形のndarray, shape (n_ch_out, n_out)\n",
        "            出力\n",
        "        \"\"\"\n",
        "        if self.verbose:   print(\"■1次元畳み込み処理（順伝播）実行\")   # デバッグ情報出力\n",
        "        n_in = X.shape[1]   # 入力Xのサイズ\n",
        "        n_out = self._calculate_n_out(n_in)   # 出力Aのサイズ\n",
        "\n",
        "        # 入力チャネル数のチェック\n",
        "        if (self.n_ch_in != X.shape[0]):\n",
        "            print(\"Warning: 入力データのチャネル数が設定と一致しません。強制終了します\")\n",
        "            raise EnvironmentError\n",
        "\n",
        "        self.X_partial = np.zeros((self.n_ch_in, n_out, self.filter_size))\n",
        "        A = np.zeros((self.n_ch_out, n_out))\n",
        "\n",
        "        # [TBD]以下の処理はパディング=0, ストライド=1の場合のみに対応した処理。\n",
        "        # 出力チャネル数分ループ\n",
        "        for k in range(self.n_ch_out):\n",
        "            A_out_ch = np.zeros((n_out, 1))\n",
        "            # 入力チャネル数分ループ\n",
        "            for j in range(self.n_ch_in):\n",
        "                for i in range(self.filter_size):\n",
        "                    self.X_partial[j, :, i] = X[j, i : n_out + i]\n",
        "\n",
        "                # A_i = Σ(X_(i+s) * W_s + B)  (s=0 ～ F-1)\n",
        "                A_temp = self.X_partial[j] @ self.W[k, j].reshape(-1, 1)\n",
        "                A_out_ch += A_temp\n",
        "            A_out_ch += + self.B[k] * np.ones((n_out, 1))\n",
        "            A[k] = A_out_ch.T\n",
        "\n",
        "        return A\n",
        "\n",
        "    def backward(self, dA, X):\n",
        "        \"\"\"\n",
        "        逆伝播処理\n",
        "        Parameters\n",
        "        ----------\n",
        "        dA : 次の形のndarray, shape (n_ch_out, n_out)\n",
        "            出力AのLに関する偏微分\n",
        "        X : 次の形のndarray, shape (n_ch_in, n_in)\n",
        "            入力\n",
        "        Returns\n",
        "        ----------\n",
        "        dX : 次の形のndarray, shape (n_ch_in, n_in)\n",
        "            入力XのLに関する偏微分\n",
        "        \"\"\"\n",
        "        if self.verbose:   print(\"■1次元畳み込み処理（逆伝播）実行\")   # デバッグ情報出力\n",
        "        n_diff = self.filter_size - 1   # n_outとn_inの差\n",
        "        n_in = X.shape[1]   # 入力Xのサイズ\n",
        "        dW = np.zeros((self.n_ch_out, self.n_ch_in, self.filter_size))\n",
        "        dB = np.zeros((self.n_ch_out, 1))\n",
        "        dA_zero_pad = np.zeros((self.n_ch_out, n_in, self.filter_size))\n",
        "        dX = np.zeros((self.n_ch_in, n_in))\n",
        "\n",
        "        # 出力チャネル数分ループ\n",
        "        for k in range(self.n_ch_out):\n",
        "            # 入力チャネル数分ループ\n",
        "            for j in range(self.n_ch_in):\n",
        "\n",
        "                # dW = ΣdA_i * X_(i+s)  (i=0 ～ n_out-1)\n",
        "                dW[k, j] = dA[k] @ self.X_partial[j]\n",
        "                # dB = ΣdA_i  (i=0 ～ n_out-1)\n",
        "                dB[k] = dA[k].sum()\n",
        "\n",
        "                 # dXの計算式の\"dA_j-s\"の部分の0パディングされた配列を用意する処理\n",
        "                for i in range(self.filter_size):\n",
        "                    if (i == 0):\n",
        "                        zero_pad = np.zeros(n_diff)    # 0パディングのための配列\n",
        "                        dA_zero_pad_temp = np.concatenate([dA[k], zero_pad])\n",
        "                        dA_zero_pad[k, :, j] = dA_zero_pad_temp\n",
        "                    else:\n",
        "                        dA_zero_pad_temp = np.roll(dA_zero_pad_temp, 1)\n",
        "                        dA_zero_pad[k, :, j] = dA_zero_pad_temp\n",
        "\n",
        "                # dX_j = ΣdA_j-s * W_s  (s=0 ～ F-1)\n",
        "                # dX[j] += dA_zero_pad[k] @ self.W[k, j].reshape(-1, 1)\n",
        "                dX_temp = dA_zero_pad[k] @ self.W[k, j].reshape(-1, 1)\n",
        "                dX[j] += dX_temp.reshape(-1)\n",
        "\n",
        "        # 更新\n",
        "        self.W = self.optimizer.update(self.W, dW, \"W\")\n",
        "        self.B = self.optimizer.update(self.B, dB, \"B\")\n",
        "\n",
        "        return  dX\n",
        "\n",
        "    def _calculate_n_out(self, n_in):\n",
        "        \"\"\"\n",
        "        逆伝播処理\n",
        "        Parameters\n",
        "        ----------\n",
        "        n_in : int\n",
        "            入力Xのサイズ\n",
        "        Returns\n",
        "        ----------\n",
        "        nout : 出力Aのサイズ\n",
        "        \"\"\"\n",
        "        n_out = ((n_in + 2 * self.padding - self.filter_size) / self.stride) + 1\n",
        "        return int(n_out)"
      ],
      "execution_count": 123,
      "outputs": []
    },
    {
      "cell_type": "markdown",
      "metadata": {
        "id": "J1HFR5tJy7lV"
      },
      "source": [
        "### ●SimpleConv1d1Chクラス"
      ]
    },
    {
      "cell_type": "code",
      "metadata": {
        "id": "SE4I8eXXy7lh"
      },
      "source": [
        "class SimpleConv1d1ChLayer:\n",
        "    \"\"\"\n",
        "    1次元の畳み込み層\n",
        "    Parameters\n",
        "    ----------\n",
        "    \"\"\"\n",
        "    def __init__(self, filter_size, padding, stride, initializer, optimizer, verbose=False):\n",
        "        self.filter_size = filter_size\n",
        "        self.padding = padding\n",
        "        self.stride = stride\n",
        "        self.initializer = initializer  # WとBの初期化に使用\n",
        "        self.optimizer = optimizer  # WとBの更新時に使用\n",
        "        self.verbose = verbose\n",
        "        self.W = self.initializer.init_W_conv(1, 1, filter_size)   # 重み\n",
        "        self.B = np.array([0])   # バイアス\n",
        "\n",
        "    def forward(self, X):\n",
        "        \"\"\"\n",
        "        順伝播処理\n",
        "        Parameters\n",
        "        ----------\n",
        "        X : 次の形のndarray, shape (1, n_in)\n",
        "            入力\n",
        "        Returns\n",
        "        ----------\n",
        "        A : 次の形のndarray, shape (1, n_out)\n",
        "            出力\n",
        "        \"\"\"\n",
        "        if self.verbose:   print(\"■1次元畳み込み処理（順伝播）実行\")   # デバッグ情報出力\n",
        "        n_in = X.shape[1]   # 入力Xのサイズ\n",
        "        n_out = self._calculate_n_out(n_in)   # 出力Aのサイズ\n",
        "\n",
        "        # [TBD]以下の処理はパディング=0, ストライド=1の場合のみに対応した処理。\n",
        "        for i in range(self.filter_size):\n",
        "            if i==0:\n",
        "                self.X_partial = X[:, i : n_out + i].reshape(-1, 1)\n",
        "            else:\n",
        "                self.X_partial = np.append(self.X_partial, X[:, i : n_out + i].reshape(-1, 1), axis=1)\n",
        "\n",
        "        # A_i = Σ(X_(i+s) * W_s + B)  (s=0 ～ F-1)\n",
        "        A = self.X_partial @ self.W.reshape(-1, 1) + self.B * np.ones((n_out, 1))\n",
        "\n",
        "        return A.T\n",
        "\n",
        "    def backward(self, X, dA):\n",
        "        \"\"\"\n",
        "        逆伝播処理\n",
        "        Parameters\n",
        "        ----------\n",
        "        dA : 次の形のndarray, shape (1, n_out)\n",
        "            出力AのLに関する偏微分\n",
        "        Returns\n",
        "        ----------\n",
        "        dX : 次の形のndarray, shape (1, n_in)\n",
        "            入力XのLに関する偏微分\n",
        "        \"\"\"\n",
        "        if self.verbose:   print(\"■1次元畳み込み処理（逆伝播）実行\")   # デバッグ情報出力\n",
        "        n_diff = self.filter_size - 1   # n_outとn_inの差\n",
        "\n",
        "        # dW = ΣdA_i * X_(i+s)  (i=0 ～ n_out-1)\n",
        "        dW = dA @ self.X_partial\n",
        "        # dB = ΣdA_i  (i=0 ～ n_out-1)\n",
        "        dB = dA.sum(axis=1)\n",
        "\n",
        "        # dXの計算式の\"dA_j-s\"の部分の0パディングされた配列を用意する処理\n",
        "        for i in range(self.filter_size):\n",
        "            if (i == 0):\n",
        "                zero_pad = np.zeros((n_diff, 1))    # 0パディングのための配列\n",
        "                dA_zero_pad_temp = np.concatenate([dA.reshape(-1, 1), zero_pad], axis=0)\n",
        "                dA_zero_pad = dA_zero_pad_temp\n",
        "            else:\n",
        "                dA_zero_pad_temp = np.roll(dA_zero_pad_temp, 1, axis=0)\n",
        "                dA_zero_pad = np.append(dA_zero_pad, dA_zero_pad_temp, axis=1)\n",
        "\n",
        "        # dX_j = ΣdA_j-s * W_s  (s=0 ～ F-1)\n",
        "        dX = dA_zero_pad @ self.W.T\n",
        "\n",
        "        # 更新\n",
        "        self.W = self.optimizer.update(self.W, dW, \"W\")\n",
        "        self.B = self.optimizer.update(self.B, dB, \"B\")\n",
        "\n",
        "        return  dW, dB, dX\n",
        "\n",
        "    def _calculate_n_out(self, n_in):\n",
        "        \"\"\"\n",
        "        逆伝播処理\n",
        "        Parameters\n",
        "        ----------\n",
        "        n_in : int\n",
        "            入力Xのサイズ\n",
        "        Returns\n",
        "        ----------\n",
        "        nout : 出力Aのサイズ\n",
        "        \"\"\"\n",
        "        n_out = ((n_in + 2 * self.padding - self.filter_size) / self.stride) + 1\n",
        "        return int(n_out)"
      ],
      "execution_count": 124,
      "outputs": []
    },
    {
      "cell_type": "markdown",
      "metadata": {
        "id": "t2QjT4sylZ6j"
      },
      "source": [
        "### ●SigmoidLayerクラス"
      ]
    },
    {
      "cell_type": "code",
      "metadata": {
        "id": "OvqWlReElZ6t"
      },
      "source": [
        "class SigmoidLayer:\n",
        "    \"\"\"\n",
        "    シグモイド関数の層\n",
        "    Parameters\n",
        "    ----------\n",
        "    \"\"\"\n",
        "    def __init__(self, verbose=False):\n",
        "        self.verbose = verbose\n",
        "        \n",
        "    def forward(self, A):\n",
        "        \"\"\"\n",
        "        順伝播処理\n",
        "        Parameters\n",
        "        ----------\n",
        "        Returns\n",
        "        ----------\n",
        "        \"\"\"\n",
        "        if self.verbose:   print(\"■シグモイド関数（順伝播）実行\")   # デバッグ情報出力\n",
        "        Z = self._sigmoid_func(A)\n",
        "        return Z\n",
        "\n",
        "    def backward(self, A, dZ):\n",
        "        \"\"\"\n",
        "        逆伝播処理\n",
        "        Parameters\n",
        "        ----------\n",
        "        Returns\n",
        "        ----------\n",
        "        \"\"\"\n",
        "        if self.verbose:   print(\"■シグモイド関数（逆伝播）実行\")   # デバッグ情報出力\n",
        "        dA = dZ * (1 - self._sigmoid_func(A)) * self._sigmoid_func(A)\n",
        "        return dA\n",
        "\n",
        "    def _sigmoid_func(self, A):\n",
        "        \"\"\"\n",
        "        シグモイド関数(1/(1+exp(-A)))の演算処理\n",
        "        Parameters\n",
        "        ----------\n",
        "        Returns\n",
        "        -------\n",
        "        \"\"\"\n",
        "        Z = 1/(1 + np.exp(-A))\n",
        "        return Z"
      ],
      "execution_count": 125,
      "outputs": []
    },
    {
      "cell_type": "markdown",
      "metadata": {
        "id": "iSd3I11YZzqo"
      },
      "source": [
        "### ●TanhLayerクラス"
      ]
    },
    {
      "cell_type": "code",
      "metadata": {
        "id": "eUfGrEAYZzq0"
      },
      "source": [
        "class TanhLayer:\n",
        "    \"\"\"\n",
        "    ハイパボリックタンジェント関数の層\n",
        "    Parameters\n",
        "    ----------\n",
        "    \"\"\"\n",
        "    def __init__(self, verbose=False):\n",
        "        self.verbose = verbose\n",
        "        \n",
        "    def forward(self, A):\n",
        "        \"\"\"\n",
        "        順伝播処理((exp(A)-exp(-A))/(exp(A)+exp(-A)))\n",
        "        Parameters\n",
        "        ----------\n",
        "        Returns\n",
        "        ----------\n",
        "        \"\"\"\n",
        "        if self.verbose:   print(\"■ハイパボリックtan関数（順伝播）実行\")   # デバッグ情報出力\n",
        "        Z = self._tanh_func(A)\n",
        "        return Z\n",
        "\n",
        "    def backward(self, A, dZ):\n",
        "        \"\"\"\n",
        "        逆伝播処理\n",
        "        Parameters\n",
        "        ----------\n",
        "        Returns\n",
        "        ----------\n",
        "        \"\"\"\n",
        "        if self.verbose:   print(\"■ハイパボリックtan関数（逆伝播）実行\")   # デバッグ情報出力\n",
        "        dA = dZ * (1 - self._tanh_func(A)* self._tanh_func(A)) \n",
        "        return dA\n",
        "\n",
        "    def _tanh_func(self, A):\n",
        "        \"\"\"\n",
        "        ハイパボリックtan関数((exp(A)-exp(-A))/(exp(A)+exp(-A)))の演算処理\n",
        "        Parameters\n",
        "        ----------\n",
        "        Returns\n",
        "        -------\n",
        "        \"\"\"\n",
        "        Z = (np.exp(A) - np.exp(-A)) / (np.exp(A) + np.exp(-A))\n",
        "        return Z"
      ],
      "execution_count": 126,
      "outputs": []
    },
    {
      "cell_type": "markdown",
      "metadata": {
        "id": "s3xkinvOvzDd"
      },
      "source": [
        "### ●ReLULayerクラス"
      ]
    },
    {
      "cell_type": "code",
      "metadata": {
        "id": "T4mkxGf3vzDi"
      },
      "source": [
        "class ReLULayer:\n",
        "    \"\"\"\n",
        "    ReLU関数の層\n",
        "    Parameters\n",
        "    ----------\n",
        "    \"\"\"\n",
        "    def __init__(self, verbose=False):\n",
        "        self.verbose = verbose\n",
        "\n",
        "    def forward(self, A):\n",
        "        \"\"\"\n",
        "        順伝播処理\n",
        "            # df(x)/dx = { x (x > 0)\n",
        "            #            { 0 (x <= 0)\n",
        "        Parameters\n",
        "        ----------\n",
        "        Returns\n",
        "        ----------\n",
        "        \"\"\"\n",
        "        if self.verbose:   print(\"■ReLU関数（順伝播）実行\")   # デバッグ情報出力\n",
        "        # Z = np.where(A > 0, A, 0)\n",
        "        self.mask = (A <= 0)\n",
        "        Z = A.copy()\n",
        "        Z[self.mask] = 0\n",
        "        return Z\n",
        "\n",
        "    def backward(self, A, dZ):\n",
        "        \"\"\"\n",
        "        逆伝播処理\n",
        "            # df(x)/dx = { 1 (x > 0)\n",
        "            #            { 0 (x <= 0)\n",
        "        Parameters\n",
        "        ----------\n",
        "        Returns\n",
        "        ----------\n",
        "        \"\"\"\n",
        "        if self.verbose:   print(\"■ReLU関数（逆伝播）実行\")   # デバッグ情報出力\n",
        "        # dA = np.where(A > 0, 1, 0)\n",
        "        dZ[self.mask] = 0\n",
        "        dA = dZ\n",
        "        return dA"
      ],
      "execution_count": 127,
      "outputs": []
    },
    {
      "cell_type": "markdown",
      "metadata": {
        "id": "CNPnJ7tnSatq"
      },
      "source": [
        "### ●SoftmaxLayerクラス"
      ]
    },
    {
      "cell_type": "code",
      "metadata": {
        "id": "pjF0MW_NSat1"
      },
      "source": [
        "class SoftmaxLayer:\n",
        "    \"\"\"\n",
        "    ソフトマックス関数の層\n",
        "    Parameters\n",
        "    ----------\n",
        "    \"\"\"\n",
        "    def __init__(self, verbose=False):\n",
        "        self.verbose = verbose\n",
        "\n",
        "    def forward(self, A):\n",
        "        \"\"\"\n",
        "        順伝播処理(Z_k = (exp(A_k)/(Σexp(A_i))\n",
        "        Parameters\n",
        "        ----------\n",
        "        Returns\n",
        "        ----------\n",
        "        \"\"\"\n",
        "        if self.verbose:   print(\"■ソフトマックス関数実行\")   # デバッグ情報出力\n",
        "        batch_size = A.shape[0]   # バッチサイズ\n",
        "        n_nodes_current = A.shape[1]    # 当層のノード数（＝目的変数のクラス数）\n",
        "        Z = np.zeros((batch_size, n_nodes_current))\n",
        "\n",
        "        sigma = np.exp(A).sum(axis=1)   # \"Σexp(A_i) (i=1～10)\"の部分の計算\n",
        "        Z = (np.exp(A)) / sigma.reshape(-1, 1)\n",
        "        return Z\n",
        "\n",
        "    def backward(self, Z, Y):\n",
        "        \"\"\"\n",
        "        逆伝播処理\n",
        "        Parameters\n",
        "        ----------\n",
        "          Z : 順伝播処理の出力\n",
        "          Y : 目的変数（OneHotEncoding済み）\n",
        "        Returns\n",
        "        ----------\n",
        "          dA\n",
        "        \"\"\"\n",
        "        if self.verbose:   print(\"■ソフトマックス関数（逆伝播）実行\")   # デバッグ情報出力\n",
        "        batch_size = Z.shape[0]   # バッチサイズ\n",
        "        dA = (1 / batch_size) * (Z - Y)\n",
        "        return dA"
      ],
      "execution_count": 128,
      "outputs": []
    },
    {
      "cell_type": "markdown",
      "metadata": {
        "id": "JiTqgS8da4P7"
      },
      "source": [
        "### ●SimpleInitializerクラス"
      ]
    },
    {
      "cell_type": "code",
      "metadata": {
        "id": "pE9WB60ja6fF"
      },
      "source": [
        "class SimpleInitializer:\n",
        "    \"\"\"\n",
        "    ガウス分布によるシンプルな初期化\n",
        "    Parameters\n",
        "    ----------\n",
        "    sigma : float\n",
        "      ガウス分布の標準偏差\n",
        "    \"\"\"\n",
        "    def __init__(self, sigma):\n",
        "        self.sigma = sigma\n",
        "\n",
        "    def init_W(self, n_nodes_prev, n_nodes_current):\n",
        "        \"\"\"\n",
        "        全結合層の重みの初期化\n",
        "        Parameters\n",
        "        ----------\n",
        "        n_nodes_prev : int\n",
        "          前の層のノード数\n",
        "        n_nodes_current : int\n",
        "          後の層のノード数\n",
        "        Returns\n",
        "        ----------\n",
        "        W :\n",
        "        \"\"\"\n",
        "        W = self.sigma * np.random.randn(n_nodes_prev, n_nodes_current)\n",
        "\n",
        "        return W\n",
        "\n",
        "    def init_B(self, n_nodes_prev, n_nodes_current):\n",
        "        \"\"\"\n",
        "        全結合層のバイアスの初期化\n",
        "        Parameters\n",
        "        ----------\n",
        "        n_nodes_current : int\n",
        "          後の層のノード数\n",
        "        Returns\n",
        "        ----------\n",
        "        B :\n",
        "        \"\"\"\n",
        "        B = self.sigma * np.random.randn(n_nodes_current)\n",
        "        return B\n",
        "\n",
        "    def init_W_conv(self, n_ch_out, n_ch_in, filter_size):\n",
        "        \"\"\"\n",
        "        畳み込み層の重みの初期化\n",
        "        Parameters\n",
        "        ----------\n",
        "        filter_size : int\n",
        "          フィルターのサイズ\n",
        "        Returns\n",
        "        ----------\n",
        "        W_conv :\n",
        "        \"\"\"\n",
        "        W_conv = self.sigma * np.random.randn(n_ch_out, n_ch_in, filter_size)\n",
        "\n",
        "        return W_conv\n",
        "\n",
        "    def init_B_conv(self, n_ch_out):\n",
        "        \"\"\"\n",
        "        畳み込み層の重みの初期化\n",
        "        Parameters\n",
        "        ----------\n",
        "        Returns\n",
        "        ----------\n",
        "        \"\"\"\n",
        "        B_conv = self.sigma * np.random.randn(n_ch_out, 1)\n",
        "\n",
        "        return B_conv"
      ],
      "execution_count": 129,
      "outputs": []
    },
    {
      "cell_type": "markdown",
      "metadata": {
        "id": "ZuHHC8G_zG1E"
      },
      "source": [
        "### ●XavierInitializerクラス"
      ]
    },
    {
      "cell_type": "code",
      "metadata": {
        "id": "tyYYYBRkzG1P"
      },
      "source": [
        "class XavierInitializer:\n",
        "    \"\"\"\n",
        "    「Xavierの初期値」による初期化（シグモイド関数・ハイパボリックタンジェント関数の層で使用）\n",
        "    Parameters\n",
        "    ----------\n",
        "    sigma : float\n",
        "      ガウス分布の標準偏差\n",
        "    \"\"\"\n",
        "    def __init__(self):\n",
        "        pass\n",
        "        \n",
        "    def init_W(self, n_nodes_prev, n_nodes_current):\n",
        "        \"\"\"\n",
        "        重みの初期化\n",
        "        Parameters\n",
        "        ----------\n",
        "        n_nodes_prev : int\n",
        "          前の層のノード数\n",
        "        n_nodes_current : int\n",
        "          後の層のノード数\n",
        "        Returns\n",
        "        ----------\n",
        "        W :\n",
        "        \"\"\"\n",
        "        W = (1 / np.sqrt(n_nodes_prev)) * np.random.randn(n_nodes_prev, n_nodes_current)\n",
        "        return W\n",
        "\n",
        "    def init_B(self, n_nodes_prev, n_nodes_current):\n",
        "        \"\"\"\n",
        "        バイアスの初期化\n",
        "        Parameters\n",
        "        ----------\n",
        "        n_nodes_prev : int\n",
        "          前の層のノード数\n",
        "        n_nodes_current : int\n",
        "          後の層のノード数\n",
        "        Returns\n",
        "        ----------\n",
        "        B :\n",
        "        \"\"\"\n",
        "        B = (1 / np.sqrt(n_nodes_prev)) * np.random.randn(n_nodes_current)\n",
        "        return B"
      ],
      "execution_count": 130,
      "outputs": []
    },
    {
      "cell_type": "markdown",
      "metadata": {
        "id": "Uh7arQxs0l_6"
      },
      "source": [
        "### ●HeInitializerクラス"
      ]
    },
    {
      "cell_type": "code",
      "metadata": {
        "id": "FnTuQHVI0l_9"
      },
      "source": [
        "class HeInitializer:\n",
        "    \"\"\"\n",
        "    「Heの初期値」による初期化（ReLU関数の層で使用）\n",
        "    Parameters\n",
        "    ----------\n",
        "    sigma : float\n",
        "      ガウス分布の標準偏差\n",
        "    \"\"\"\n",
        "    def __init__(self):\n",
        "        pass\n",
        "        \n",
        "    def init_W(self, n_nodes_prev, n_nodes_current):\n",
        "        \"\"\"\n",
        "        重みの初期化\n",
        "        Parameters\n",
        "        ----------\n",
        "        n_nodes_prev : int\n",
        "          前の層のノード数\n",
        "        n_nodes_current : int\n",
        "          後の層のノード数\n",
        "        Returns\n",
        "        ----------\n",
        "        W :\n",
        "        \"\"\"\n",
        "        W = (np.sqrt(2 / n_nodes_prev)) * np.random.randn(n_nodes_prev, n_nodes_current)\n",
        "        return W\n",
        "        \n",
        "    def init_B(self, n_nodes_prev, n_nodes_current):\n",
        "        \"\"\"\n",
        "        バイアスの初期化\n",
        "        Parameters\n",
        "        ----------\n",
        "        n_nodes_prev : int\n",
        "          前の層のノード数\n",
        "        n_nodes_current : int\n",
        "          後の層のノード数\n",
        "        Returns\n",
        "        ----------\n",
        "        B :\n",
        "        \"\"\"\n",
        "        B = (np.sqrt(2 / n_nodes_prev)) * np.random.randn(n_nodes_current)\n",
        "        return B"
      ],
      "execution_count": 131,
      "outputs": []
    },
    {
      "cell_type": "markdown",
      "metadata": {
        "id": "Cf9q8dK-bBPN"
      },
      "source": [
        "### ●SGDクラス"
      ]
    },
    {
      "cell_type": "code",
      "metadata": {
        "id": "0MTUC21abD2o"
      },
      "source": [
        "class SGD:\n",
        "    \"\"\"\n",
        "    確率的勾配降下法\n",
        "    Parameters\n",
        "    ----------\n",
        "    lr : 学習率\n",
        "    \"\"\"\n",
        "    def __init__(self, lr):\n",
        "        self.lr = lr\n",
        "\n",
        "    def update(self, param, grad, param_name):\n",
        "        \"\"\"\n",
        "        ある層の重みやバイアスの更新\n",
        "        Parameters\n",
        "        ----------\n",
        "        param : 更新前の層のインスタンス (shape: (n_nodes_prev, n_nodes_current))\n",
        "        grad : 勾配 (shape: (n_nodes_prev, n_nodes_current))\n",
        "        param_name : パラメータの名称   ※SGDでは未使用\n",
        "        \"\"\"\n",
        "        ret_param = param - self.lr * grad\n",
        "        return ret_param"
      ],
      "execution_count": 132,
      "outputs": []
    },
    {
      "cell_type": "markdown",
      "metadata": {
        "id": "CK9q_CO52OUL"
      },
      "source": [
        "### ●AdaGradクラス"
      ]
    },
    {
      "cell_type": "code",
      "metadata": {
        "id": "qgNsGdt22OUX"
      },
      "source": [
        "class AdaGrad:\n",
        "    \"\"\"\n",
        "    AdaGradによるパラメータの更新\n",
        "    Parameters\n",
        "    ----------\n",
        "    lr : 学習率\n",
        "    \"\"\"\n",
        "    def __init__(self, lr):\n",
        "        self.lr = lr\n",
        "        self.flag = 1\n",
        "        self.H = {}\n",
        "\n",
        "    def update(self, param, grad, param_name):\n",
        "        \"\"\"\n",
        "        ある層の重みやバイアスの更新\n",
        "        Parameters\n",
        "        ----------\n",
        "        param : 更新前の層のインスタンス (shape: (n_nodes_prev, n_nodes_current))\n",
        "        grad : 勾配 (shape: (n_nodes_prev, n_nodes_current))\n",
        "        param_name : パラメータの名称\n",
        "        \"\"\"\n",
        "        # 初回のみ\n",
        "        if (param_name not in self.H):\n",
        "            dic = {param_name : grad * grad + 1e-7}   # 0割防止のため1e-7を加算\n",
        "        # 2回目以降\n",
        "        else:\n",
        "            dic = {param_name : (self.H[param_name] + grad * grad)}   # 前回までのself.H[param_name]にgrad * gradを加算\n",
        "        self.H.update(dic)    # self.H[param_name]の値を更新\n",
        "        ret_param = param -  self.lr * (1 / np.sqrt(self.H[param_name])) *grad\n",
        "        # print(\"AdaGradの勾配の2乗和:\")\n",
        "        # print((1 / np.sqrt(self.H[param_name]))[0])\n",
        "        return ret_param"
      ],
      "execution_count": 133,
      "outputs": []
    },
    {
      "cell_type": "markdown",
      "metadata": {
        "id": "LmPh406_zG19"
      },
      "source": [
        "### ●推定器の評価指標を記録するスコアボードのクラス"
      ]
    },
    {
      "cell_type": "code",
      "metadata": {
        "colab": {
          "base_uri": "https://localhost:8080/"
        },
        "id": "PXuESCRr-Ut6",
        "outputId": "42920859-4da9-4597-ac69-1122587fd659"
      },
      "source": [
        "## 推定器の指標値を記録するスコアボードのクラス ##\n",
        "class ScoreBoard():\n",
        "    def __init__(self, name1=None, name2=None):\n",
        "        self.df_score = pd.DataFrame([])   # 各指標値を記録するDataFrame\n",
        "        self.confusion_matrix_dic = {}   # 混同行列の辞書\n",
        "        if (name1 is None):   name1 = \"\"\n",
        "        if (name2 is None):   name2 = \"\"\n",
        "        self.name1 = name1\n",
        "        self.name2 = name2\n",
        "        print(\"{}スコアボード{}が生成されました。\".format(self.name1, self.name2))\n",
        "\n",
        "    def calcurate_scores(self, arg_y_true, arg_y_predict, arg_y_predict_proba=None, arg_columns=None):\n",
        "\n",
        "        if ((len(np.unique(arg_y_true)) <= 2) and (len(np.unique(arg_y_predict)) <= 2)):\n",
        "            # 2値分類の評価指標\n",
        "            accuracy = accuracy_score(arg_y_true, arg_y_predict)    # Accuracy（正解率）\n",
        "            precision = precision_score(arg_y_true, arg_y_predict)    #Precision（適合率）\n",
        "            recall = recall_score(arg_y_true, arg_y_predict)    #Recall（再現率）\n",
        "            f1 = f1_score(arg_y_true, arg_y_predict)    #F値\n",
        "        else:\n",
        "            # 3値以上の分類の評価指標\n",
        "            accuracy = accuracy_score(arg_y_true, arg_y_predict)    # Accuracy（正解率）\n",
        "            precision = precision_score(arg_y_true, arg_y_predict, average=\"macro\")    #Precision（適合率）\n",
        "            recall = recall_score(arg_y_true, arg_y_predict, average=\"macro\")    #Recall（再現率）\n",
        "            f1 = f1_score(arg_y_true, arg_y_predict, average=\"macro\")    #F値\n",
        "\n",
        "        #AUC\n",
        "        if (arg_y_predict_proba is not None):\n",
        "            roc_auc = roc_auc_score(arg_y_true, arg_y_predict_proba)\n",
        "            score_list = [accuracy, precision, recall, f1, roc_auc]\n",
        "            index_list = [\"Accuacy\", \"Precision\", \"Recall\", \"F1\", \"ROC_AUC\"]\n",
        "        else:\n",
        "            score_list = [accuracy, precision, recall, f1]\n",
        "            index_list = [\"Accuacy\", \"Precision\", \"Recall\", \"F1\"]\n",
        "\n",
        "        #Confusion matrix（混同行列）\n",
        "        print(\"\\n\")\n",
        "        print(\"###Confusion matrix（混同行列）###\")\n",
        "        matrix = confusion_matrix(arg_y_true, arg_y_predict)\n",
        "        df_confusion_matrix = pd.DataFrame(matrix)\n",
        "        dic = {arg_columns:df_confusion_matrix}\n",
        "        self.confusion_matrix_dic.update(dic)   # 評価名称をキーにして混同行列を辞書へ追加\n",
        "        display(df_confusion_matrix)\n",
        "\n",
        "        #指標値の比較用テーブルに登録\n",
        "        # if(self.df_score.empty):\n",
        "        #     self.df_score = pd.DataFrame([accuracy, precision, recall, f1, roc_auc], index=[\"Accuacy\", \"Precision\", \"Recall\", \"F1\", \"ROC_AUC\"], columns=[arg_columns])\n",
        "        # else:\n",
        "        df_score_temp = pd.DataFrame(data=score_list, index=index_list, columns=[arg_columns])\n",
        "        self.df_score = pd.concat([self.df_score, df_score_temp], axis=1)\n",
        "        print(\"\\n\")\n",
        "        print(\"{}スコアボード{}:\".format(self.name1, self.name2))\n",
        "        display(self.df_score)\n",
        "\n",
        "        # #ROC曲線、AUC\n",
        "        # #y_testの値を2→1, 1→0に変換\n",
        "        # y_test1_dummy = np.where(y_test1==1, 0, 1)\n",
        "        # fpr, tpr, thresholds = metrics.roc_curve(y_test1_dummy, y_predict_proba[:, -1]) # FPR（偽陽性率）、TPR（真陽性率）、閾値を算出\n",
        "        # auc = metrics.auc(fpr, tpr)  # AUCを算出\n",
        "        # plt.plot(fpr, tpr, label='ROC curve (area = %.2f)'%auc)\n",
        "        # plt.legend()\n",
        "        # plt.title('ROC curve')\n",
        "        # plt.xlabel('False Positive Rate')\n",
        "        # plt.ylabel('True Positive Rate')\n",
        "        # plt.grid(True)\n",
        "\n",
        "        # 決定領域を描画\n",
        "        # decision_region(X_train_transformed, y_train, model=clf, step=0.01, title='decision region', xlabel=df3.columns[0], ylabel=df3.columns[1], target_names=df3.iloc[:, -1].unique())\n",
        "        \n",
        "        return\n",
        "    def display(self, key=None):\n",
        "        if (key is not None):\n",
        "            print(\"###Confusion matrix（混同行列）###\")\n",
        "            display(self.confusion_matrix_dic[key])\n",
        "        print(\"###スコアボード###\")\n",
        "        display(self.df_score)\n",
        "        return\n",
        "\n",
        "    def reset_score(self):\n",
        "        self.df_score = pd.DataFrame([])  # スコアボードを初期化\n",
        "        return\n",
        "\n",
        "\n",
        "# スコアボードをインスタンス化\n",
        "score_board1 = ScoreBoard(name2 = \"1\")\n",
        "score_board2 = ScoreBoard(name2 = \"2\")\n",
        "score_board3 = ScoreBoard(name2 = \"3\")"
      ],
      "execution_count": 134,
      "outputs": [
        {
          "output_type": "stream",
          "text": [
            "スコアボード1が生成されました。\n",
            "スコアボード2が生成されました。\n",
            "スコアボード3が生成されました。\n"
          ],
          "name": "stdout"
        }
      ]
    },
    {
      "cell_type": "markdown",
      "metadata": {
        "id": "yEVAzE40PkfQ"
      },
      "source": [
        "## 【問題1】チャンネル数を1に限定した1次元畳み込み層クラスの作成\n",
        "チャンネル数を1に限定した1次元畳み込み層のクラスSimpleConv1dを作成してください。基本構造は前のSprintで作成した全結合層のFCクラスと同じになります。なお、重みの初期化に関するクラスは必要に応じて作り変えてください。Xavierの初期値などを使う点は全結合層と同様です。\n",
        "\n",
        "\n",
        "ここでは パディング は考えず、ストライド も1に固定します。また、複数のデータを同時に処理することも考えなくて良く、バッチサイズは1のみに対応してください。この部分の拡張はアドバンス課題とします。\n",
        "\n",
        "\n",
        "フォワードプロパゲーションの数式は以下のようになります。\n",
        "\n",
        "\n",
        "$$a_i = \\sum_{s=0}^{F-1}x_{(i+s)}w_s+b$$\n",
        "$a_i$ : 出力される配列のi番目の値\n",
        "\n",
        "\n",
        "$F$ : フィルタのサイズ\n",
        "\n",
        "\n",
        "$x_{(i+s)}$ : 入力の配列の(i+s)番目の値\n",
        "\n",
        "\n",
        "$w_s$ : 重みの配列のs番目の値\n",
        "\n",
        "\n",
        "$b$ : バイアス項\n",
        "\n",
        "\n",
        "すべてスカラーです。\n",
        "\n",
        "\n",
        "次に更新式です。ここがAdaGradなどに置き換えられる点は全結合層と同様です。\n",
        "\n",
        "$$\n",
        "w_s^{\\prime} = w_s - \\alpha \\frac{\\partial L}{\\partial w_s} \\\\ b^{\\prime} = b - \\alpha \\frac{\\partial L}{\\partial b}$$\n",
        "$\\alpha$ : 学習率\n",
        "\n",
        "\n",
        "$\\frac{\\partial L}{\\partial w_s}$ : $w_s$ に関する損失 $L$ の勾配\n",
        "\n",
        "\n",
        "$\\frac{\\partial L}{\\partial b}$ : $b$ に関する損失 $L$ の勾配\n",
        "\n",
        "\n",
        "勾配 $\\frac{\\partial L}{\\partial w_s}$ や $\\frac{\\partial L}{\\partial b}$ を求めるためのバックプロパゲーションの数式が以下です。\n",
        "\n",
        "$$\\frac{\\partial L}{\\partial w_s} = \\sum_{i=0}^{N_{out}-1} \\frac{\\partial L}{\\partial a_i}x_{(i+s)}\\\\ \\frac{\\partial L}{\\partial b} = \\sum_{i=0}^{N_{out}-1} \\frac{\\partial L}{\\partial a_i}$$\n",
        "$\\frac{\\partial L}{\\partial a_i}$ : 勾配の配列のi番目の値\n",
        "\n",
        "\n",
        "$N_{out}$ : 出力のサイズ\n",
        "\n",
        "\n",
        "前の層に流す誤差の数式は以下です。\n",
        "\n",
        "\n",
        "$$\\frac{\\partial L}{\\partial x_j} = \\sum_{s=0}^{F-1} \\frac{\\partial L}{\\partial a_{(j-s)}}w_s$$\n",
        "$\\frac{\\partial L}{\\partial x_j}$ : 前の層に流す誤差の配列のj番目の値\n",
        "\n",
        "\n",
        "ただし、 $j-s<0$ または $j-s>N_{out}-1$ のとき $\\frac{\\partial L}{\\partial a_{(j-s)}} =0$ です。\n",
        "\n",
        "\n",
        "全結合層との大きな違いは、重みが複数の特徴量に対して共有されていることです。この場合は共有されている分の誤差をすべて足すことで勾配を求めます。計算グラフ上での分岐はバックプロパゲーションの際に誤差の足し算をすれば良いことになります。"
      ]
    },
    {
      "cell_type": "markdown",
      "metadata": {
        "id": "mE6iL1fhT-yE"
      },
      "source": [
        "## 【問題2】1次元畳み込み後の出力サイズの計算\n",
        "畳み込みを行うと特徴量の数が変化します。どのように変化するかは以下の数式から求められます。パディングやストライドも含めています。この計算を行う関数を作成してください。\n",
        "$$\n",
        "N_{out} =  \\frac{N_{in}+2P-F}{S} + 1\\\\\n",
        "$$\n",
        "\n",
        "N\n",
        "o\n",
        "u\n",
        "t\n",
        " : 出力のサイズ（特徴量の数）\n",
        "\n",
        "\n",
        "N\n",
        "i\n",
        "n\n",
        " : 入力のサイズ（特徴量の数）\n",
        "\n",
        "\n",
        "P\n",
        " : ある方向へのパディングの数\n",
        "\n",
        "\n",
        "F\n",
        " : フィルタのサイズ\n",
        "\n",
        "\n",
        "S\n",
        " : ストライドのサイズ"
      ]
    },
    {
      "cell_type": "markdown",
      "metadata": {
        "id": "ZeMPFgbSUmNz"
      },
      "source": [
        "## 【問題3】小さな配列での1次元畳み込み層の実験\n",
        "次に示す小さな配列でフォワードプロパゲーションとバックプロパゲーションが正しく行えているか確認してください。\n",
        "\n",
        "\n",
        "入力x、重みw、バイアスbを次のようにします。"
      ]
    },
    {
      "cell_type": "code",
      "metadata": {
        "id": "vY9MhQJTUq9A"
      },
      "source": [
        "x = np.array([1,2,3,4])\n",
        "w = np.array([3, 5, 7])\n",
        "b = np.array([1])"
      ],
      "execution_count": 135,
      "outputs": []
    },
    {
      "cell_type": "markdown",
      "metadata": {
        "id": "tizYWZKSU7Jh"
      },
      "source": [
        "フォワードプロパゲーションをすると出力は次のようになります。"
      ]
    },
    {
      "cell_type": "code",
      "metadata": {
        "id": "808EuUq-U6aV"
      },
      "source": [
        "a = np.array([35, 50])"
      ],
      "execution_count": 136,
      "outputs": []
    },
    {
      "cell_type": "markdown",
      "metadata": {
        "id": "7JKHp9bPU-pU"
      },
      "source": [
        "次にバックプロパゲーションを考えます。誤差は次のようであったとします。"
      ]
    },
    {
      "cell_type": "code",
      "metadata": {
        "id": "WrfQB7voVBBx"
      },
      "source": [
        "delta_a = np.array([10, 20])"
      ],
      "execution_count": 137,
      "outputs": []
    },
    {
      "cell_type": "markdown",
      "metadata": {
        "id": "WiKtgZELVEOM"
      },
      "source": [
        "バックプロパゲーションをすると次のような値になります。"
      ]
    },
    {
      "cell_type": "code",
      "metadata": {
        "id": "C0gaF1auVHrU"
      },
      "source": [
        "delta_b = np.array([30])\n",
        "delta_w = np.array([50, 80, 110])\n",
        "delta_x = np.array([30, 110, 170, 140])"
      ],
      "execution_count": 138,
      "outputs": []
    },
    {
      "cell_type": "markdown",
      "metadata": {
        "id": "PAOcGtQLVslI"
      },
      "source": [
        "### 実装上の工夫\n",
        "畳み込みを実装する場合は、まずはfor文を重ねていく形で構いません。しかし、できるだけ計算は効率化させたいため、以下の式を一度に計算する方法を考えることにします。\n",
        "\n",
        "$$a_i = \\sum_{s=0}^{F-1}x_{(i+s)}w_s$$\n",
        "\n",
        "バイアス項は単純な足し算のため、重みの部分を見ます。\n",
        "\n",
        "$$\\sum_{s=0}^{F-1}x_{(i+s)}w_s$$\n",
        "\n",
        "これは、xの一部を取り出した配列とwの配列の内積です。具体的な状況を考えると、以下のようなコードで計算できます。この例では流れを分かりやすくするために、各要素同士でアダマール積を計算してから合計を計算しています。これは結果的に内積と同様です。"
      ]
    },
    {
      "cell_type": "code",
      "metadata": {
        "id": "YkWMGl6OWPFw",
        "colab": {
          "base_uri": "https://localhost:8080/"
        },
        "outputId": "4a559680-43ee-46fc-acd4-2110b07ff6e5"
      },
      "source": [
        "%%timeit\n",
        "x = np.array([1, 2, 3, 4])\n",
        "w = np.array([3, 5, 7])\n",
        "a = np.empty((2, 3))\n",
        "indexes0 = np.array([0, 1, 2]).astype(np.int)\n",
        "indexes1 = np.array([1, 2, 3]).astype(np.int)\n",
        "a[0] = x[indexes0]*w # x[indexes0]は([1, 2, 3])である\n",
        "a[1] = x[indexes1]*w # x[indexes1]は([2, 3, 4])である\n",
        "a = a.sum(axis=1)\n",
        "# print(a.sum(axis=1))"
      ],
      "execution_count": 139,
      "outputs": [
        {
          "output_type": "stream",
          "text": [
            "The slowest run took 13.84 times longer than the fastest. This could mean that an intermediate result is being cached.\n",
            "100000 loops, best of 5: 15.4 µs per loop\n"
          ],
          "name": "stdout"
        }
      ]
    },
    {
      "cell_type": "code",
      "metadata": {
        "id": "8D77jOwzo-Ls",
        "colab": {
          "base_uri": "https://localhost:8080/"
        },
        "outputId": "e1f74045-4ff7-47c5-8d91-7f58d5e915de"
      },
      "source": [
        "%%timeit\n",
        "x = np.array([1, 2, 3, 4])\n",
        "w = np.array([3, 5, 7])\n",
        "a = np.empty(2)\n",
        "indexes0 = np.array([0, 1, 2]).astype(np.int)\n",
        "indexes1 = np.array([1, 2, 3]).astype(np.int)\n",
        "a[0] = x[indexes0]@w # x[indexes0]は([1, 2, 3])である\n",
        "a[1] = x[indexes1]@w # x[indexes1]は([2, 3, 4])である\n",
        "# print(a)"
      ],
      "execution_count": 140,
      "outputs": [
        {
          "output_type": "stream",
          "text": [
            "The slowest run took 21.69 times longer than the fastest. This could mean that an intermediate result is being cached.\n",
            "100000 loops, best of 5: 11.9 µs per loop\n"
          ],
          "name": "stdout"
        }
      ]
    },
    {
      "cell_type": "markdown",
      "metadata": {
        "id": "JShfvp0uWS8Z"
      },
      "source": [
        "ndarrayは配列を使ったインデックス指定ができることを利用した方法です。\n",
        "\n",
        "\n",
        "また、二次元配列を使えば一次元配列から二次元配列が取り出せます。"
      ]
    },
    {
      "cell_type": "code",
      "metadata": {
        "id": "ZicZQOiYWdAF",
        "colab": {
          "base_uri": "https://localhost:8080/"
        },
        "outputId": "cd6ae133-3952-4cfd-9962-ba3c33b69649"
      },
      "source": [
        "x = np.array([1, 2, 3, 4])\n",
        "indexes = np.array([[0, 1, 2], [1, 2, 3]]).astype(np.int)\n",
        "print(x[indexes]) # ([[1, 2, 3], [2, 3, 4]])"
      ],
      "execution_count": 141,
      "outputs": [
        {
          "output_type": "stream",
          "text": [
            "[[1 2 3]\n",
            " [2 3 4]]\n"
          ],
          "name": "stdout"
        }
      ]
    },
    {
      "cell_type": "markdown",
      "metadata": {
        "id": "3hOdYeuIWglr"
      },
      "source": [
        "このこととブロードキャストなどをうまく組み合わせることで、一度にまとめて計算することも可能です。\n",
        "\n",
        "\n",
        "畳み込みの計算方法に正解はないので、自分なりに効率化していってください。"
      ]
    },
    {
      "cell_type": "markdown",
      "metadata": {
        "id": "MhirI3vrz1YU"
      },
      "source": [
        "### 【問題3 解答】\n",
        "問題文で与えられている各変数のサンプルを用いて順伝播処理及び逆伝播処理の動作確認を下記の通り行ったところ、期待通りの値が得られることを確認できた。"
      ]
    },
    {
      "cell_type": "code",
      "metadata": {
        "colab": {
          "base_uri": "https://localhost:8080/"
        },
        "id": "n6DUCUTdz0x_",
        "outputId": "07aabd13-4ef1-40ee-b38a-6bbf934ebb6b"
      },
      "source": [
        "x = np.array([1,2,3,4]).reshape(1, -1)\n",
        "w = np.array([3, 5, 7])\n",
        "b = np.array([1])\n",
        "\n",
        "initializer = SimpleInitializer(sigma=0.01)\n",
        "optimizer = SGD(lr=0.1)\n",
        "layer = SimpleConv1d1ChLayer(filter_size=len(w), padding=0, stride=1, initializer=initializer, optimizer=optimizer)\n",
        "\n",
        "layer.W = w\n",
        "layer.B = b\n",
        "\n",
        "a = a = layer.forward(x)\n",
        "print(\"a:\")\n",
        "print(a)    # 期待値: [35, 50]\n",
        "print(\"\\n\")\n",
        "\n",
        "delta_a = np.array([10, 20]).reshape(1, -1)\n",
        "\n",
        "delta_w, delta_b, delta_x = layer.backward(x, delta_a)\n",
        "print(\"delta_w:\")\n",
        "print(delta_w)    # 期待値: [50, 80, 110]\n",
        "print(\"\\n\")\n",
        "print(\"delta_b:\")\n",
        "print(delta_b)    # 期待値: [30]\n",
        "print(\"\\n\")\n",
        "print(\"delta_x:\")\n",
        "print(delta_x)    # 期待値: [30, 110, 170, 140]"
      ],
      "execution_count": 142,
      "outputs": [
        {
          "output_type": "stream",
          "text": [
            "a:\n",
            "[[35. 50.]]\n",
            "\n",
            "\n",
            "delta_w:\n",
            "[[ 50  80 110]]\n",
            "\n",
            "\n",
            "delta_b:\n",
            "[30]\n",
            "\n",
            "\n",
            "delta_x:\n",
            "[ 30. 110. 170. 140.]\n"
          ],
          "name": "stdout"
        }
      ]
    },
    {
      "cell_type": "markdown",
      "metadata": {
        "id": "yFvn530UWixZ"
      },
      "source": [
        "## 【問題4】チャンネル数を限定しない1次元畳み込み層クラスの作成\n",
        "チャンネル数を1に限定しない1次元畳み込み層のクラスConv1dを作成してください。\n",
        "\n",
        "\n",
        "例えば以下のようなx, w, bがあった場合は、"
      ]
    },
    {
      "cell_type": "code",
      "metadata": {
        "id": "36eWHmXYWroi"
      },
      "source": [
        "x = np.array([[1, 2, 3, 4], [2, 3, 4, 5]]) # shape(2, 4)で、（入力チャンネル数、特徴量数）である。\n",
        "w = np.ones((3, 2, 3)) # 例の簡略化のため全て1とする。(出力チャンネル数、入力チャンネル数、フィルタサイズ)である。\n",
        "b = np.array([1, 2, 3]) # （出力チャンネル数）"
      ],
      "execution_count": 143,
      "outputs": []
    },
    {
      "cell_type": "markdown",
      "metadata": {
        "id": "fn_79DBfWtYP"
      },
      "source": [
        "出力は次のようになります。\n",
        "\n"
      ]
    },
    {
      "cell_type": "code",
      "metadata": {
        "id": "7m58x2QQWvNM"
      },
      "source": [
        "a = np.array([[16, 22], [17, 23], [18, 24]]) # shape(3, 2)で、（出力チャンネル数、特徴量数）である。"
      ],
      "execution_count": 144,
      "outputs": []
    },
    {
      "cell_type": "markdown",
      "metadata": {
        "id": "HjsurupJWxSv"
      },
      "source": [
        "入力が2チャンネル、出力が3チャンネルの例です。計算グラフを書いた上で、バックプロパゲーションも手計算で考えてみましょう。計算グラフの中には和と積しか登場しないので、微分を新たに考える必要はありません。\n",
        "\n",
        "《補足》\n",
        "\n",
        "\n",
        "チャンネル数を加える場合、配列をどういう順番にするかという問題があります。(バッチサイズ、チャンネル数、特徴量数)または(バッチサイズ、特徴量数、チャンネル数)が一般的で、ライブラリによって順番は異なっています。（切り替えて使用できるものもあります）\n",
        "\n",
        "\n",
        "今回のスクラッチでは自身の実装上どちらが効率的かを考えて選んでください。上記の例ではバッチサイズは考えておらず、(チャンネル数、特徴量数)です。"
      ]
    },
    {
      "cell_type": "markdown",
      "metadata": {
        "id": "vHTChPUkdgnj"
      },
      "source": [
        "### 【問題4 解答】\n"
      ]
    },
    {
      "cell_type": "code",
      "metadata": {
        "colab": {
          "base_uri": "https://localhost:8080/"
        },
        "id": "_YSJiHKidn7e",
        "outputId": "946f0636-0680-45ec-ffcb-9e2ca5e01be6"
      },
      "source": [
        "%%time\n",
        "# x = np.array([1,2,3,4]).reshape(1, -1)\n",
        "# w = np.array([3, 5, 7])\n",
        "# b = np.array([1])\n",
        "x = np.array([[1, 2, 3, 4], [2, 3, 4, 5]]) # shape(2, 4)で、（入力チャンネル数、特徴量数）である。\n",
        "w = np.ones((3, 2, 3)) # 例の簡略化のため全て1とする。(出力チャンネル数、入力チャンネル数、フィルタサイズ)である。\n",
        "b = np.array([1, 2, 3]) # （出力チャンネル数）\n",
        "\n",
        "initializer = SimpleInitializer(sigma=0.01)\n",
        "optimizer = SGD(lr=0.1)\n",
        "layer = SimpleConv1dLayer(n_ch_out=3, n_ch_in=2, filter_size=3, padding=0, stride=1, initializer=initializer, optimizer=optimizer)\n",
        "\n",
        "layer.W = w\n",
        "layer.B = b\n",
        "\n",
        "a = layer.forward(x)\n",
        "print(\"a:\")\n",
        "print(a)    # 期待値: [[16, 22], [17, 23], [18, 24]]\n",
        "print(\"\\n\")\n",
        "\n",
        "delta_a = np.array([[10, 20], [10, 20], [10, 20]])\n",
        "\n",
        "# delta_w, delta_b, delta_x = layer.backward(x, delta_a)\n",
        "# # print(\"delta_w:\")\n",
        "# # print(delta_w)\n",
        "# # print(\"\\n\")\n",
        "# # print(\"delta_b:\")\n",
        "# # print(delta_b)\n",
        "# # print(\"\\n\")\n",
        "# print(\"delta_x:\")\n",
        "# print(delta_x)"
      ],
      "execution_count": 145,
      "outputs": [
        {
          "output_type": "stream",
          "text": [
            "a:\n",
            "[[16. 22.]\n",
            " [17. 23.]\n",
            " [18. 24.]]\n",
            "\n",
            "\n",
            "CPU times: user 701 µs, sys: 1.02 ms, total: 1.72 ms\n",
            "Wall time: 1.73 ms\n"
          ],
          "name": "stdout"
        }
      ]
    },
    {
      "cell_type": "markdown",
      "metadata": {
        "id": "bjlV1H3TXB9W"
      },
      "source": [
        "## 【問題8】学習と推定\n",
        "これまで使ってきたニューラルネットワークの全結合層の一部をConv1dに置き換えてMNISTを学習・推定し、Accuracyを計算してください。\n",
        "\n",
        "\n",
        "出力層だけは全結合層をそのまま使ってください。ただし、チャンネルが複数ある状態では全結合層への入力は行えません。その段階でのチャンネルは1になるようにするか、 平滑化 を行なってください。\n",
        "\n",
        "\n",
        "画像に対しての1次元畳み込みは実用上は行わないことのため、精度は問いません。"
      ]
    },
    {
      "cell_type": "markdown",
      "metadata": {
        "id": "GvNWt_sxIgf9"
      },
      "source": [
        "### ●動作確認"
      ]
    },
    {
      "cell_type": "code",
      "metadata": {
        "colab": {
          "base_uri": "https://localhost:8080/"
        },
        "id": "x7M29Tzs3Ca7",
        "outputId": "4573582d-c13d-4f4f-fb11-78f3c0ea50aa"
      },
      "source": [
        "## 各畳み込み層の出力サイズ（ノード数）計算 ##\n",
        "# 畳み込み層1\n",
        "layer1 = SimpleConv1dLayer(n_ch_out=3, n_ch_in=2, filter_size=3, padding=0, stride=1, initializer=initializer, optimizer=optimizer)\n",
        "n_out1 = layer1._calculate_n_out(n_in=784)\n",
        "# 畳み込み層2\n",
        "layer2 = SimpleConv1dLayer(n_ch_out=3, n_ch_in=2, filter_size=3, padding=0, stride=1, initializer=initializer, optimizer=optimizer)\n",
        "n_out2 = layer2._calculate_n_out(n_in=n_out1)\n",
        "\n",
        "print(\"畳み込み層1の出力サイズ: {}\".format(n_out1))\n",
        "print(\"畳み込み層2の出力サイズ: {}\".format(n_out2))\n"
      ],
      "execution_count": 146,
      "outputs": [
        {
          "output_type": "stream",
          "text": [
            "畳み込み層1の出力サイズ: 782\n",
            "畳み込み層2の出力サイズ: 780\n"
          ],
          "name": "stdout"
        }
      ]
    },
    {
      "cell_type": "markdown",
      "metadata": {
        "id": "bh5Ou56USrL_"
      },
      "source": [
        "#### ・エポック:1, 学習率:0.1, バッチサイズ:1, Sigmoid-Sigmoid-Softmax, SimpleInit, SGD"
      ]
    },
    {
      "cell_type": "code",
      "metadata": {
        "colab": {
          "base_uri": "https://localhost:8080/",
          "height": 1000
        },
        "id": "DsWO-ZuvSrMD",
        "outputId": "fd09f679-de8d-41f2-edde-bdec82752fd1"
      },
      "source": [
        "%%time\n",
        "epoch = 1   # エポック\n",
        "lr=0.1    # 学習率\n",
        "batch_size = 1   # バッチサイズ\n",
        "early_stop = None   # 早期終了する場合のイテレーション回数（デバッグ用）\n",
        "verbose = False  # デバッグ情報出力のスイッチ\n",
        "score_board_name = \"Sigmoid-Sigmoid-Softmax, SimpleInit, SGD\"\n",
        "\n",
        "             # LayerClass,          {keywards}\n",
        "layer_list = [(SimpleConv1dLayer,   {\"n_ch_out\":3, \"n_ch_in\":1, \"filter_size\":3, \"padding\":0,\"stride\":1, \"initializer\":SimpleInitializer(sigma=0.01), \"optimizer\":SGD(lr), \"verbose\":verbose}),\n",
        "              (SigmoidLayer,        {\"verbose\":verbose}),\n",
        "              (SimpleConv1dLayer,   {\"n_ch_out\":1, \"n_ch_in\":3, \"filter_size\":3, \"padding\":0,\"stride\":1, \"initializer\":SimpleInitializer(sigma=0.01), \"optimizer\":SGD(lr), \"verbose\":verbose}),\n",
        "              (SigmoidLayer,        {\"verbose\":verbose}),\n",
        "              (FullyConnectedLayer, {\"n_nodes_prev\":n_out2, \"n_nodes_current\":10,  \"initializer\":SimpleInitializer(sigma=0.01), \"optimizer\":SGD(lr)}),\n",
        "              (SoftmaxLayer,        {\"verbose\":verbose})]\n",
        "\n",
        "# 変換器と推定器をパイプラインに組み込み\n",
        "pipeline = Pipeline(steps=[\n",
        "    # (\"scaler\", StandardScaler()),      #変換器\n",
        "    (\"classifier\", Scratch1dCNNClassifier(    #推定器\n",
        "        layer_list=layer_list,\n",
        "        epoch=epoch,\n",
        "        batch_size=batch_size,\n",
        "        early_stop=early_stop,\n",
        "        random_state=0, verbose=verbose)\n",
        "    )\n",
        "])\n",
        "\n",
        "X = X_train1\n",
        "Xt = X_test1\n",
        "y = y_train1\n",
        "yt = y_test1\n",
        "\n",
        "pipeline.fit(X, y)\n",
        "# pipeline[\"classifier\"].fit(X, y, Xt, yt)\n",
        "y_predict = pipeline.predict(Xt)\n",
        "y_predict_proba = pipeline.predict_proba(Xt)\n",
        "\n",
        "np.set_printoptions(threshold=100)    #ndarrayの要素の表示数上限を設定\n",
        "print(\"y_true:\")\n",
        "print(yt)\n",
        "print(\"y_predict:\")\n",
        "print(y_predict)\n",
        "print(\"y_predict_proba:\")\n",
        "print(y_predict_proba)\n",
        "\n",
        "# 推定器のスコアを計算し、スコアボードに記録\n",
        "columns=\"ScratchDNN(epoch:{}, iter:{}, b_size:{}, lr:{}, {})\".format(epoch, int(X.shape[0]/batch_size), batch_size, lr, score_board_name)\n",
        "score_board1.calcurate_scores(yt, y_predict, arg_columns=columns)\n",
        "\n",
        "# 学習曲線をプロット\n",
        "pipeline[\"classifier\"].plot_learning_curve()\n",
        "\n",
        "#モデルのインスタンスを複製\n",
        "pipeline1 = pipeline\n",
        "columns1 = columns"
      ],
      "execution_count": 147,
      "outputs": [
        {
          "output_type": "stream",
          "text": [
            "y_true:\n",
            "[3 6 6 ... 9 9 4]\n",
            "y_predict:\n",
            "[3 6 6 ... 4 9 4]\n",
            "y_predict_proba:\n",
            "[[7.16754741e-04 6.24409544e-03 1.89508332e-04 ... 5.02543406e-05\n",
            "  4.12092762e-04 4.72726241e-04]\n",
            " [4.91376763e-05 5.27870780e-08 1.45341723e-04 ... 4.07259954e-09\n",
            "  5.78781182e-05 1.09774743e-05]\n",
            " [2.31795185e-03 6.09627609e-03 6.44798328e-03 ... 8.74181251e-06\n",
            "  9.49753298e-04 2.10670436e-04]\n",
            " ...\n",
            " [5.67967590e-03 3.02460108e-03 3.29276540e-05 ... 1.71633758e-01\n",
            "  1.91202185e-02 2.52908651e-01]\n",
            " [1.25918624e-02 1.63324403e-07 3.25351900e-04 ... 3.72278831e-02\n",
            "  7.42595139e-04 9.47237271e-01]\n",
            " [6.07599578e-05 1.39116537e-06 1.09156425e-07 ... 8.74306756e-05\n",
            "  8.58958301e-06 2.05391466e-04]]\n",
            "\n",
            "\n",
            "###Confusion matrix（混同行列）###\n"
          ],
          "name": "stdout"
        },
        {
          "output_type": "display_data",
          "data": {
            "text/html": [
              "<div>\n",
              "<style scoped>\n",
              "    .dataframe tbody tr th:only-of-type {\n",
              "        vertical-align: middle;\n",
              "    }\n",
              "\n",
              "    .dataframe tbody tr th {\n",
              "        vertical-align: top;\n",
              "    }\n",
              "\n",
              "    .dataframe thead th {\n",
              "        text-align: right;\n",
              "    }\n",
              "</style>\n",
              "<table border=\"1\" class=\"dataframe\">\n",
              "  <thead>\n",
              "    <tr style=\"text-align: right;\">\n",
              "      <th></th>\n",
              "      <th>0</th>\n",
              "      <th>1</th>\n",
              "      <th>2</th>\n",
              "      <th>3</th>\n",
              "      <th>4</th>\n",
              "      <th>5</th>\n",
              "      <th>6</th>\n",
              "      <th>7</th>\n",
              "      <th>8</th>\n",
              "      <th>9</th>\n",
              "    </tr>\n",
              "  </thead>\n",
              "  <tbody>\n",
              "    <tr>\n",
              "      <th>0</th>\n",
              "      <td>62</td>\n",
              "      <td>0</td>\n",
              "      <td>0</td>\n",
              "      <td>0</td>\n",
              "      <td>0</td>\n",
              "      <td>0</td>\n",
              "      <td>0</td>\n",
              "      <td>0</td>\n",
              "      <td>2</td>\n",
              "      <td>0</td>\n",
              "    </tr>\n",
              "    <tr>\n",
              "      <th>1</th>\n",
              "      <td>0</td>\n",
              "      <td>76</td>\n",
              "      <td>0</td>\n",
              "      <td>0</td>\n",
              "      <td>0</td>\n",
              "      <td>0</td>\n",
              "      <td>0</td>\n",
              "      <td>0</td>\n",
              "      <td>0</td>\n",
              "      <td>0</td>\n",
              "    </tr>\n",
              "    <tr>\n",
              "      <th>2</th>\n",
              "      <td>0</td>\n",
              "      <td>2</td>\n",
              "      <td>47</td>\n",
              "      <td>0</td>\n",
              "      <td>0</td>\n",
              "      <td>0</td>\n",
              "      <td>1</td>\n",
              "      <td>1</td>\n",
              "      <td>1</td>\n",
              "      <td>0</td>\n",
              "    </tr>\n",
              "    <tr>\n",
              "      <th>3</th>\n",
              "      <td>2</td>\n",
              "      <td>0</td>\n",
              "      <td>0</td>\n",
              "      <td>54</td>\n",
              "      <td>0</td>\n",
              "      <td>2</td>\n",
              "      <td>0</td>\n",
              "      <td>0</td>\n",
              "      <td>0</td>\n",
              "      <td>3</td>\n",
              "    </tr>\n",
              "    <tr>\n",
              "      <th>4</th>\n",
              "      <td>1</td>\n",
              "      <td>2</td>\n",
              "      <td>0</td>\n",
              "      <td>0</td>\n",
              "      <td>49</td>\n",
              "      <td>0</td>\n",
              "      <td>0</td>\n",
              "      <td>3</td>\n",
              "      <td>0</td>\n",
              "      <td>4</td>\n",
              "    </tr>\n",
              "    <tr>\n",
              "      <th>5</th>\n",
              "      <td>6</td>\n",
              "      <td>0</td>\n",
              "      <td>0</td>\n",
              "      <td>1</td>\n",
              "      <td>0</td>\n",
              "      <td>44</td>\n",
              "      <td>0</td>\n",
              "      <td>0</td>\n",
              "      <td>1</td>\n",
              "      <td>0</td>\n",
              "    </tr>\n",
              "    <tr>\n",
              "      <th>6</th>\n",
              "      <td>0</td>\n",
              "      <td>0</td>\n",
              "      <td>0</td>\n",
              "      <td>0</td>\n",
              "      <td>0</td>\n",
              "      <td>0</td>\n",
              "      <td>62</td>\n",
              "      <td>1</td>\n",
              "      <td>0</td>\n",
              "      <td>0</td>\n",
              "    </tr>\n",
              "    <tr>\n",
              "      <th>7</th>\n",
              "      <td>1</td>\n",
              "      <td>2</td>\n",
              "      <td>0</td>\n",
              "      <td>1</td>\n",
              "      <td>1</td>\n",
              "      <td>0</td>\n",
              "      <td>0</td>\n",
              "      <td>57</td>\n",
              "      <td>0</td>\n",
              "      <td>2</td>\n",
              "    </tr>\n",
              "    <tr>\n",
              "      <th>8</th>\n",
              "      <td>2</td>\n",
              "      <td>4</td>\n",
              "      <td>3</td>\n",
              "      <td>0</td>\n",
              "      <td>0</td>\n",
              "      <td>0</td>\n",
              "      <td>0</td>\n",
              "      <td>0</td>\n",
              "      <td>45</td>\n",
              "      <td>0</td>\n",
              "    </tr>\n",
              "    <tr>\n",
              "      <th>9</th>\n",
              "      <td>1</td>\n",
              "      <td>0</td>\n",
              "      <td>1</td>\n",
              "      <td>0</td>\n",
              "      <td>3</td>\n",
              "      <td>0</td>\n",
              "      <td>0</td>\n",
              "      <td>4</td>\n",
              "      <td>1</td>\n",
              "      <td>45</td>\n",
              "    </tr>\n",
              "  </tbody>\n",
              "</table>\n",
              "</div>"
            ],
            "text/plain": [
              "    0   1   2   3   4   5   6   7   8   9\n",
              "0  62   0   0   0   0   0   0   0   2   0\n",
              "1   0  76   0   0   0   0   0   0   0   0\n",
              "2   0   2  47   0   0   0   1   1   1   0\n",
              "3   2   0   0  54   0   2   0   0   0   3\n",
              "4   1   2   0   0  49   0   0   3   0   4\n",
              "5   6   0   0   1   0  44   0   0   1   0\n",
              "6   0   0   0   0   0   0  62   1   0   0\n",
              "7   1   2   0   1   1   0   0  57   0   2\n",
              "8   2   4   3   0   0   0   0   0  45   0\n",
              "9   1   0   1   0   3   0   0   4   1  45"
            ]
          },
          "metadata": {}
        },
        {
          "output_type": "stream",
          "text": [
            "\n",
            "\n",
            "スコアボード1:\n"
          ],
          "name": "stdout"
        },
        {
          "output_type": "display_data",
          "data": {
            "text/html": [
              "<div>\n",
              "<style scoped>\n",
              "    .dataframe tbody tr th:only-of-type {\n",
              "        vertical-align: middle;\n",
              "    }\n",
              "\n",
              "    .dataframe tbody tr th {\n",
              "        vertical-align: top;\n",
              "    }\n",
              "\n",
              "    .dataframe thead th {\n",
              "        text-align: right;\n",
              "    }\n",
              "</style>\n",
              "<table border=\"1\" class=\"dataframe\">\n",
              "  <thead>\n",
              "    <tr style=\"text-align: right;\">\n",
              "      <th></th>\n",
              "      <th>ScratchDNN(epoch:1, iter:59400, b_size:1, lr:0.1, Sigmoid-Sigmoid-Softmax, SimpleInit, SGD)</th>\n",
              "    </tr>\n",
              "  </thead>\n",
              "  <tbody>\n",
              "    <tr>\n",
              "      <th>Accuacy</th>\n",
              "      <td>0.901667</td>\n",
              "    </tr>\n",
              "    <tr>\n",
              "      <th>Precision</th>\n",
              "      <td>0.905839</td>\n",
              "    </tr>\n",
              "    <tr>\n",
              "      <th>Recall</th>\n",
              "      <td>0.896077</td>\n",
              "    </tr>\n",
              "    <tr>\n",
              "      <th>F1</th>\n",
              "      <td>0.899114</td>\n",
              "    </tr>\n",
              "  </tbody>\n",
              "</table>\n",
              "</div>"
            ],
            "text/plain": [
              "           ScratchDNN(epoch:1, iter:59400, b_size:1, lr:0.1, Sigmoid-Sigmoid-Softmax, SimpleInit, SGD)\n",
              "Accuacy                                             0.901667                                          \n",
              "Precision                                           0.905839                                          \n",
              "Recall                                              0.896077                                          \n",
              "F1                                                  0.899114                                          "
            ]
          },
          "metadata": {}
        },
        {
          "output_type": "display_data",
          "data": {
            "image/png": "[encoded data removed]",
            "text/plain": [
              "<Figure size 750x500 with 1 Axes>"
            ]
          },
          "metadata": {}
        },
        {
          "output_type": "stream",
          "text": [
            "CPU times: user 1min 1s, sys: 212 ms, total: 1min 1s\n",
            "Wall time: 1min 1s\n"
          ],
          "name": "stdout"
        }
      ]
    },
    {
      "cell_type": "markdown",
      "metadata": {
        "id": "rcEZlwEdTSkE"
      },
      "source": [
        "### 【問題8 解答】\n",
        "Sprint10のディープニューラルネットワークでスクラッチ実装したモデルの内、1層目と2層目の全結合層をSimpleConv1d層に置き換え、活性化関数にはSigmoidを用いて学習・推定をさせたところ、Accuacyは0.9を超え、ある程度高い推定精度が得られた。\n",
        "\n",
        "なお、ReLU関数を用いた場合でも推定してみたが、ReLUの場合は推定精度が非常に悪い結果となった（【その他】の失敗例を参照）。調査したところ、2回目のSimpleConv1d層での出力が全て負となり、その結果ReLU関数での出力が全て0になってしまっていた。\n",
        "今回は畳み込み層用のInitializerの改造はSimpleInitializerのみしか行っていないが、HeInitializerも同様に改造を行い、ReLU関数の直前のSimpleConv1d層でHeInitializerによる初期化を行うことで、ReLUの場合も推定精度が改善できるかもしれない。（時間の都合上、改善作業は省略する）\n"
      ]
    },
    {
      "cell_type": "markdown",
      "metadata": {
        "id": "9e2EWyOYn_3v"
      },
      "source": [
        "## 【その他】"
      ]
    },
    {
      "cell_type": "markdown",
      "metadata": {
        "id": "DW_igf3qsru-"
      },
      "source": [
        "### ●その他の動作確認（失敗例）"
      ]
    },
    {
      "cell_type": "markdown",
      "metadata": {
        "id": "OzzvxY95ibaL"
      },
      "source": [
        "#### ・エポック:1, 学習率:0.1, バッチサイズ:1, ReLU-ReLU-Softmax, SimpleInit, SGD"
      ]
    },
    {
      "cell_type": "code",
      "metadata": {
        "colab": {
          "base_uri": "https://localhost:8080/",
          "height": 1000
        },
        "id": "Vy-yknf299Vq",
        "outputId": "874fc33e-c4b6-47c7-c603-065f16c3705f"
      },
      "source": [
        "%%time\n",
        "epoch = 1   # エポック\n",
        "lr=0.01    # 学習率\n",
        "batch_size = 1   # バッチサイズ\n",
        "early_stop = None   # 早期終了する場合のイテレーション回数（デバッグ用）\n",
        "verbose = False  # デバッグ情報出力のスイッチ\n",
        "score_board_name = \"ReLU-ReLU-Softmax, SimpleInit, SGD\"\n",
        "\n",
        "             # LayerClass,          {keywards}\n",
        "layer_list = [(SimpleConv1dLayer,   {\"n_ch_out\":3, \"n_ch_in\":1, \"filter_size\":3, \"padding\":0,\"stride\":1, \"initializer\":SimpleInitializer(sigma=0.01), \"optimizer\":SGD(lr), \"verbose\":verbose}),\n",
        "              (ReLULayer,           {\"verbose\":verbose}),\n",
        "              (SimpleConv1dLayer,   {\"n_ch_out\":1, \"n_ch_in\":3, \"filter_size\":3, \"padding\":0,\"stride\":1, \"initializer\":SimpleInitializer(sigma=0.01), \"optimizer\":SGD(lr), \"verbose\":verbose}),\n",
        "              (ReLULayer,           {\"verbose\":verbose}),\n",
        "              (FullyConnectedLayer, {\"n_nodes_prev\":n_out2, \"n_nodes_current\":10,  \"initializer\":SimpleInitializer(sigma=0.01), \"optimizer\":SGD(lr)}),\n",
        "              (SoftmaxLayer,        {\"verbose\":verbose})]\n",
        "\n",
        "# 変換器と推定器をパイプラインに組み込み\n",
        "pipeline = Pipeline(steps=[\n",
        "    # (\"scaler\", StandardScaler()),      #変換器\n",
        "    (\"classifier\", Scratch1dCNNClassifier(    #推定器\n",
        "        layer_list=layer_list,\n",
        "        epoch=epoch,\n",
        "        batch_size=batch_size,\n",
        "        early_stop=early_stop,\n",
        "        random_state=0, verbose=verbose)\n",
        "    )\n",
        "])\n",
        "\n",
        "X = X_train1\n",
        "Xt = X_test1\n",
        "y = y_train1\n",
        "yt = y_test1\n",
        "\n",
        "pipeline.fit(X, y)\n",
        "# pipeline[\"classifier\"].fit(X, y, Xt, yt)\n",
        "y_predict = pipeline.predict(Xt)\n",
        "y_predict_proba = pipeline.predict_proba(Xt)\n",
        "\n",
        "np.set_printoptions(threshold=100)    #ndarrayの要素の表示数上限を設定\n",
        "print(\"y_true:\")\n",
        "print(yt)\n",
        "print(\"y_predict:\")\n",
        "print(y_predict)\n",
        "print(\"y_predict_proba:\")\n",
        "print(y_predict_proba)\n",
        "\n",
        "# 推定器のスコアを計算し、スコアボードに記録\n",
        "columns=\"ScratchDNN(epoch:{}, iter:{}, b_size:{}, lr:{}, {})\".format(epoch, int(X.shape[0]/batch_size), batch_size, lr, score_board_name)\n",
        "score_board1.calcurate_scores(yt, y_predict, arg_columns=columns)\n",
        "\n",
        "# 学習曲線をプロット\n",
        "pipeline[\"classifier\"].plot_learning_curve()\n",
        "\n",
        "#モデルのインスタンスを複製\n",
        "pipeline1 = pipeline\n",
        "columns1 = columns"
      ],
      "execution_count": null,
      "outputs": [
        {
          "output_type": "stream",
          "text": [
            "y_true:\n",
            "[3 6 6 ... 9 9 4]\n",
            "y_predict:\n",
            "[0 0 0 ... 0 0 0]\n",
            "y_predict_proba:\n",
            "[[0.11934273 0.1022012  0.09254914 ... 0.10615933 0.10404077 0.09256453]\n",
            " [0.11934273 0.1022012  0.09254914 ... 0.10615933 0.10404077 0.09256453]\n",
            " [0.11934273 0.1022012  0.09254914 ... 0.10615933 0.10404077 0.09256453]\n",
            " ...\n",
            " [0.11934273 0.1022012  0.09254914 ... 0.10615933 0.10404077 0.09256453]\n",
            " [0.11934273 0.1022012  0.09254914 ... 0.10615933 0.10404077 0.09256453]\n",
            " [0.11934273 0.1022012  0.09254914 ... 0.10615933 0.10404077 0.09256453]]\n",
            "\n",
            "\n",
            "###Confusion matrix（混同行列）###\n"
          ],
          "name": "stdout"
        },
        {
          "output_type": "stream",
          "text": [
            "/usr/local/lib/python3.7/dist-packages/sklearn/metrics/_classification.py:1272: UndefinedMetricWarning: Precision is ill-defined and being set to 0.0 in labels with no predicted samples. Use `zero_division` parameter to control this behavior.\n",
            "  _warn_prf(average, modifier, msg_start, len(result))\n"
          ],
          "name": "stderr"
        },
        {
          "output_type": "display_data",
          "data": {
            "text/html": [
              "<div>\n",
              "<style scoped>\n",
              "    .dataframe tbody tr th:only-of-type {\n",
              "        vertical-align: middle;\n",
              "    }\n",
              "\n",
              "    .dataframe tbody tr th {\n",
              "        vertical-align: top;\n",
              "    }\n",
              "\n",
              "    .dataframe thead th {\n",
              "        text-align: right;\n",
              "    }\n",
              "</style>\n",
              "<table border=\"1\" class=\"dataframe\">\n",
              "  <thead>\n",
              "    <tr style=\"text-align: right;\">\n",
              "      <th></th>\n",
              "      <th>0</th>\n",
              "      <th>1</th>\n",
              "      <th>2</th>\n",
              "      <th>3</th>\n",
              "      <th>4</th>\n",
              "      <th>5</th>\n",
              "      <th>6</th>\n",
              "      <th>7</th>\n",
              "      <th>8</th>\n",
              "      <th>9</th>\n",
              "    </tr>\n",
              "  </thead>\n",
              "  <tbody>\n",
              "    <tr>\n",
              "      <th>0</th>\n",
              "      <td>64</td>\n",
              "      <td>0</td>\n",
              "      <td>0</td>\n",
              "      <td>0</td>\n",
              "      <td>0</td>\n",
              "      <td>0</td>\n",
              "      <td>0</td>\n",
              "      <td>0</td>\n",
              "      <td>0</td>\n",
              "      <td>0</td>\n",
              "    </tr>\n",
              "    <tr>\n",
              "      <th>1</th>\n",
              "      <td>76</td>\n",
              "      <td>0</td>\n",
              "      <td>0</td>\n",
              "      <td>0</td>\n",
              "      <td>0</td>\n",
              "      <td>0</td>\n",
              "      <td>0</td>\n",
              "      <td>0</td>\n",
              "      <td>0</td>\n",
              "      <td>0</td>\n",
              "    </tr>\n",
              "    <tr>\n",
              "      <th>2</th>\n",
              "      <td>52</td>\n",
              "      <td>0</td>\n",
              "      <td>0</td>\n",
              "      <td>0</td>\n",
              "      <td>0</td>\n",
              "      <td>0</td>\n",
              "      <td>0</td>\n",
              "      <td>0</td>\n",
              "      <td>0</td>\n",
              "      <td>0</td>\n",
              "    </tr>\n",
              "    <tr>\n",
              "      <th>3</th>\n",
              "      <td>61</td>\n",
              "      <td>0</td>\n",
              "      <td>0</td>\n",
              "      <td>0</td>\n",
              "      <td>0</td>\n",
              "      <td>0</td>\n",
              "      <td>0</td>\n",
              "      <td>0</td>\n",
              "      <td>0</td>\n",
              "      <td>0</td>\n",
              "    </tr>\n",
              "    <tr>\n",
              "      <th>4</th>\n",
              "      <td>59</td>\n",
              "      <td>0</td>\n",
              "      <td>0</td>\n",
              "      <td>0</td>\n",
              "      <td>0</td>\n",
              "      <td>0</td>\n",
              "      <td>0</td>\n",
              "      <td>0</td>\n",
              "      <td>0</td>\n",
              "      <td>0</td>\n",
              "    </tr>\n",
              "    <tr>\n",
              "      <th>5</th>\n",
              "      <td>52</td>\n",
              "      <td>0</td>\n",
              "      <td>0</td>\n",
              "      <td>0</td>\n",
              "      <td>0</td>\n",
              "      <td>0</td>\n",
              "      <td>0</td>\n",
              "      <td>0</td>\n",
              "      <td>0</td>\n",
              "      <td>0</td>\n",
              "    </tr>\n",
              "    <tr>\n",
              "      <th>6</th>\n",
              "      <td>63</td>\n",
              "      <td>0</td>\n",
              "      <td>0</td>\n",
              "      <td>0</td>\n",
              "      <td>0</td>\n",
              "      <td>0</td>\n",
              "      <td>0</td>\n",
              "      <td>0</td>\n",
              "      <td>0</td>\n",
              "      <td>0</td>\n",
              "    </tr>\n",
              "    <tr>\n",
              "      <th>7</th>\n",
              "      <td>64</td>\n",
              "      <td>0</td>\n",
              "      <td>0</td>\n",
              "      <td>0</td>\n",
              "      <td>0</td>\n",
              "      <td>0</td>\n",
              "      <td>0</td>\n",
              "      <td>0</td>\n",
              "      <td>0</td>\n",
              "      <td>0</td>\n",
              "    </tr>\n",
              "    <tr>\n",
              "      <th>8</th>\n",
              "      <td>54</td>\n",
              "      <td>0</td>\n",
              "      <td>0</td>\n",
              "      <td>0</td>\n",
              "      <td>0</td>\n",
              "      <td>0</td>\n",
              "      <td>0</td>\n",
              "      <td>0</td>\n",
              "      <td>0</td>\n",
              "      <td>0</td>\n",
              "    </tr>\n",
              "    <tr>\n",
              "      <th>9</th>\n",
              "      <td>55</td>\n",
              "      <td>0</td>\n",
              "      <td>0</td>\n",
              "      <td>0</td>\n",
              "      <td>0</td>\n",
              "      <td>0</td>\n",
              "      <td>0</td>\n",
              "      <td>0</td>\n",
              "      <td>0</td>\n",
              "      <td>0</td>\n",
              "    </tr>\n",
              "  </tbody>\n",
              "</table>\n",
              "</div>"
            ],
            "text/plain": [
              "    0  1  2  3  4  5  6  7  8  9\n",
              "0  64  0  0  0  0  0  0  0  0  0\n",
              "1  76  0  0  0  0  0  0  0  0  0\n",
              "2  52  0  0  0  0  0  0  0  0  0\n",
              "3  61  0  0  0  0  0  0  0  0  0\n",
              "4  59  0  0  0  0  0  0  0  0  0\n",
              "5  52  0  0  0  0  0  0  0  0  0\n",
              "6  63  0  0  0  0  0  0  0  0  0\n",
              "7  64  0  0  0  0  0  0  0  0  0\n",
              "8  54  0  0  0  0  0  0  0  0  0\n",
              "9  55  0  0  0  0  0  0  0  0  0"
            ]
          },
          "metadata": {}
        },
        {
          "output_type": "stream",
          "text": [
            "\n",
            "\n",
            "スコアボード1:\n"
          ],
          "name": "stdout"
        },
        {
          "output_type": "display_data",
          "data": {
            "text/html": [
              "<div>\n",
              "<style scoped>\n",
              "    .dataframe tbody tr th:only-of-type {\n",
              "        vertical-align: middle;\n",
              "    }\n",
              "\n",
              "    .dataframe tbody tr th {\n",
              "        vertical-align: top;\n",
              "    }\n",
              "\n",
              "    .dataframe thead th {\n",
              "        text-align: right;\n",
              "    }\n",
              "</style>\n",
              "<table border=\"1\" class=\"dataframe\">\n",
              "  <thead>\n",
              "    <tr style=\"text-align: right;\">\n",
              "      <th></th>\n",
              "      <th>ScratchDNN(epoch:1, iter:59400, b_size:1, lr:0.1, ReLU-ReLU-Softmax, SimpleInit, SGD)</th>\n",
              "      <th>ScratchDNN(epoch:1, iter:59400, b_size:1, lr:0.1, Sigmoid-Sigmoid-Softmax, SimpleInit, SGD)</th>\n",
              "      <th>ScratchDNN(epoch:1, iter:59400, b_size:1, lr:0.01, ReLU-ReLU-Softmax, SimpleInit, SGD)</th>\n",
              "    </tr>\n",
              "  </thead>\n",
              "  <tbody>\n",
              "    <tr>\n",
              "      <th>Accuacy</th>\n",
              "      <td>0.106667</td>\n",
              "      <td>0.901667</td>\n",
              "      <td>0.106667</td>\n",
              "    </tr>\n",
              "    <tr>\n",
              "      <th>Precision</th>\n",
              "      <td>0.010667</td>\n",
              "      <td>0.905839</td>\n",
              "      <td>0.010667</td>\n",
              "    </tr>\n",
              "    <tr>\n",
              "      <th>Recall</th>\n",
              "      <td>0.100000</td>\n",
              "      <td>0.896077</td>\n",
              "      <td>0.100000</td>\n",
              "    </tr>\n",
              "    <tr>\n",
              "      <th>F1</th>\n",
              "      <td>0.019277</td>\n",
              "      <td>0.899114</td>\n",
              "      <td>0.019277</td>\n",
              "    </tr>\n",
              "  </tbody>\n",
              "</table>\n",
              "</div>"
            ],
            "text/plain": [
              "           ScratchDNN(epoch:1, iter:59400, b_size:1, lr:0.1, ReLU-ReLU-Softmax, SimpleInit, SGD)  ...  ScratchDNN(epoch:1, iter:59400, b_size:1, lr:0.01, ReLU-ReLU-Softmax, SimpleInit, SGD)\n",
              "Accuacy                                             0.106667                                      ...                                           0.106667                                     \n",
              "Precision                                           0.010667                                      ...                                           0.010667                                     \n",
              "Recall                                              0.100000                                      ...                                           0.100000                                     \n",
              "F1                                                  0.019277                                      ...                                           0.019277                                     \n",
              "\n",
              "[4 rows x 3 columns]"
            ]
          },
          "metadata": {}
        },
        {
          "output_type": "display_data",
          "data": {
            "image/png": "[encoded data removed]",
            "text/plain": [
              "<Figure size 750x500 with 1 Axes>"
            ]
          },
          "metadata": {}
        },
        {
          "output_type": "stream",
          "text": [
            "CPU times: user 52.3 s, sys: 266 ms, total: 52.6 s\n",
            "Wall time: 52.6 s\n"
          ],
          "name": "stdout"
        }
      ]
    },
    {
      "cell_type": "markdown",
      "metadata": {
        "id": "v0IqPKSREFz6"
      },
      "source": [
        "#### ・エポック:10, 学習率:0.1, バッチサイズ:1, ReLU-ReLU-Softmax, SimpleInit, SGD"
      ]
    },
    {
      "cell_type": "code",
      "metadata": {
        "colab": {
          "base_uri": "https://localhost:8080/",
          "height": 1000
        },
        "id": "UyKc6cXiCT8K",
        "outputId": "0ff52d2b-e357-4104-bb61-5160e91b7938"
      },
      "source": [
        "# %%time\n",
        "epoch = 10   # エポック\n",
        "lr=0.1    # 学習率\n",
        "batch_size = 1   # バッチサイズ\n",
        "early_stop = None   # 早期終了する場合のイテレーション回数（デバッグ用）\n",
        "verbose = False  # デバッグ情報出力のスイッチ\n",
        "score_board_name = \"ReLU-ReLU-Softmax, SimpleInit, SGD\"\n",
        "\n",
        "             # LayerClass,          {keywards}\n",
        "layer_list = [(SimpleConv1dLayer,   {\"n_ch_out\":3, \"n_ch_in\":1, \"filter_size\":3, \"padding\":0,\"stride\":1, \"initializer\":SimpleInitializer(sigma=0.01), \"optimizer\":SGD(lr), \"verbose\":verbose}),\n",
        "              (ReLULayer,           {\"verbose\":verbose}),\n",
        "              (SimpleConv1dLayer,   {\"n_ch_out\":1, \"n_ch_in\":3, \"filter_size\":3, \"padding\":0,\"stride\":1, \"initializer\":SimpleInitializer(sigma=0.01), \"optimizer\":SGD(lr), \"verbose\":verbose}),              (ReLULayer,           {\"verbose\":verbose}),\n",
        "              (FullyConnectedLayer, {\"n_nodes_prev\":n_out2, \"n_nodes_current\":10,  \"initializer\":SimpleInitializer(sigma=0.01), \"optimizer\":SGD(lr)}),\n",
        "              (SoftmaxLayer,        {\"verbose\":verbose})]\n",
        "\n",
        "# 変換器と推定器をパイプラインに組み込み\n",
        "pipeline = Pipeline(steps=[\n",
        "    # (\"scaler\", StandardScaler()),      #変換器\n",
        "    (\"classifier\", Scratch1dCNNClassifier(    #推定器\n",
        "        layer_list=layer_list,\n",
        "        epoch=epoch,\n",
        "        batch_size=batch_size,\n",
        "        early_stop=early_stop,\n",
        "        random_state=0, verbose=verbose)\n",
        "    )\n",
        "])\n",
        "\n",
        "X = X_train1\n",
        "Xt = X_test1\n",
        "y = y_train1\n",
        "yt = y_test1\n",
        "\n",
        "pipeline.fit(X, y)\n",
        "# pipeline[\"classifier\"].fit(X, y, Xt, yt)\n",
        "y_predict = pipeline.predict(Xt)\n",
        "y_predict_proba = pipeline.predict_proba(Xt)\n",
        "\n",
        "np.set_printoptions(threshold=100)    #ndarrayの要素の表示数上限を設定\n",
        "print(\"y_true:\")\n",
        "print(yt)\n",
        "print(\"y_predict:\")\n",
        "print(y_predict)\n",
        "print(\"y_predict_proba:\")\n",
        "print(y_predict_proba)\n",
        "\n",
        "# 推定器のスコアを計算し、スコアボードに記録\n",
        "columns=\"ScratchDNN(epoch:{}, iter:{}, b_size:{}, lr:{}, {})\".format(epoch, int(X.shape[0]/batch_size), batch_size, lr, score_board_name)\n",
        "score_board1.calcurate_scores(yt, y_predict, arg_columns=columns)\n",
        "\n",
        "# 学習曲線をプロット\n",
        "pipeline[\"classifier\"].plot_learning_curve()\n",
        "\n",
        "#モデルのインスタンスを複製\n",
        "pipeline1 = pipeline\n",
        "columns1 = columns"
      ],
      "execution_count": null,
      "outputs": [
        {
          "output_type": "stream",
          "text": [
            "y_true:\n",
            "[3 6 6 ... 9 9 4]\n",
            "y_predict:\n",
            "[0 0 0 ... 0 0 0]\n",
            "y_predict_proba:\n",
            "[[0.17175292 0.09398296 0.08762066 ... 0.10031556 0.09815841 0.08176116]\n",
            " [0.17175292 0.09398296 0.08762066 ... 0.10031556 0.09815841 0.08176116]\n",
            " [0.17175292 0.09398296 0.08762066 ... 0.10031556 0.09815841 0.08176116]\n",
            " ...\n",
            " [0.17175292 0.09398296 0.08762066 ... 0.10031556 0.09815841 0.08176116]\n",
            " [0.17175292 0.09398296 0.08762066 ... 0.10031556 0.09815841 0.08176116]\n",
            " [0.17175292 0.09398296 0.08762066 ... 0.10031556 0.09815841 0.08176116]]\n",
            "\n",
            "\n",
            "###Confusion matrix（混同行列）###\n"
          ],
          "name": "stdout"
        },
        {
          "output_type": "stream",
          "text": [
            "/usr/local/lib/python3.7/dist-packages/sklearn/metrics/_classification.py:1272: UndefinedMetricWarning: Precision is ill-defined and being set to 0.0 in labels with no predicted samples. Use `zero_division` parameter to control this behavior.\n",
            "  _warn_prf(average, modifier, msg_start, len(result))\n"
          ],
          "name": "stderr"
        },
        {
          "output_type": "display_data",
          "data": {
            "text/html": [
              "<div>\n",
              "<style scoped>\n",
              "    .dataframe tbody tr th:only-of-type {\n",
              "        vertical-align: middle;\n",
              "    }\n",
              "\n",
              "    .dataframe tbody tr th {\n",
              "        vertical-align: top;\n",
              "    }\n",
              "\n",
              "    .dataframe thead th {\n",
              "        text-align: right;\n",
              "    }\n",
              "</style>\n",
              "<table border=\"1\" class=\"dataframe\">\n",
              "  <thead>\n",
              "    <tr style=\"text-align: right;\">\n",
              "      <th></th>\n",
              "      <th>0</th>\n",
              "      <th>1</th>\n",
              "      <th>2</th>\n",
              "      <th>3</th>\n",
              "      <th>4</th>\n",
              "      <th>5</th>\n",
              "      <th>6</th>\n",
              "      <th>7</th>\n",
              "      <th>8</th>\n",
              "      <th>9</th>\n",
              "    </tr>\n",
              "  </thead>\n",
              "  <tbody>\n",
              "    <tr>\n",
              "      <th>0</th>\n",
              "      <td>64</td>\n",
              "      <td>0</td>\n",
              "      <td>0</td>\n",
              "      <td>0</td>\n",
              "      <td>0</td>\n",
              "      <td>0</td>\n",
              "      <td>0</td>\n",
              "      <td>0</td>\n",
              "      <td>0</td>\n",
              "      <td>0</td>\n",
              "    </tr>\n",
              "    <tr>\n",
              "      <th>1</th>\n",
              "      <td>76</td>\n",
              "      <td>0</td>\n",
              "      <td>0</td>\n",
              "      <td>0</td>\n",
              "      <td>0</td>\n",
              "      <td>0</td>\n",
              "      <td>0</td>\n",
              "      <td>0</td>\n",
              "      <td>0</td>\n",
              "      <td>0</td>\n",
              "    </tr>\n",
              "    <tr>\n",
              "      <th>2</th>\n",
              "      <td>52</td>\n",
              "      <td>0</td>\n",
              "      <td>0</td>\n",
              "      <td>0</td>\n",
              "      <td>0</td>\n",
              "      <td>0</td>\n",
              "      <td>0</td>\n",
              "      <td>0</td>\n",
              "      <td>0</td>\n",
              "      <td>0</td>\n",
              "    </tr>\n",
              "    <tr>\n",
              "      <th>3</th>\n",
              "      <td>61</td>\n",
              "      <td>0</td>\n",
              "      <td>0</td>\n",
              "      <td>0</td>\n",
              "      <td>0</td>\n",
              "      <td>0</td>\n",
              "      <td>0</td>\n",
              "      <td>0</td>\n",
              "      <td>0</td>\n",
              "      <td>0</td>\n",
              "    </tr>\n",
              "    <tr>\n",
              "      <th>4</th>\n",
              "      <td>59</td>\n",
              "      <td>0</td>\n",
              "      <td>0</td>\n",
              "      <td>0</td>\n",
              "      <td>0</td>\n",
              "      <td>0</td>\n",
              "      <td>0</td>\n",
              "      <td>0</td>\n",
              "      <td>0</td>\n",
              "      <td>0</td>\n",
              "    </tr>\n",
              "    <tr>\n",
              "      <th>5</th>\n",
              "      <td>52</td>\n",
              "      <td>0</td>\n",
              "      <td>0</td>\n",
              "      <td>0</td>\n",
              "      <td>0</td>\n",
              "      <td>0</td>\n",
              "      <td>0</td>\n",
              "      <td>0</td>\n",
              "      <td>0</td>\n",
              "      <td>0</td>\n",
              "    </tr>\n",
              "    <tr>\n",
              "      <th>6</th>\n",
              "      <td>63</td>\n",
              "      <td>0</td>\n",
              "      <td>0</td>\n",
              "      <td>0</td>\n",
              "      <td>0</td>\n",
              "      <td>0</td>\n",
              "      <td>0</td>\n",
              "      <td>0</td>\n",
              "      <td>0</td>\n",
              "      <td>0</td>\n",
              "    </tr>\n",
              "    <tr>\n",
              "      <th>7</th>\n",
              "      <td>64</td>\n",
              "      <td>0</td>\n",
              "      <td>0</td>\n",
              "      <td>0</td>\n",
              "      <td>0</td>\n",
              "      <td>0</td>\n",
              "      <td>0</td>\n",
              "      <td>0</td>\n",
              "      <td>0</td>\n",
              "      <td>0</td>\n",
              "    </tr>\n",
              "    <tr>\n",
              "      <th>8</th>\n",
              "      <td>54</td>\n",
              "      <td>0</td>\n",
              "      <td>0</td>\n",
              "      <td>0</td>\n",
              "      <td>0</td>\n",
              "      <td>0</td>\n",
              "      <td>0</td>\n",
              "      <td>0</td>\n",
              "      <td>0</td>\n",
              "      <td>0</td>\n",
              "    </tr>\n",
              "    <tr>\n",
              "      <th>9</th>\n",
              "      <td>55</td>\n",
              "      <td>0</td>\n",
              "      <td>0</td>\n",
              "      <td>0</td>\n",
              "      <td>0</td>\n",
              "      <td>0</td>\n",
              "      <td>0</td>\n",
              "      <td>0</td>\n",
              "      <td>0</td>\n",
              "      <td>0</td>\n",
              "    </tr>\n",
              "  </tbody>\n",
              "</table>\n",
              "</div>"
            ],
            "text/plain": [
              "    0  1  2  3  4  5  6  7  8  9\n",
              "0  64  0  0  0  0  0  0  0  0  0\n",
              "1  76  0  0  0  0  0  0  0  0  0\n",
              "2  52  0  0  0  0  0  0  0  0  0\n",
              "3  61  0  0  0  0  0  0  0  0  0\n",
              "4  59  0  0  0  0  0  0  0  0  0\n",
              "5  52  0  0  0  0  0  0  0  0  0\n",
              "6  63  0  0  0  0  0  0  0  0  0\n",
              "7  64  0  0  0  0  0  0  0  0  0\n",
              "8  54  0  0  0  0  0  0  0  0  0\n",
              "9  55  0  0  0  0  0  0  0  0  0"
            ]
          },
          "metadata": {}
        },
        {
          "output_type": "stream",
          "text": [
            "\n",
            "\n",
            "スコアボード1:\n"
          ],
          "name": "stdout"
        },
        {
          "output_type": "display_data",
          "data": {
            "text/html": [
              "<div>\n",
              "<style scoped>\n",
              "    .dataframe tbody tr th:only-of-type {\n",
              "        vertical-align: middle;\n",
              "    }\n",
              "\n",
              "    .dataframe tbody tr th {\n",
              "        vertical-align: top;\n",
              "    }\n",
              "\n",
              "    .dataframe thead th {\n",
              "        text-align: right;\n",
              "    }\n",
              "</style>\n",
              "<table border=\"1\" class=\"dataframe\">\n",
              "  <thead>\n",
              "    <tr style=\"text-align: right;\">\n",
              "      <th></th>\n",
              "      <th>ScratchDNN(epoch:1, iter:59400, b_size:1, lr:1, ReLU-ReLU-Softmax, SimpleInit, SGD)</th>\n",
              "      <th>ScratchDNN(epoch:1, iter:59400, b_size:1, lr:0.1, ReLU-ReLU-Softmax, SimpleInit, SGD)</th>\n",
              "      <th>ScratchDNN(epoch:10, iter:59400, b_size:1, lr:0.1, ReLU-ReLU-Softmax, SimpleInit, SGD)</th>\n",
              "    </tr>\n",
              "  </thead>\n",
              "  <tbody>\n",
              "    <tr>\n",
              "      <th>Accuacy</th>\n",
              "      <td>0.106667</td>\n",
              "      <td>0.106667</td>\n",
              "      <td>0.106667</td>\n",
              "    </tr>\n",
              "    <tr>\n",
              "      <th>Precision</th>\n",
              "      <td>0.010667</td>\n",
              "      <td>0.010667</td>\n",
              "      <td>0.010667</td>\n",
              "    </tr>\n",
              "    <tr>\n",
              "      <th>Recall</th>\n",
              "      <td>0.100000</td>\n",
              "      <td>0.100000</td>\n",
              "      <td>0.100000</td>\n",
              "    </tr>\n",
              "    <tr>\n",
              "      <th>F1</th>\n",
              "      <td>0.019277</td>\n",
              "      <td>0.019277</td>\n",
              "      <td>0.019277</td>\n",
              "    </tr>\n",
              "  </tbody>\n",
              "</table>\n",
              "</div>"
            ],
            "text/plain": [
              "           ScratchDNN(epoch:1, iter:59400, b_size:1, lr:1, ReLU-ReLU-Softmax, SimpleInit, SGD)  ...  ScratchDNN(epoch:10, iter:59400, b_size:1, lr:0.1, ReLU-ReLU-Softmax, SimpleInit, SGD)\n",
              "Accuacy                                             0.106667                                    ...                                           0.106667                                     \n",
              "Precision                                           0.010667                                    ...                                           0.010667                                     \n",
              "Recall                                              0.100000                                    ...                                           0.100000                                     \n",
              "F1                                                  0.019277                                    ...                                           0.019277                                     \n",
              "\n",
              "[4 rows x 3 columns]"
            ]
          },
          "metadata": {}
        },
        {
          "output_type": "display_data",
          "data": {
            "image/png": "[encoded data removed]",
            "text/plain": [
              "<Figure size 750x500 with 1 Axes>"
            ]
          },
          "metadata": {}
        }
      ]
    },
    {
      "cell_type": "markdown",
      "metadata": {
        "id": "14Efr-zSERtZ"
      },
      "source": [
        "#### ・エポック:1, 学習率:0.001, バッチサイズ:1, ReLU-ReLU-Softmax, SimpleInit, SGD"
      ]
    },
    {
      "cell_type": "code",
      "metadata": {
        "colab": {
          "base_uri": "https://localhost:8080/",
          "height": 1000
        },
        "id": "PH5_S5NCERta",
        "outputId": "e776b9e7-5262-4029-fd28-36b48607a29c"
      },
      "source": [
        "# %%time\n",
        "epoch = 1   # エポック\n",
        "lr=0.001    # 学習率\n",
        "batch_size = 1   # バッチサイズ\n",
        "early_stop = None   # 早期終了する場合のイテレーション回数（デバッグ用）\n",
        "verbose = False  # デバッグ情報出力のスイッチ\n",
        "score_board_name = \"ReLU-ReLU-Softmax, SimpleInit, SGD\"\n",
        "\n",
        "             # LayerClass,          {keywards}\n",
        "layer_list = [(SimpleConv1dLayer,   {\"n_ch_out\":3, \"n_ch_in\":1, \"filter_size\":3, \"padding\":0,\"stride\":1, \"initializer\":SimpleInitializer(sigma=0.01), \"optimizer\":SGD(lr), \"verbose\":verbose}),\n",
        "              (ReLULayer,           {\"verbose\":verbose}),\n",
        "              (SimpleConv1dLayer,   {\"n_ch_out\":1, \"n_ch_in\":3, \"filter_size\":3, \"padding\":0,\"stride\":1, \"initializer\":SimpleInitializer(sigma=0.01), \"optimizer\":SGD(lr), \"verbose\":verbose}),              (ReLULayer,           {\"verbose\":verbose}),\n",
        "              (FullyConnectedLayer, {\"n_nodes_prev\":n_out2, \"n_nodes_current\":10,  \"initializer\":SimpleInitializer(sigma=0.01), \"optimizer\":SGD(lr)}),\n",
        "              (SoftmaxLayer,        {\"verbose\":verbose})]\n",
        "\n",
        "# 変換器と推定器をパイプラインに組み込み\n",
        "pipeline = Pipeline(steps=[\n",
        "    # (\"scaler\", StandardScaler()),      #変換器\n",
        "    (\"classifier\", Scratch1dCNNClassifier(    #推定器\n",
        "        layer_list=layer_list,\n",
        "        epoch=epoch,\n",
        "        batch_size=batch_size,\n",
        "        early_stop=early_stop,\n",
        "        random_state=0, verbose=verbose)\n",
        "    )\n",
        "])\n",
        "\n",
        "X = X_train1\n",
        "Xt = X_test1\n",
        "y = y_train1\n",
        "yt = y_test1\n",
        "\n",
        "pipeline.fit(X, y)\n",
        "# pipeline[\"classifier\"].fit(X, y, Xt, yt)\n",
        "y_predict = pipeline.predict(Xt)\n",
        "y_predict_proba = pipeline.predict_proba(Xt)\n",
        "\n",
        "np.set_printoptions(threshold=100)    #ndarrayの要素の表示数上限を設定\n",
        "print(\"y_true:\")\n",
        "print(yt)\n",
        "print(\"y_predict:\")\n",
        "print(y_predict)\n",
        "print(\"y_predict_proba:\")\n",
        "print(y_predict_proba)\n",
        "\n",
        "# 推定器のスコアを計算し、スコアボードに記録\n",
        "columns=\"ScratchDNN(epoch:{}, iter:{}, b_size:{}, lr:{}, {})\".format(epoch, int(X.shape[0]/batch_size), batch_size, lr, score_board_name)\n",
        "score_board1.calcurate_scores(yt, y_predict, arg_columns=columns)\n",
        "\n",
        "# 学習曲線をプロット\n",
        "pipeline[\"classifier\"].plot_learning_curve()\n",
        "\n",
        "#モデルのインスタンスを複製\n",
        "pipeline1 = pipeline\n",
        "columns1 = columns"
      ],
      "execution_count": 52,
      "outputs": [
        {
          "output_type": "stream",
          "text": [
            "y_true:\n",
            "[3 6 6 ... 9 9 4]\n",
            "y_predict:\n",
            "[1 1 1 ... 1 1 1]\n",
            "y_predict_proba:\n",
            "[[0.1002925  0.11021785 0.09834612 ... 0.10535748 0.09867899 0.09638923]\n",
            " [0.1002925  0.11021785 0.09834612 ... 0.10535748 0.09867899 0.09638923]\n",
            " [0.1002925  0.11021785 0.09834612 ... 0.10535748 0.09867899 0.09638923]\n",
            " ...\n",
            " [0.1002925  0.11021785 0.09834612 ... 0.10535748 0.09867899 0.09638923]\n",
            " [0.1002925  0.11021785 0.09834612 ... 0.10535748 0.09867899 0.09638923]\n",
            " [0.1002925  0.11021785 0.09834612 ... 0.10535748 0.09867899 0.09638923]]\n",
            "\n",
            "\n",
            "###Confusion matrix（混同行列）###\n"
          ],
          "name": "stdout"
        },
        {
          "output_type": "stream",
          "text": [
            "/usr/local/lib/python3.7/dist-packages/sklearn/metrics/_classification.py:1272: UndefinedMetricWarning: Precision is ill-defined and being set to 0.0 in labels with no predicted samples. Use `zero_division` parameter to control this behavior.\n",
            "  _warn_prf(average, modifier, msg_start, len(result))\n"
          ],
          "name": "stderr"
        },
        {
          "output_type": "display_data",
          "data": {
            "text/html": [
              "<div>\n",
              "<style scoped>\n",
              "    .dataframe tbody tr th:only-of-type {\n",
              "        vertical-align: middle;\n",
              "    }\n",
              "\n",
              "    .dataframe tbody tr th {\n",
              "        vertical-align: top;\n",
              "    }\n",
              "\n",
              "    .dataframe thead th {\n",
              "        text-align: right;\n",
              "    }\n",
              "</style>\n",
              "<table border=\"1\" class=\"dataframe\">\n",
              "  <thead>\n",
              "    <tr style=\"text-align: right;\">\n",
              "      <th></th>\n",
              "      <th>0</th>\n",
              "      <th>1</th>\n",
              "      <th>2</th>\n",
              "      <th>3</th>\n",
              "      <th>4</th>\n",
              "      <th>5</th>\n",
              "      <th>6</th>\n",
              "      <th>7</th>\n",
              "      <th>8</th>\n",
              "      <th>9</th>\n",
              "    </tr>\n",
              "  </thead>\n",
              "  <tbody>\n",
              "    <tr>\n",
              "      <th>0</th>\n",
              "      <td>0</td>\n",
              "      <td>64</td>\n",
              "      <td>0</td>\n",
              "      <td>0</td>\n",
              "      <td>0</td>\n",
              "      <td>0</td>\n",
              "      <td>0</td>\n",
              "      <td>0</td>\n",
              "      <td>0</td>\n",
              "      <td>0</td>\n",
              "    </tr>\n",
              "    <tr>\n",
              "      <th>1</th>\n",
              "      <td>0</td>\n",
              "      <td>76</td>\n",
              "      <td>0</td>\n",
              "      <td>0</td>\n",
              "      <td>0</td>\n",
              "      <td>0</td>\n",
              "      <td>0</td>\n",
              "      <td>0</td>\n",
              "      <td>0</td>\n",
              "      <td>0</td>\n",
              "    </tr>\n",
              "    <tr>\n",
              "      <th>2</th>\n",
              "      <td>0</td>\n",
              "      <td>52</td>\n",
              "      <td>0</td>\n",
              "      <td>0</td>\n",
              "      <td>0</td>\n",
              "      <td>0</td>\n",
              "      <td>0</td>\n",
              "      <td>0</td>\n",
              "      <td>0</td>\n",
              "      <td>0</td>\n",
              "    </tr>\n",
              "    <tr>\n",
              "      <th>3</th>\n",
              "      <td>0</td>\n",
              "      <td>61</td>\n",
              "      <td>0</td>\n",
              "      <td>0</td>\n",
              "      <td>0</td>\n",
              "      <td>0</td>\n",
              "      <td>0</td>\n",
              "      <td>0</td>\n",
              "      <td>0</td>\n",
              "      <td>0</td>\n",
              "    </tr>\n",
              "    <tr>\n",
              "      <th>4</th>\n",
              "      <td>0</td>\n",
              "      <td>59</td>\n",
              "      <td>0</td>\n",
              "      <td>0</td>\n",
              "      <td>0</td>\n",
              "      <td>0</td>\n",
              "      <td>0</td>\n",
              "      <td>0</td>\n",
              "      <td>0</td>\n",
              "      <td>0</td>\n",
              "    </tr>\n",
              "    <tr>\n",
              "      <th>5</th>\n",
              "      <td>0</td>\n",
              "      <td>52</td>\n",
              "      <td>0</td>\n",
              "      <td>0</td>\n",
              "      <td>0</td>\n",
              "      <td>0</td>\n",
              "      <td>0</td>\n",
              "      <td>0</td>\n",
              "      <td>0</td>\n",
              "      <td>0</td>\n",
              "    </tr>\n",
              "    <tr>\n",
              "      <th>6</th>\n",
              "      <td>0</td>\n",
              "      <td>63</td>\n",
              "      <td>0</td>\n",
              "      <td>0</td>\n",
              "      <td>0</td>\n",
              "      <td>0</td>\n",
              "      <td>0</td>\n",
              "      <td>0</td>\n",
              "      <td>0</td>\n",
              "      <td>0</td>\n",
              "    </tr>\n",
              "    <tr>\n",
              "      <th>7</th>\n",
              "      <td>0</td>\n",
              "      <td>64</td>\n",
              "      <td>0</td>\n",
              "      <td>0</td>\n",
              "      <td>0</td>\n",
              "      <td>0</td>\n",
              "      <td>0</td>\n",
              "      <td>0</td>\n",
              "      <td>0</td>\n",
              "      <td>0</td>\n",
              "    </tr>\n",
              "    <tr>\n",
              "      <th>8</th>\n",
              "      <td>0</td>\n",
              "      <td>54</td>\n",
              "      <td>0</td>\n",
              "      <td>0</td>\n",
              "      <td>0</td>\n",
              "      <td>0</td>\n",
              "      <td>0</td>\n",
              "      <td>0</td>\n",
              "      <td>0</td>\n",
              "      <td>0</td>\n",
              "    </tr>\n",
              "    <tr>\n",
              "      <th>9</th>\n",
              "      <td>0</td>\n",
              "      <td>55</td>\n",
              "      <td>0</td>\n",
              "      <td>0</td>\n",
              "      <td>0</td>\n",
              "      <td>0</td>\n",
              "      <td>0</td>\n",
              "      <td>0</td>\n",
              "      <td>0</td>\n",
              "      <td>0</td>\n",
              "    </tr>\n",
              "  </tbody>\n",
              "</table>\n",
              "</div>"
            ],
            "text/plain": [
              "   0   1  2  3  4  5  6  7  8  9\n",
              "0  0  64  0  0  0  0  0  0  0  0\n",
              "1  0  76  0  0  0  0  0  0  0  0\n",
              "2  0  52  0  0  0  0  0  0  0  0\n",
              "3  0  61  0  0  0  0  0  0  0  0\n",
              "4  0  59  0  0  0  0  0  0  0  0\n",
              "5  0  52  0  0  0  0  0  0  0  0\n",
              "6  0  63  0  0  0  0  0  0  0  0\n",
              "7  0  64  0  0  0  0  0  0  0  0\n",
              "8  0  54  0  0  0  0  0  0  0  0\n",
              "9  0  55  0  0  0  0  0  0  0  0"
            ]
          },
          "metadata": {}
        },
        {
          "output_type": "stream",
          "text": [
            "\n",
            "\n",
            "スコアボード1:\n"
          ],
          "name": "stdout"
        },
        {
          "output_type": "display_data",
          "data": {
            "text/html": [
              "<div>\n",
              "<style scoped>\n",
              "    .dataframe tbody tr th:only-of-type {\n",
              "        vertical-align: middle;\n",
              "    }\n",
              "\n",
              "    .dataframe tbody tr th {\n",
              "        vertical-align: top;\n",
              "    }\n",
              "\n",
              "    .dataframe thead th {\n",
              "        text-align: right;\n",
              "    }\n",
              "</style>\n",
              "<table border=\"1\" class=\"dataframe\">\n",
              "  <thead>\n",
              "    <tr style=\"text-align: right;\">\n",
              "      <th></th>\n",
              "      <th>ScratchDNN(epoch:1, iter:59400, b_size:1, lr:1, ReLU-ReLU-Softmax, SimpleInit, SGD)</th>\n",
              "      <th>ScratchDNN(epoch:1, iter:59400, b_size:1, lr:0.1, ReLU-ReLU-Softmax, SimpleInit, SGD)</th>\n",
              "      <th>ScratchDNN(epoch:10, iter:59400, b_size:1, lr:0.1, ReLU-ReLU-Softmax, SimpleInit, SGD)</th>\n",
              "      <th>ScratchDNN(epoch:1, iter:59400, b_size:1, lr:0.1, ReLU-ReLU-Softmax, SimpleInit, SGD)</th>\n",
              "      <th>ScratchDNN(epoch:1, iter:59400, b_size:1, lr:0.001, ReLU-ReLU-Softmax, SimpleInit, SGD)</th>\n",
              "    </tr>\n",
              "  </thead>\n",
              "  <tbody>\n",
              "    <tr>\n",
              "      <th>Accuacy</th>\n",
              "      <td>0.106667</td>\n",
              "      <td>0.106667</td>\n",
              "      <td>0.106667</td>\n",
              "      <td>0.106667</td>\n",
              "      <td>0.126667</td>\n",
              "    </tr>\n",
              "    <tr>\n",
              "      <th>Precision</th>\n",
              "      <td>0.010667</td>\n",
              "      <td>0.010667</td>\n",
              "      <td>0.010667</td>\n",
              "      <td>0.010667</td>\n",
              "      <td>0.012667</td>\n",
              "    </tr>\n",
              "    <tr>\n",
              "      <th>Recall</th>\n",
              "      <td>0.100000</td>\n",
              "      <td>0.100000</td>\n",
              "      <td>0.100000</td>\n",
              "      <td>0.100000</td>\n",
              "      <td>0.100000</td>\n",
              "    </tr>\n",
              "    <tr>\n",
              "      <th>F1</th>\n",
              "      <td>0.019277</td>\n",
              "      <td>0.019277</td>\n",
              "      <td>0.019277</td>\n",
              "      <td>0.019277</td>\n",
              "      <td>0.022485</td>\n",
              "    </tr>\n",
              "  </tbody>\n",
              "</table>\n",
              "</div>"
            ],
            "text/plain": [
              "           ScratchDNN(epoch:1, iter:59400, b_size:1, lr:1, ReLU-ReLU-Softmax, SimpleInit, SGD)  ...  ScratchDNN(epoch:1, iter:59400, b_size:1, lr:0.001, ReLU-ReLU-Softmax, SimpleInit, SGD)\n",
              "Accuacy                                             0.106667                                    ...                                           0.126667                                      \n",
              "Precision                                           0.010667                                    ...                                           0.012667                                      \n",
              "Recall                                              0.100000                                    ...                                           0.100000                                      \n",
              "F1                                                  0.019277                                    ...                                           0.022485                                      \n",
              "\n",
              "[4 rows x 5 columns]"
            ]
          },
          "metadata": {}
        },
        {
          "output_type": "display_data",
          "data": {
            "image/png": "[encoded data removed]",
            "text/plain": [
              "<Figure size 750x500 with 1 Axes>"
            ]
          },
          "metadata": {}
        }
      ]
    },
    {
      "cell_type": "code",
      "metadata": {
        "id": "TgD32HS1afkY"
      },
      "source": [
        ""
      ],
      "execution_count": null,
      "outputs": []
    }
  ]
}
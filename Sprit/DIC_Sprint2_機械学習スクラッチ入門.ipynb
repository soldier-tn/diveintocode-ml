{
  "nbformat": 4,
  "nbformat_minor": 0,
  "metadata": {
    "colab": {
      "name": "DIC_Sprint2_機械学習スクラッチ入門.ipynb",
      "provenance": [],
      "collapsed_sections": [],
      "toc_visible": true
    },
    "kernelspec": {
      "name": "python3",
      "display_name": "Python 3"
    },
    "language_info": {
      "name": "python"
    }
  },
  "cells": [
    {
      "cell_type": "markdown",
      "metadata": {
        "id": "mPG2iB6OaDQC"
      },
      "source": [
        "#機械学習スクラッチ入門"
      ]
    },
    {
      "cell_type": "markdown",
      "metadata": {
        "id": "0uvk_J9CsjFv"
      },
      "source": [
        "## 【事前準備】"
      ]
    },
    {
      "cell_type": "code",
      "metadata": {
        "id": "tFcsyfrfsFT_"
      },
      "source": [
        "# scikit-learnの「set_config(display=\"diagram\")」を使用するため、scikitlearnを最新verに更新\n",
        "# !pip install scikit-learn==0.23.2 --target drive/My\\ Drive/MyModule\n",
        "# !pip install scikit-learn==0.23.2\n",
        "# !pip list\n",
        "## Google Drive上にインストールしたモジュールのインポート##\n",
        "import sys\n",
        "sys.path.append('/content/drive/My Drive/MyModule')"
      ],
      "execution_count": 1,
      "outputs": []
    },
    {
      "cell_type": "code",
      "metadata": {
        "id": "BzA3rbuKIS0r",
        "colab": {
          "base_uri": "https://localhost:8080/"
        },
        "outputId": "f006787c-3142-486b-bcae-567e78c66252"
      },
      "source": [
        "## モジュールのインポート ##\n",
        "# 一般\n",
        "import random\n",
        "# データ分析\n",
        "import numpy as np\n",
        "import pandas as pd\n",
        "import matplotlib.pyplot as plt\n",
        "import matplotlib.style\n",
        "%matplotlib inline\n",
        "matplotlib.style.use('ggplot')\n",
        "import seaborn as sns\n",
        "# scikit-learn\n",
        "from sklearn.model_selection import train_test_split\n",
        "from sklearn import metrics\n",
        "from sklearn.metrics import accuracy_score\n",
        "from sklearn.metrics import precision_score\n",
        "from sklearn.metrics import recall_score\n",
        "from sklearn.metrics import f1_score\n",
        "from sklearn.metrics import roc_auc_score\n",
        "from sklearn.metrics import confusion_matrix\n",
        "from sklearn.metrics import mean_squared_error\n",
        "from sklearn.preprocessing import StandardScaler\n",
        "from sklearn.pipeline import Pipeline\n",
        "from sklearn.linear_model import LogisticRegression\n",
        "from sklearn.svm import SVC\n",
        "from sklearn.tree import DecisionTreeClassifier\n",
        "from sklearn.linear_model import SGDClassifier\n",
        "from sklearn.linear_model import SGDRegressor\n",
        "from sklearn.pipeline import make_pipeline\n",
        "# その他\n",
        "from google.colab import drive #GoogleDriveモジュール\n",
        "drive.mount('/content/drive') #GoogleDriveのマウント"
      ],
      "execution_count": 2,
      "outputs": [
        {
          "output_type": "stream",
          "text": [
            "Drive already mounted at /content/drive; to attempt to forcibly remount, call drive.mount(\"/content/drive\", force_remount=True).\n"
          ],
          "name": "stdout"
        }
      ]
    },
    {
      "cell_type": "markdown",
      "metadata": {
        "id": "FsZqS9RQaE5E"
      },
      "source": [
        "## 【問題1】train_test_split のスクラッチ\n",
        "まずは、scikit-learnの train_test_split をスクラッチしてみます。以下の雛形をベースに関数を実装してください。\n",
        "\n",
        "\n",
        "\n",
        "\n",
        "なお、作成した関数がscikit-learnの train_test_split と同じ動作をするか必ず確認をしましょう。"
      ]
    },
    {
      "cell_type": "code",
      "metadata": {
        "id": "aF2KnZdZszul"
      },
      "source": [
        "def scratch_train_test_split(arg_X, arg_y, arg_train_size=0.8, arg_random_state=None):\n",
        "    \"\"\"検証データを分割する。\n",
        "    Parameters\n",
        "    ----------\n",
        "    arg_X : ndarray\n",
        "      訓練データ (n_samples, n_features)\n",
        "    arg_y : ndarray\n",
        "      正解値 (n_samples,)\n",
        "    arg_train_size : float\n",
        "      何割をtrainとするか指定 (0 < train_size < 1)\n",
        "    Returns\n",
        "    -------\n",
        "    ret_X_train : ndarray\n",
        "      訓練データ (n_samples, n_features)\n",
        "    ret_X_test : ndarray\n",
        "      検証データ (n_samples, n_features)\n",
        "    ret_y_train : ndarray\n",
        "      訓練データの正解値 (n_samples,)\n",
        "    ret_y_test : ndarray\n",
        "      検証データの正解値 (n_samples,)\n",
        "    \"\"\"  \n",
        "    #arg_Xとarg_yの行数が不一致ならエラーを出力し、関数を抜ける\n",
        "    if arg_X.shape[0] != arg_y.shape[0]:\n",
        "        print(\"Warning: Xとyのデータ数が不一致です。処理を中断します。\")\n",
        "        return\n",
        "\n",
        "    # arg_Xの行数分の整数の乱数を作り、それをarg_Xとarg_yのインデックスにセットしてndarrayを並び替える\n",
        "    np.random.seed(arg_random_state) #乱数シードを設定\n",
        "    index_list = list(range(arg_X.shape[0]))\n",
        "    np.random.shuffle(index_list)\n",
        "    temp_X = arg_X[index_list, :]\n",
        "    temp_y = arg_y[index_list]\n",
        "\n",
        "    #学習データの数を算出し、Xとyを学習データと検証データに分割\n",
        "    temp_train_num = int(arg_X.shape[0] * arg_train_size)\n",
        "    \n",
        "    ret_X_train = temp_X[:temp_train_num, :]  #学習データ(X)\n",
        "    ret_y_train = temp_y[:temp_train_num]     #学習データ(y)\n",
        "    ret_X_test = temp_X[temp_train_num:, :]   #検証データ(X)\n",
        "    ret_y_test = temp_y[temp_train_num:]      #検証データ(y)\n",
        "    \n",
        "    return ret_X_train, ret_X_test, ret_y_train, ret_y_test"
      ],
      "execution_count": 3,
      "outputs": []
    },
    {
      "cell_type": "code",
      "metadata": {
        "colab": {
          "base_uri": "https://localhost:8080/"
        },
        "id": "prGqmq3Q97WI",
        "outputId": "f393c600-c9fa-4104-f040-8c3aaab7f501"
      },
      "source": [
        "# scratch_train_test_split関数の動作確認\n",
        "X = np.arange(1, 21).reshape(10, 2)\n",
        "y = np.arange(21, 31)\n",
        "\n",
        "print(\"X:\")\n",
        "print(X)\n",
        "print(\"y:\")\n",
        "print(y)\n",
        "\n",
        "X_train1, X_test1, y_train1, y_test1 = scratch_train_test_split(X, y, arg_train_size = 0.75, arg_random_state=0)\n",
        "\n",
        "print(\"X_train1:\")\n",
        "print(X_train1)\n",
        "print(\"X_test1:\")\n",
        "print(X_test1)\n",
        "print(\"y_train1:\")\n",
        "print(y_train1)\n",
        "print(\"y_test1:\")\n",
        "print(y_test1)"
      ],
      "execution_count": 4,
      "outputs": [
        {
          "output_type": "stream",
          "text": [
            "X:\n",
            "[[ 1  2]\n",
            " [ 3  4]\n",
            " [ 5  6]\n",
            " [ 7  8]\n",
            " [ 9 10]\n",
            " [11 12]\n",
            " [13 14]\n",
            " [15 16]\n",
            " [17 18]\n",
            " [19 20]]\n",
            "y:\n",
            "[21 22 23 24 25 26 27 28 29 30]\n",
            "X_train1:\n",
            "[[ 5  6]\n",
            " [17 18]\n",
            " [ 9 10]\n",
            " [19 20]\n",
            " [ 3  4]\n",
            " [13 14]\n",
            " [15 16]]\n",
            "X_test1:\n",
            "[[ 7  8]\n",
            " [ 1  2]\n",
            " [11 12]]\n",
            "y_train1:\n",
            "[23 29 25 30 22 27 28]\n",
            "y_test1:\n",
            "[24 21 26]\n"
          ],
          "name": "stdout"
        }
      ]
    },
    {
      "cell_type": "code",
      "metadata": {
        "colab": {
          "base_uri": "https://localhost:8080/"
        },
        "id": "b0qfEeSzCE-k",
        "outputId": "f447e863-6167-4f6b-d70f-24f8756c83d9"
      },
      "source": [
        "# train_test_split関数との比較\n",
        "\n",
        "X_train2, X_test2, y_train2, y_test2 = train_test_split(X, y, train_size = 0.75, random_state=0)\n",
        "\n",
        "print(\"X_train2:\")\n",
        "print(X_train2)\n",
        "print(\"X_test2:\")\n",
        "print(X_test2)\n",
        "print(\"y_train2:\")\n",
        "print(y_train2)\n",
        "print(\"y_test2:\")\n",
        "print(y_test2)"
      ],
      "execution_count": 5,
      "outputs": [
        {
          "output_type": "stream",
          "text": [
            "X_train2:\n",
            "[[19 20]\n",
            " [ 3  4]\n",
            " [13 14]\n",
            " [15 16]\n",
            " [ 7  8]\n",
            " [ 1  2]\n",
            " [11 12]]\n",
            "X_test2:\n",
            "[[ 5  6]\n",
            " [17 18]\n",
            " [ 9 10]]\n",
            "y_train2:\n",
            "[30 22 27 28 24 21 26]\n",
            "y_test2:\n",
            "[23 29 25]\n"
          ],
          "name": "stdout"
        }
      ]
    },
    {
      "cell_type": "markdown",
      "metadata": {
        "id": "mXsRK9UBGxqt"
      },
      "source": [
        "### 【問題1 解答】\n",
        "自作したscratch_train_test_split関数が、train_test_split関数と同様にデータセットを分割可能であることを確認できた。"
      ]
    },
    {
      "cell_type": "markdown",
      "metadata": {
        "id": "YKUZYH6mEZiW"
      },
      "source": [
        "## 【問題2】 分類問題を解くコードの作成\n",
        "上記3種類の手法で3種類のデータセットを学習・推定するコードを作成してください。"
      ]
    },
    {
      "cell_type": "markdown",
      "metadata": {
        "id": "x1C4D_MTHL6Q"
      },
      "source": [
        "#### ●データセットの準備"
      ]
    },
    {
      "cell_type": "code",
      "metadata": {
        "colab": {
          "base_uri": "https://localhost:8080/",
          "height": 940
        },
        "id": "vWJVlDsDH1A3",
        "outputId": "b8bf381e-224b-49f9-fdd3-3ca63598cee0"
      },
      "source": [
        "## [データセット１] アヤメのデータセット ##\n",
        "np.set_printoptions(threshold=100)   #配列の表示数上限の設定\n",
        "\n",
        "from sklearn.datasets import load_iris\n",
        "iris = load_iris()\n",
        "print(\"iris.target_names: {}\".format(iris.target_names))\n",
        "\n",
        "df_X = pd.DataFrame(data=iris.data, columns=iris.feature_names)\n",
        "df_y = pd.DataFrame(data=iris.target, columns=[\"species\"])\n",
        "df_iris_org = pd.concat([df_X, df_y], axis=1)\n",
        "\n",
        "pd.set_option('display.max_rows', 10)    #DataFrameの行の表示数上限の設定\n",
        "pd.set_option('display.max_columns', 5)   #DataFrameの列の表示数上限の設定\n",
        "\n",
        "print(\"\\n\")\n",
        "print(\"df_iris_org:\")\n",
        "display(df_iris_org)\n",
        "\n",
        "\n",
        "#目的変数（正解ラベル）をvirgicolorとvirginicaのみに削減する。（Setosaのデータ行を削除する）\n",
        "df_1 = df_iris_org[df_iris_org.loc[:, \"species\"]==1]\n",
        "df_2 = df_iris_org[df_iris_org.loc[:, \"species\"]==2]\n",
        "df_iris = pd.concat([df_1, df_2], axis=0)\n",
        "df_iris[\"sepal length (cm)\"] = (df_iris[\"sepal length (cm)\"]*100000 + 100000)\n",
        "print(\"\\n\")\n",
        "print(\"df_iris:\")\n",
        "display(df_iris)\n",
        "\n",
        "X = np.array(df_iris.iloc[:, :-1])\n",
        "y = np.array(df_iris.iloc[:, -1])\n",
        "\n",
        "#データセットを学習用と検証用に分割\n",
        "X_train1, X_test1, y_train1, y_test1 = scratch_train_test_split(X, y, arg_train_size = 0.75, arg_random_state=0)"
      ],
      "execution_count": 6,
      "outputs": [
        {
          "output_type": "stream",
          "text": [
            "iris.target_names: ['setosa' 'versicolor' 'virginica']\n",
            "\n",
            "\n",
            "df_iris_org:\n"
          ],
          "name": "stdout"
        },
        {
          "output_type": "display_data",
          "data": {
            "text/html": [
              "<div>\n",
              "<style scoped>\n",
              "    .dataframe tbody tr th:only-of-type {\n",
              "        vertical-align: middle;\n",
              "    }\n",
              "\n",
              "    .dataframe tbody tr th {\n",
              "        vertical-align: top;\n",
              "    }\n",
              "\n",
              "    .dataframe thead th {\n",
              "        text-align: right;\n",
              "    }\n",
              "</style>\n",
              "<table border=\"1\" class=\"dataframe\">\n",
              "  <thead>\n",
              "    <tr style=\"text-align: right;\">\n",
              "      <th></th>\n",
              "      <th>sepal length (cm)</th>\n",
              "      <th>sepal width (cm)</th>\n",
              "      <th>petal length (cm)</th>\n",
              "      <th>petal width (cm)</th>\n",
              "      <th>species</th>\n",
              "    </tr>\n",
              "  </thead>\n",
              "  <tbody>\n",
              "    <tr>\n",
              "      <th>0</th>\n",
              "      <td>5.1</td>\n",
              "      <td>3.5</td>\n",
              "      <td>1.4</td>\n",
              "      <td>0.2</td>\n",
              "      <td>0</td>\n",
              "    </tr>\n",
              "    <tr>\n",
              "      <th>1</th>\n",
              "      <td>4.9</td>\n",
              "      <td>3.0</td>\n",
              "      <td>1.4</td>\n",
              "      <td>0.2</td>\n",
              "      <td>0</td>\n",
              "    </tr>\n",
              "    <tr>\n",
              "      <th>2</th>\n",
              "      <td>4.7</td>\n",
              "      <td>3.2</td>\n",
              "      <td>1.3</td>\n",
              "      <td>0.2</td>\n",
              "      <td>0</td>\n",
              "    </tr>\n",
              "    <tr>\n",
              "      <th>3</th>\n",
              "      <td>4.6</td>\n",
              "      <td>3.1</td>\n",
              "      <td>1.5</td>\n",
              "      <td>0.2</td>\n",
              "      <td>0</td>\n",
              "    </tr>\n",
              "    <tr>\n",
              "      <th>4</th>\n",
              "      <td>5.0</td>\n",
              "      <td>3.6</td>\n",
              "      <td>1.4</td>\n",
              "      <td>0.2</td>\n",
              "      <td>0</td>\n",
              "    </tr>\n",
              "    <tr>\n",
              "      <th>...</th>\n",
              "      <td>...</td>\n",
              "      <td>...</td>\n",
              "      <td>...</td>\n",
              "      <td>...</td>\n",
              "      <td>...</td>\n",
              "    </tr>\n",
              "    <tr>\n",
              "      <th>145</th>\n",
              "      <td>6.7</td>\n",
              "      <td>3.0</td>\n",
              "      <td>5.2</td>\n",
              "      <td>2.3</td>\n",
              "      <td>2</td>\n",
              "    </tr>\n",
              "    <tr>\n",
              "      <th>146</th>\n",
              "      <td>6.3</td>\n",
              "      <td>2.5</td>\n",
              "      <td>5.0</td>\n",
              "      <td>1.9</td>\n",
              "      <td>2</td>\n",
              "    </tr>\n",
              "    <tr>\n",
              "      <th>147</th>\n",
              "      <td>6.5</td>\n",
              "      <td>3.0</td>\n",
              "      <td>5.2</td>\n",
              "      <td>2.0</td>\n",
              "      <td>2</td>\n",
              "    </tr>\n",
              "    <tr>\n",
              "      <th>148</th>\n",
              "      <td>6.2</td>\n",
              "      <td>3.4</td>\n",
              "      <td>5.4</td>\n",
              "      <td>2.3</td>\n",
              "      <td>2</td>\n",
              "    </tr>\n",
              "    <tr>\n",
              "      <th>149</th>\n",
              "      <td>5.9</td>\n",
              "      <td>3.0</td>\n",
              "      <td>5.1</td>\n",
              "      <td>1.8</td>\n",
              "      <td>2</td>\n",
              "    </tr>\n",
              "  </tbody>\n",
              "</table>\n",
              "<p>150 rows × 5 columns</p>\n",
              "</div>"
            ],
            "text/plain": [
              "     sepal length (cm)  sepal width (cm)  petal length (cm)  petal width (cm)  \\\n",
              "0                  5.1               3.5                1.4               0.2   \n",
              "1                  4.9               3.0                1.4               0.2   \n",
              "2                  4.7               3.2                1.3               0.2   \n",
              "3                  4.6               3.1                1.5               0.2   \n",
              "4                  5.0               3.6                1.4               0.2   \n",
              "..                 ...               ...                ...               ...   \n",
              "145                6.7               3.0                5.2               2.3   \n",
              "146                6.3               2.5                5.0               1.9   \n",
              "147                6.5               3.0                5.2               2.0   \n",
              "148                6.2               3.4                5.4               2.3   \n",
              "149                5.9               3.0                5.1               1.8   \n",
              "\n",
              "     species  \n",
              "0          0  \n",
              "1          0  \n",
              "2          0  \n",
              "3          0  \n",
              "4          0  \n",
              "..       ...  \n",
              "145        2  \n",
              "146        2  \n",
              "147        2  \n",
              "148        2  \n",
              "149        2  \n",
              "\n",
              "[150 rows x 5 columns]"
            ]
          },
          "metadata": {
            "tags": []
          }
        },
        {
          "output_type": "stream",
          "text": [
            "\n",
            "\n",
            "df_iris:\n"
          ],
          "name": "stdout"
        },
        {
          "output_type": "display_data",
          "data": {
            "text/html": [
              "<div>\n",
              "<style scoped>\n",
              "    .dataframe tbody tr th:only-of-type {\n",
              "        vertical-align: middle;\n",
              "    }\n",
              "\n",
              "    .dataframe tbody tr th {\n",
              "        vertical-align: top;\n",
              "    }\n",
              "\n",
              "    .dataframe thead th {\n",
              "        text-align: right;\n",
              "    }\n",
              "</style>\n",
              "<table border=\"1\" class=\"dataframe\">\n",
              "  <thead>\n",
              "    <tr style=\"text-align: right;\">\n",
              "      <th></th>\n",
              "      <th>sepal length (cm)</th>\n",
              "      <th>sepal width (cm)</th>\n",
              "      <th>petal length (cm)</th>\n",
              "      <th>petal width (cm)</th>\n",
              "      <th>species</th>\n",
              "    </tr>\n",
              "  </thead>\n",
              "  <tbody>\n",
              "    <tr>\n",
              "      <th>50</th>\n",
              "      <td>800000.0</td>\n",
              "      <td>3.2</td>\n",
              "      <td>4.7</td>\n",
              "      <td>1.4</td>\n",
              "      <td>1</td>\n",
              "    </tr>\n",
              "    <tr>\n",
              "      <th>51</th>\n",
              "      <td>740000.0</td>\n",
              "      <td>3.2</td>\n",
              "      <td>4.5</td>\n",
              "      <td>1.5</td>\n",
              "      <td>1</td>\n",
              "    </tr>\n",
              "    <tr>\n",
              "      <th>52</th>\n",
              "      <td>790000.0</td>\n",
              "      <td>3.1</td>\n",
              "      <td>4.9</td>\n",
              "      <td>1.5</td>\n",
              "      <td>1</td>\n",
              "    </tr>\n",
              "    <tr>\n",
              "      <th>53</th>\n",
              "      <td>650000.0</td>\n",
              "      <td>2.3</td>\n",
              "      <td>4.0</td>\n",
              "      <td>1.3</td>\n",
              "      <td>1</td>\n",
              "    </tr>\n",
              "    <tr>\n",
              "      <th>54</th>\n",
              "      <td>750000.0</td>\n",
              "      <td>2.8</td>\n",
              "      <td>4.6</td>\n",
              "      <td>1.5</td>\n",
              "      <td>1</td>\n",
              "    </tr>\n",
              "    <tr>\n",
              "      <th>...</th>\n",
              "      <td>...</td>\n",
              "      <td>...</td>\n",
              "      <td>...</td>\n",
              "      <td>...</td>\n",
              "      <td>...</td>\n",
              "    </tr>\n",
              "    <tr>\n",
              "      <th>145</th>\n",
              "      <td>770000.0</td>\n",
              "      <td>3.0</td>\n",
              "      <td>5.2</td>\n",
              "      <td>2.3</td>\n",
              "      <td>2</td>\n",
              "    </tr>\n",
              "    <tr>\n",
              "      <th>146</th>\n",
              "      <td>730000.0</td>\n",
              "      <td>2.5</td>\n",
              "      <td>5.0</td>\n",
              "      <td>1.9</td>\n",
              "      <td>2</td>\n",
              "    </tr>\n",
              "    <tr>\n",
              "      <th>147</th>\n",
              "      <td>750000.0</td>\n",
              "      <td>3.0</td>\n",
              "      <td>5.2</td>\n",
              "      <td>2.0</td>\n",
              "      <td>2</td>\n",
              "    </tr>\n",
              "    <tr>\n",
              "      <th>148</th>\n",
              "      <td>720000.0</td>\n",
              "      <td>3.4</td>\n",
              "      <td>5.4</td>\n",
              "      <td>2.3</td>\n",
              "      <td>2</td>\n",
              "    </tr>\n",
              "    <tr>\n",
              "      <th>149</th>\n",
              "      <td>690000.0</td>\n",
              "      <td>3.0</td>\n",
              "      <td>5.1</td>\n",
              "      <td>1.8</td>\n",
              "      <td>2</td>\n",
              "    </tr>\n",
              "  </tbody>\n",
              "</table>\n",
              "<p>100 rows × 5 columns</p>\n",
              "</div>"
            ],
            "text/plain": [
              "     sepal length (cm)  sepal width (cm)  petal length (cm)  petal width (cm)  \\\n",
              "50            800000.0               3.2                4.7               1.4   \n",
              "51            740000.0               3.2                4.5               1.5   \n",
              "52            790000.0               3.1                4.9               1.5   \n",
              "53            650000.0               2.3                4.0               1.3   \n",
              "54            750000.0               2.8                4.6               1.5   \n",
              "..                 ...               ...                ...               ...   \n",
              "145           770000.0               3.0                5.2               2.3   \n",
              "146           730000.0               2.5                5.0               1.9   \n",
              "147           750000.0               3.0                5.2               2.0   \n",
              "148           720000.0               3.4                5.4               2.3   \n",
              "149           690000.0               3.0                5.1               1.8   \n",
              "\n",
              "     species  \n",
              "50         1  \n",
              "51         1  \n",
              "52         1  \n",
              "53         1  \n",
              "54         1  \n",
              "..       ...  \n",
              "145        2  \n",
              "146        2  \n",
              "147        2  \n",
              "148        2  \n",
              "149        2  \n",
              "\n",
              "[100 rows x 5 columns]"
            ]
          },
          "metadata": {
            "tags": []
          }
        }
      ]
    },
    {
      "cell_type": "code",
      "metadata": {
        "colab": {
          "base_uri": "https://localhost:8080/",
          "height": 1000
        },
        "id": "hGn3P_FJnxE7",
        "outputId": "b6b84b24-09fa-498e-c69c-953c0d15904c"
      },
      "source": [
        "#相関係数\n",
        "display(df_iris.corr())\n",
        "\n",
        "#散布図行列を作成\n",
        "import seaborn as sns\n",
        "sns.pairplot(df_iris, diag_kind=\"hist\");"
      ],
      "execution_count": 7,
      "outputs": [
        {
          "output_type": "display_data",
          "data": {
            "text/html": [
              "<div>\n",
              "<style scoped>\n",
              "    .dataframe tbody tr th:only-of-type {\n",
              "        vertical-align: middle;\n",
              "    }\n",
              "\n",
              "    .dataframe tbody tr th {\n",
              "        vertical-align: top;\n",
              "    }\n",
              "\n",
              "    .dataframe thead th {\n",
              "        text-align: right;\n",
              "    }\n",
              "</style>\n",
              "<table border=\"1\" class=\"dataframe\">\n",
              "  <thead>\n",
              "    <tr style=\"text-align: right;\">\n",
              "      <th></th>\n",
              "      <th>sepal length (cm)</th>\n",
              "      <th>sepal width (cm)</th>\n",
              "      <th>petal length (cm)</th>\n",
              "      <th>petal width (cm)</th>\n",
              "      <th>species</th>\n",
              "    </tr>\n",
              "  </thead>\n",
              "  <tbody>\n",
              "    <tr>\n",
              "      <th>sepal length (cm)</th>\n",
              "      <td>1.000000</td>\n",
              "      <td>0.553855</td>\n",
              "      <td>0.828479</td>\n",
              "      <td>0.593709</td>\n",
              "      <td>0.494305</td>\n",
              "    </tr>\n",
              "    <tr>\n",
              "      <th>sepal width (cm)</th>\n",
              "      <td>0.553855</td>\n",
              "      <td>1.000000</td>\n",
              "      <td>0.519802</td>\n",
              "      <td>0.566203</td>\n",
              "      <td>0.308080</td>\n",
              "    </tr>\n",
              "    <tr>\n",
              "      <th>petal length (cm)</th>\n",
              "      <td>0.828479</td>\n",
              "      <td>0.519802</td>\n",
              "      <td>1.000000</td>\n",
              "      <td>0.823348</td>\n",
              "      <td>0.786424</td>\n",
              "    </tr>\n",
              "    <tr>\n",
              "      <th>petal width (cm)</th>\n",
              "      <td>0.593709</td>\n",
              "      <td>0.566203</td>\n",
              "      <td>0.823348</td>\n",
              "      <td>1.000000</td>\n",
              "      <td>0.828129</td>\n",
              "    </tr>\n",
              "    <tr>\n",
              "      <th>species</th>\n",
              "      <td>0.494305</td>\n",
              "      <td>0.308080</td>\n",
              "      <td>0.786424</td>\n",
              "      <td>0.828129</td>\n",
              "      <td>1.000000</td>\n",
              "    </tr>\n",
              "  </tbody>\n",
              "</table>\n",
              "</div>"
            ],
            "text/plain": [
              "                   sepal length (cm)  sepal width (cm)  petal length (cm)  \\\n",
              "sepal length (cm)           1.000000          0.553855           0.828479   \n",
              "sepal width (cm)            0.553855          1.000000           0.519802   \n",
              "petal length (cm)           0.828479          0.519802           1.000000   \n",
              "petal width (cm)            0.593709          0.566203           0.823348   \n",
              "species                     0.494305          0.308080           0.786424   \n",
              "\n",
              "                   petal width (cm)   species  \n",
              "sepal length (cm)          0.593709  0.494305  \n",
              "sepal width (cm)           0.566203  0.308080  \n",
              "petal length (cm)          0.823348  0.786424  \n",
              "petal width (cm)           1.000000  0.828129  \n",
              "species                    0.828129  1.000000  "
            ]
          },
          "metadata": {
            "tags": []
          }
        },
        {
          "output_type": "display_data",
          "data": {
            "image/png": "[encoded data removed]",
            "text/plain": [
              "<Figure size 900x900 with 30 Axes>"
            ]
          },
          "metadata": {
            "tags": []
          }
        }
      ]
    },
    {
      "cell_type": "code",
      "metadata": {
        "colab": {
          "base_uri": "https://localhost:8080/",
          "height": 436
        },
        "id": "MGrbU7bmKBBe",
        "outputId": "a8856a37-7f23-440e-90f4-8e09cfcc9299"
      },
      "source": [
        "## [データセット２] シンプルデータセット1 ##\n",
        "np.random.seed(seed=0)\n",
        "n_samples = 500\n",
        "f0 = [-1, 2]\n",
        "f1 = [2, -1]\n",
        "cov = [[1.0,0.8], [0.8, 1.0]]\n",
        "f0 = np.random.multivariate_normal(f0, cov, n_samples // 2)\n",
        "f1 = np.random.multivariate_normal(f1, cov, n_samples // 2)\n",
        "X = np.concatenate([f0, f1])\n",
        "y = np.concatenate([\n",
        "    np.full(n_samples // 2, 1),\n",
        "    np.full(n_samples // 2, -1)\n",
        "])\n",
        "\n",
        "df_X = pd.DataFrame(data=X, columns=[\"X0\", \"X1\"])\n",
        "df_y = pd.DataFrame(data=y, columns=[\"y\"])\n",
        "df_simple1 = pd.concat([df_X, df_y], axis=1)\n",
        "\n",
        "print(\"df_simple1:\")\n",
        "display(df_simple1)\n",
        "\n",
        "#データセットを学習用と検証用に分割\n",
        "X_train2, X_test2, y_train2, y_test2 = scratch_train_test_split(X, y, arg_train_size = 0.75, arg_random_state=0)"
      ],
      "execution_count": 8,
      "outputs": [
        {
          "output_type": "stream",
          "text": [
            "df_simple1:\n"
          ],
          "name": "stdout"
        },
        {
          "output_type": "display_data",
          "data": {
            "text/html": [
              "<div>\n",
              "<style scoped>\n",
              "    .dataframe tbody tr th:only-of-type {\n",
              "        vertical-align: middle;\n",
              "    }\n",
              "\n",
              "    .dataframe tbody tr th {\n",
              "        vertical-align: top;\n",
              "    }\n",
              "\n",
              "    .dataframe thead th {\n",
              "        text-align: right;\n",
              "    }\n",
              "</style>\n",
              "<table border=\"1\" class=\"dataframe\">\n",
              "  <thead>\n",
              "    <tr style=\"text-align: right;\">\n",
              "      <th></th>\n",
              "      <th>X0</th>\n",
              "      <th>X1</th>\n",
              "      <th>y</th>\n",
              "    </tr>\n",
              "  </thead>\n",
              "  <tbody>\n",
              "    <tr>\n",
              "      <th>0</th>\n",
              "      <td>-2.800068</td>\n",
              "      <td>0.453014</td>\n",
              "      <td>1</td>\n",
              "    </tr>\n",
              "    <tr>\n",
              "      <th>1</th>\n",
              "      <td>-2.637145</td>\n",
              "      <td>1.780120</td>\n",
              "      <td>1</td>\n",
              "    </tr>\n",
              "    <tr>\n",
              "      <th>2</th>\n",
              "      <td>-2.462679</td>\n",
              "      <td>-0.080763</td>\n",
              "      <td>1</td>\n",
              "    </tr>\n",
              "    <tr>\n",
              "      <th>3</th>\n",
              "      <td>-1.853470</td>\n",
              "      <td>1.050804</td>\n",
              "      <td>1</td>\n",
              "    </tr>\n",
              "    <tr>\n",
              "      <th>4</th>\n",
              "      <td>-1.031921</td>\n",
              "      <td>2.227765</td>\n",
              "      <td>1</td>\n",
              "    </tr>\n",
              "    <tr>\n",
              "      <th>...</th>\n",
              "      <td>...</td>\n",
              "      <td>...</td>\n",
              "      <td>...</td>\n",
              "    </tr>\n",
              "    <tr>\n",
              "      <th>495</th>\n",
              "      <td>1.525060</td>\n",
              "      <td>-1.361861</td>\n",
              "      <td>-1</td>\n",
              "    </tr>\n",
              "    <tr>\n",
              "      <th>496</th>\n",
              "      <td>2.682255</td>\n",
              "      <td>-0.165458</td>\n",
              "      <td>-1</td>\n",
              "    </tr>\n",
              "    <tr>\n",
              "      <th>497</th>\n",
              "      <td>1.595155</td>\n",
              "      <td>-1.143723</td>\n",
              "      <td>-1</td>\n",
              "    </tr>\n",
              "    <tr>\n",
              "      <th>498</th>\n",
              "      <td>2.158431</td>\n",
              "      <td>-0.781996</td>\n",
              "      <td>-1</td>\n",
              "    </tr>\n",
              "    <tr>\n",
              "      <th>499</th>\n",
              "      <td>3.201965</td>\n",
              "      <td>-0.024526</td>\n",
              "      <td>-1</td>\n",
              "    </tr>\n",
              "  </tbody>\n",
              "</table>\n",
              "<p>500 rows × 3 columns</p>\n",
              "</div>"
            ],
            "text/plain": [
              "           X0        X1  y\n",
              "0   -2.800068  0.453014  1\n",
              "1   -2.637145  1.780120  1\n",
              "2   -2.462679 -0.080763  1\n",
              "3   -1.853470  1.050804  1\n",
              "4   -1.031921  2.227765  1\n",
              "..        ...       ... ..\n",
              "495  1.525060 -1.361861 -1\n",
              "496  2.682255 -0.165458 -1\n",
              "497  1.595155 -1.143723 -1\n",
              "498  2.158431 -0.781996 -1\n",
              "499  3.201965 -0.024526 -1\n",
              "\n",
              "[500 rows x 3 columns]"
            ]
          },
          "metadata": {
            "tags": []
          }
        }
      ]
    },
    {
      "cell_type": "code",
      "metadata": {
        "colab": {
          "base_uri": "https://localhost:8080/",
          "height": 675
        },
        "id": "EZYB6igJmwO7",
        "outputId": "345af62f-813c-43e5-ef7c-d143fe13196a"
      },
      "source": [
        "#相関係数\n",
        "display(df_simple1.corr())\n",
        "\n",
        "#散布図行列を作成\n",
        "import seaborn as sns\n",
        "sns.pairplot(df_simple1, diag_kind=\"hist\");"
      ],
      "execution_count": 9,
      "outputs": [
        {
          "output_type": "display_data",
          "data": {
            "text/html": [
              "<div>\n",
              "<style scoped>\n",
              "    .dataframe tbody tr th:only-of-type {\n",
              "        vertical-align: middle;\n",
              "    }\n",
              "\n",
              "    .dataframe tbody tr th {\n",
              "        vertical-align: top;\n",
              "    }\n",
              "\n",
              "    .dataframe thead th {\n",
              "        text-align: right;\n",
              "    }\n",
              "</style>\n",
              "<table border=\"1\" class=\"dataframe\">\n",
              "  <thead>\n",
              "    <tr style=\"text-align: right;\">\n",
              "      <th></th>\n",
              "      <th>X0</th>\n",
              "      <th>X1</th>\n",
              "      <th>y</th>\n",
              "    </tr>\n",
              "  </thead>\n",
              "  <tbody>\n",
              "    <tr>\n",
              "      <th>X0</th>\n",
              "      <td>1.000000</td>\n",
              "      <td>-0.471745</td>\n",
              "      <td>-0.842276</td>\n",
              "    </tr>\n",
              "    <tr>\n",
              "      <th>X1</th>\n",
              "      <td>-0.471745</td>\n",
              "      <td>1.000000</td>\n",
              "      <td>0.836915</td>\n",
              "    </tr>\n",
              "    <tr>\n",
              "      <th>y</th>\n",
              "      <td>-0.842276</td>\n",
              "      <td>0.836915</td>\n",
              "      <td>1.000000</td>\n",
              "    </tr>\n",
              "  </tbody>\n",
              "</table>\n",
              "</div>"
            ],
            "text/plain": [
              "          X0        X1         y\n",
              "X0  1.000000 -0.471745 -0.842276\n",
              "X1 -0.471745  1.000000  0.836915\n",
              "y  -0.842276  0.836915  1.000000"
            ]
          },
          "metadata": {
            "tags": []
          }
        },
        {
          "output_type": "display_data",
          "data": {
            "image/png": "[encoded data removed]",
            "text/plain": [
              "<Figure size 540x540 with 12 Axes>"
            ]
          },
          "metadata": {
            "tags": []
          }
        }
      ]
    },
    {
      "cell_type": "code",
      "metadata": {
        "colab": {
          "base_uri": "https://localhost:8080/",
          "height": 436
        },
        "id": "v1s8GXQkLqEz",
        "outputId": "07cc6846-8f54-4723-d490-b47a665d3a3a"
      },
      "source": [
        "## [データセット３] シンプルデータセット2 ##\n",
        "X = np.array([\n",
        "    [-0.44699 , -2.8073  ],[-1.4621  , -2.4586  ],\n",
        "    [ 0.10645 ,  1.9242  ],[-3.5944  , -4.0112  ],\n",
        "    [-0.9888  ,  4.5718  ],[-3.1625  , -3.9606  ],\n",
        "    [ 0.56421 ,  0.72888 ],[-0.60216 ,  8.4636  ],\n",
        "    [-0.61251 , -0.75345 ],[-0.73535 , -2.2718  ],\n",
        "    [-0.80647 , -2.2135  ],[ 0.86291 ,  2.3946  ],\n",
        "    [-3.1108  ,  0.15394 ],[-2.9362  ,  2.5462  ],\n",
        "    [-0.57242 , -2.9915  ],[ 1.4771  ,  3.4896  ],\n",
        "    [ 0.58619 ,  0.37158 ],[ 0.6017  ,  4.3439  ],\n",
        "    [-2.1086  ,  8.3428  ],[-4.1013  , -4.353   ],\n",
        "    [-1.9948  , -1.3927  ],[ 0.35084 , -0.031994],\n",
        "    [ 0.96765 ,  7.8929  ],[-1.281   , 15.6824  ],\n",
        "    [ 0.96765 , 10.083   ],[ 1.3763  ,  1.3347  ],\n",
        "    [-2.234   , -2.5323  ],[-2.9452  , -1.8219  ],\n",
        "    [ 0.14654 , -0.28733 ],[ 0.5461  ,  5.8245  ],\n",
        "    [-0.65259 ,  9.3444  ],[ 0.59912 ,  5.3524  ],\n",
        "    [ 0.50214 , -0.31818 ],[-3.0603  , -3.6461  ],\n",
        "    [-6.6797  ,  0.67661 ],[-2.353   , -0.72261 ],\n",
        "    [ 1.1319  ,  2.4023  ],[-0.12243 ,  9.0162  ],\n",
        "    [-2.5677  , 13.1779  ],[ 0.057313,  5.4681  ],\n",
        "])\n",
        "y = np.array([0, 0, 0, 0, 0, 0, 0, 0, 0, 0, 0, 0, 0, 0, 0, 0, 0, 0, 0, 0, 1, 1,\n",
        "       1, 1, 1, 1, 1, 1, 1, 1, 1, 1, 1, 1, 1, 1, 1, 1, 1, 1])\n",
        "\n",
        "df_X = pd.DataFrame(data=X, columns=[\"X0\", \"X1\"])\n",
        "df_y = pd.DataFrame(data=y, columns=[\"y\"])\n",
        "df_simple2 = pd.concat([df_X, df_y], axis=1)\n",
        "\n",
        "print(\"df_simple2:\")\n",
        "display(df_simple2)\n",
        "\n",
        "#データセットを学習用と検証用に分割\n",
        "X_train3, X_test3, y_train3, y_test3 = scratch_train_test_split(X, y, arg_train_size = 0.75, arg_random_state=0)"
      ],
      "execution_count": 10,
      "outputs": [
        {
          "output_type": "stream",
          "text": [
            "df_simple2:\n"
          ],
          "name": "stdout"
        },
        {
          "output_type": "display_data",
          "data": {
            "text/html": [
              "<div>\n",
              "<style scoped>\n",
              "    .dataframe tbody tr th:only-of-type {\n",
              "        vertical-align: middle;\n",
              "    }\n",
              "\n",
              "    .dataframe tbody tr th {\n",
              "        vertical-align: top;\n",
              "    }\n",
              "\n",
              "    .dataframe thead th {\n",
              "        text-align: right;\n",
              "    }\n",
              "</style>\n",
              "<table border=\"1\" class=\"dataframe\">\n",
              "  <thead>\n",
              "    <tr style=\"text-align: right;\">\n",
              "      <th></th>\n",
              "      <th>X0</th>\n",
              "      <th>X1</th>\n",
              "      <th>y</th>\n",
              "    </tr>\n",
              "  </thead>\n",
              "  <tbody>\n",
              "    <tr>\n",
              "      <th>0</th>\n",
              "      <td>-0.446990</td>\n",
              "      <td>-2.80730</td>\n",
              "      <td>0</td>\n",
              "    </tr>\n",
              "    <tr>\n",
              "      <th>1</th>\n",
              "      <td>-1.462100</td>\n",
              "      <td>-2.45860</td>\n",
              "      <td>0</td>\n",
              "    </tr>\n",
              "    <tr>\n",
              "      <th>2</th>\n",
              "      <td>0.106450</td>\n",
              "      <td>1.92420</td>\n",
              "      <td>0</td>\n",
              "    </tr>\n",
              "    <tr>\n",
              "      <th>3</th>\n",
              "      <td>-3.594400</td>\n",
              "      <td>-4.01120</td>\n",
              "      <td>0</td>\n",
              "    </tr>\n",
              "    <tr>\n",
              "      <th>4</th>\n",
              "      <td>-0.988800</td>\n",
              "      <td>4.57180</td>\n",
              "      <td>0</td>\n",
              "    </tr>\n",
              "    <tr>\n",
              "      <th>...</th>\n",
              "      <td>...</td>\n",
              "      <td>...</td>\n",
              "      <td>...</td>\n",
              "    </tr>\n",
              "    <tr>\n",
              "      <th>35</th>\n",
              "      <td>-2.353000</td>\n",
              "      <td>-0.72261</td>\n",
              "      <td>1</td>\n",
              "    </tr>\n",
              "    <tr>\n",
              "      <th>36</th>\n",
              "      <td>1.131900</td>\n",
              "      <td>2.40230</td>\n",
              "      <td>1</td>\n",
              "    </tr>\n",
              "    <tr>\n",
              "      <th>37</th>\n",
              "      <td>-0.122430</td>\n",
              "      <td>9.01620</td>\n",
              "      <td>1</td>\n",
              "    </tr>\n",
              "    <tr>\n",
              "      <th>38</th>\n",
              "      <td>-2.567700</td>\n",
              "      <td>13.17790</td>\n",
              "      <td>1</td>\n",
              "    </tr>\n",
              "    <tr>\n",
              "      <th>39</th>\n",
              "      <td>0.057313</td>\n",
              "      <td>5.46810</td>\n",
              "      <td>1</td>\n",
              "    </tr>\n",
              "  </tbody>\n",
              "</table>\n",
              "<p>40 rows × 3 columns</p>\n",
              "</div>"
            ],
            "text/plain": [
              "          X0        X1  y\n",
              "0  -0.446990  -2.80730  0\n",
              "1  -1.462100  -2.45860  0\n",
              "2   0.106450   1.92420  0\n",
              "3  -3.594400  -4.01120  0\n",
              "4  -0.988800   4.57180  0\n",
              "..       ...       ... ..\n",
              "35 -2.353000  -0.72261  1\n",
              "36  1.131900   2.40230  1\n",
              "37 -0.122430   9.01620  1\n",
              "38 -2.567700  13.17790  1\n",
              "39  0.057313   5.46810  1\n",
              "\n",
              "[40 rows x 3 columns]"
            ]
          },
          "metadata": {
            "tags": []
          }
        }
      ]
    },
    {
      "cell_type": "code",
      "metadata": {
        "colab": {
          "base_uri": "https://localhost:8080/",
          "height": 675
        },
        "id": "zBJvWXt7mnvP",
        "outputId": "5265b27c-52b7-43e5-ae3f-e585985d432f"
      },
      "source": [
        "#相関係数\n",
        "display(df_simple2.corr())\n",
        "\n",
        "#散布図行列を作成\n",
        "import seaborn as sns\n",
        "sns.pairplot(df_simple2, diag_kind=\"hist\");"
      ],
      "execution_count": 11,
      "outputs": [
        {
          "output_type": "display_data",
          "data": {
            "text/html": [
              "<div>\n",
              "<style scoped>\n",
              "    .dataframe tbody tr th:only-of-type {\n",
              "        vertical-align: middle;\n",
              "    }\n",
              "\n",
              "    .dataframe tbody tr th {\n",
              "        vertical-align: top;\n",
              "    }\n",
              "\n",
              "    .dataframe thead th {\n",
              "        text-align: right;\n",
              "    }\n",
              "</style>\n",
              "<table border=\"1\" class=\"dataframe\">\n",
              "  <thead>\n",
              "    <tr style=\"text-align: right;\">\n",
              "      <th></th>\n",
              "      <th>X0</th>\n",
              "      <th>X1</th>\n",
              "      <th>y</th>\n",
              "    </tr>\n",
              "  </thead>\n",
              "  <tbody>\n",
              "    <tr>\n",
              "      <th>X0</th>\n",
              "      <td>1.000000</td>\n",
              "      <td>0.292602</td>\n",
              "      <td>0.053205</td>\n",
              "    </tr>\n",
              "    <tr>\n",
              "      <th>X1</th>\n",
              "      <td>0.292602</td>\n",
              "      <td>1.000000</td>\n",
              "      <td>0.322704</td>\n",
              "    </tr>\n",
              "    <tr>\n",
              "      <th>y</th>\n",
              "      <td>0.053205</td>\n",
              "      <td>0.322704</td>\n",
              "      <td>1.000000</td>\n",
              "    </tr>\n",
              "  </tbody>\n",
              "</table>\n",
              "</div>"
            ],
            "text/plain": [
              "          X0        X1         y\n",
              "X0  1.000000  0.292602  0.053205\n",
              "X1  0.292602  1.000000  0.322704\n",
              "y   0.053205  0.322704  1.000000"
            ]
          },
          "metadata": {
            "tags": []
          }
        },
        {
          "output_type": "display_data",
          "data": {
            "image/png": "[encoded data removed]",
            "text/plain": [
              "<Figure size 540x540 with 12 Axes>"
            ]
          },
          "metadata": {
            "tags": []
          }
        }
      ]
    },
    {
      "cell_type": "markdown",
      "metadata": {
        "id": "vP0Zzh9OHSb0"
      },
      "source": [
        "#### ●学習・推定・評価\n"
      ]
    },
    {
      "cell_type": "code",
      "metadata": {
        "colab": {
          "base_uri": "https://localhost:8080/"
        },
        "id": "PXuESCRr-Ut6",
        "outputId": "7928133c-982a-4e93-8959-ddb85671e74a"
      },
      "source": [
        "## 推定器の指標値を記録するスコアボードのクラス ##\n",
        "class ScoreBoard():\n",
        "    def __init__(self, name=None):\n",
        "        self.df_score = pd.DataFrame([])   #各指標値を記録するDataFrame\n",
        "        self.name = name\n",
        "        print(\"「{}」スコアボードが生成されました。\".format(self.name))\n",
        "    def calcurate_scores(self, arg_y_true, arg_y_predict, arg_y_predict_proba, arg_columns):\n",
        "        # Accuracy（正解率）\n",
        "        accuracy = accuracy_score(arg_y_true, arg_y_predict)\n",
        "\n",
        "        #Precision（適合率）\n",
        "        precision = precision_score(arg_y_true, arg_y_predict)\n",
        "\n",
        "        #Recall（再現率）\n",
        "        recall = recall_score(arg_y_true, arg_y_predict)\n",
        "\n",
        "        #F値\n",
        "        f1 = f1_score(arg_y_true, arg_y_predict)\n",
        "\n",
        "        #AUC\n",
        "        roc_auc = roc_auc_score(arg_y_true, arg_y_predict_proba)\n",
        "\n",
        "        #Confusion matrix（混同行列）\n",
        "        print(\"\\n\")\n",
        "        print(\"###Confusion matrix（混同行列）###\")\n",
        "        print(confusion_matrix(arg_y_true, arg_y_predict))\n",
        "\n",
        "        #指標値の比較用テーブルに登録\n",
        "        # if(self.df_score.empty):\n",
        "        #     self.df_score = pd.DataFrame([accuracy, precision, recall, f1, roc_auc], index=[\"Accuacy\", \"Precision\", \"Recall\", \"F1\", \"ROC_AUC\"], columns=arg_columns)\n",
        "        # else:\n",
        "        df_score_temp = pd.DataFrame([accuracy, precision, recall, f1, roc_auc], index=[\"Accuacy\", \"Precision\", \"Recall\", \"F1\", \"ROC_AUC\"], columns=arg_columns)\n",
        "        self.df_score = pd.concat([self.df_score, df_score_temp], axis=1)\n",
        "        print(\"\\n\")\n",
        "        print(\"「{}」スコアボード:\".format(self.name))\n",
        "        display(self.df_score)\n",
        "\n",
        "        # #ROC曲線、AUC\n",
        "        # #y_testの値を2→1, 1→0に変換\n",
        "        # y_test1_dummy = np.where(y_test1==1, 0, 1)\n",
        "        # fpr, tpr, thresholds = metrics.roc_curve(y_test1_dummy, y_predict_proba[:, -1]) # FPR（偽陽性率）、TPR（真陽性率）、閾値を算出\n",
        "        # auc = metrics.auc(fpr, tpr)  # AUCを算出\n",
        "        # plt.plot(fpr, tpr, label='ROC curve (area = %.2f)'%auc)\n",
        "        # plt.legend()\n",
        "        # plt.title('ROC curve')\n",
        "        # plt.xlabel('False Positive Rate')\n",
        "        # plt.ylabel('True Positive Rate')\n",
        "        # plt.grid(True)\n",
        "\n",
        "        # 決定領域を描画\n",
        "        # decision_region(X_train_transformed, y_train, model=clf, step=0.01, title='decision region', xlabel=df3.columns[0], ylabel=df3.columns[1], target_names=df3.iloc[:, -1].unique())\n",
        "        \n",
        "        return\n",
        "\n",
        "# スコアボードをインスタンス化\n",
        "score_board1 = ScoreBoard(\"データセット1用\") #データセット1用\n",
        "score_board2 = ScoreBoard(\"データセット2用\") #データセット2用\n",
        "score_board3 = ScoreBoard(\"データセット3用\") #データセット3用\n",
        "score_board4 = ScoreBoard(\"データセット4用\") #データセット4用"
      ],
      "execution_count": 12,
      "outputs": [
        {
          "output_type": "stream",
          "text": [
            "「データセット1用」スコアボードが生成されました。\n",
            "「データセット2用」スコアボードが生成されました。\n",
            "「データセット3用」スコアボードが生成されました。\n",
            "「データセット4用」スコアボードが生成されました。\n"
          ],
          "name": "stdout"
        }
      ]
    },
    {
      "cell_type": "markdown",
      "metadata": {
        "id": "3Es6Y4oHL7g7"
      },
      "source": [
        "##### ・ロジスティック回帰(SGDClassifier)"
      ]
    },
    {
      "cell_type": "code",
      "metadata": {
        "colab": {
          "base_uri": "https://localhost:8080/",
          "height": 816
        },
        "id": "tx-RiiQNc2Bo",
        "outputId": "8d377daa-88b7-42cc-e09d-6b9175473e88"
      },
      "source": [
        "# 標準化処理とロジスティック回帰をパイプラインに組み込み\n",
        "pipeline_logisticreg = Pipeline(steps=[\n",
        "    (\"scaler\", StandardScaler()),      #変換器\n",
        "    (\"classifier\", SGDClassifier(loss=\"log\", max_iter=1000, tol=1e-3, random_state=0)) #予測器（推定器）\n",
        "])\n",
        "# pipeline_logisticreg = SGDClassifier(loss=\"log\", max_iter=1000, tol=1e-3, random_state=0)\n",
        "\n",
        "# データセット1に対して学習・推定・評価\n",
        "X = X_train1\n",
        "Xt = X_test1\n",
        "y = y_train1\n",
        "pipeline_logisticreg.fit(X, y)\n",
        "y_predict = pipeline_logisticreg.predict(Xt)\n",
        "y_predict_proba = pipeline_logisticreg.predict_proba(Xt)\n",
        "\n",
        "print(\"y_predict:\")\n",
        "print(y_predict)\n",
        "print(\"y_predict_proba:\")\n",
        "print(y_predict_proba)\n",
        "\n",
        "# 推定器のスコアを計算し、スコアボードに記録\n",
        "score_board1.calcurate_scores(y_test1, y_predict, y_predict_proba[:, -1], [\"LOGI1\"])"
      ],
      "execution_count": 13,
      "outputs": [
        {
          "output_type": "stream",
          "text": [
            "y_predict:\n",
            "[2 2 2 2 2 1 1 2 1 1 2 2 1 2 2 2 1 1 1 1 2 2 2 1 1]\n",
            "y_predict_proba:\n",
            "[[1.53635564e-01 8.46364436e-01]\n",
            " [3.83045069e-02 9.61695493e-01]\n",
            " [0.00000000e+00 1.00000000e+00]\n",
            " [0.00000000e+00 1.00000000e+00]\n",
            " [2.59422134e-03 9.97405779e-01]\n",
            " [1.00000000e+00 2.97118963e-20]\n",
            " [1.00000000e+00 2.81637946e-17]\n",
            " [3.77475828e-15 1.00000000e+00]\n",
            " [1.00000000e+00 2.68151701e-19]\n",
            " [1.00000000e+00 6.71856005e-19]\n",
            " [0.00000000e+00 1.00000000e+00]\n",
            " [1.55431223e-15 1.00000000e+00]\n",
            " [1.00000000e+00 4.86280438e-29]\n",
            " [1.76702421e-02 9.82329758e-01]\n",
            " [0.00000000e+00 1.00000000e+00]\n",
            " [6.50835830e-10 9.99999999e-01]\n",
            " [1.00000000e+00 4.01760517e-14]\n",
            " [1.00000000e+00 1.27029536e-24]\n",
            " [9.98813235e-01 1.18676520e-03]\n",
            " [1.00000000e+00 1.20022852e-16]\n",
            " [8.47455828e-09 9.99999992e-01]\n",
            " [0.00000000e+00 1.00000000e+00]\n",
            " [0.00000000e+00 1.00000000e+00]\n",
            " [1.00000000e+00 3.10418424e-21]\n",
            " [1.00000000e+00 1.45127332e-17]]\n",
            "\n",
            "\n",
            "###Confusion matrix（混同行列）###\n",
            "[[10  1]\n",
            " [ 1 13]]\n",
            "\n",
            "\n",
            "「データセット1用」スコアボード:\n"
          ],
          "name": "stdout"
        },
        {
          "output_type": "display_data",
          "data": {
            "text/html": [
              "<div>\n",
              "<style scoped>\n",
              "    .dataframe tbody tr th:only-of-type {\n",
              "        vertical-align: middle;\n",
              "    }\n",
              "\n",
              "    .dataframe tbody tr th {\n",
              "        vertical-align: top;\n",
              "    }\n",
              "\n",
              "    .dataframe thead th {\n",
              "        text-align: right;\n",
              "    }\n",
              "</style>\n",
              "<table border=\"1\" class=\"dataframe\">\n",
              "  <thead>\n",
              "    <tr style=\"text-align: right;\">\n",
              "      <th></th>\n",
              "      <th>LOGI1</th>\n",
              "    </tr>\n",
              "  </thead>\n",
              "  <tbody>\n",
              "    <tr>\n",
              "      <th>Accuacy</th>\n",
              "      <td>0.920000</td>\n",
              "    </tr>\n",
              "    <tr>\n",
              "      <th>Precision</th>\n",
              "      <td>0.909091</td>\n",
              "    </tr>\n",
              "    <tr>\n",
              "      <th>Recall</th>\n",
              "      <td>0.909091</td>\n",
              "    </tr>\n",
              "    <tr>\n",
              "      <th>F1</th>\n",
              "      <td>0.909091</td>\n",
              "    </tr>\n",
              "    <tr>\n",
              "      <th>ROC_AUC</th>\n",
              "      <td>0.987013</td>\n",
              "    </tr>\n",
              "  </tbody>\n",
              "</table>\n",
              "</div>"
            ],
            "text/plain": [
              "              LOGI1\n",
              "Accuacy    0.920000\n",
              "Precision  0.909091\n",
              "Recall     0.909091\n",
              "F1         0.909091\n",
              "ROC_AUC    0.987013"
            ]
          },
          "metadata": {
            "tags": []
          }
        }
      ]
    },
    {
      "cell_type": "code",
      "metadata": {
        "colab": {
          "base_uri": "https://localhost:8080/",
          "height": 510
        },
        "id": "nj2F1y2rDssS",
        "outputId": "311eeaae-880d-4df7-ab1c-a5c72a79b5b9"
      },
      "source": [
        "# データセット2に対して学習・推定・評価\n",
        "X = X_train2\n",
        "Xt = X_test2\n",
        "y = y_train2\n",
        "pipeline_logisticreg.fit(X, y)\n",
        "y_predict = pipeline_logisticreg.predict(Xt)\n",
        "y_predict_proba = pipeline_logisticreg.predict_proba(Xt)\n",
        "\n",
        "print(\"y_predict:\")\n",
        "print(y_predict)\n",
        "print(\"y_predict_proba:\")\n",
        "print(y_predict_proba)\n",
        "\n",
        "# 推定器のスコアを計算し、スコアボードに記録\n",
        "score_board2.calcurate_scores(y_test2, y_predict, y_predict_proba[:, -1], [\"LOGI1\"])"
      ],
      "execution_count": 14,
      "outputs": [
        {
          "output_type": "stream",
          "text": [
            "y_predict:\n",
            "[-1 -1  1 ...  1  1  1]\n",
            "y_predict_proba:\n",
            "[[9.99979882e-01 2.01182693e-05]\n",
            " [9.99984108e-01 1.58921654e-05]\n",
            " [3.91064884e-05 9.99960894e-01]\n",
            " ...\n",
            " [5.34312558e-05 9.99946569e-01]\n",
            " [5.08163975e-05 9.99949184e-01]\n",
            " [3.32812676e-04 9.99667187e-01]]\n",
            "\n",
            "\n",
            "###Confusion matrix（混同行列）###\n",
            "[[67  0]\n",
            " [ 0 58]]\n",
            "\n",
            "\n",
            "「データセット2用」スコアボード:\n"
          ],
          "name": "stdout"
        },
        {
          "output_type": "display_data",
          "data": {
            "text/html": [
              "<div>\n",
              "<style scoped>\n",
              "    .dataframe tbody tr th:only-of-type {\n",
              "        vertical-align: middle;\n",
              "    }\n",
              "\n",
              "    .dataframe tbody tr th {\n",
              "        vertical-align: top;\n",
              "    }\n",
              "\n",
              "    .dataframe thead th {\n",
              "        text-align: right;\n",
              "    }\n",
              "</style>\n",
              "<table border=\"1\" class=\"dataframe\">\n",
              "  <thead>\n",
              "    <tr style=\"text-align: right;\">\n",
              "      <th></th>\n",
              "      <th>LOGI1</th>\n",
              "    </tr>\n",
              "  </thead>\n",
              "  <tbody>\n",
              "    <tr>\n",
              "      <th>Accuacy</th>\n",
              "      <td>1.0</td>\n",
              "    </tr>\n",
              "    <tr>\n",
              "      <th>Precision</th>\n",
              "      <td>1.0</td>\n",
              "    </tr>\n",
              "    <tr>\n",
              "      <th>Recall</th>\n",
              "      <td>1.0</td>\n",
              "    </tr>\n",
              "    <tr>\n",
              "      <th>F1</th>\n",
              "      <td>1.0</td>\n",
              "    </tr>\n",
              "    <tr>\n",
              "      <th>ROC_AUC</th>\n",
              "      <td>1.0</td>\n",
              "    </tr>\n",
              "  </tbody>\n",
              "</table>\n",
              "</div>"
            ],
            "text/plain": [
              "           LOGI1\n",
              "Accuacy      1.0\n",
              "Precision    1.0\n",
              "Recall       1.0\n",
              "F1           1.0\n",
              "ROC_AUC      1.0"
            ]
          },
          "metadata": {
            "tags": []
          }
        }
      ]
    },
    {
      "cell_type": "code",
      "metadata": {
        "colab": {
          "base_uri": "https://localhost:8080/",
          "height": 561
        },
        "id": "QjZeWKQ2DwlE",
        "outputId": "e65f651f-4157-4b34-c2da-31d32673c8cc"
      },
      "source": [
        "# データセット3に対して学習・推定・評価\n",
        "X = X_train3\n",
        "Xt = X_test3\n",
        "y = y_train3\n",
        "pipeline_logisticreg.fit(X, y)\n",
        "y_predict = pipeline_logisticreg.predict(Xt)\n",
        "y_predict_proba = pipeline_logisticreg.predict_proba(Xt)\n",
        "\n",
        "print(\"y_predict:\")\n",
        "print(y_predict)\n",
        "print(\"y_predict_proba:\")\n",
        "print(y_predict_proba)\n",
        "\n",
        "# 推定器のスコアを計算し、スコアボードに記録\n",
        "score_board3.calcurate_scores(y_test3, y_predict, y_predict_proba[:, -1], [\"LOGI1\"])"
      ],
      "execution_count": 15,
      "outputs": [
        {
          "output_type": "stream",
          "text": [
            "y_predict:\n",
            "[1 1 1 1 1 1 1 1 1 1]\n",
            "y_predict_proba:\n",
            "[[1.86815157e-02 9.81318484e-01]\n",
            " [7.99672069e-03 9.92003279e-01]\n",
            " [4.84193211e-02 9.51580679e-01]\n",
            " [8.92767303e-04 9.99107233e-01]\n",
            " [5.17656428e-02 9.48234357e-01]\n",
            " [1.91622081e-02 9.80837792e-01]\n",
            " [5.20287009e-02 9.47971299e-01]\n",
            " [8.70051522e-04 9.99129948e-01]\n",
            " [2.21820730e-02 9.77817927e-01]\n",
            " [6.53824637e-02 9.34617536e-01]]\n",
            "\n",
            "\n",
            "###Confusion matrix（混同行列）###\n",
            "[[0 5]\n",
            " [0 5]]\n",
            "\n",
            "\n",
            "「データセット3用」スコアボード:\n"
          ],
          "name": "stdout"
        },
        {
          "output_type": "display_data",
          "data": {
            "text/html": [
              "<div>\n",
              "<style scoped>\n",
              "    .dataframe tbody tr th:only-of-type {\n",
              "        vertical-align: middle;\n",
              "    }\n",
              "\n",
              "    .dataframe tbody tr th {\n",
              "        vertical-align: top;\n",
              "    }\n",
              "\n",
              "    .dataframe thead th {\n",
              "        text-align: right;\n",
              "    }\n",
              "</style>\n",
              "<table border=\"1\" class=\"dataframe\">\n",
              "  <thead>\n",
              "    <tr style=\"text-align: right;\">\n",
              "      <th></th>\n",
              "      <th>LOGI1</th>\n",
              "    </tr>\n",
              "  </thead>\n",
              "  <tbody>\n",
              "    <tr>\n",
              "      <th>Accuacy</th>\n",
              "      <td>0.500000</td>\n",
              "    </tr>\n",
              "    <tr>\n",
              "      <th>Precision</th>\n",
              "      <td>0.500000</td>\n",
              "    </tr>\n",
              "    <tr>\n",
              "      <th>Recall</th>\n",
              "      <td>1.000000</td>\n",
              "    </tr>\n",
              "    <tr>\n",
              "      <th>F1</th>\n",
              "      <td>0.666667</td>\n",
              "    </tr>\n",
              "    <tr>\n",
              "      <th>ROC_AUC</th>\n",
              "      <td>0.880000</td>\n",
              "    </tr>\n",
              "  </tbody>\n",
              "</table>\n",
              "</div>"
            ],
            "text/plain": [
              "              LOGI1\n",
              "Accuacy    0.500000\n",
              "Precision  0.500000\n",
              "Recall     1.000000\n",
              "F1         0.666667\n",
              "ROC_AUC    0.880000"
            ]
          },
          "metadata": {
            "tags": []
          }
        }
      ]
    },
    {
      "cell_type": "markdown",
      "metadata": {
        "id": "eBWNwvLtMDXU"
      },
      "source": [
        "##### ・SVM"
      ]
    },
    {
      "cell_type": "code",
      "metadata": {
        "colab": {
          "base_uri": "https://localhost:8080/",
          "height": 816
        },
        "id": "olD_I66TBHXh",
        "outputId": "d4701ea7-3132-4e5c-8c67-50dd5d92aa3a"
      },
      "source": [
        "# 標準化処理とSVMをパイプラインに組み込み\n",
        "pipeline_svc = Pipeline(steps=[\n",
        "    (\"scaler\", StandardScaler()),      #変換器\n",
        "    (\"classifier\", SVC(kernel=\"rbf\", C=1000, random_state=0, gamma=\"scale\", probability=True)) #予測器（推定器）\n",
        "])\n",
        "X = X_train1\n",
        "Xt = X_test1\n",
        "y = y_train1\n",
        "pipeline_svc.fit(X, y)\n",
        "y_predict = pipeline_svc.predict(Xt)\n",
        "y_predict_proba = pipeline_svc.predict_proba(Xt)\n",
        "\n",
        "print(\"y_predict:\")\n",
        "print(y_predict)\n",
        "print(\"y_predict_proba:\")\n",
        "print(y_predict_proba)\n",
        "\n",
        "# 推定器のスコアを計算し、スコアボードに記録\n",
        "score_board1.calcurate_scores(y_test1, y_predict, y_predict_proba[:, -1], [\"SVM1\"])"
      ],
      "execution_count": 16,
      "outputs": [
        {
          "output_type": "stream",
          "text": [
            "y_predict:\n",
            "[1 2 2 2 2 1 1 2 1 1 2 2 1 2 2 2 1 1 1 1 2 2 2 1 1]\n",
            "y_predict_proba:\n",
            "[[5.48316154e-01 4.51683846e-01]\n",
            " [2.25923158e-01 7.74076842e-01]\n",
            " [3.53568731e-02 9.64643127e-01]\n",
            " [2.09472973e-02 9.79052703e-01]\n",
            " [2.12217821e-01 7.87782179e-01]\n",
            " [9.81033654e-01 1.89663458e-02]\n",
            " [8.69690267e-01 1.30309733e-01]\n",
            " [1.12719694e-01 8.87280306e-01]\n",
            " [9.64699334e-01 3.53006664e-02]\n",
            " [9.46810577e-01 5.31894234e-02]\n",
            " [1.07378192e-02 9.89262181e-01]\n",
            " [9.72926006e-03 9.90270740e-01]\n",
            " [8.58690505e-01 1.41309495e-01]\n",
            " [1.75147744e-01 8.24852256e-01]\n",
            " [4.36285915e-02 9.56371408e-01]\n",
            " [2.44837583e-01 7.55162417e-01]\n",
            " [9.79945475e-01 2.00545249e-02]\n",
            " [9.61381904e-01 3.86180957e-02]\n",
            " [8.82320909e-01 1.17679091e-01]\n",
            " [7.44387491e-01 2.55612509e-01]\n",
            " [7.92232415e-02 9.20776759e-01]\n",
            " [1.07089282e-01 8.92910718e-01]\n",
            " [1.82748963e-06 9.99998173e-01]\n",
            " [9.84287218e-01 1.57127816e-02]\n",
            " [9.71891330e-01 2.81086700e-02]]\n",
            "\n",
            "\n",
            "###Confusion matrix（混同行列）###\n",
            "[[10  1]\n",
            " [ 2 12]]\n",
            "\n",
            "\n",
            "「データセット1用」スコアボード:\n"
          ],
          "name": "stdout"
        },
        {
          "output_type": "display_data",
          "data": {
            "text/html": [
              "<div>\n",
              "<style scoped>\n",
              "    .dataframe tbody tr th:only-of-type {\n",
              "        vertical-align: middle;\n",
              "    }\n",
              "\n",
              "    .dataframe tbody tr th {\n",
              "        vertical-align: top;\n",
              "    }\n",
              "\n",
              "    .dataframe thead th {\n",
              "        text-align: right;\n",
              "    }\n",
              "</style>\n",
              "<table border=\"1\" class=\"dataframe\">\n",
              "  <thead>\n",
              "    <tr style=\"text-align: right;\">\n",
              "      <th></th>\n",
              "      <th>LOGI1</th>\n",
              "      <th>SVM1</th>\n",
              "    </tr>\n",
              "  </thead>\n",
              "  <tbody>\n",
              "    <tr>\n",
              "      <th>Accuacy</th>\n",
              "      <td>0.920000</td>\n",
              "      <td>0.880000</td>\n",
              "    </tr>\n",
              "    <tr>\n",
              "      <th>Precision</th>\n",
              "      <td>0.909091</td>\n",
              "      <td>0.833333</td>\n",
              "    </tr>\n",
              "    <tr>\n",
              "      <th>Recall</th>\n",
              "      <td>0.909091</td>\n",
              "      <td>0.909091</td>\n",
              "    </tr>\n",
              "    <tr>\n",
              "      <th>F1</th>\n",
              "      <td>0.909091</td>\n",
              "      <td>0.869565</td>\n",
              "    </tr>\n",
              "    <tr>\n",
              "      <th>ROC_AUC</th>\n",
              "      <td>0.987013</td>\n",
              "      <td>0.961039</td>\n",
              "    </tr>\n",
              "  </tbody>\n",
              "</table>\n",
              "</div>"
            ],
            "text/plain": [
              "              LOGI1      SVM1\n",
              "Accuacy    0.920000  0.880000\n",
              "Precision  0.909091  0.833333\n",
              "Recall     0.909091  0.909091\n",
              "F1         0.909091  0.869565\n",
              "ROC_AUC    0.987013  0.961039"
            ]
          },
          "metadata": {
            "tags": []
          }
        }
      ]
    },
    {
      "cell_type": "code",
      "metadata": {
        "colab": {
          "base_uri": "https://localhost:8080/",
          "height": 510
        },
        "id": "3DTD1nMLEPj9",
        "outputId": "9464e006-026b-44e5-9d59-4139f4d10c79"
      },
      "source": [
        "# データセット2に対して学習・推定・評価\n",
        "X = X_train2\n",
        "Xt = X_test2\n",
        "y = y_train2\n",
        "pipeline_svc.fit(X, y)\n",
        "y_predict = pipeline_svc.predict(Xt)\n",
        "y_predict_proba = pipeline_svc.predict_proba(Xt)\n",
        "\n",
        "print(\"y_predict:\")\n",
        "print(y_predict)\n",
        "print(\"y_predict_proba:\")\n",
        "print(y_predict_proba)\n",
        "\n",
        "# 推定器のスコアを計算し、スコアボードに記録\n",
        "score_board2.calcurate_scores(y_test2, y_predict, y_predict_proba[:, -1], [\"SVM1\"])"
      ],
      "execution_count": 17,
      "outputs": [
        {
          "output_type": "stream",
          "text": [
            "y_predict:\n",
            "[-1 -1  1 ...  1  1  1]\n",
            "y_predict_proba:\n",
            "[[0.99656736 0.00343264]\n",
            " [0.99486228 0.00513772]\n",
            " [0.0031818  0.9968182 ]\n",
            " ...\n",
            " [0.00643185 0.99356815]\n",
            " [0.00288885 0.99711115]\n",
            " [0.00328318 0.99671682]]\n",
            "\n",
            "\n",
            "###Confusion matrix（混同行列）###\n",
            "[[67  0]\n",
            " [ 0 58]]\n",
            "\n",
            "\n",
            "「データセット2用」スコアボード:\n"
          ],
          "name": "stdout"
        },
        {
          "output_type": "display_data",
          "data": {
            "text/html": [
              "<div>\n",
              "<style scoped>\n",
              "    .dataframe tbody tr th:only-of-type {\n",
              "        vertical-align: middle;\n",
              "    }\n",
              "\n",
              "    .dataframe tbody tr th {\n",
              "        vertical-align: top;\n",
              "    }\n",
              "\n",
              "    .dataframe thead th {\n",
              "        text-align: right;\n",
              "    }\n",
              "</style>\n",
              "<table border=\"1\" class=\"dataframe\">\n",
              "  <thead>\n",
              "    <tr style=\"text-align: right;\">\n",
              "      <th></th>\n",
              "      <th>LOGI1</th>\n",
              "      <th>SVM1</th>\n",
              "    </tr>\n",
              "  </thead>\n",
              "  <tbody>\n",
              "    <tr>\n",
              "      <th>Accuacy</th>\n",
              "      <td>1.0</td>\n",
              "      <td>1.0</td>\n",
              "    </tr>\n",
              "    <tr>\n",
              "      <th>Precision</th>\n",
              "      <td>1.0</td>\n",
              "      <td>1.0</td>\n",
              "    </tr>\n",
              "    <tr>\n",
              "      <th>Recall</th>\n",
              "      <td>1.0</td>\n",
              "      <td>1.0</td>\n",
              "    </tr>\n",
              "    <tr>\n",
              "      <th>F1</th>\n",
              "      <td>1.0</td>\n",
              "      <td>1.0</td>\n",
              "    </tr>\n",
              "    <tr>\n",
              "      <th>ROC_AUC</th>\n",
              "      <td>1.0</td>\n",
              "      <td>1.0</td>\n",
              "    </tr>\n",
              "  </tbody>\n",
              "</table>\n",
              "</div>"
            ],
            "text/plain": [
              "           LOGI1  SVM1\n",
              "Accuacy      1.0   1.0\n",
              "Precision    1.0   1.0\n",
              "Recall       1.0   1.0\n",
              "F1           1.0   1.0\n",
              "ROC_AUC      1.0   1.0"
            ]
          },
          "metadata": {
            "tags": []
          }
        }
      ]
    },
    {
      "cell_type": "code",
      "metadata": {
        "colab": {
          "base_uri": "https://localhost:8080/",
          "height": 561
        },
        "id": "ZSMpo4MwEPns",
        "outputId": "08965854-108a-4836-8d6b-5b8828c988c5"
      },
      "source": [
        "# データセット3に対して学習・推定・評価\n",
        "X = X_train3\n",
        "Xt = X_test3\n",
        "y = y_train3\n",
        "pipeline_svc.fit(X, y)\n",
        "y_predict = pipeline_svc.predict(Xt)\n",
        "y_predict_proba = pipeline_svc.predict_proba(Xt)\n",
        "\n",
        "print(\"y_predict:\")\n",
        "print(y_predict)\n",
        "print(\"y_predict_proba:\")\n",
        "print(y_predict_proba)\n",
        "\n",
        "# 推定器のスコアを計算し、スコアボードに記録\n",
        "score_board3.calcurate_scores(y_test3, y_predict, y_predict_proba[:, -1], [\"SVM1\"])"
      ],
      "execution_count": 18,
      "outputs": [
        {
          "output_type": "stream",
          "text": [
            "y_predict:\n",
            "[1 1 1 1 1 0 0 1 0 0]\n",
            "y_predict_proba:\n",
            "[[0.5        0.5       ]\n",
            " [0.32316033 0.67683967]\n",
            " [0.5        0.5       ]\n",
            " [0.27100372 0.72899628]\n",
            " [0.48416309 0.51583691]\n",
            " [0.65820772 0.34179228]\n",
            " [0.52518155 0.47481845]\n",
            " [0.40888757 0.59111243]\n",
            " [0.56399819 0.43600181]\n",
            " [0.51519056 0.48480944]]\n",
            "\n",
            "\n",
            "###Confusion matrix（混同行列）###\n",
            "[[4 1]\n",
            " [0 5]]\n",
            "\n",
            "\n",
            "「データセット3用」スコアボード:\n"
          ],
          "name": "stdout"
        },
        {
          "output_type": "display_data",
          "data": {
            "text/html": [
              "<div>\n",
              "<style scoped>\n",
              "    .dataframe tbody tr th:only-of-type {\n",
              "        vertical-align: middle;\n",
              "    }\n",
              "\n",
              "    .dataframe tbody tr th {\n",
              "        vertical-align: top;\n",
              "    }\n",
              "\n",
              "    .dataframe thead th {\n",
              "        text-align: right;\n",
              "    }\n",
              "</style>\n",
              "<table border=\"1\" class=\"dataframe\">\n",
              "  <thead>\n",
              "    <tr style=\"text-align: right;\">\n",
              "      <th></th>\n",
              "      <th>LOGI1</th>\n",
              "      <th>SVM1</th>\n",
              "    </tr>\n",
              "  </thead>\n",
              "  <tbody>\n",
              "    <tr>\n",
              "      <th>Accuacy</th>\n",
              "      <td>0.500000</td>\n",
              "      <td>0.900000</td>\n",
              "    </tr>\n",
              "    <tr>\n",
              "      <th>Precision</th>\n",
              "      <td>0.500000</td>\n",
              "      <td>0.833333</td>\n",
              "    </tr>\n",
              "    <tr>\n",
              "      <th>Recall</th>\n",
              "      <td>1.000000</td>\n",
              "      <td>1.000000</td>\n",
              "    </tr>\n",
              "    <tr>\n",
              "      <th>F1</th>\n",
              "      <td>0.666667</td>\n",
              "      <td>0.909091</td>\n",
              "    </tr>\n",
              "    <tr>\n",
              "      <th>ROC_AUC</th>\n",
              "      <td>0.880000</td>\n",
              "      <td>0.980000</td>\n",
              "    </tr>\n",
              "  </tbody>\n",
              "</table>\n",
              "</div>"
            ],
            "text/plain": [
              "              LOGI1      SVM1\n",
              "Accuacy    0.500000  0.900000\n",
              "Precision  0.500000  0.833333\n",
              "Recall     1.000000  1.000000\n",
              "F1         0.666667  0.909091\n",
              "ROC_AUC    0.880000  0.980000"
            ]
          },
          "metadata": {
            "tags": []
          }
        }
      ]
    },
    {
      "cell_type": "markdown",
      "metadata": {
        "id": "e_VqQS5_MDbh"
      },
      "source": [
        "##### ・決定木"
      ]
    },
    {
      "cell_type": "code",
      "metadata": {
        "colab": {
          "base_uri": "https://localhost:8080/",
          "height": 816
        },
        "id": "4maGA0cwEtjf",
        "outputId": "6a30b9e6-6dd7-4b28-d641-7f47a14fef24"
      },
      "source": [
        "# 標準化処理と決定木をパイプラインに組み込み\n",
        "pipeline_decision_tree = Pipeline(steps=[\n",
        "    (\"scaler\", StandardScaler()),      #変換器\n",
        "    (\"classifier\", DecisionTreeClassifier(random_state=0)) #予測器（推定器）\n",
        "])\n",
        "X = X_train1\n",
        "Xt = X_test1\n",
        "y = y_train1\n",
        "pipeline_decision_tree.fit(X, y)\n",
        "y_predict = pipeline_decision_tree.predict(Xt)\n",
        "y_predict_proba = pipeline_decision_tree.predict_proba(Xt)\n",
        "\n",
        "print(\"y_predict:\")\n",
        "print(y_predict)\n",
        "print(\"y_predict_proba:\")\n",
        "print(y_predict_proba)\n",
        "\n",
        "# 推定器のスコアを計算し、スコアボードに記録\n",
        "score_board1.calcurate_scores(y_test1, y_predict, y_predict_proba[:, -1], [\"DecisionTree1\"])"
      ],
      "execution_count": 19,
      "outputs": [
        {
          "output_type": "stream",
          "text": [
            "y_predict:\n",
            "[1 2 2 2 2 1 1 2 1 1 2 2 1 2 2 2 1 1 1 1 2 2 2 1 1]\n",
            "y_predict_proba:\n",
            "[[1. 0.]\n",
            " [0. 1.]\n",
            " [0. 1.]\n",
            " [0. 1.]\n",
            " [0. 1.]\n",
            " [1. 0.]\n",
            " [1. 0.]\n",
            " [0. 1.]\n",
            " [1. 0.]\n",
            " [1. 0.]\n",
            " [0. 1.]\n",
            " [0. 1.]\n",
            " [1. 0.]\n",
            " [0. 1.]\n",
            " [0. 1.]\n",
            " [0. 1.]\n",
            " [1. 0.]\n",
            " [1. 0.]\n",
            " [1. 0.]\n",
            " [1. 0.]\n",
            " [0. 1.]\n",
            " [0. 1.]\n",
            " [0. 1.]\n",
            " [1. 0.]\n",
            " [1. 0.]]\n",
            "\n",
            "\n",
            "###Confusion matrix（混同行列）###\n",
            "[[10  1]\n",
            " [ 2 12]]\n",
            "\n",
            "\n",
            "「データセット1用」スコアボード:\n"
          ],
          "name": "stdout"
        },
        {
          "output_type": "display_data",
          "data": {
            "text/html": [
              "<div>\n",
              "<style scoped>\n",
              "    .dataframe tbody tr th:only-of-type {\n",
              "        vertical-align: middle;\n",
              "    }\n",
              "\n",
              "    .dataframe tbody tr th {\n",
              "        vertical-align: top;\n",
              "    }\n",
              "\n",
              "    .dataframe thead th {\n",
              "        text-align: right;\n",
              "    }\n",
              "</style>\n",
              "<table border=\"1\" class=\"dataframe\">\n",
              "  <thead>\n",
              "    <tr style=\"text-align: right;\">\n",
              "      <th></th>\n",
              "      <th>LOGI1</th>\n",
              "      <th>SVM1</th>\n",
              "      <th>DecisionTree1</th>\n",
              "    </tr>\n",
              "  </thead>\n",
              "  <tbody>\n",
              "    <tr>\n",
              "      <th>Accuacy</th>\n",
              "      <td>0.920000</td>\n",
              "      <td>0.880000</td>\n",
              "      <td>0.880000</td>\n",
              "    </tr>\n",
              "    <tr>\n",
              "      <th>Precision</th>\n",
              "      <td>0.909091</td>\n",
              "      <td>0.833333</td>\n",
              "      <td>0.833333</td>\n",
              "    </tr>\n",
              "    <tr>\n",
              "      <th>Recall</th>\n",
              "      <td>0.909091</td>\n",
              "      <td>0.909091</td>\n",
              "      <td>0.909091</td>\n",
              "    </tr>\n",
              "    <tr>\n",
              "      <th>F1</th>\n",
              "      <td>0.909091</td>\n",
              "      <td>0.869565</td>\n",
              "      <td>0.869565</td>\n",
              "    </tr>\n",
              "    <tr>\n",
              "      <th>ROC_AUC</th>\n",
              "      <td>0.987013</td>\n",
              "      <td>0.961039</td>\n",
              "      <td>0.883117</td>\n",
              "    </tr>\n",
              "  </tbody>\n",
              "</table>\n",
              "</div>"
            ],
            "text/plain": [
              "              LOGI1      SVM1  DecisionTree1\n",
              "Accuacy    0.920000  0.880000       0.880000\n",
              "Precision  0.909091  0.833333       0.833333\n",
              "Recall     0.909091  0.909091       0.909091\n",
              "F1         0.909091  0.869565       0.869565\n",
              "ROC_AUC    0.987013  0.961039       0.883117"
            ]
          },
          "metadata": {
            "tags": []
          }
        }
      ]
    },
    {
      "cell_type": "code",
      "metadata": {
        "colab": {
          "base_uri": "https://localhost:8080/",
          "height": 510
        },
        "id": "-jbah03nEtjr",
        "outputId": "8aba48d5-d415-4e97-f285-12f7c58b5113"
      },
      "source": [
        "# データセット2に対して学習・推定・評価\n",
        "X = X_train2\n",
        "Xt = X_test2\n",
        "y = y_train2\n",
        "pipeline_decision_tree.fit(X, y)\n",
        "y_predict = pipeline_decision_tree.predict(Xt)\n",
        "y_predict_proba = pipeline_decision_tree.predict_proba(Xt)\n",
        "\n",
        "print(\"y_predict:\")\n",
        "print(y_predict)\n",
        "print(\"y_predict_proba:\")\n",
        "print(y_predict_proba)\n",
        "\n",
        "# 推定器のスコアを計算し、スコアボードに記録\n",
        "score_board2.calcurate_scores(y_test2, y_predict, y_predict_proba[:, -1], [\"DecisionTree1\"])"
      ],
      "execution_count": 20,
      "outputs": [
        {
          "output_type": "stream",
          "text": [
            "y_predict:\n",
            "[-1 -1  1 ...  1  1  1]\n",
            "y_predict_proba:\n",
            "[[1. 0.]\n",
            " [1. 0.]\n",
            " [0. 1.]\n",
            " ...\n",
            " [0. 1.]\n",
            " [0. 1.]\n",
            " [0. 1.]]\n",
            "\n",
            "\n",
            "###Confusion matrix（混同行列）###\n",
            "[[67  0]\n",
            " [ 0 58]]\n",
            "\n",
            "\n",
            "「データセット2用」スコアボード:\n"
          ],
          "name": "stdout"
        },
        {
          "output_type": "display_data",
          "data": {
            "text/html": [
              "<div>\n",
              "<style scoped>\n",
              "    .dataframe tbody tr th:only-of-type {\n",
              "        vertical-align: middle;\n",
              "    }\n",
              "\n",
              "    .dataframe tbody tr th {\n",
              "        vertical-align: top;\n",
              "    }\n",
              "\n",
              "    .dataframe thead th {\n",
              "        text-align: right;\n",
              "    }\n",
              "</style>\n",
              "<table border=\"1\" class=\"dataframe\">\n",
              "  <thead>\n",
              "    <tr style=\"text-align: right;\">\n",
              "      <th></th>\n",
              "      <th>LOGI1</th>\n",
              "      <th>SVM1</th>\n",
              "      <th>DecisionTree1</th>\n",
              "    </tr>\n",
              "  </thead>\n",
              "  <tbody>\n",
              "    <tr>\n",
              "      <th>Accuacy</th>\n",
              "      <td>1.0</td>\n",
              "      <td>1.0</td>\n",
              "      <td>1.0</td>\n",
              "    </tr>\n",
              "    <tr>\n",
              "      <th>Precision</th>\n",
              "      <td>1.0</td>\n",
              "      <td>1.0</td>\n",
              "      <td>1.0</td>\n",
              "    </tr>\n",
              "    <tr>\n",
              "      <th>Recall</th>\n",
              "      <td>1.0</td>\n",
              "      <td>1.0</td>\n",
              "      <td>1.0</td>\n",
              "    </tr>\n",
              "    <tr>\n",
              "      <th>F1</th>\n",
              "      <td>1.0</td>\n",
              "      <td>1.0</td>\n",
              "      <td>1.0</td>\n",
              "    </tr>\n",
              "    <tr>\n",
              "      <th>ROC_AUC</th>\n",
              "      <td>1.0</td>\n",
              "      <td>1.0</td>\n",
              "      <td>1.0</td>\n",
              "    </tr>\n",
              "  </tbody>\n",
              "</table>\n",
              "</div>"
            ],
            "text/plain": [
              "           LOGI1  SVM1  DecisionTree1\n",
              "Accuacy      1.0   1.0            1.0\n",
              "Precision    1.0   1.0            1.0\n",
              "Recall       1.0   1.0            1.0\n",
              "F1           1.0   1.0            1.0\n",
              "ROC_AUC      1.0   1.0            1.0"
            ]
          },
          "metadata": {
            "tags": []
          }
        }
      ]
    },
    {
      "cell_type": "code",
      "metadata": {
        "colab": {
          "base_uri": "https://localhost:8080/",
          "height": 561
        },
        "id": "KyxvQYgSEtjr",
        "outputId": "193419a8-cb6b-45b8-f6ef-7b2dfe545898"
      },
      "source": [
        "# データセット3に対して学習・推定・評価\n",
        "X = X_train3\n",
        "Xt = X_test3\n",
        "y = y_train3\n",
        "pipeline_decision_tree.fit(X, y)\n",
        "y_predict = pipeline_decision_tree.predict(Xt)\n",
        "y_predict_proba = pipeline_decision_tree.predict_proba(Xt)\n",
        "\n",
        "print(\"y_predict:\")\n",
        "print(y_predict)\n",
        "print(\"y_predict_proba:\")\n",
        "print(y_predict_proba)\n",
        "\n",
        "# 推定器のスコアを計算し、スコアボードに記録\n",
        "score_board3.calcurate_scores(y_test3, y_predict, y_predict_proba[:, -1], [\"DecisionTree1\"])"
      ],
      "execution_count": 21,
      "outputs": [
        {
          "output_type": "stream",
          "text": [
            "y_predict:\n",
            "[1 1 0 1 1 0 0 1 0 0]\n",
            "y_predict_proba:\n",
            "[[0. 1.]\n",
            " [0. 1.]\n",
            " [1. 0.]\n",
            " [0. 1.]\n",
            " [0. 1.]\n",
            " [1. 0.]\n",
            " [1. 0.]\n",
            " [0. 1.]\n",
            " [1. 0.]\n",
            " [1. 0.]]\n",
            "\n",
            "\n",
            "###Confusion matrix（混同行列）###\n",
            "[[5 0]\n",
            " [0 5]]\n",
            "\n",
            "\n",
            "「データセット3用」スコアボード:\n"
          ],
          "name": "stdout"
        },
        {
          "output_type": "display_data",
          "data": {
            "text/html": [
              "<div>\n",
              "<style scoped>\n",
              "    .dataframe tbody tr th:only-of-type {\n",
              "        vertical-align: middle;\n",
              "    }\n",
              "\n",
              "    .dataframe tbody tr th {\n",
              "        vertical-align: top;\n",
              "    }\n",
              "\n",
              "    .dataframe thead th {\n",
              "        text-align: right;\n",
              "    }\n",
              "</style>\n",
              "<table border=\"1\" class=\"dataframe\">\n",
              "  <thead>\n",
              "    <tr style=\"text-align: right;\">\n",
              "      <th></th>\n",
              "      <th>LOGI1</th>\n",
              "      <th>SVM1</th>\n",
              "      <th>DecisionTree1</th>\n",
              "    </tr>\n",
              "  </thead>\n",
              "  <tbody>\n",
              "    <tr>\n",
              "      <th>Accuacy</th>\n",
              "      <td>0.500000</td>\n",
              "      <td>0.900000</td>\n",
              "      <td>1.0</td>\n",
              "    </tr>\n",
              "    <tr>\n",
              "      <th>Precision</th>\n",
              "      <td>0.500000</td>\n",
              "      <td>0.833333</td>\n",
              "      <td>1.0</td>\n",
              "    </tr>\n",
              "    <tr>\n",
              "      <th>Recall</th>\n",
              "      <td>1.000000</td>\n",
              "      <td>1.000000</td>\n",
              "      <td>1.0</td>\n",
              "    </tr>\n",
              "    <tr>\n",
              "      <th>F1</th>\n",
              "      <td>0.666667</td>\n",
              "      <td>0.909091</td>\n",
              "      <td>1.0</td>\n",
              "    </tr>\n",
              "    <tr>\n",
              "      <th>ROC_AUC</th>\n",
              "      <td>0.880000</td>\n",
              "      <td>0.980000</td>\n",
              "      <td>1.0</td>\n",
              "    </tr>\n",
              "  </tbody>\n",
              "</table>\n",
              "</div>"
            ],
            "text/plain": [
              "              LOGI1      SVM1  DecisionTree1\n",
              "Accuacy    0.500000  0.900000            1.0\n",
              "Precision  0.500000  0.833333            1.0\n",
              "Recall     1.000000  1.000000            1.0\n",
              "F1         0.666667  0.909091            1.0\n",
              "ROC_AUC    0.880000  0.980000            1.0"
            ]
          },
          "metadata": {
            "tags": []
          }
        }
      ]
    },
    {
      "cell_type": "markdown",
      "metadata": {
        "id": "4E-gaB6kLEc2"
      },
      "source": [
        "## 【問題3】 回帰問題を解くコードの作成\n",
        "線形回帰でHouse Pricesデータセットを学習・推定するコードを作成してください。"
      ]
    },
    {
      "cell_type": "markdown",
      "metadata": {
        "id": "46QgccOQOqMl"
      },
      "source": [
        "#### ●データセットの準備"
      ]
    },
    {
      "cell_type": "code",
      "metadata": {
        "colab": {
          "base_uri": "https://localhost:8080/",
          "height": 419
        },
        "id": "D9phXx68O5vR",
        "outputId": "348a4a94-1b51-4c43-d6ec-a5ba18b34643"
      },
      "source": [
        "csv_path = \"drive/My Drive/DIVE INTO CODE/Week3/train.csv\" # ファイル名（パス）を指定する\n",
        "\n",
        "import pandas as pd\n",
        "df_train_org = pd.read_csv(csv_path)\n",
        "\n",
        "# df_train = df_train_org.iloc[:10000, :]   #データ数を削減\n",
        "df_train = df_train_org\n",
        "\n",
        "#GrLivArea、YearBuilt、SalePrice列のみを抽出\n",
        "df_train = df_train.loc[:, [\"GrLivArea\", \"YearBuilt\", \"SalePrice\"]]\n",
        "\n",
        "pd.set_option('display.max_rows', 150)    #最大表示行数を設定\n",
        "pd.set_option('display.max_columns', 5)   #最大表示列数を設定\n",
        "\n",
        "display(df_train)"
      ],
      "execution_count": 22,
      "outputs": [
        {
          "output_type": "display_data",
          "data": {
            "text/html": [
              "<div>\n",
              "<style scoped>\n",
              "    .dataframe tbody tr th:only-of-type {\n",
              "        vertical-align: middle;\n",
              "    }\n",
              "\n",
              "    .dataframe tbody tr th {\n",
              "        vertical-align: top;\n",
              "    }\n",
              "\n",
              "    .dataframe thead th {\n",
              "        text-align: right;\n",
              "    }\n",
              "</style>\n",
              "<table border=\"1\" class=\"dataframe\">\n",
              "  <thead>\n",
              "    <tr style=\"text-align: right;\">\n",
              "      <th></th>\n",
              "      <th>GrLivArea</th>\n",
              "      <th>YearBuilt</th>\n",
              "      <th>SalePrice</th>\n",
              "    </tr>\n",
              "  </thead>\n",
              "  <tbody>\n",
              "    <tr>\n",
              "      <th>0</th>\n",
              "      <td>1710</td>\n",
              "      <td>2003</td>\n",
              "      <td>208500</td>\n",
              "    </tr>\n",
              "    <tr>\n",
              "      <th>1</th>\n",
              "      <td>1262</td>\n",
              "      <td>1976</td>\n",
              "      <td>181500</td>\n",
              "    </tr>\n",
              "    <tr>\n",
              "      <th>2</th>\n",
              "      <td>1786</td>\n",
              "      <td>2001</td>\n",
              "      <td>223500</td>\n",
              "    </tr>\n",
              "    <tr>\n",
              "      <th>3</th>\n",
              "      <td>1717</td>\n",
              "      <td>1915</td>\n",
              "      <td>140000</td>\n",
              "    </tr>\n",
              "    <tr>\n",
              "      <th>4</th>\n",
              "      <td>2198</td>\n",
              "      <td>2000</td>\n",
              "      <td>250000</td>\n",
              "    </tr>\n",
              "    <tr>\n",
              "      <th>...</th>\n",
              "      <td>...</td>\n",
              "      <td>...</td>\n",
              "      <td>...</td>\n",
              "    </tr>\n",
              "    <tr>\n",
              "      <th>1455</th>\n",
              "      <td>1647</td>\n",
              "      <td>1999</td>\n",
              "      <td>175000</td>\n",
              "    </tr>\n",
              "    <tr>\n",
              "      <th>1456</th>\n",
              "      <td>2073</td>\n",
              "      <td>1978</td>\n",
              "      <td>210000</td>\n",
              "    </tr>\n",
              "    <tr>\n",
              "      <th>1457</th>\n",
              "      <td>2340</td>\n",
              "      <td>1941</td>\n",
              "      <td>266500</td>\n",
              "    </tr>\n",
              "    <tr>\n",
              "      <th>1458</th>\n",
              "      <td>1078</td>\n",
              "      <td>1950</td>\n",
              "      <td>142125</td>\n",
              "    </tr>\n",
              "    <tr>\n",
              "      <th>1459</th>\n",
              "      <td>1256</td>\n",
              "      <td>1965</td>\n",
              "      <td>147500</td>\n",
              "    </tr>\n",
              "  </tbody>\n",
              "</table>\n",
              "<p>1460 rows × 3 columns</p>\n",
              "</div>"
            ],
            "text/plain": [
              "      GrLivArea  YearBuilt  SalePrice\n",
              "0          1710       2003     208500\n",
              "1          1262       1976     181500\n",
              "2          1786       2001     223500\n",
              "3          1717       1915     140000\n",
              "4          2198       2000     250000\n",
              "...         ...        ...        ...\n",
              "1455       1647       1999     175000\n",
              "1456       2073       1978     210000\n",
              "1457       2340       1941     266500\n",
              "1458       1078       1950     142125\n",
              "1459       1256       1965     147500\n",
              "\n",
              "[1460 rows x 3 columns]"
            ]
          },
          "metadata": {
            "tags": []
          }
        }
      ]
    },
    {
      "cell_type": "code",
      "metadata": {
        "colab": {
          "base_uri": "https://localhost:8080/",
          "height": 297
        },
        "id": "I5T_r1ZiPo29",
        "outputId": "a485153f-7467-4e9a-8efc-d9d44e87defd"
      },
      "source": [
        "df_train.describe()"
      ],
      "execution_count": 23,
      "outputs": [
        {
          "output_type": "execute_result",
          "data": {
            "text/html": [
              "<div>\n",
              "<style scoped>\n",
              "    .dataframe tbody tr th:only-of-type {\n",
              "        vertical-align: middle;\n",
              "    }\n",
              "\n",
              "    .dataframe tbody tr th {\n",
              "        vertical-align: top;\n",
              "    }\n",
              "\n",
              "    .dataframe thead th {\n",
              "        text-align: right;\n",
              "    }\n",
              "</style>\n",
              "<table border=\"1\" class=\"dataframe\">\n",
              "  <thead>\n",
              "    <tr style=\"text-align: right;\">\n",
              "      <th></th>\n",
              "      <th>GrLivArea</th>\n",
              "      <th>YearBuilt</th>\n",
              "      <th>SalePrice</th>\n",
              "    </tr>\n",
              "  </thead>\n",
              "  <tbody>\n",
              "    <tr>\n",
              "      <th>count</th>\n",
              "      <td>1460.000000</td>\n",
              "      <td>1460.000000</td>\n",
              "      <td>1460.000000</td>\n",
              "    </tr>\n",
              "    <tr>\n",
              "      <th>mean</th>\n",
              "      <td>1515.463699</td>\n",
              "      <td>1971.267808</td>\n",
              "      <td>180921.195890</td>\n",
              "    </tr>\n",
              "    <tr>\n",
              "      <th>std</th>\n",
              "      <td>525.480383</td>\n",
              "      <td>30.202904</td>\n",
              "      <td>79442.502883</td>\n",
              "    </tr>\n",
              "    <tr>\n",
              "      <th>min</th>\n",
              "      <td>334.000000</td>\n",
              "      <td>1872.000000</td>\n",
              "      <td>34900.000000</td>\n",
              "    </tr>\n",
              "    <tr>\n",
              "      <th>25%</th>\n",
              "      <td>1129.500000</td>\n",
              "      <td>1954.000000</td>\n",
              "      <td>129975.000000</td>\n",
              "    </tr>\n",
              "    <tr>\n",
              "      <th>50%</th>\n",
              "      <td>1464.000000</td>\n",
              "      <td>1973.000000</td>\n",
              "      <td>163000.000000</td>\n",
              "    </tr>\n",
              "    <tr>\n",
              "      <th>75%</th>\n",
              "      <td>1776.750000</td>\n",
              "      <td>2000.000000</td>\n",
              "      <td>214000.000000</td>\n",
              "    </tr>\n",
              "    <tr>\n",
              "      <th>max</th>\n",
              "      <td>5642.000000</td>\n",
              "      <td>2010.000000</td>\n",
              "      <td>755000.000000</td>\n",
              "    </tr>\n",
              "  </tbody>\n",
              "</table>\n",
              "</div>"
            ],
            "text/plain": [
              "         GrLivArea    YearBuilt      SalePrice\n",
              "count  1460.000000  1460.000000    1460.000000\n",
              "mean   1515.463699  1971.267808  180921.195890\n",
              "std     525.480383    30.202904   79442.502883\n",
              "min     334.000000  1872.000000   34900.000000\n",
              "25%    1129.500000  1954.000000  129975.000000\n",
              "50%    1464.000000  1973.000000  163000.000000\n",
              "75%    1776.750000  2000.000000  214000.000000\n",
              "max    5642.000000  2010.000000  755000.000000"
            ]
          },
          "metadata": {
            "tags": []
          },
          "execution_count": 23
        }
      ]
    },
    {
      "cell_type": "code",
      "metadata": {
        "colab": {
          "base_uri": "https://localhost:8080/"
        },
        "id": "ttzW8MI_Q3ic",
        "outputId": "5c7899fa-e791-4a32-a949-2add848d682c"
      },
      "source": [
        "df_train.isnull().sum()"
      ],
      "execution_count": 24,
      "outputs": [
        {
          "output_type": "execute_result",
          "data": {
            "text/plain": [
              "GrLivArea    0\n",
              "YearBuilt    0\n",
              "SalePrice    0\n",
              "dtype: int64"
            ]
          },
          "metadata": {
            "tags": []
          },
          "execution_count": 24
        }
      ]
    },
    {
      "cell_type": "code",
      "metadata": {
        "colab": {
          "base_uri": "https://localhost:8080/"
        },
        "id": "jn5o_D7dQ_o_",
        "outputId": "44eb0943-e577-430f-bfe8-0d101acbf562"
      },
      "source": [
        "df_train.dtypes"
      ],
      "execution_count": 25,
      "outputs": [
        {
          "output_type": "execute_result",
          "data": {
            "text/plain": [
              "GrLivArea    int64\n",
              "YearBuilt    int64\n",
              "SalePrice    int64\n",
              "dtype: object"
            ]
          },
          "metadata": {
            "tags": []
          },
          "execution_count": 25
        }
      ]
    },
    {
      "cell_type": "code",
      "metadata": {
        "colab": {
          "base_uri": "https://localhost:8080/",
          "height": 710
        },
        "id": "LHztU9C9RTLX",
        "outputId": "bef439f5-74db-4f55-d8cc-2d7bed5d543f"
      },
      "source": [
        "#相関行列\n",
        "display(\"df_train.corr():\")\n",
        "display(df_train.corr())\n",
        "\n",
        "#散布図行列を作成\n",
        "import seaborn as sns\n",
        "sns.pairplot(df_train, diag_kind=\"hist\")"
      ],
      "execution_count": 26,
      "outputs": [
        {
          "output_type": "display_data",
          "data": {
            "application/vnd.google.colaboratory.intrinsic+json": {
              "type": "string"
            },
            "text/plain": [
              "'df_train.corr():'"
            ]
          },
          "metadata": {
            "tags": []
          }
        },
        {
          "output_type": "display_data",
          "data": {
            "text/html": [
              "<div>\n",
              "<style scoped>\n",
              "    .dataframe tbody tr th:only-of-type {\n",
              "        vertical-align: middle;\n",
              "    }\n",
              "\n",
              "    .dataframe tbody tr th {\n",
              "        vertical-align: top;\n",
              "    }\n",
              "\n",
              "    .dataframe thead th {\n",
              "        text-align: right;\n",
              "    }\n",
              "</style>\n",
              "<table border=\"1\" class=\"dataframe\">\n",
              "  <thead>\n",
              "    <tr style=\"text-align: right;\">\n",
              "      <th></th>\n",
              "      <th>GrLivArea</th>\n",
              "      <th>YearBuilt</th>\n",
              "      <th>SalePrice</th>\n",
              "    </tr>\n",
              "  </thead>\n",
              "  <tbody>\n",
              "    <tr>\n",
              "      <th>GrLivArea</th>\n",
              "      <td>1.000000</td>\n",
              "      <td>0.199010</td>\n",
              "      <td>0.708624</td>\n",
              "    </tr>\n",
              "    <tr>\n",
              "      <th>YearBuilt</th>\n",
              "      <td>0.199010</td>\n",
              "      <td>1.000000</td>\n",
              "      <td>0.522897</td>\n",
              "    </tr>\n",
              "    <tr>\n",
              "      <th>SalePrice</th>\n",
              "      <td>0.708624</td>\n",
              "      <td>0.522897</td>\n",
              "      <td>1.000000</td>\n",
              "    </tr>\n",
              "  </tbody>\n",
              "</table>\n",
              "</div>"
            ],
            "text/plain": [
              "           GrLivArea  YearBuilt  SalePrice\n",
              "GrLivArea   1.000000   0.199010   0.708624\n",
              "YearBuilt   0.199010   1.000000   0.522897\n",
              "SalePrice   0.708624   0.522897   1.000000"
            ]
          },
          "metadata": {
            "tags": []
          }
        },
        {
          "output_type": "execute_result",
          "data": {
            "text/plain": [
              "<seaborn.axisgrid.PairGrid at 0x7f3521b8f090>"
            ]
          },
          "metadata": {
            "tags": []
          },
          "execution_count": 26
        },
        {
          "output_type": "display_data",
          "data": {
            "image/png": "[encoded data removed]",
            "text/plain": [
              "<Figure size 540x540 with 12 Axes>"
            ]
          },
          "metadata": {
            "tags": []
          }
        }
      ]
    },
    {
      "cell_type": "code",
      "metadata": {
        "id": "fxtNLneBQdD0"
      },
      "source": [
        "X = np.array(df_train.iloc[:, :-1])\n",
        "y = np.array(df_train.iloc[:, -1])\n",
        "\n",
        "#データセットを学習用と検証用に分割\n",
        "X_train4, X_test4, y_train4, y_test4 = scratch_train_test_split(X, y, arg_train_size = 0.75, arg_random_state=0)"
      ],
      "execution_count": 27,
      "outputs": []
    },
    {
      "cell_type": "markdown",
      "metadata": {
        "id": "NGpIfNtfOsLN"
      },
      "source": [
        "#### ●学習・推定・評価\n"
      ]
    },
    {
      "cell_type": "markdown",
      "metadata": {
        "id": "fxqWMBeRSfFd"
      },
      "source": [
        "##### ・線形回帰(SGDRegressor)"
      ]
    },
    {
      "cell_type": "code",
      "metadata": {
        "colab": {
          "base_uri": "https://localhost:8080/",
          "height": 660
        },
        "id": "atGD3Pd9Sivx",
        "outputId": "0f6d43e2-e4fd-4a29-b7b0-999cb947f151"
      },
      "source": [
        "# 標準化処理と線形回帰をパイプラインに組み込み\n",
        "pipeline = Pipeline(steps=[\n",
        "    (\"scaler\", StandardScaler()),      #変換器\n",
        "    (\"classifier\", SGDRegressor(loss=\"squared_loss\", max_iter=1000, tol=1e-3, random_state=0))  #推定器\n",
        "])\n",
        "\n",
        "# データセットに対して学習・推定・評価\n",
        "X = X_train4\n",
        "Xt = X_test4\n",
        "y = y_train4\n",
        "yt = y_test4\n",
        "pipeline.fit(X, y)\n",
        "y_predict = pipeline.predict(Xt)\n",
        "print(\"y_predict:\")\n",
        "print(y_predict)\n",
        "print(\"\\n\")\n",
        "print(\"y_test(true):\")\n",
        "print(y_test4)\n",
        "\n",
        "print(\"coef_\")    # 説明変数の係数(傾き)\n",
        "print(pipeline[\"classifier\"].coef_)    # 説明変数の係数(傾き)\n",
        "print(\"intercept_\")   # 切片\n",
        "print(pipeline[\"classifier\"].intercept_)   # 切片\n",
        "\n",
        "X_test_transformed = pipeline[\"scaler\"].transform(X_test4)\n",
        "\n",
        "#評価\n",
        "mean_scored_error_linear = mean_squared_error(yt, y_predict, squared=False)   #RMSE\n",
        "print(\"mean_scored_error(RMSE):\")\n",
        "print(mean_scored_error_linear)\n",
        "\n",
        "#予測値と実測値をプロット\n",
        "fig3, ax3 = plt.subplots(2, figsize=(15, 10), dpi=50)\n",
        "\n",
        "ax3[0].set_title(\"SalePrice - GrLivArea\")\n",
        "ax3[0].set_xlabel(\"GrLivArea\")\n",
        "ax3[0].set_ylabel(\"SalePrice\")\n",
        "ax3[1].set_title(\"SalePrice - YearBuilt\")\n",
        "ax3[1].set_xlabel(\"YearBuilt\")\n",
        "ax3[1].set_ylabel(\"SalePrice\")\n",
        "\n",
        "#実測値をプロット（散布図）\n",
        "ax3[0].scatter(X_test_transformed[:, 0], yt, c=\"blue\", cmap='Blues', label=\"true\")\n",
        "ax3[1].scatter(X_test_transformed[:, 1], yt, c=\"blue\", cmap='Blues', label=\"true\")\n",
        "\n",
        "#予測値をプロット（折れ線）\n",
        "X_y_ndarray = np.concatenate([X_test_transformed, y_predict.reshape(-1, 1)], axis=1)\n",
        "X_y_sort_col0_ndarray = X_y_ndarray[np.argsort(X_y_ndarray[:, 0])]  #0列目(X1)でソート\n",
        "X_y_sort_col1_ndarray = X_y_ndarray[np.argsort(X_y_ndarray[:, 1])]  #1列目(X2)でソート\n",
        "ax3[0].plot(X_y_sort_col0_ndarray[:, 0], X_y_sort_col0_ndarray[:, 2], color = \"purple\", label=\"predict\")\n",
        "ax3[0].legend(loc='best') # 凡例を最適位置に表示\n",
        "ax3[1].plot(X_y_sort_col1_ndarray[:, 1], X_y_sort_col1_ndarray[:, 2], color = \"purple\", label=\"predict\")\n",
        "ax3[1].legend(loc='best') # 凡例を最適位置に表示\n",
        "\n",
        "#回帰直線を作成\n",
        "X1 = np.arange(np.min(X_test_transformed[:, 0]), np.max(X_test_transformed[:, 0]) + 1, 1)\n",
        "y_predict_regression = pipeline[\"classifier\"].coef_[0] * X1 + pipeline[\"classifier\"].intercept_\n",
        "ax3[0].plot(X1, y_predict_regression, color = \"red\", label=\"regression\")\n",
        "ax3[0].legend(loc='best') # 凡例を最適位置に表示\n",
        "X2 = np.arange(np.min(X_test_transformed[:, 1]), np.max(X_test_transformed[:, 1]) + 1, 1)\n",
        "y_predict_regression = pipeline[\"classifier\"].coef_[1] * X2 + pipeline[\"classifier\"].intercept_\n",
        "ax3[1].plot(X2, y_predict_regression, color = \"red\", label=\"regression\")\n",
        "ax3[1].legend(loc='best') # 凡例を最適位置に表示\n",
        "\n",
        "plt.show()"
      ],
      "execution_count": 28,
      "outputs": [
        {
          "output_type": "stream",
          "text": [
            "y_predict:\n",
            "[189334.14113841 224262.35497225 221378.4292277  ... 224909.30989657\n",
            " 218530.27791088 239850.46680894]\n",
            "\n",
            "\n",
            "y_test(true):\n",
            "[170000 270000 209500 ... 112000 234000 221000]\n",
            "coef_\n",
            "[50843.31680779 32257.56895978]\n",
            "intercept_\n",
            "[182898.12524562]\n",
            "mean_scored_error(RMSE):\n",
            "40327.05898685396\n"
          ],
          "name": "stdout"
        },
        {
          "output_type": "display_data",
          "data": {
            "image/png": "[encoded data removed]",
            "text/plain": [
              "<Figure size 750x500 with 2 Axes>"
            ]
          },
          "metadata": {
            "tags": []
          }
        }
      ]
    },
    {
      "cell_type": "code",
      "metadata": {
        "id": "jXCy8mgQV5u8"
      },
      "source": [
        ""
      ],
      "execution_count": 28,
      "outputs": []
    }
  ]
}
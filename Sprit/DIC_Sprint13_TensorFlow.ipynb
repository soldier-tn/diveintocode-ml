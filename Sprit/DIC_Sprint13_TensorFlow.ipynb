{
  "cells": [
    {
      "cell_type": "markdown",
      "metadata": {
        "id": "HkR_do4bSrO7"
      },
      "source": [
        "# TensorFlow"
      ]
    },
    {
      "cell_type": "markdown",
      "metadata": {
        "id": "0uvk_J9CsjFv"
      },
      "source": [
        "## 【事前準備】"
      ]
    },
    {
      "cell_type": "code",
      "execution_count": 1,
      "metadata": {
        "colab": {
          "base_uri": "https://localhost:8080/"
        },
        "id": "tFcsyfrfsFT_",
        "outputId": "bb3e786e-e07a-4edc-da10-1afeb7298e70"
      },
      "outputs": [
        {
          "name": "stdout",
          "output_type": "stream",
          "text": [
            "Package                      Version\n",
            "---------------------------- -----------\n",
            "absl-py                      1.4.0\n",
            "alembic                      1.10.4\n",
            "altair                       5.3.0\n",
            "anyio                        3.6.2\n",
            "argon2-cffi                  21.3.0\n",
            "argon2-cffi-bindings         21.2.0\n",
            "arrow                        1.2.3\n",
            "asttokens                    2.2.1\n",
            "astunparse                   1.6.3\n",
            "attrs                        22.2.0\n",
            "Babel                        2.11.0\n",
            "backcall                     0.2.0\n",
            "beautifulsoup4               4.11.1\n",
            "bleach                       6.0.0\n",
            "blinker                      1.8.2\n",
            "cachetools                   5.3.0\n",
            "certifi                      2022.12.7\n",
            "cffi                         1.15.1\n",
            "charset-normalizer           3.0.1\n",
            "click                        8.1.3\n",
            "cmaes                        0.9.1\n",
            "colorama                     0.4.6\n",
            "colorlog                     6.7.0\n",
            "comm                         0.1.2\n",
            "contourpy                    1.0.7\n",
            "cycler                       0.11.0\n",
            "debugpy                      1.6.6\n",
            "decorator                    5.1.1\n",
            "defusedxml                   0.7.1\n",
            "distlib                      0.3.8\n",
            "executing                    1.2.0\n",
            "fastjsonschema               2.16.2\n",
            "filelock                     3.13.1\n",
            "flatbuffers                  23.5.9\n",
            "fonttools                    4.39.4\n",
            "fqdn                         1.5.1\n",
            "gast                         0.4.0\n",
            "gitdb                        4.0.11\n",
            "GitPython                    3.1.43\n",
            "google-auth                  2.18.0\n",
            "google-auth-oauthlib         1.0.0\n",
            "google-pasta                 0.2.0\n",
            "greenlet                     2.0.2\n",
            "grpcio                       1.54.2\n",
            "h5py                         3.8.0\n",
            "idna                         3.4\n",
            "ipykernel                    6.20.2\n",
            "ipython                      8.9.0\n",
            "ipython-genutils             0.2.0\n",
            "isoduration                  20.11.0\n",
            "japanize-matplotlib          1.1.3\n",
            "jax                          0.4.10\n",
            "jedi                         0.18.2\n",
            "Jinja2                       3.1.2\n",
            "joblib                       1.2.0\n",
            "jpholiday                    0.1.8\n",
            "json5                        0.9.11\n",
            "jsonpointer                  2.3\n",
            "jsonschema                   4.17.3\n",
            "jupyter_client               8.0.1\n",
            "jupyter_core                 5.1.5\n",
            "jupyter-events               0.6.3\n",
            "jupyter_server               2.1.0\n",
            "jupyter_server_terminals     0.4.4\n",
            "jupyterlab                   3.5.3\n",
            "jupyterlab-pygments          0.2.2\n",
            "jupyterlab_server            2.19.0\n",
            "keras                        2.12.0\n",
            "kiwisolver                   1.4.4\n",
            "libclang                     16.0.0\n",
            "lightgbm                     3.3.5\n",
            "Mako                         1.2.4\n",
            "Markdown                     3.4.3\n",
            "markdown-it-py               3.0.0\n",
            "MarkupSafe                   2.1.2\n",
            "matplotlib                   3.7.1\n",
            "matplotlib-inline            0.1.6\n",
            "mdurl                        0.1.2\n",
            "mistune                      2.0.4\n",
            "ml-dtypes                    0.1.0\n",
            "nbclassic                    0.5.1\n",
            "nbclient                     0.7.2\n",
            "nbconvert                    7.2.9\n",
            "nbformat                     5.7.3\n",
            "nest-asyncio                 1.5.6\n",
            "networkx                     3.1\n",
            "nltk                         3.8.1\n",
            "notebook                     6.5.2\n",
            "notebook_shim                0.2.2\n",
            "numpy                        1.23.5\n",
            "oauthlib                     3.2.2\n",
            "obonet                       1.0.0\n",
            "opencv-contrib-python        4.7.0.72\n",
            "opencv-python                4.7.0.72\n",
            "opt-einsum                   3.3.0\n",
            "optuna                       3.1.1\n",
            "packaging                    23.0\n",
            "pandas                       2.0.1\n",
            "pandocfilters                1.5.0\n",
            "parso                        0.8.3\n",
            "patsy                        0.5.3\n",
            "pickleshare                  0.7.5\n",
            "Pillow                       9.5.0\n",
            "pip                          24.0\n",
            "pipenv                       2023.12.1\n",
            "platformdirs                 4.2.0\n",
            "prometheus-client            0.16.0\n",
            "prompt-toolkit               3.0.36\n",
            "protobuf                     4.23.0\n",
            "psutil                       5.9.4\n",
            "pure-eval                    0.2.2\n",
            "pyarrow                      16.1.0\n",
            "pyasn1                       0.5.0\n",
            "pyasn1-modules               0.3.0\n",
            "pycparser                    2.21\n",
            "pydeck                       0.9.1\n",
            "Pygments                     2.14.0\n",
            "pyparsing                    3.0.9\n",
            "pyrsistent                   0.19.3\n",
            "python-dateutil              2.8.2\n",
            "python-json-logger           2.0.4\n",
            "pytz                         2022.7.1\n",
            "pywin32                      305\n",
            "pywinpty                     2.0.10\n",
            "PyYAML                       6.0\n",
            "pyzmq                        25.0.0\n",
            "regex                        2023.5.5\n",
            "requests                     2.28.2\n",
            "requests-oauthlib            1.3.1\n",
            "rfc3339-validator            0.1.4\n",
            "rfc3986-validator            0.1.1\n",
            "rich                         13.7.1\n",
            "rsa                          4.9\n",
            "scikit-learn                 1.2.2\n",
            "scipy                        1.10.1\n",
            "seaborn                      0.12.2\n",
            "Send2Trash                   1.8.0\n",
            "setuptools                   69.1.1\n",
            "six                          1.16.0\n",
            "sklearn                      0.0.post5\n",
            "smmap                        5.0.1\n",
            "sniffio                      1.3.0\n",
            "soupsieve                    2.3.2.post1\n",
            "SQLAlchemy                   2.0.13\n",
            "stack-data                   0.6.2\n",
            "statsmodels                  0.14.0\n",
            "streamlit                    1.36.0\n",
            "tenacity                     8.5.0\n",
            "tensorboard                  2.12.3\n",
            "tensorboard-data-server      0.7.0\n",
            "tensorflow                   2.12.0\n",
            "tensorflow-estimator         2.12.0\n",
            "tensorflow-intel             2.12.0\n",
            "tensorflow-io-gcs-filesystem 0.31.0\n",
            "termcolor                    2.3.0\n",
            "terminado                    0.17.1\n",
            "threadpoolctl                3.1.0\n",
            "tinycss2                     1.2.1\n",
            "toml                         0.10.2\n",
            "tomli                        2.0.1\n",
            "toolz                        0.12.1\n",
            "tornado                      6.2\n",
            "tqdm                         4.65.0\n",
            "traitlets                    5.8.1\n",
            "typing_extensions            4.5.0\n",
            "tzdata                       2023.3\n",
            "uri-template                 1.2.0\n",
            "urllib3                      1.26.14\n",
            "virtualenv                   20.25.1\n",
            "virtualenv-clone             0.5.7\n",
            "watchdog                     4.0.1\n",
            "wcwidth                      0.2.6\n",
            "webcolors                    1.12\n",
            "webencodings                 0.5.1\n",
            "websocket-client             1.5.0\n",
            "Werkzeug                     2.3.4\n",
            "wheel                        0.40.0\n",
            "wrapt                        1.14.1\n"
          ]
        },
        {
          "name": "stderr",
          "output_type": "stream",
          "text": [
            "\n",
            "[notice] A new release of pip is available: 24.0 -> 24.2\n",
            "[notice] To update, run: python.exe -m pip install --upgrade pip\n"
          ]
        }
      ],
      "source": [
        "# scikit-learnの「set_config(display=\"diagram\")」を使用するため、scikitlearnを最新verに更新\n",
        "# !pip install scikit-learn==0.23.2 --target drive/My\\ Drive/MyModule\n",
        "# !pip install scikit-learn==0.23.2\n",
        "# !pip install tensorflow==1.14\n",
        "!pip list\n",
        "## Google Drive上にインストールしたモジュールのインポート##\n",
        "import sys\n",
        "sys.path.append('/content/drive/My Drive/MyModule')"
      ]
    },
    {
      "cell_type": "code",
      "execution_count": 4,
      "metadata": {
        "colab": {
          "base_uri": "https://localhost:8080/"
        },
        "id": "BzA3rbuKIS0r",
        "outputId": "eb745039-4540-4215-9632-3685421b071a"
      },
      "outputs": [],
      "source": [
        "## モジュールのインポート ##\n",
        "# 一般\n",
        "import random\n",
        "import math\n",
        "# データ分析\n",
        "import numpy as np\n",
        "import pandas as pd\n",
        "import matplotlib.pyplot as plt\n",
        "import matplotlib.style\n",
        "%matplotlib inline\n",
        "matplotlib.style.use('ggplot')\n",
        "import seaborn as sns\n",
        "from matplotlib.colors import ListedColormap\n",
        "import matplotlib.patches as mpatches\n",
        "# scikit-learn\n",
        "from sklearn.model_selection import train_test_split\n",
        "from sklearn.model_selection import KFold\n",
        "from sklearn.model_selection import StratifiedKFold\n",
        "from sklearn import metrics\n",
        "from sklearn.metrics import accuracy_score\n",
        "from sklearn.metrics import precision_score\n",
        "from sklearn.metrics import recall_score\n",
        "from sklearn.metrics import f1_score\n",
        "from sklearn.metrics import roc_auc_score\n",
        "from sklearn.metrics import confusion_matrix\n",
        "from sklearn.metrics import mean_squared_error\n",
        "from sklearn.metrics import mean_absolute_error\n",
        "from sklearn.preprocessing import StandardScaler\n",
        "from sklearn.preprocessing import MinMaxScaler\n",
        "from sklearn.preprocessing import OneHotEncoder\n",
        "from sklearn.pipeline import Pipeline\n",
        "from sklearn.pipeline import make_pipeline\n",
        "from sklearn.linear_model import LinearRegression\n",
        "from sklearn.linear_model import LogisticRegression\n",
        "from sklearn.linear_model import SGDRegressor\n",
        "from sklearn.linear_model import SGDClassifier\n",
        "from sklearn.svm import SVR\n",
        "from sklearn.svm import SVC\n",
        "from sklearn.tree import DecisionTreeRegressor\n",
        "from sklearn.tree import DecisionTreeClassifier, export_graphviz\n",
        "from sklearn.decomposition import PCA\n",
        "from sklearn.datasets import load_iris\n",
        "from sklearn.datasets import make_blobs\n",
        "# 決定木可視化のためのツール\n",
        "# import graphviz\n",
        "# import pydotplus\n",
        "from IPython.display import Image\n",
        "# from sklearn.externals.six import StringIO\n",
        "# TensorFlow\n",
        "import tensorflow as tf   # tensorflow1系\n",
        "# tf.enable_eager_execution()   # tensorflow1系\n",
        "# import tensorflow.compat.v1 as tf   # tensorflow2系\n",
        "# tf.disable_eager_execution()   # tensorflow2系\n",
        "\n",
        "# Keras\n",
        "from keras.datasets import mnist  # メモ: TensorFlow ver1.14をインストール時はkerasは使用不可\n",
        "# その他\n",
        "# from google.colab import drive #GoogleDriveモジュール\n",
        "# drive.mount('/content/drive') #GoogleDriveのマウント"
      ]
    },
    {
      "cell_type": "markdown",
      "metadata": {
        "id": "ERQr7MNJnqPe"
      },
      "source": [
        "## 【問題1】スクラッチを振り返る\n",
        "ここまでのスクラッチを振り返り、ディープラーニングを実装するためにはどのようなものが必要だったかを列挙してください。\n",
        "\n",
        "\n",
        "（例）\n",
        "\n",
        "\n",
        "- 重みを初期化する必要があった\n",
        "- エポックのループが必要だった\n",
        "\n",
        "それらがフレームワークにおいてはどのように実装されるかを今回覚えていきましょう。"
      ]
    },
    {
      "cell_type": "markdown",
      "metadata": {
        "id": "hm2fqBvS_MGm"
      },
      "source": [
        "### 【問題1 解答】\n",
        "ディープラーニングを実装する際に必要な作業：\n",
        "\n",
        "<u>事前検討</u>\n",
        "- レイヤ構造（レイヤの種類・段数、ノード数）\n",
        "- 初期化方式（SimpleInitializer / XavierInitializer / HeInitializer）\n",
        "- 最適化方式（SGD / AdaGrad）\n",
        "- ハイパーパラメータ（学習率、エポック数、バッチサイズ）\n",
        "<br><br>\n",
        "\n",
        "<u>実装</u>\n",
        "\n",
        "●構成\n",
        "- DNNクラスの実装\n",
        "\n",
        "●初期化時の処理\n",
        "- ハイパーパラメータの設定\n",
        "\n",
        "●学習時の処理\n",
        "- 各レイヤのインスタンス化\n",
        "- 重みやバイアスの初期化\n",
        "- 目的変数のOneHotEncoding\n",
        "- エポック数分ループ\n",
        "- イテレーション数ループ\n",
        " - 順伝播処理（出力値を算出）\n",
        " - 逆伝播処理（出力値から各レイヤの勾配および更新後のパラメータを算出）\n",
        " - 損失算出\n",
        "- 学習曲線のプロット\n",
        "\n",
        "●推定時\n",
        "- 順伝播処理"
      ]
    },
    {
      "cell_type": "markdown",
      "metadata": {
        "id": "snKUKf4m3pHx"
      },
      "source": [
        "## 【問題2】スクラッチとTensorFlowの対応を考える\n",
        "以下のサンプルコードを見て、先ほど列挙した「ディープラーニングを実装するために必要なもの」がTensorFlowではどう実装されているかを確認してください。\n",
        "\n",
        "\n",
        "それを簡単に言葉でまとめてください。単純な一対一の対応であるとは限りません。\n",
        "\n",
        "\n",
        "《サンプルコード》\n",
        "\n",
        "\n",
        "＊TensorFlow バージョン 2.4 で動作を確認済みです。"
      ]
    },
    {
      "cell_type": "markdown",
      "metadata": {
        "id": "RheB00upojnA"
      },
      "source": [
        "### ●Irisデータセット"
      ]
    },
    {
      "cell_type": "code",
      "execution_count": 5,
      "metadata": {
        "colab": {
          "base_uri": "https://localhost:8080/",
          "height": 419
        },
        "id": "2Y6aX-fdoonc",
        "outputId": "945a43aa-7be5-4529-cead-1b8ab00b503b"
      },
      "outputs": [
        {
          "data": {
            "text/html": [
              "<div>\n",
              "<style scoped>\n",
              "    .dataframe tbody tr th:only-of-type {\n",
              "        vertical-align: middle;\n",
              "    }\n",
              "\n",
              "    .dataframe tbody tr th {\n",
              "        vertical-align: top;\n",
              "    }\n",
              "\n",
              "    .dataframe thead th {\n",
              "        text-align: right;\n",
              "    }\n",
              "</style>\n",
              "<table border=\"1\" class=\"dataframe\">\n",
              "  <thead>\n",
              "    <tr style=\"text-align: right;\">\n",
              "      <th></th>\n",
              "      <th>Id</th>\n",
              "      <th>SepalLengthCm</th>\n",
              "      <th>SepalWidthCm</th>\n",
              "      <th>PetalLengthCm</th>\n",
              "      <th>PetalWidthCm</th>\n",
              "      <th>Species</th>\n",
              "    </tr>\n",
              "  </thead>\n",
              "  <tbody>\n",
              "    <tr>\n",
              "      <th>50</th>\n",
              "      <td>51</td>\n",
              "      <td>7.0</td>\n",
              "      <td>3.2</td>\n",
              "      <td>4.7</td>\n",
              "      <td>1.4</td>\n",
              "      <td>Iris-versicolor</td>\n",
              "    </tr>\n",
              "    <tr>\n",
              "      <th>51</th>\n",
              "      <td>52</td>\n",
              "      <td>6.4</td>\n",
              "      <td>3.2</td>\n",
              "      <td>4.5</td>\n",
              "      <td>1.5</td>\n",
              "      <td>Iris-versicolor</td>\n",
              "    </tr>\n",
              "    <tr>\n",
              "      <th>52</th>\n",
              "      <td>53</td>\n",
              "      <td>6.9</td>\n",
              "      <td>3.1</td>\n",
              "      <td>4.9</td>\n",
              "      <td>1.5</td>\n",
              "      <td>Iris-versicolor</td>\n",
              "    </tr>\n",
              "    <tr>\n",
              "      <th>53</th>\n",
              "      <td>54</td>\n",
              "      <td>5.5</td>\n",
              "      <td>2.3</td>\n",
              "      <td>4.0</td>\n",
              "      <td>1.3</td>\n",
              "      <td>Iris-versicolor</td>\n",
              "    </tr>\n",
              "    <tr>\n",
              "      <th>54</th>\n",
              "      <td>55</td>\n",
              "      <td>6.5</td>\n",
              "      <td>2.8</td>\n",
              "      <td>4.6</td>\n",
              "      <td>1.5</td>\n",
              "      <td>Iris-versicolor</td>\n",
              "    </tr>\n",
              "    <tr>\n",
              "      <th>...</th>\n",
              "      <td>...</td>\n",
              "      <td>...</td>\n",
              "      <td>...</td>\n",
              "      <td>...</td>\n",
              "      <td>...</td>\n",
              "      <td>...</td>\n",
              "    </tr>\n",
              "    <tr>\n",
              "      <th>145</th>\n",
              "      <td>146</td>\n",
              "      <td>6.7</td>\n",
              "      <td>3.0</td>\n",
              "      <td>5.2</td>\n",
              "      <td>2.3</td>\n",
              "      <td>Iris-virginica</td>\n",
              "    </tr>\n",
              "    <tr>\n",
              "      <th>146</th>\n",
              "      <td>147</td>\n",
              "      <td>6.3</td>\n",
              "      <td>2.5</td>\n",
              "      <td>5.0</td>\n",
              "      <td>1.9</td>\n",
              "      <td>Iris-virginica</td>\n",
              "    </tr>\n",
              "    <tr>\n",
              "      <th>147</th>\n",
              "      <td>148</td>\n",
              "      <td>6.5</td>\n",
              "      <td>3.0</td>\n",
              "      <td>5.2</td>\n",
              "      <td>2.0</td>\n",
              "      <td>Iris-virginica</td>\n",
              "    </tr>\n",
              "    <tr>\n",
              "      <th>148</th>\n",
              "      <td>149</td>\n",
              "      <td>6.2</td>\n",
              "      <td>3.4</td>\n",
              "      <td>5.4</td>\n",
              "      <td>2.3</td>\n",
              "      <td>Iris-virginica</td>\n",
              "    </tr>\n",
              "    <tr>\n",
              "      <th>149</th>\n",
              "      <td>150</td>\n",
              "      <td>5.9</td>\n",
              "      <td>3.0</td>\n",
              "      <td>5.1</td>\n",
              "      <td>1.8</td>\n",
              "      <td>Iris-virginica</td>\n",
              "    </tr>\n",
              "  </tbody>\n",
              "</table>\n",
              "<p>100 rows × 6 columns</p>\n",
              "</div>"
            ],
            "text/plain": [
              "      Id  SepalLengthCm  SepalWidthCm  PetalLengthCm  PetalWidthCm   \n",
              "50    51            7.0           3.2            4.7           1.4  \\\n",
              "51    52            6.4           3.2            4.5           1.5   \n",
              "52    53            6.9           3.1            4.9           1.5   \n",
              "53    54            5.5           2.3            4.0           1.3   \n",
              "54    55            6.5           2.8            4.6           1.5   \n",
              "..   ...            ...           ...            ...           ...   \n",
              "145  146            6.7           3.0            5.2           2.3   \n",
              "146  147            6.3           2.5            5.0           1.9   \n",
              "147  148            6.5           3.0            5.2           2.0   \n",
              "148  149            6.2           3.4            5.4           2.3   \n",
              "149  150            5.9           3.0            5.1           1.8   \n",
              "\n",
              "             Species  \n",
              "50   Iris-versicolor  \n",
              "51   Iris-versicolor  \n",
              "52   Iris-versicolor  \n",
              "53   Iris-versicolor  \n",
              "54   Iris-versicolor  \n",
              "..               ...  \n",
              "145   Iris-virginica  \n",
              "146   Iris-virginica  \n",
              "147   Iris-virginica  \n",
              "148   Iris-virginica  \n",
              "149   Iris-virginica  \n",
              "\n",
              "[100 rows x 6 columns]"
            ]
          },
          "metadata": {},
          "output_type": "display_data"
        }
      ],
      "source": [
        "# データセットの読み込み\n",
        "\n",
        "# dataset_path = \"drive/My Drive/DIVE INTO CODE/Sprint/Sprint13/Iris.csv\"\n",
        "df = pd.read_csv(dataset_path)\n",
        "\n",
        "# データフレームから条件抽出\n",
        "df = df[(df[\"Species\"] == \"Iris-versicolor\")|(df[\"Species\"] == \"Iris-virginica\")]\n",
        "y = df[\"Species\"]\n",
        "X = df.loc[:, [\"SepalLengthCm\", \"SepalWidthCm\", \"PetalLengthCm\", \"PetalWidthCm\"]]\n",
        "y = np.array(y)\n",
        "X = np.array(X).astype(np.float32)\n",
        "\n",
        "# ラベルを数値に変換\n",
        "y[y=='Iris-versicolor'] = 0\n",
        "y[y=='Iris-virginica'] = 1\n",
        "y = y.astype(np.float32)[:, np.newaxis]\n",
        "\n",
        "# trainとtestに分割\n",
        "X_train, X_test, y_train, y_test = train_test_split(X, y, test_size=0.2, random_state=0)\n",
        "# さらにtrainとvalに分割\n",
        "X_train, X_val, y_train, y_val = train_test_split(X_train, y_train, test_size=0.2, random_state=0)\n",
        "\n",
        "display(df)"
      ]
    },
    {
      "cell_type": "markdown",
      "metadata": {
        "id": "gTvZuy9qqZbv"
      },
      "source": [
        "### ●GetMiniBatchクラス"
      ]
    },
    {
      "cell_type": "code",
      "execution_count": 6,
      "metadata": {
        "id": "w15SV4h0pz-L"
      },
      "outputs": [],
      "source": [
        "class GetMiniBatch:\n",
        "    \"\"\"\n",
        "    ミニバッチを取得するイテレータ\n",
        "    Parameters\n",
        "    ----------\n",
        "    X : 次の形のndarray, shape (n_samples, n_features)\n",
        "      訓練データ\n",
        "    y : 次の形のndarray, shape (n_samples, 1)\n",
        "      正解値\n",
        "    batch_size : int\n",
        "      バッチサイズ\n",
        "    seed : int\n",
        "      NumPyの乱数のシード\n",
        "    \"\"\"\n",
        "    def __init__(self, X, y, batch_size = 10, seed=0):\n",
        "        self.batch_size = batch_size\n",
        "        np.random.seed(seed)\n",
        "        shuffle_index = np.random.permutation(np.arange(X.shape[0]))\n",
        "        self.X = X[shuffle_index]\n",
        "        self.y = y[shuffle_index]\n",
        "        self._stop = np.ceil(X.shape[0]/self.batch_size).astype(np.int)\n",
        "    def __len__(self):\n",
        "        return self._stop\n",
        "    def __getitem__(self,item):\n",
        "        p0 = item*self.batch_size\n",
        "        p1 = item*self.batch_size + self.batch_size\n",
        "        return self.X[p0:p1], self.y[p0:p1]        \n",
        "    def __iter__(self):\n",
        "        self._counter = 0\n",
        "        return self\n",
        "    def __next__(self):\n",
        "        if self._counter >= self._stop:\n",
        "            raise StopIteration()\n",
        "        p0 = self._counter*self.batch_size\n",
        "        p1 = self._counter*self.batch_size + self.batch_size\n",
        "        self._counter += 1\n",
        "        return self.X[p0:p1], self.y[p0:p1]"
      ]
    },
    {
      "cell_type": "markdown",
      "metadata": {
        "id": "vmLLTj7LqdqH"
      },
      "source": [
        "### ●MyModelクラス"
      ]
    },
    {
      "cell_type": "code",
      "execution_count": 7,
      "metadata": {
        "id": "KfhLHi7eqAG8"
      },
      "outputs": [],
      "source": [
        "class MyModel(tf.keras.Model):\n",
        "    def __init__(self, seed=0):\n",
        "        super().__init__()\n",
        "        # 重みとバイアスの宣言\n",
        "        self.w1 = tf.Variable(tf.random.normal([n_input, n_hidden1], seed=seed), trainable=True)\n",
        "        self.w2 = tf.Variable(tf.random.normal([n_hidden1, n_hidden2], seed=seed), trainable=True)\n",
        "        self.w3 = tf.Variable(tf.random.normal([n_hidden2, n_classes], seed=seed), trainable=True)\n",
        "        self.b1 = tf.Variable(tf.random.normal([n_hidden1], seed=seed), trainable=True)\n",
        "        self.b2 = tf.Variable(tf.random.normal([n_hidden2], seed=seed), trainable=True)\n",
        "        self.b3 = tf.Variable(tf.random.normal([n_classes], seed=seed), trainable=True)\n",
        "        \n",
        "    def call(self, x):    # MyModelクラスのインスタンスの後ろに()を付けることで実行されるメソッド\n",
        "        \"\"\"\n",
        "        単純な3層ニューラルネットワーク\n",
        "        \"\"\"\n",
        "        layer_1 = tf.add(tf.matmul(x, self.w1), self.b1)\n",
        "        layer_1 = tf.nn.relu(layer_1)\n",
        "        layer_2 = tf.add(tf.matmul(layer_1, self.w2), self.b2)\n",
        "        layer_2 = tf.nn.relu(layer_2)\n",
        "        layer_output = tf.matmul(layer_2, self.w3) + self.b3  # tf.addと+は等価である\n",
        "        return layer_output"
      ]
    },
    {
      "cell_type": "markdown",
      "metadata": {
        "id": "3hPNIPklqhXw"
      },
      "source": [
        "### ●train関数・evaluate関数"
      ]
    },
    {
      "cell_type": "code",
      "execution_count": 8,
      "metadata": {
        "id": "aWsZH60CqTDf"
      },
      "outputs": [],
      "source": [
        "def train(x, y):\n",
        "    logits = model(x, training=True)    # メモ:training引数は学習時と推定時とで処理内容を分岐させる際に使用する引数。\n",
        "                                        #      ここではMyModelのcallメソッド内でtraining引数を用いた分岐が未実装のため、意味無し。\n",
        "    # print(\"logits:\")\n",
        "    # print(logits)\n",
        "    loss = tf.reduce_mean(tf.nn.sigmoid_cross_entropy_with_logits(y, logits))\n",
        "    return loss\n",
        "\n",
        "def evaluate(x, y):\n",
        "    logits = model(x)\n",
        "    loss = tf.reduce_mean(tf.nn.sigmoid_cross_entropy_with_logits(y, logits))\n",
        "    # 推定結果\n",
        "    correct_pred = tf.equal(tf.sign(y - 0.5), tf.sign(tf.sigmoid(logits) - 0.5))\n",
        "    # 指標値計算\n",
        "    accuracy = tf.reduce_mean(tf.cast(correct_pred, tf.float32))\n",
        "    return loss, accuracy"
      ]
    },
    {
      "cell_type": "markdown",
      "metadata": {
        "id": "9DPIIsKxbo2H"
      },
      "source": [
        "### ●学習・推定・評価"
      ]
    },
    {
      "cell_type": "code",
      "execution_count": 9,
      "metadata": {
        "colab": {
          "base_uri": "https://localhost:8080/"
        },
        "id": "bvRUYNd3qRFP",
        "outputId": "ab6f3230-dee6-4873-cf92-0c5029f4634a"
      },
      "outputs": [
        {
          "name": "stderr",
          "output_type": "stream",
          "text": [
            "C:\\Users\\hhs20\\AppData\\Local\\Temp\\ipykernel_25960\\203274920.py:21: DeprecationWarning: `np.int` is a deprecated alias for the builtin `int`. To silence this warning, use `int` by itself. Doing this will not modify any behavior and is safe. When replacing `np.int`, you may wish to use e.g. `np.int64` or `np.int32` to specify the precision. If you wish to review your current use, check the release note link for additional information.\n",
            "Deprecated in NumPy 1.20; for more details and guidance: https://numpy.org/devdocs/release/1.20.0-notes.html#deprecations\n",
            "  self._stop = np.ceil(X.shape[0]/self.batch_size).astype(np.int)\n",
            "<timed exec>:22: DeprecationWarning: `np.int` is a deprecated alias for the builtin `int`. To silence this warning, use `int` by itself. Doing this will not modify any behavior and is safe. When replacing `np.int`, you may wish to use e.g. `np.int64` or `np.int32` to specify the precision. If you wish to review your current use, check the release note link for additional information.\n",
            "Deprecated in NumPy 1.20; for more details and guidance: https://numpy.org/devdocs/release/1.20.0-notes.html#deprecations\n"
          ]
        },
        {
          "name": "stdout",
          "output_type": "stream",
          "text": [
            "Epoch 0, loss : 5.5585, val_loss : 24.8139, val_acc : 0.375\n",
            "Epoch 1, loss : 1.2153, val_loss : 9.1615, val_acc : 0.562\n",
            "Epoch 2, loss : 1.0274, val_loss : 2.8046, val_acc : 0.875\n",
            "Epoch 3, loss : 0.1035, val_loss : 3.8609, val_acc : 0.688\n",
            "Epoch 4, loss : 0.1862, val_loss : 2.2632, val_acc : 0.875\n",
            "Epoch 5, loss : 0.0692, val_loss : 6.1145, val_acc : 0.750\n",
            "Epoch 6, loss : 0.3041, val_loss : 2.7296, val_acc : 0.750\n",
            "Epoch 7, loss : 0.1135, val_loss : 9.3550, val_acc : 0.750\n",
            "Epoch 8, loss : 0.5686, val_loss : 9.9539, val_acc : 0.500\n",
            "Epoch 9, loss : 0.5061, val_loss : 6.3107, val_acc : 0.750\n",
            "test_acc : 0.800\n",
            "CPU times: total: 125 ms\n",
            "Wall time: 558 ms\n"
          ]
        }
      ],
      "source": [
        "%%time\n",
        "# ハイパーパラメータの設定\n",
        "learning_rate = 0.01\n",
        "batch_size = 10\n",
        "num_epochs = 10\n",
        "n_hidden1 = 50\n",
        "n_hidden2 = 100\n",
        "n_input = X_train.shape[1]\n",
        "n_samples = X_train.shape[0]\n",
        "n_classes = 1\n",
        "# trainのミニバッチイテレータ\n",
        "get_mini_batch_train = GetMiniBatch(X_train, y_train, batch_size=batch_size, seed=0)\n",
        "\n",
        "# model = MyModel()\n",
        "model = MyModel(seed=0)\n",
        "\n",
        "# # 最適化手法\n",
        "optimizer = tf.keras.optimizers.Adam(learning_rate)\n",
        "\n",
        "# 計算グラフの実行\n",
        "for epoch in range(num_epochs):\n",
        "    # エポックごとにループ\n",
        "    total_batch = np.ceil(X_train.shape[0]/batch_size).astype(np.int)\n",
        "    total_loss = 0\n",
        "    total_acc = 0\n",
        "    for i, (mini_batch_x, mini_batch_y) in enumerate(get_mini_batch_train):\n",
        "        # ミニバッチごとにループ\n",
        "        with tf.GradientTape() as tape:\n",
        "            loss = train(mini_batch_x, mini_batch_y)\n",
        "        grads = tape.gradient(loss, model.trainable_weights)    # trainable_weightsに関するlossの勾配を算出\n",
        "        optimizer.apply_gradients(zip(grads, model.trainable_weights))     # 勾配から重みを更新\n",
        "        total_loss += loss\n",
        "    loss = total_loss / n_samples\n",
        "    val_loss, val_acc = evaluate(X_val, y_val)\n",
        "    print(\"Epoch {}, loss : {:.4f}, val_loss : {:.4f}, val_acc : {:.3f}\".format(epoch, loss, val_loss, val_acc))\n",
        "_, test_acc = evaluate(X_test, y_test)\n",
        "print(\"test_acc : {:.3f}\".format(test_acc))"
      ]
    },
    {
      "cell_type": "markdown",
      "metadata": {
        "id": "h2-9B4mRLjLs"
      },
      "source": [
        "### 【問題2 解答】\n",
        "問題1で列挙した各処理の、TensorFlowでの対応関係：\n",
        "\n",
        "●構造\n",
        "- DNNクラスの実装\n",
        "```\n",
        "tf.keras.MyModelクラスを継承したサブクラスを実装し、その中に重みWやバイアスB、callメソッド（順伝播処理）を実装。\n",
        "```\n",
        "\n",
        "●初期化時\n",
        "- ハイパーパラメータの設定\n",
        "```\n",
        "クラスの外部で各ハイパーパラメータを定義しておき、TensorFlowの各メソッド（tf.keras.optimizers.Adamなど）で使用。\n",
        "```\n",
        "\n",
        "- 各レイヤのインスタンス化（InitializerやOptimizerのインスタンス化も含む）\n",
        "```\n",
        "tf.addやtf.matmu、tf.nn.relu等を用いて全結合層や活性化関数層を非常に少ない行数で実装。\n",
        "```\n",
        "- 重みやバイアスの初期化\n",
        "```\n",
        "MyModelクラスのコンストラクタ内で、tf.random.normalを用いてtf.Variableとして生成。\n",
        "```\n",
        "- 目的変数のOneHotEncoding\n",
        "```\n",
        "Irisデータセットの準備処理にて、OneHotエンコーディングではなくラベルエンコーディングが\n",
        "目的変数に対して行われている。（多値分類ではなく２値分類だから？）\n",
        "```\n",
        "- エポック数分ループ\n",
        "```\n",
        "特記事項無し。\n",
        "```\n",
        "- イテレーション数ループ\n",
        "```\n",
        "特記事項無し。\n",
        "```\n",
        " - 順伝播処理（出力値を算出）\n",
        " ```\n",
        " イテレーションのループ処理の中でMyModelクラスのインスタンスmodelの後ろに()を付けることで、\n",
        " MyModelクラス内のcallメソッドに実装した順伝播処理処を実行する。\n",
        "```\n",
        " - 逆伝播処理（出力値から各レイヤの勾配および更新後のパラメータを算出）\n",
        " ```\n",
        " tf.GradientTapeクラスのgradientメソッドを実行することで、weightに関する損失lossの勾配を算出する。\n",
        " さらに、最適化手法のクラス（f.keras.optimizers.Adam）のapply_gradientsメソッドを用いて、\n",
        " 勾配を基に重みを更新する。\n",
        " ```\n",
        " - 損失算出\n",
        " ```\n",
        " tf.nn.sigmoid_cross_entropy_with_logitsメソッドを用いて算出。（検証データに対しても同様）\n",
        "```\n",
        "- 学習曲線のプロット\n",
        "```\n",
        "本サンプルコードでは未実装。\n",
        "```\n",
        "\n",
        "●推定時\n",
        "- 順伝播処理\n",
        "```\n",
        "学習時と同様に、MyModelクラスのcallメソッドにて実行する。\n",
        "```"
      ]
    },
    {
      "cell_type": "markdown",
      "metadata": {
        "id": "sk3GjFJP4WQ3"
      },
      "source": [
        "これまで扱ってきた小さなデータセットが他にもいくつかあります。上記サンプルコードを書き換え、これらに対して学習・推定を行うニューラルネットワークを作成してください。\n",
        "\n",
        "\n",
        "- Iris（3種類すべての目的変数を使用）\n",
        "- House Prices\n",
        "\n",
        "どのデータセットも train, val, test の3種類に分けて使用してください。"
      ]
    },
    {
      "cell_type": "markdown",
      "metadata": {
        "id": "Li4hSQzr4urV"
      },
      "source": [
        "## 【問題3】3種類すべての目的変数を使用したIrisのモデルを作成\n",
        "Irisデータセットのtrain.csvの中で、目的変数Speciesに含まれる3種類すべてを分類できるモデルを作成してください。\n",
        "\n",
        "\n",
        "- Iris Species\n",
        "\n",
        "\n",
        "2クラスの分類と3クラス以上の分類の違いを考慮してください。それがTensorFlowでどのように書き換えられるかを公式ドキュメントなどを参考に調べてください。\n",
        "\n",
        "\n",
        "《ヒント》\n",
        "\n",
        "\n",
        "以下の2箇所は2クラス分類特有の処理です。\n",
        "```\n",
        "loss_op = tf.reduce_mean(tf.nn.sigmoid_cross_entropy_with_logits(labels=y, logits=logits))\n",
        "correct_pred = tf.equal(tf.sign(Y - 0.5), tf.sign(tf.sigmoid(logits) - 0.5))\n",
        "```\n",
        "\n",
        "メソッドは以下のように公式ドキュメントを確認してください。\n",
        "\n",
        "\n",
        "tf.nn.sigmoid_cross_entropy_with_logits  |  TensorFlow\n",
        "\n",
        "\n",
        "tf.math.sign  |  TensorFlow\n",
        "\n",
        "\n",
        "＊tf.signとtf.math.signは同じ働きをします。"
      ]
    },
    {
      "cell_type": "markdown",
      "metadata": {
        "id": "9D4LUPlJYvh-"
      },
      "source": [
        "### ●Irisデータセットver2（目的変数：3値）"
      ]
    },
    {
      "cell_type": "code",
      "execution_count": 8,
      "metadata": {
        "colab": {
          "base_uri": "https://localhost:8080/",
          "height": 759
        },
        "id": "d6RKSBXIYviT",
        "outputId": "8d4d8b07-8d60-4973-feef-31ba37de46e9"
      },
      "outputs": [
        {
          "data": {
            "text/html": [
              "<div>\n",
              "<style scoped>\n",
              "    .dataframe tbody tr th:only-of-type {\n",
              "        vertical-align: middle;\n",
              "    }\n",
              "\n",
              "    .dataframe tbody tr th {\n",
              "        vertical-align: top;\n",
              "    }\n",
              "\n",
              "    .dataframe thead th {\n",
              "        text-align: right;\n",
              "    }\n",
              "</style>\n",
              "<table border=\"1\" class=\"dataframe\">\n",
              "  <thead>\n",
              "    <tr style=\"text-align: right;\">\n",
              "      <th></th>\n",
              "      <th>Id</th>\n",
              "      <th>SepalLengthCm</th>\n",
              "      <th>SepalWidthCm</th>\n",
              "      <th>PetalLengthCm</th>\n",
              "      <th>PetalWidthCm</th>\n",
              "      <th>Species</th>\n",
              "    </tr>\n",
              "  </thead>\n",
              "  <tbody>\n",
              "    <tr>\n",
              "      <th>0</th>\n",
              "      <td>1</td>\n",
              "      <td>5.1</td>\n",
              "      <td>3.5</td>\n",
              "      <td>1.4</td>\n",
              "      <td>0.2</td>\n",
              "      <td>Iris-setosa</td>\n",
              "    </tr>\n",
              "    <tr>\n",
              "      <th>1</th>\n",
              "      <td>2</td>\n",
              "      <td>4.9</td>\n",
              "      <td>3.0</td>\n",
              "      <td>1.4</td>\n",
              "      <td>0.2</td>\n",
              "      <td>Iris-setosa</td>\n",
              "    </tr>\n",
              "    <tr>\n",
              "      <th>2</th>\n",
              "      <td>3</td>\n",
              "      <td>4.7</td>\n",
              "      <td>3.2</td>\n",
              "      <td>1.3</td>\n",
              "      <td>0.2</td>\n",
              "      <td>Iris-setosa</td>\n",
              "    </tr>\n",
              "    <tr>\n",
              "      <th>3</th>\n",
              "      <td>4</td>\n",
              "      <td>4.6</td>\n",
              "      <td>3.1</td>\n",
              "      <td>1.5</td>\n",
              "      <td>0.2</td>\n",
              "      <td>Iris-setosa</td>\n",
              "    </tr>\n",
              "    <tr>\n",
              "      <th>4</th>\n",
              "      <td>5</td>\n",
              "      <td>5.0</td>\n",
              "      <td>3.6</td>\n",
              "      <td>1.4</td>\n",
              "      <td>0.2</td>\n",
              "      <td>Iris-setosa</td>\n",
              "    </tr>\n",
              "    <tr>\n",
              "      <th>...</th>\n",
              "      <td>...</td>\n",
              "      <td>...</td>\n",
              "      <td>...</td>\n",
              "      <td>...</td>\n",
              "      <td>...</td>\n",
              "      <td>...</td>\n",
              "    </tr>\n",
              "    <tr>\n",
              "      <th>145</th>\n",
              "      <td>146</td>\n",
              "      <td>6.7</td>\n",
              "      <td>3.0</td>\n",
              "      <td>5.2</td>\n",
              "      <td>2.3</td>\n",
              "      <td>Iris-virginica</td>\n",
              "    </tr>\n",
              "    <tr>\n",
              "      <th>146</th>\n",
              "      <td>147</td>\n",
              "      <td>6.3</td>\n",
              "      <td>2.5</td>\n",
              "      <td>5.0</td>\n",
              "      <td>1.9</td>\n",
              "      <td>Iris-virginica</td>\n",
              "    </tr>\n",
              "    <tr>\n",
              "      <th>147</th>\n",
              "      <td>148</td>\n",
              "      <td>6.5</td>\n",
              "      <td>3.0</td>\n",
              "      <td>5.2</td>\n",
              "      <td>2.0</td>\n",
              "      <td>Iris-virginica</td>\n",
              "    </tr>\n",
              "    <tr>\n",
              "      <th>148</th>\n",
              "      <td>149</td>\n",
              "      <td>6.2</td>\n",
              "      <td>3.4</td>\n",
              "      <td>5.4</td>\n",
              "      <td>2.3</td>\n",
              "      <td>Iris-virginica</td>\n",
              "    </tr>\n",
              "    <tr>\n",
              "      <th>149</th>\n",
              "      <td>150</td>\n",
              "      <td>5.9</td>\n",
              "      <td>3.0</td>\n",
              "      <td>5.1</td>\n",
              "      <td>1.8</td>\n",
              "      <td>Iris-virginica</td>\n",
              "    </tr>\n",
              "  </tbody>\n",
              "</table>\n",
              "<p>150 rows × 6 columns</p>\n",
              "</div>"
            ],
            "text/plain": [
              "      Id  SepalLengthCm  ...  PetalWidthCm         Species\n",
              "0      1            5.1  ...           0.2     Iris-setosa\n",
              "1      2            4.9  ...           0.2     Iris-setosa\n",
              "2      3            4.7  ...           0.2     Iris-setosa\n",
              "3      4            4.6  ...           0.2     Iris-setosa\n",
              "4      5            5.0  ...           0.2     Iris-setosa\n",
              "..   ...            ...  ...           ...             ...\n",
              "145  146            6.7  ...           2.3  Iris-virginica\n",
              "146  147            6.3  ...           1.9  Iris-virginica\n",
              "147  148            6.5  ...           2.0  Iris-virginica\n",
              "148  149            6.2  ...           2.3  Iris-virginica\n",
              "149  150            5.9  ...           1.8  Iris-virginica\n",
              "\n",
              "[150 rows x 6 columns]"
            ]
          },
          "metadata": {},
          "output_type": "display_data"
        },
        {
          "name": "stdout",
          "output_type": "stream",
          "text": [
            "y:\n",
            "['Iris-setosa' 'Iris-setosa' 'Iris-setosa' ... 'Iris-virginica'\n",
            " 'Iris-virginica' 'Iris-virginica']\n",
            "(150,)\n",
            "y_one_hot:\n",
            "[[1. 0. 0.]\n",
            " [1. 0. 0.]\n",
            " [1. 0. 0.]\n",
            " ...\n",
            " [0. 0. 1.]\n",
            " [0. 0. 1.]\n",
            " [0. 0. 1.]]\n",
            "(150, 3)\n",
            "float64\n",
            "y_train1:\n",
            "(96, 3)\n",
            "y_test1:\n",
            "(30, 3)\n",
            "y_val1:\n",
            "(24, 3)\n"
          ]
        }
      ],
      "source": [
        "# データセットの読み込み\n",
        "# dataset_path =\"Iris.csv\"\n",
        "dataset_path = \"drive/My Drive/DIVE INTO CODE/Sprint/Sprint13/Iris.csv\"\n",
        "df2 = pd.read_csv(dataset_path)\n",
        "\n",
        "# データフレームから条件抽出\n",
        "# df = df[(df[\"Species\"] == \"Iris-versicolor\")|(df[\"Species\"] == \"Iris-virginica\")]\n",
        "y = df2[\"Species\"]\n",
        "X = df2.loc[:, [\"SepalLengthCm\", \"SepalWidthCm\", \"PetalLengthCm\", \"PetalWidthCm\"]]\n",
        "y = np.array(y)\n",
        "X = np.array(X).astype(np.float32)\n",
        "\n",
        "# # ラベルエンコーディング\n",
        "# y[y=='Iris-versicolor'] = 0\n",
        "# y[y=='Iris-virginica'] = 1\n",
        "# y[y=='Iris-setosa'] = 2\n",
        "# y = y.astype(np.float32)[:, np.newaxis]\n",
        "\n",
        "# One Hotエンコーディング\n",
        "enc = OneHotEncoder(handle_unknown='ignore', sparse=False)\n",
        "y_one_hot = enc.fit_transform(y[:, np.newaxis])\n",
        "\n",
        "# trainとtestに分割\n",
        "X_train, X_test1, y_train, y_test1 = train_test_split(X, y_one_hot, test_size=0.2, random_state=0)\n",
        "# さらにtrainとvalに分割\n",
        "X_train1, X_val1, y_train1, y_val1 = train_test_split(X_train, y_train, test_size=0.2, random_state=0)\n",
        "\n",
        "display(df2)\n",
        "\n",
        "np.set_printoptions(threshold=10)    #ndarrayの要素の表示数上限を設定\n",
        "\n",
        "print(\"y:\")\n",
        "print(y)\n",
        "print(y.shape)\n",
        "print(\"y_one_hot:\")\n",
        "print(y_one_hot)\n",
        "print(y_one_hot.shape)\n",
        "print(y_one_hot.dtype)\n",
        "print(\"y_train1:\")\n",
        "print(y_train1.shape)\n",
        "print(\"y_test1:\")\n",
        "print(y_test1.shape)\n",
        "print(\"y_val1:\")\n",
        "print(y_val1.shape)"
      ]
    },
    {
      "cell_type": "markdown",
      "metadata": {
        "id": "e6MP3Kj-hPGo"
      },
      "source": [
        "### ●MyModel2クラス"
      ]
    },
    {
      "cell_type": "code",
      "execution_count": 9,
      "metadata": {
        "id": "XuUaJ5rfhPG1"
      },
      "outputs": [],
      "source": [
        "class MyModel2(tf.keras.Model):\n",
        "    def __init__(self, n_input, n_hidden1, n_hidden2, n_classes, seed=0):\n",
        "        super().__init__()\n",
        "        # 重みとバイアスの宣言\n",
        "        self.w1 = tf.Variable(tf.random.normal([n_input, n_hidden1], seed=seed), trainable=True)\n",
        "        self.w2 = tf.Variable(tf.random.normal([n_hidden1, n_hidden2], seed=seed), trainable=True)\n",
        "        self.w3 = tf.Variable(tf.random.normal([n_hidden2, n_classes], seed=seed), trainable=True)\n",
        "        self.b1 = tf.Variable(tf.random.normal([n_hidden1], seed=seed), trainable=True)\n",
        "        self.b2 = tf.Variable(tf.random.normal([n_hidden2], seed=seed), trainable=True)\n",
        "        self.b3 = tf.Variable(tf.random.normal([n_classes], seed=seed), trainable=True)\n",
        "        \n",
        "    def call(self, x):    # MyModelクラスのインスタンスの後ろに()を付けることで実行されるメソッド\n",
        "        \"\"\"\n",
        "        単純な3層ニューラルネットワーク\n",
        "        \"\"\"\n",
        "        layer_1 = tf.add(tf.matmul(x, self.w1), self.b1)\n",
        "        layer_1 = tf.nn.relu(layer_1)\n",
        "        layer_2 = tf.add(tf.matmul(layer_1, self.w2), self.b2)\n",
        "        layer_2 = tf.nn.relu(layer_2)\n",
        "        layer_output = tf.matmul(layer_2, self.w3) + self.b3  # tf.addと+は等価である\n",
        "        # layer_3 = tf.add(tf.matmul(layer_2, self.w3), self.b3)\n",
        "        # layer_output = tf.nn.softmax(layer_3)\n",
        "        return layer_output"
      ]
    },
    {
      "cell_type": "markdown",
      "metadata": {
        "id": "MNQPWt66hPG3"
      },
      "source": [
        "### ●train2関数・evaluate2関数"
      ]
    },
    {
      "cell_type": "code",
      "execution_count": 10,
      "metadata": {
        "id": "MLq5BLRihPG5"
      },
      "outputs": [],
      "source": [
        "def train2(x, y, model):\n",
        "    logits = model(x, training=True)    # メモ:training引数は学習時と推定時とで処理内容を分岐させる際に使用する引数。\n",
        "                                        #      ここではMyModelのcallメソッド内でtraining引数を用いた分岐が未実装のため、意味無し。\n",
        "    # print(\"logits:\")\n",
        "    # print(logits)\n",
        "    # loss = tf.reduce_mean(tf.nn.sigmoid_cross_entropy_with_logits(y, logits))   # sigmoid交差エントロピー算出\n",
        "    loss = tf.reduce_mean(tf.nn.softmax_cross_entropy_with_logits(y, logits))   # softmax交差エントロピー算出\n",
        "    return loss\n",
        "\n",
        "def evaluate2(x, y, model):\n",
        "    logits = model(x)\n",
        "    loss = tf.reduce_mean(tf.nn.softmax_cross_entropy_with_logits(y, logits))\n",
        "    # 推定結果\n",
        "    # correct_pred = tf.equal(tf.sign(y - 0.5), tf.sign(tf.sigmoid(logits) - 0.5))\n",
        "    # correct_pred = tf.nn.in_top_k(logits, y, 1)\n",
        "    correct_pred = tf.equal(tf.argmax(logits, 1), tf.argmax(y, 1))\n",
        "    # 指標値計算\n",
        "    accuracy = tf.reduce_mean(tf.cast(correct_pred, tf.float32))\n",
        "    return loss, accuracy"
      ]
    },
    {
      "cell_type": "markdown",
      "metadata": {
        "id": "kTxCrL-6brao"
      },
      "source": [
        "### ●学習・推定・評価"
      ]
    },
    {
      "cell_type": "code",
      "execution_count": 11,
      "metadata": {
        "colab": {
          "base_uri": "https://localhost:8080/"
        },
        "id": "vMnK80P6hPG5",
        "outputId": "c32e88ad-c531-41d9-8313-912786b1e8d7"
      },
      "outputs": [
        {
          "name": "stdout",
          "output_type": "stream",
          "text": [
            "Epoch 0, loss : 14.0510, val_loss : 8.8950, val_acc : 0.708\n",
            "Epoch 1, loss : 0.9482, val_loss : 6.1826, val_acc : 0.750\n",
            "Epoch 2, loss : 0.0661, val_loss : 1.3988, val_acc : 0.875\n",
            "Epoch 3, loss : 0.1919, val_loss : 0.9902, val_acc : 0.875\n",
            "Epoch 4, loss : 0.1579, val_loss : 5.6600, val_acc : 0.750\n",
            "Epoch 5, loss : 0.1291, val_loss : 0.3406, val_acc : 0.917\n",
            "Epoch 6, loss : 0.0876, val_loss : 2.9579, val_acc : 0.917\n",
            "Epoch 7, loss : 0.0652, val_loss : 3.7389, val_acc : 0.917\n",
            "Epoch 8, loss : 0.0231, val_loss : 0.3958, val_acc : 0.875\n",
            "Epoch 9, loss : 0.0683, val_loss : 1.7245, val_acc : 0.875\n",
            "test_acc : 0.933\n",
            "CPU times: user 1.03 s, sys: 33.3 ms, total: 1.06 s\n",
            "Wall time: 1.08 s\n"
          ]
        }
      ],
      "source": [
        "%%time\n",
        "X = X_train1\n",
        "y = y_train1\n",
        "Xv = X_val1\n",
        "yv = y_val1\n",
        "Xt = X_test1\n",
        "yt = y_test1\n",
        "\n",
        "# ハイパーパラメータの設定\n",
        "learning_rate = 0.1\n",
        "batch_size = 10\n",
        "num_epochs = 10\n",
        "n_input = X.shape[1]\n",
        "n_hidden1 = 50\n",
        "n_hidden2 = 100\n",
        "n_samples = X.shape[0]\n",
        "n_classes = 3\n",
        "# trainのミニバッチイテレータ\n",
        "get_mini_batch_train = GetMiniBatch(X, y, batch_size=batch_size, seed=0)\n",
        "\n",
        "model = MyModel2(n_input, n_hidden1, n_hidden2, n_classes, seed=0)\n",
        "\n",
        "# # 最適化手法\n",
        "optimizer = tf.keras.optimizers.Adam(learning_rate)\n",
        "\n",
        "# 計算グラフの実行\n",
        "for epoch in range(num_epochs):\n",
        "    # エポックごとにループ\n",
        "    total_batch = np.ceil(X.shape[0]/batch_size).astype(np.int)\n",
        "    total_loss = 0\n",
        "    total_acc = 0\n",
        "    for i, (mini_batch_x, mini_batch_y) in enumerate(get_mini_batch_train):\n",
        "        # ミニバッチごとにループ\n",
        "        with tf.GradientTape() as tape:\n",
        "            loss = train2(mini_batch_x, mini_batch_y, model)    # lossを算出\n",
        "        grads = tape.gradient(loss, model.trainable_weights)    # lossの値から、trainable_weightsに関するlossの勾配を算出\n",
        "        optimizer.apply_gradients(zip(grads, model.trainable_weights))     # 勾配から更新後の重みを算出\n",
        "        total_loss += loss\n",
        "    loss = total_loss / n_samples\n",
        "    val_loss, val_acc = evaluate2(Xv, yv, model)\n",
        "    print(\"Epoch {}, loss : {:.4f}, val_loss : {:.4f}, val_acc : {:.3f}\".format(epoch, loss, val_loss, val_acc))\n",
        "_, test_acc = evaluate2(Xt, yt, model)\n",
        "print(\"test_acc : {:.3f}\".format(test_acc))"
      ]
    },
    {
      "cell_type": "markdown",
      "metadata": {
        "id": "GSvJD5Fc5fP5"
      },
      "source": [
        "## 【問題4】House Pricesのモデルを作成\n",
        "回帰問題のデータセットであるHouse Pricesを使用したモデルを作成してください。\n",
        "\n",
        "\n",
        "House Prices: Advanced Regression Techniques\n",
        "\n",
        "\n",
        "この中のtrain.csvをダウンロードし、目的変数としてSalePrice、説明変数として、GrLivAreaとYearBuiltを使ってください。説明変数はさらに増やしても構いません。\n",
        "\n",
        "\n",
        "分類問題と回帰問題の違いを考慮してください。"
      ]
    },
    {
      "cell_type": "markdown",
      "metadata": {
        "id": "46QgccOQOqMl"
      },
      "source": [
        "### ●住宅価格データセット"
      ]
    },
    {
      "cell_type": "code",
      "execution_count": 12,
      "metadata": {
        "colab": {
          "base_uri": "https://localhost:8080/",
          "height": 419
        },
        "id": "D9phXx68O5vR",
        "outputId": "a6660312-a42b-49bb-e8bd-2e037fe9e5d1"
      },
      "outputs": [
        {
          "data": {
            "text/html": [
              "<div>\n",
              "<style scoped>\n",
              "    .dataframe tbody tr th:only-of-type {\n",
              "        vertical-align: middle;\n",
              "    }\n",
              "\n",
              "    .dataframe tbody tr th {\n",
              "        vertical-align: top;\n",
              "    }\n",
              "\n",
              "    .dataframe thead th {\n",
              "        text-align: right;\n",
              "    }\n",
              "</style>\n",
              "<table border=\"1\" class=\"dataframe\">\n",
              "  <thead>\n",
              "    <tr style=\"text-align: right;\">\n",
              "      <th></th>\n",
              "      <th>GrLivArea</th>\n",
              "      <th>YearBuilt</th>\n",
              "      <th>SalePrice</th>\n",
              "    </tr>\n",
              "  </thead>\n",
              "  <tbody>\n",
              "    <tr>\n",
              "      <th>0</th>\n",
              "      <td>1710</td>\n",
              "      <td>2003</td>\n",
              "      <td>208500</td>\n",
              "    </tr>\n",
              "    <tr>\n",
              "      <th>1</th>\n",
              "      <td>1262</td>\n",
              "      <td>1976</td>\n",
              "      <td>181500</td>\n",
              "    </tr>\n",
              "    <tr>\n",
              "      <th>2</th>\n",
              "      <td>1786</td>\n",
              "      <td>2001</td>\n",
              "      <td>223500</td>\n",
              "    </tr>\n",
              "    <tr>\n",
              "      <th>3</th>\n",
              "      <td>1717</td>\n",
              "      <td>1915</td>\n",
              "      <td>140000</td>\n",
              "    </tr>\n",
              "    <tr>\n",
              "      <th>4</th>\n",
              "      <td>2198</td>\n",
              "      <td>2000</td>\n",
              "      <td>250000</td>\n",
              "    </tr>\n",
              "    <tr>\n",
              "      <th>...</th>\n",
              "      <td>...</td>\n",
              "      <td>...</td>\n",
              "      <td>...</td>\n",
              "    </tr>\n",
              "    <tr>\n",
              "      <th>1455</th>\n",
              "      <td>1647</td>\n",
              "      <td>1999</td>\n",
              "      <td>175000</td>\n",
              "    </tr>\n",
              "    <tr>\n",
              "      <th>1456</th>\n",
              "      <td>2073</td>\n",
              "      <td>1978</td>\n",
              "      <td>210000</td>\n",
              "    </tr>\n",
              "    <tr>\n",
              "      <th>1457</th>\n",
              "      <td>2340</td>\n",
              "      <td>1941</td>\n",
              "      <td>266500</td>\n",
              "    </tr>\n",
              "    <tr>\n",
              "      <th>1458</th>\n",
              "      <td>1078</td>\n",
              "      <td>1950</td>\n",
              "      <td>142125</td>\n",
              "    </tr>\n",
              "    <tr>\n",
              "      <th>1459</th>\n",
              "      <td>1256</td>\n",
              "      <td>1965</td>\n",
              "      <td>147500</td>\n",
              "    </tr>\n",
              "  </tbody>\n",
              "</table>\n",
              "<p>1460 rows × 3 columns</p>\n",
              "</div>"
            ],
            "text/plain": [
              "      GrLivArea  YearBuilt  SalePrice\n",
              "0          1710       2003     208500\n",
              "1          1262       1976     181500\n",
              "2          1786       2001     223500\n",
              "3          1717       1915     140000\n",
              "4          2198       2000     250000\n",
              "...         ...        ...        ...\n",
              "1455       1647       1999     175000\n",
              "1456       2073       1978     210000\n",
              "1457       2340       1941     266500\n",
              "1458       1078       1950     142125\n",
              "1459       1256       1965     147500\n",
              "\n",
              "[1460 rows x 3 columns]"
            ]
          },
          "metadata": {},
          "output_type": "display_data"
        }
      ],
      "source": [
        "csv_path = \"drive/My Drive/DIVE INTO CODE/Week3/train.csv\" # ファイル名（パス）を指定する\n",
        "\n",
        "import pandas as pd\n",
        "df_train_org = pd.read_csv(csv_path)\n",
        "\n",
        "# df_train = df_train_org.iloc[:10000, :]   #データ数を削減\n",
        "df_train = df_train_org\n",
        "\n",
        "#GrLivArea、YearBuilt、SalePrice列のみを抽出\n",
        "df_train = df_train.loc[:, [\"GrLivArea\", \"YearBuilt\", \"SalePrice\"]]\n",
        "\n",
        "pd.set_option('display.max_rows', 150)    #最大表示行数を設定\n",
        "pd.set_option('display.max_columns', 5)   #最大表示列数を設定\n",
        "\n",
        "display(df_train)"
      ]
    },
    {
      "cell_type": "code",
      "execution_count": 13,
      "metadata": {
        "colab": {
          "base_uri": "https://localhost:8080/",
          "height": 675
        },
        "id": "5w9onWkF5pTG",
        "outputId": "457d5887-0df3-4e27-fb0d-3de6c514a6e0"
      },
      "outputs": [
        {
          "data": {
            "text/html": [
              "<div>\n",
              "<style scoped>\n",
              "    .dataframe tbody tr th:only-of-type {\n",
              "        vertical-align: middle;\n",
              "    }\n",
              "\n",
              "    .dataframe tbody tr th {\n",
              "        vertical-align: top;\n",
              "    }\n",
              "\n",
              "    .dataframe thead th {\n",
              "        text-align: right;\n",
              "    }\n",
              "</style>\n",
              "<table border=\"1\" class=\"dataframe\">\n",
              "  <thead>\n",
              "    <tr style=\"text-align: right;\">\n",
              "      <th></th>\n",
              "      <th>GrLivArea</th>\n",
              "      <th>YearBuilt</th>\n",
              "      <th>SalePrice</th>\n",
              "    </tr>\n",
              "  </thead>\n",
              "  <tbody>\n",
              "    <tr>\n",
              "      <th>GrLivArea</th>\n",
              "      <td>1.000000</td>\n",
              "      <td>0.199010</td>\n",
              "      <td>0.708624</td>\n",
              "    </tr>\n",
              "    <tr>\n",
              "      <th>YearBuilt</th>\n",
              "      <td>0.199010</td>\n",
              "      <td>1.000000</td>\n",
              "      <td>0.522897</td>\n",
              "    </tr>\n",
              "    <tr>\n",
              "      <th>SalePrice</th>\n",
              "      <td>0.708624</td>\n",
              "      <td>0.522897</td>\n",
              "      <td>1.000000</td>\n",
              "    </tr>\n",
              "  </tbody>\n",
              "</table>\n",
              "</div>"
            ],
            "text/plain": [
              "           GrLivArea  YearBuilt  SalePrice\n",
              "GrLivArea   1.000000   0.199010   0.708624\n",
              "YearBuilt   0.199010   1.000000   0.522897\n",
              "SalePrice   0.708624   0.522897   1.000000"
            ]
          },
          "metadata": {},
          "output_type": "display_data"
        },
        {
          "data": {
            "image/png": "[encoded data removed]",
            "text/plain": [
              "<Figure size 540x540 with 12 Axes>"
            ]
          },
          "metadata": {},
          "output_type": "display_data"
        }
      ],
      "source": [
        "#相関係数\n",
        "display(df_train.corr())\n",
        "\n",
        "#散布図行列を作成\n",
        "sns.pairplot(df_train, diag_kind=\"hist\");"
      ]
    },
    {
      "cell_type": "code",
      "execution_count": 14,
      "metadata": {
        "id": "fxtNLneBQdD0"
      },
      "outputs": [],
      "source": [
        "X = np.array(df_train.iloc[:, :-1])\n",
        "y = np.array(df_train.iloc[:, -1])\n",
        "\n",
        "# 標準化\n",
        "scaler = StandardScaler()\n",
        "scaler.fit(X)\n",
        "X_transformed = scaler.transform(X)\n",
        "\n",
        "#データセットを学習用と検証用に分割\n",
        "X_train, X_test4, y_train, y_test4 = train_test_split(X_transformed, y, train_size = 0.8, random_state=0)\n",
        "# さらにtrainとvalに分割\n",
        "X_train4, X_val4, y_train4, y_val4 = train_test_split(X_train, y_train, train_size=0.8, random_state=0)"
      ]
    },
    {
      "cell_type": "markdown",
      "metadata": {
        "id": "ok9GRXu4X2NB"
      },
      "source": [
        "### ●MyModel3クラス"
      ]
    },
    {
      "cell_type": "code",
      "execution_count": 15,
      "metadata": {
        "id": "KOnbEpdLX2NV"
      },
      "outputs": [],
      "source": [
        "class MyModel3(tf.keras.Model):\n",
        "    def __init__(self, n_input, n_hidden1, n_hidden2, n_classes, seed=0):\n",
        "        super().__init__()\n",
        "        # 重みとバイアスの宣言\n",
        "        self.w1 = tf.Variable(tf.random.normal([n_input, n_hidden1], seed=seed), trainable=True)\n",
        "        self.w2 = tf.Variable(tf.random.normal([n_hidden1, n_hidden2], seed=seed), trainable=True)\n",
        "        self.w3 = tf.Variable(tf.random.normal([n_hidden2, n_classes], seed=seed), trainable=True)\n",
        "        self.b1 = tf.Variable(tf.random.normal([n_hidden1], seed=seed), trainable=True)\n",
        "        self.b2 = tf.Variable(tf.random.normal([n_hidden2], seed=seed), trainable=True)\n",
        "        self.b3 = tf.Variable(tf.random.normal([n_classes], seed=seed), trainable=True)\n",
        "        \n",
        "    def call(self, x):    # MyModelクラスのインスタンスの後ろに()を付けることで実行されるメソッド\n",
        "        \"\"\"\n",
        "        単純な3層ニューラルネットワーク\n",
        "        \"\"\"\n",
        "        layer_1 = tf.add(tf.matmul(x, self.w1), self.b1)\n",
        "        layer_1 = tf.nn.relu(layer_1)\n",
        "        layer_2 = tf.add(tf.matmul(layer_1, self.w2), self.b2)\n",
        "        layer_2 = tf.nn.relu(layer_2)\n",
        "        layer_output = tf.matmul(layer_2, self.w3) + self.b3  # tf.addと+は等価である\n",
        "        # layer_3 = tf.add(tf.matmul(layer_2, self.w3), self.b3)\n",
        "        # layer_output = tf.nn.softmax(layer_3)\n",
        "        return layer_output"
      ]
    },
    {
      "cell_type": "markdown",
      "metadata": {
        "id": "Pfez--cbX2NV"
      },
      "source": [
        "### ●train3関数・evaluate3関数"
      ]
    },
    {
      "cell_type": "code",
      "execution_count": 16,
      "metadata": {
        "id": "ABY0k_QbX2NW"
      },
      "outputs": [],
      "source": [
        "def train3(x, y, model):\n",
        "    logits = model(x, training=True)    # メモ:training引数は学習時と推定時とで処理内容を分岐させる際に使用する引数。\n",
        "                                        #      ここではMyModelのcallメソッド内でtraining引数を用いた分岐が未実装のため、意味無し。\n",
        "    # print(\"logits:\")\n",
        "    # print(logits)\n",
        "    # loss = tf.reduce_mean(tf.nn.sigmoid_cross_entropy_with_logits(y, logits))   # sigmoid交差エントロピー算出（２値分類用）\n",
        "    # loss = tf.reduce_mean(tf.nn.softmax_cross_entropy_with_logits(y, logits))   # softmax交差エントロピー算出（多値分類用）\n",
        "    loss = tf.sqrt(tf.reduce_mean(tf.square(y - logits)))    # RMSE（線形回帰用）\n",
        "    return loss\n",
        "\n",
        "def evaluate3(x, y, model):\n",
        "    logits = model(x)\n",
        "    loss = tf.sqrt(tf.reduce_mean(tf.square(y - logits)))    # RMSE（線形回帰用）\n",
        "    # 推定結果\n",
        "    # correct_pred = tf.equal(tf.sign(y - 0.5), tf.sign(tf.sigmoid(logits) - 0.5))   # sigmoid交差エントロピー算出（２値分類用）\n",
        "    # correct_pred = tf.equal(tf.argmax(logits, 1), tf.argmax(y, 1))   # softmax交差エントロピー算出（多値分類用）\n",
        "    # 指標値計算\n",
        "    # accuracy = tf.reduce_mean(tf.cast(correct_pred, tf.float32))  #（分類用）\n",
        "    return loss"
      ]
    },
    {
      "cell_type": "markdown",
      "metadata": {
        "id": "HgsFYctSbtSV"
      },
      "source": [
        "### ●学習・推定・評価"
      ]
    },
    {
      "cell_type": "code",
      "execution_count": 17,
      "metadata": {
        "colab": {
          "base_uri": "https://localhost:8080/"
        },
        "id": "gxE-HXWdX2NW",
        "outputId": "36935b73-aab4-4b7b-e9ce-9cac8360ecd2"
      },
      "outputs": [
        {
          "name": "stdout",
          "output_type": "stream",
          "text": [
            "Epoch 0, loss(rmse) : 11333.2812, val_loss(rmse) : 77177.0938\n",
            "Epoch 1, loss(rmse) : 7567.9458, val_loss(rmse) : 75752.5703\n",
            "Epoch 2, loss(rmse) : 7530.4849, val_loss(rmse) : 75635.3828\n",
            "Epoch 3, loss(rmse) : 7526.1382, val_loss(rmse) : 75604.0547\n",
            "Epoch 4, loss(rmse) : 7523.9829, val_loss(rmse) : 75602.3047\n",
            "Epoch 5, loss(rmse) : 7521.9839, val_loss(rmse) : 75583.0547\n",
            "Epoch 6, loss(rmse) : 7519.9761, val_loss(rmse) : 75575.4922\n",
            "Epoch 7, loss(rmse) : 7519.7593, val_loss(rmse) : 75571.2891\n",
            "Epoch 8, loss(rmse) : 7518.8066, val_loss(rmse) : 75568.4688\n",
            "Epoch 9, loss(rmse) : 7518.3213, val_loss(rmse) : 75569.0078\n",
            "test_mse : 85237.891\n",
            "CPU times: user 6.62 s, sys: 155 ms, total: 6.77 s\n",
            "Wall time: 6.7 s\n"
          ]
        }
      ],
      "source": [
        "%%time\n",
        "X = X_train4\n",
        "y = y_train4\n",
        "Xv = X_val4\n",
        "yv = y_val4\n",
        "Xt = X_test4\n",
        "yt = y_test4\n",
        "\n",
        "# ハイパーパラメータの設定\n",
        "learning_rate = 0.1\n",
        "batch_size = 10\n",
        "num_epochs = 10\n",
        "n_input = X.shape[1]\n",
        "n_hidden1 = 50\n",
        "n_hidden2 = 100\n",
        "n_samples = X.shape[0]\n",
        "n_classes = 1\n",
        "# trainのミニバッチイテレータ\n",
        "get_mini_batch_train = GetMiniBatch(X, y, batch_size=batch_size, seed=0)\n",
        "\n",
        "model = MyModel3(n_input, n_hidden1, n_hidden2, n_classes, seed=0)\n",
        "\n",
        "# # 最適化手法\n",
        "optimizer = tf.keras.optimizers.Adam(learning_rate)\n",
        "\n",
        "# 計算グラフの実行\n",
        "for epoch in range(num_epochs):\n",
        "    # エポックごとにループ\n",
        "    total_batch = np.ceil(X.shape[0]/batch_size).astype(np.int)\n",
        "    total_loss = 0\n",
        "    total_acc = 0\n",
        "    for i, (mini_batch_x, mini_batch_y) in enumerate(get_mini_batch_train):\n",
        "        # ミニバッチごとにループ\n",
        "        with tf.GradientTape() as tape:\n",
        "            loss = train3(mini_batch_x, mini_batch_y, model)\n",
        "        grads = tape.gradient(loss, model.trainable_weights)    # trainable_weightsに関するlossの勾配を算出\n",
        "        optimizer.apply_gradients(zip(grads, model.trainable_weights))     # 勾配から重みを更新\n",
        "        total_loss += loss\n",
        "    loss = total_loss / n_samples\n",
        "    # val_loss, val_acc = evaluate3(Xv, yv, model)    # 分類用\n",
        "    val_loss = evaluate3(Xv, yv, model)   # 回帰用\n",
        "    # print(\"Epoch {}, loss : {:.4f}, val_loss : {:.4f}, val_acc : {:.3f}\".format(epoch, loss, val_loss, val_acc))   # 分類用\n",
        "    print(\"Epoch {}, loss(rmse) : {:.4f}, val_loss(rmse) : {:.4f}\".format(epoch, loss, val_loss))   # 回帰用\n",
        "test_rmse = evaluate3(Xt, yt, model)\n",
        "print(\"test_mse : {:.3f}\".format(test_rmse))"
      ]
    },
    {
      "cell_type": "markdown",
      "metadata": {
        "id": "9oSvq9Qf5jgx"
      },
      "source": [
        "##【問題5】MNISTのモデルを作成\n",
        "ニューラルネットワークのスクラッチで使用したMNISTを分類するモデルを作成してください。\n",
        "\n",
        "\n",
        "3クラス以上の分類という点ではひとつ前のIrisと同様です。入力が画像であるという点で異なります。\n",
        "\n",
        "\n",
        "スクラッチで実装したモデルの再現を目指してください。"
      ]
    },
    {
      "cell_type": "markdown",
      "metadata": {
        "id": "DoBy26n9a6s6"
      },
      "source": [
        "### ●MNISTのデータセット"
      ]
    },
    {
      "cell_type": "code",
      "execution_count": 18,
      "metadata": {
        "colab": {
          "base_uri": "https://localhost:8080/"
        },
        "id": "pSgcTwgrY82Z",
        "outputId": "b00ca413-4208-4605-d5d5-7629c3e21c50"
      },
      "outputs": [
        {
          "name": "stdout",
          "output_type": "stream",
          "text": [
            "(60000, 28, 28)\n",
            "(10000, 28, 28)\n",
            "uint8\n",
            "[[0 0 0 ... 0 0 0]\n",
            " [0 0 0 ... 0 0 0]\n",
            " [0 0 0 ... 0 0 0]\n",
            " ...\n",
            " [0 0 0 ... 0 0 0]\n",
            " [0 0 0 ... 0 0 0]\n",
            " [0 0 0 ... 0 0 0]]\n"
          ]
        }
      ],
      "source": [
        "(X_train, y_train), (X_test, y_test) = mnist.load_data()\n",
        "\n",
        "print(X_train.shape) # (60000, 28, 28)\n",
        "print(X_test.shape) # (10000, 28, 28)\n",
        "print(X_train[0].dtype) # uint8\n",
        "print(X_train[0])\n",
        "\n",
        "# # 各画像のピクセルデータを平滑化（28x28 ⇒ 784x1）\n",
        "X_train = X_train.reshape(-1, 784)\n",
        "X_test = X_test.reshape(-1, 784)"
      ]
    },
    {
      "cell_type": "code",
      "execution_count": 19,
      "metadata": {
        "colab": {
          "base_uri": "https://localhost:8080/",
          "height": 282
        },
        "id": "GLWtIegEbVPr",
        "outputId": "5b3b3cdb-d8e5-4dc0-8d51-ed6220adc868"
      },
      "outputs": [
        {
          "data": {
            "image/png": "[encoded data removed]",
            "text/plain": [
              "<Figure size 432x288 with 1 Axes>"
            ]
          },
          "metadata": {},
          "output_type": "display_data"
        }
      ],
      "source": [
        "## 画像を可視化 ##\n",
        "index = 0\n",
        "image = X_train[index].reshape(28,28)\n",
        "# X_train[index]: (784,)\n",
        "# image: (28, 28)\n",
        "plt.imshow(image, 'gray')\n",
        "plt.title('label : {}'.format(y_train[index]))\n",
        "plt.show()"
      ]
    },
    {
      "cell_type": "code",
      "execution_count": 20,
      "metadata": {
        "colab": {
          "base_uri": "https://localhost:8080/",
          "height": 401
        },
        "id": "W6NMDgYHbu_r",
        "outputId": "03d0af69-2434-467d-e890-2966d9dbd3e6"
      },
      "outputs": [
        {
          "data": {
            "image/png": "[encoded data removed]",
            "text/plain": [
              "<Figure size 432x288 with 1 Axes>"
            ]
          },
          "metadata": {},
          "output_type": "display_data"
        },
        {
          "name": "stdout",
          "output_type": "stream",
          "text": [
            "[[-105.35 -105.35 -105.35 ... -105.35 -105.35 -105.35]\n",
            " [   0.      0.      0.   ...    0.      0.      0.  ]\n",
            " [   0.      0.      0.   ...    0.      0.      0.  ]\n",
            " ...\n",
            " [   0.      0.      0.   ...    0.      0.      0.  ]\n",
            " [   0.      0.      0.   ...    0.      0.      0.  ]\n",
            " [   0.      0.      0.   ...    0.      0.      0.  ]]\n"
          ]
        }
      ],
      "source": [
        "index = 0\n",
        "image = X_train[index].reshape(28,28)\n",
        "image = image.astype(np.float) # float型に変換\n",
        "# image -= 105.35 # 意図的に負の小数値を作り出してみる\n",
        "image[0] = -105.35 # 意図的に負の小数値を作り出してみる\n",
        "\n",
        "# 自動スケーリングあり\n",
        "plt.imshow(image, 'gray')   # 最小値が0となるように自動的にスケーリングされる\n",
        "plt.title('label : {}'.format(y_train[index]))\n",
        "plt.show()\n",
        "print(image[:10]) # 値を確認"
      ]
    },
    {
      "cell_type": "code",
      "execution_count": 21,
      "metadata": {
        "colab": {
          "base_uri": "https://localhost:8080/",
          "height": 265
        },
        "id": "bqnOyS8YdTRX",
        "outputId": "7786f262-072b-4240-a376-1391bb505626"
      },
      "outputs": [
        {
          "data": {
            "image/png": "[encoded data removed]",
            "text/plain": [
              "<Figure size 432x288 with 1 Axes>"
            ]
          },
          "metadata": {},
          "output_type": "display_data"
        }
      ],
      "source": [
        "# 自動スケーリング無し\n",
        "plt.imshow(image, 'gray', vmin = 0, vmax = 255);   # 範囲外の値は0 or 255に置換される (自動スケールされない)"
      ]
    },
    {
      "cell_type": "code",
      "execution_count": 22,
      "metadata": {
        "id": "I-YJzf_9fRku"
      },
      "outputs": [],
      "source": [
        "## 画像データを正規化 ##\n",
        "X_train_transformed = X_train.astype(np.float) / 255\n",
        "X_test_transformed = X_test.astype(np.float) / 255\n",
        "# scaler = MinMaxScaler()\n",
        "# scaler.fit(X_train)\n",
        "# X_train_transformed = scaler.transform(X_train)\n",
        "# X_test_transformed = scaler.transform(X_test)\n",
        "# print(X_train_transformed.max()) # 1.0\n",
        "# print(X_test_transformed.min()) # 0.0"
      ]
    },
    {
      "cell_type": "code",
      "execution_count": 23,
      "metadata": {
        "colab": {
          "base_uri": "https://localhost:8080/"
        },
        "id": "gDYvUVXqfjkT",
        "outputId": "c9e85c27-8077-4433-e872-982c1a49ed15"
      },
      "outputs": [
        {
          "name": "stdout",
          "output_type": "stream",
          "text": [
            "(60000,)\n",
            "(60000, 10)\n",
            "float64\n",
            "[5 0 4 ... 5 6 8]\n",
            "[[0. 0. 0. ... 0. 0. 0.]\n",
            " [1. 0. 0. ... 0. 0. 0.]\n",
            " [0. 0. 0. ... 0. 0. 0.]\n",
            " ...\n",
            " [0. 0. 0. ... 0. 0. 0.]\n",
            " [0. 0. 0. ... 0. 0. 0.]\n",
            " [0. 0. 0. ... 0. 1. 0.]]\n"
          ]
        }
      ],
      "source": [
        "## One Hot Encoding ##\n",
        "enc = OneHotEncoder(handle_unknown='ignore', sparse=False)\n",
        "y_train_one_hot = enc.fit_transform(y_train[:, np.newaxis])\n",
        "y_test_one_hot = enc.transform(y_test[:, np.newaxis])\n",
        "print(y_train.shape) # (60000,)\n",
        "print(y_train_one_hot.shape) # (60000, 10)\n",
        "print(y_train_one_hot.dtype) # float64\n",
        "print(y_train)\n",
        "print(y_train_one_hot)"
      ]
    },
    {
      "cell_type": "code",
      "execution_count": 24,
      "metadata": {
        "colab": {
          "base_uri": "https://localhost:8080/"
        },
        "id": "HCTTqxvYjzjS",
        "outputId": "fe1b8b51-ca29-46a9-93be-0a2452bb7abc"
      },
      "outputs": [
        {
          "name": "stdout",
          "output_type": "stream",
          "text": [
            "(59400, 784)\n",
            "(10000, 784)\n",
            "(600, 784)\n",
            "(59400, 10)\n",
            "(10000, 10)\n",
            "(600, 10)\n"
          ]
        }
      ],
      "source": [
        "# X_train1, X_test1, y_train1, y_test1 = train_test_split(X_train_transformed, y_train, train_size=0.8, random_state=0)\n",
        "# print(X_train1.shape) # (48000, 784)\n",
        "# print(X_test1.shape) # (12000, 784)\n",
        "# print(y_train1.shape) # (48000,)\n",
        "# print(y_test1.shape) # (12000,)\n",
        "\n",
        "X_train5, X_val5, y_train5, y_val5 = train_test_split(X_train_transformed, y_train_one_hot, train_size=0.99, random_state=0)\n",
        "X_test5 = X_test_transformed\n",
        "y_test5 = y_test_one_hot\n",
        "# X_train5 = X_train5[:, np.newaxis, :, :]    # サンプルの列の次にチャネルの列を追加（チャネル数=1）\n",
        "# X_test5 = X_test5[:, np.newaxis, :, :]    # サンプルの列の次にチャネルの列を追加（チャネル数=1）\n",
        "# X_test5 = X_val5[:, np.newaxis, :, :]    # サンプルの列の次にチャネルの列を追加（チャネル数=1）\n",
        "print(X_train5.shape)\n",
        "print(X_test5.shape)\n",
        "print(X_val5.shape)\n",
        "print(y_train5.shape)\n",
        "print(y_test5.shape)\n",
        "print(y_val5.shape)\n",
        "\n",
        "# X_train2, X_test2, y_train2, y_test2 = train_test_split(X_train_transformed[:6000, :], y_train[:6000], train_size=0.8, random_state=0)\n",
        "# X_train2 = X_train2[:, np.newaxis, :, :]    # サンプルの列の次にチャネルの列を追加（チャネル数=1）\n",
        "# X_test2 = X_test2[:, np.newaxis, :, :]    # サンプルの列の次にチャネルの列を追加（チャネル数=1）\n",
        "# print(X_train2.shape) # (4800, 784)\n",
        "# print(X_test2.shape) # (1200, 784)\n",
        "# print(y_train2.shape) # (4800,)\n",
        "# print(y_test2.shape) # (1200,)\n"
      ]
    },
    {
      "cell_type": "markdown",
      "metadata": {
        "id": "e9-Yhr1rNa4x"
      },
      "source": [
        "### ●MyModel4クラス"
      ]
    },
    {
      "cell_type": "code",
      "execution_count": 25,
      "metadata": {
        "id": "O4HP7N-uNa43"
      },
      "outputs": [],
      "source": [
        "class MyModel4(tf.keras.Model):\n",
        "    def __init__(self, n_input, n_hidden1, n_hidden2, n_classes, seed=0):\n",
        "        super().__init__()\n",
        "        # 重みとバイアスの宣言\n",
        "        self.w1 = tf.Variable(tf.random.normal([n_input, n_hidden1], seed=seed), trainable=True)\n",
        "        self.w2 = tf.Variable(tf.random.normal([n_hidden1, n_hidden2], seed=seed), trainable=True)\n",
        "        self.w3 = tf.Variable(tf.random.normal([n_hidden2, n_classes], seed=seed), trainable=True)\n",
        "        self.b1 = tf.Variable(tf.random.normal([n_hidden1], seed=seed), trainable=True)\n",
        "        self.b2 = tf.Variable(tf.random.normal([n_hidden2], seed=seed), trainable=True)\n",
        "        self.b3 = tf.Variable(tf.random.normal([n_classes], seed=seed), trainable=True)\n",
        "        \n",
        "    def call(self, x):    # MyModelクラスのインスタンスの後ろに()を付けることで実行されるメソッド\n",
        "        \"\"\"\n",
        "        単純な3層ニューラルネットワーク\n",
        "        \"\"\"\n",
        "        layer_1 = tf.add(tf.matmul(x, self.w1), self.b1)\n",
        "        layer_1 = tf.nn.relu(layer_1)\n",
        "        layer_2 = tf.add(tf.matmul(layer_1, self.w2), self.b2)\n",
        "        layer_2 = tf.nn.relu(layer_2)\n",
        "        layer_output = tf.matmul(layer_2, self.w3) + self.b3  # tf.addと+は等価である\n",
        "        # layer_3 = tf.add(tf.matmul(layer_2, self.w3), self.b3)\n",
        "        # layer_output = tf.nn.softmax(layer_3)\n",
        "        return layer_output"
      ]
    },
    {
      "cell_type": "markdown",
      "metadata": {
        "id": "tSKbYodGNa44"
      },
      "source": [
        "### ●train4関数・evaluate4関数"
      ]
    },
    {
      "cell_type": "code",
      "execution_count": 26,
      "metadata": {
        "id": "5XdC7LMwNa44"
      },
      "outputs": [],
      "source": [
        "def train4(x, y, model):\n",
        "    logits = model(x, training=True)    # メモ:training引数は学習時と推定時とで処理内容を分岐させる際に使用する引数。\n",
        "                                        #      ここではMyModelのcallメソッド内でtraining引数を用いた分岐が未実装のため、意味無し。\n",
        "    # print(\"logits:\")\n",
        "    # print(logits)\n",
        "    # loss = tf.reduce_mean(tf.nn.sigmoid_cross_entropy_with_logits(y, logits))   # sigmoid交差エントロピー算出\n",
        "    loss = tf.reduce_mean(tf.nn.softmax_cross_entropy_with_logits(y, logits))   # softmax交差エントロピー算出\n",
        "    return loss\n",
        "\n",
        "def evaluate4(x, y, model):\n",
        "    logits = model(x)\n",
        "    loss = tf.reduce_mean(tf.nn.softmax_cross_entropy_with_logits(y, logits))\n",
        "    # 推定結果\n",
        "    # correct_pred = tf.equal(tf.sign(y - 0.5), tf.sign(tf.sigmoid(logits) - 0.5))\n",
        "    # correct_pred = tf.nn.in_top_k(logits, y, 1)\n",
        "    correct_pred = tf.equal(tf.argmax(logits, 1), tf.argmax(y, 1))\n",
        "    # 指標値計算\n",
        "    accuracy = tf.reduce_mean(tf.cast(correct_pred, tf.float32))\n",
        "    return loss, accuracy"
      ]
    },
    {
      "cell_type": "markdown",
      "metadata": {
        "id": "k3pf0-KAbugY"
      },
      "source": [
        "### ●学習・推定・評価"
      ]
    },
    {
      "cell_type": "code",
      "execution_count": 31,
      "metadata": {
        "colab": {
          "base_uri": "https://localhost:8080/"
        },
        "id": "X3SkIKg2Na44",
        "outputId": "b5184940-3da3-4ddd-c57e-86a9c083596a"
      },
      "outputs": [
        {
          "name": "stdout",
          "output_type": "stream",
          "text": [
            "Epoch 0, loss : 1.2848, val_loss : 0.9846, val_acc : 0.742\n",
            "Epoch 1, loss : 0.0481, val_loss : 0.7293, val_acc : 0.822\n",
            "Epoch 2, loss : 0.0425, val_loss : 0.6076, val_acc : 0.828\n",
            "test_acc : 0.817\n",
            "CPU times: user 2min 5s, sys: 5.37 s, total: 2min 10s\n",
            "Wall time: 1min 55s\n"
          ]
        }
      ],
      "source": [
        "%%time\n",
        "X = X_train5\n",
        "y = y_train5\n",
        "Xv = X_val5\n",
        "yv = y_val5\n",
        "Xt = X_test5\n",
        "yt = y_test5\n",
        "\n",
        "# ハイパーパラメータの設定\n",
        "learning_rate = 0.01\n",
        "batch_size = 20\n",
        "num_epochs = 3\n",
        "n_input = X.shape[1]\n",
        "n_hidden1 = 400\n",
        "n_hidden2 = 200\n",
        "n_samples = X.shape[0]\n",
        "n_classes = 10\n",
        "# trainのミニバッチイテレータ\n",
        "get_mini_batch_train = GetMiniBatch(X, y, batch_size=batch_size, seed=0)\n",
        "\n",
        "model = MyModel4(n_input, n_hidden1, n_hidden2, n_classes, seed=0)\n",
        "\n",
        "# # 最適化手法\n",
        "optimizer = tf.keras.optimizers.Adam(learning_rate)\n",
        "\n",
        "# 計算グラフの実行\n",
        "for epoch in range(num_epochs):\n",
        "    # エポックごとにループ\n",
        "    total_batch = np.ceil(X.shape[0]/batch_size).astype(np.int)\n",
        "    total_loss = 0\n",
        "    total_acc = 0\n",
        "    for i, (mini_batch_x, mini_batch_y) in enumerate(get_mini_batch_train):\n",
        "        # ミニバッチごとにループ\n",
        "        with tf.GradientTape() as tape:\n",
        "            loss = train4(mini_batch_x, mini_batch_y, model)    # lossを算出\n",
        "        grads = tape.gradient(loss, model.trainable_weights)    # lossの値から、trainable_weightsに関するlossの勾配を算出\n",
        "        optimizer.apply_gradients(zip(grads, model.trainable_weights))     # 勾配から更新後の重みを算出\n",
        "        total_loss += loss\n",
        "    loss = total_loss / n_samples\n",
        "    val_loss, val_acc = evaluate4(Xv, yv, model)\n",
        "    print(\"Epoch {}, loss : {:.4f}, val_loss : {:.4f}, val_acc : {:.3f}\".format(epoch, loss, val_loss, val_acc))\n",
        "_, test_acc = evaluate4(Xt, yt, model)\n",
        "print(\"test_acc : {:.3f}\".format(test_acc))"
      ]
    },
    {
      "cell_type": "code",
      "execution_count": null,
      "metadata": {
        "id": "NwjxYnB1ZvJE"
      },
      "outputs": [],
      "source": []
    }
  ],
  "metadata": {
    "colab": {
      "collapsed_sections": [],
      "name": "DIC_Sprint13_TensorFlow.ipynb",
      "provenance": [],
      "toc_visible": true
    },
    "kernelspec": {
      "display_name": "Python 3",
      "name": "python3"
    },
    "language_info": {
      "codemirror_mode": {
        "name": "ipython",
        "version": 3
      },
      "file_extension": ".py",
      "mimetype": "text/x-python",
      "name": "python",
      "nbconvert_exporter": "python",
      "pygments_lexer": "ipython3",
      "version": "3.10.9"
    }
  },
  "nbformat": 4,
  "nbformat_minor": 0
}

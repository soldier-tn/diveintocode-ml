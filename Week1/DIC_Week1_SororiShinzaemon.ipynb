{
  "nbformat": 4,
  "nbformat_minor": 0,
  "metadata": {
    "colab": {
      "name": "DIC_Week1_SororiShinzaemon.ipynb",
      "provenance": [],
      "collapsed_sections": [],
      "toc_visible": true
    },
    "kernelspec": {
      "name": "python3",
      "display_name": "Python 3"
    },
    "language_info": {
      "name": "python"
    }
  },
  "cells": [
    {
      "cell_type": "markdown",
      "metadata": {
        "id": "IWz1Bs6QPJ2v"
      },
      "source": [
        "#Week1 Python入門課題"
      ]
    },
    {
      "cell_type": "markdown",
      "metadata": {
        "id": "ewnuMag9RJF5"
      },
      "source": [
        "##●曽呂利新左衛門問題"
      ]
    },
    {
      "cell_type": "markdown",
      "metadata": {
        "id": "WP0fbljURPvy"
      },
      "source": [
        "###【問題1】100日目の米粒の数\n",
        "100日目には合計で米粒をいくつもらっているのかを計算するコードを作成し、答えを出力してください。また、1日目から100日目までの「その日にもらう米の数」と「その日までに累計で貰う米の数」の推移を折れ線グラフで表現してください。（縦軸が米の数、横軸が日数）"
      ]
    },
    {
      "cell_type": "code",
      "metadata": {
        "colab": {
          "base_uri": "https://localhost:8080/",
          "height": 351
        },
        "id": "KY_eeEshSBwZ",
        "outputId": "24164851-3743-4a28-ec07-da173c6948dd"
      },
      "source": [
        "grain = 1                #その日にもらう米粒の数\n",
        "total_grain = grain      #その日までにもらう米粒の累計\n",
        "grain_values = []        #その日にもらう米粒の数のリスト\n",
        "total_grain_values = []  #その日までにもらう米粒の累計のリスト\n",
        "elapsed_days = 100   #経過日数\n",
        "\n",
        "grain_values.append(grain)\n",
        "total_grain_values.append(total_grain)\n",
        "\n",
        "for i in range(elapsed_days - 1):\n",
        "  grain *= 2\n",
        "  grain_values.append(grain)\n",
        "  total_grain += grain\n",
        "  total_grain_values.append(total_grain)\n",
        "print(\"100日目までにもらう米粒の累計： {}粒\".format(total_grain))\n",
        "\n",
        "import matplotlib.pyplot as plt\n",
        "import matplotlib.style\n",
        "%matplotlib inline\n",
        "matplotlib.style.use('ggplot')\n",
        "# グラフを表示する。タイトルと軸ラベル名付き。\n",
        "fig, ax = plt.subplots()\n",
        "ax.set_title(\"number of grain versus elapsed days\")\n",
        "ax.set_xlabel(\"elapsed days\")\n",
        "ax.set_ylabel(\"number of grain\")\n",
        "ax.plot(range(1,101), grain_values, label=\"grain\")\n",
        "ax.plot(range(1,101), total_grain_values, label=\"total_grain\")\n",
        "ax.legend(loc='best') # 凡例を表示\n",
        "plt.show()\n",
        "\n",
        "\n",
        "'''\n",
        "#確認用\n",
        "print(\"\\n\")\n",
        "print(\"###各日までの米粒の累計###\")\n",
        "for i, temp_grain in enumerate(grain_values):\n",
        "  print(\"{}日目にもらう数： {}粒, その日までの累計： {}粒\".format(i+1, temp_grain, total_grain_values[i]))\n",
        "'''"
      ],
      "execution_count": 1,
      "outputs": [
        {
          "output_type": "stream",
          "text": [
            "100日目までにもらう米粒の累計： 1267650600228229401496703205375粒\n"
          ],
          "name": "stdout"
        },
        {
          "output_type": "display_data",
          "data": {
            "image/png": "[encoded data removed]",
            "text/plain": [
              "<Figure size 432x288 with 1 Axes>"
            ]
          },
          "metadata": {
            "tags": []
          }
        },
        {
          "output_type": "execute_result",
          "data": {
            "application/vnd.google.colaboratory.intrinsic+json": {
              "type": "string"
            },
            "text/plain": [
              "'\\n#確認用\\nprint(\"\\n\")\\nprint(\"###各日までの米粒の累計###\")\\nfor i, temp_grain in enumerate(grain_values):\\n  print(\"{}日目にもらう数： {}粒, その日までの累計： {}粒\".format(i+1, temp_grain, total_grain_values[i]))\\n'"
            ]
          },
          "metadata": {
            "tags": []
          },
          "execution_count": 1
        }
      ]
    },
    {
      "cell_type": "markdown",
      "metadata": {
        "id": "YEQ4VzInS16Y"
      },
      "source": [
        "###【問題2】100日目以外の米粒の数\n",
        "この逸話は30日だったり81日だったりと日数が曖昧です。どの話にも対応できるように日数を引数とした 関数 を作成しましょう。関数を作成した上で、コース受講日数でいくつ米粒をもらえるかを答えてください。問題1と同様に折れ線グラフも出力してください。\n",
        "\n",
        "\n",
        "以下の雛形には関数としての枠組みだけではなく、引数や戻り値についてのコメントも記載してあります。参考にして、自分なりにも分かりやすくコメントを書き換えてください。"
      ]
    },
    {
      "cell_type": "code",
      "metadata": {
        "colab": {
          "base_uri": "https://localhost:8080/",
          "height": 316
        },
        "id": "XFjTbJbgSlaX",
        "outputId": "bb7d31e5-1c86-49c8-a0a2-976573ad70af"
      },
      "source": [
        "def compute_sorori_shinzaemon(n_days=100):\n",
        "    #曽呂利新左衛門の米の逸話における、日にちごとの米の粒の数を計算する関数。\n",
        "\n",
        "    #Parameteres\n",
        "    #n_days                  #米を貰う日数 (default : 100)\n",
        "\n",
        "    #Returns\n",
        "    grain_values = []        #その日にもらう米粒の数のリスト\n",
        "    total_grain_values = []  #その日までにもらう米粒の累計のリスト\n",
        "\n",
        "    #Temporary variables\n",
        "    grain = 1                #その日にもらう米粒の数\n",
        "    total_grain = grain      #その日までにもらう米粒の累計\n",
        "    \n",
        "\n",
        "    grain_values.append(grain)\n",
        "    total_grain_values.append(total_grain)\n",
        "\n",
        "    for i in range(n_days - 1):\n",
        "      grain *= 2\n",
        "      grain_values.append(grain)\n",
        "      total_grain += grain\n",
        "      total_grain_values.append(total_grain)\n",
        "    print(\"{}日目までにもらう米粒の累計： {}粒\".format(n_days, total_grain))\n",
        "    return grain_values, total_grain_values\n",
        "\n",
        "\n",
        "elapsed_days = 123    #経過日数(コース受講日数：123日)\n",
        "\n",
        "grain_values, total_grain_values = compute_sorori_shinzaemon(n_days=elapsed_days)\n",
        "\n",
        "import matplotlib.pyplot as plt\n",
        "import matplotlib.style\n",
        "%matplotlib inline\n",
        "matplotlib.style.use('ggplot')\n",
        "# グラフを表示する。タイトルと軸ラベル名付き。\n",
        "fig, ax = plt.subplots()\n",
        "ax.set_title(\"number of grain versus elapsed days\")\n",
        "ax.set_xlabel(\"elapsed days\")\n",
        "ax.set_ylabel(\"number of grain\")\n",
        "ax.plot(range(1,elapsed_days+1), grain_values, label=\"grain\")\n",
        "ax.plot(range(1,elapsed_days+1), total_grain_values, label=\"total_grain\")\n",
        "ax.legend(loc='best') # 凡例を表示\n",
        "plt.show()\n"
      ],
      "execution_count": 2,
      "outputs": [
        {
          "output_type": "stream",
          "text": [
            "123日目までにもらう米粒の累計： 10633823966279326983230456482242756607粒\n"
          ],
          "name": "stdout"
        },
        {
          "output_type": "display_data",
          "data": {
            "image/png": "[encoded data removed]",
            "text/plain": [
              "<Figure size 432x288 with 1 Axes>"
            ]
          },
          "metadata": {
            "tags": []
          }
        }
      ]
    },
    {
      "cell_type": "markdown",
      "metadata": {
        "id": "iA5sJJosS-3o"
      },
      "source": [
        "###【問題3】貰える米で何人が何日生活できるか\n",
        "この米があれば何人が何日生活できるか計算する関数を作成してください。コースを受講する期間に貰える米粒で、このクラスにいる人数であれば、何日間生活できるかを出力してみましょう。\n",
        "\n",
        "\n",
        "関数の最低限の入力は 米粒の数(int) と 人数(int) 、出力は 生活できる日数(int) です。関数名やコメントなどは分かりやすく考えて作成してください。\n",
        "\n",
        "\n",
        "ここでは1日に必要な米粒の数は提示しません。自分なりに調べて、計算式に落とし込んでください。どう調べ、何を根拠にしたかもコメントを残しておいてください。"
      ]
    },
    {
      "cell_type": "code",
      "metadata": {
        "colab": {
          "base_uri": "https://localhost:8080/"
        },
        "id": "AxgFXie-UuC-",
        "outputId": "e25e71ce-3def-4c17-8c69-b6512990e00c"
      },
      "source": [
        "def compute_limit_days(arg_grain = 6482 * 100, arg_student_num = 14):\n",
        "    \n",
        "    #Parameters\n",
        "    #arg_grain          #もらえる米粒数\n",
        "    #arg_student_num    #人数\n",
        "\n",
        "    #Returns\n",
        "    #ret_limit_days      #生活できる日数\n",
        "\n",
        "    GRAIN_PER_PERSON_PER_DAY = (6482 / 2) * 3       #1日（3食）の一人当たりの米粒数　＜補足＞1合の米粒数：6482、1食：半合⇒6482/2\n",
        "    '''\n",
        "    （参考）『お米の１合は米粒何粒？？？』http://www.katuranousan.com/?p=599\n",
        "    '''\n",
        "\n",
        "    necessary_grain = GRAIN_PER_PERSON_PER_DAY * arg_student_num    #全受講生が一日に必要とする米粒数\n",
        "\n",
        "    ret_limit_days = int(arg_grain / necessary_grain)     #生活できる日数 （小数点以下は切り捨て）\n",
        "    return ret_limit_days\n",
        "\n",
        "\n",
        "grain = 10633823966279326983230456482242756607   #受講期間中にもらえる米粒数 (問題2で算出した値)\n",
        "student_num = 14    #受講生の人数\n",
        "\n",
        "limit_days = compute_limit_days(arg_grain = grain, arg_student_num = student_num)\n",
        "print(\"{}粒のお米で{}人の受講生が生活できる日数： {}日\".format(grain, student_num, limit_days))\n"
      ],
      "execution_count": 5,
      "outputs": [
        {
          "output_type": "stream",
          "text": [
            "10633823966279326983230456482242756607粒のお米で14人の受講生が生活できる日数： 78119804045483660915640864079872日\n"
          ],
          "name": "stdout"
        }
      ]
    },
    {
      "cell_type": "code",
      "metadata": {
        "id": "c7mHIni7dxuD"
      },
      "source": [
        ""
      ],
      "execution_count": null,
      "outputs": []
    }
  ]
}
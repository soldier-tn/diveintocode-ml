{
  "nbformat": 4,
  "nbformat_minor": 0,
  "metadata": {
    "colab": {
      "name": "DIC_Week1_MtFuji_Origami.ipynb",
      "provenance": [],
      "collapsed_sections": [],
      "toc_visible": true
    },
    "kernelspec": {
      "name": "python3",
      "display_name": "Python 3"
    },
    "language_info": {
      "name": "python"
    }
  },
  "cells": [
    {
      "cell_type": "markdown",
      "metadata": {
        "id": "IWz1Bs6QPJ2v"
      },
      "source": [
        "#Week1 Python入門課題"
      ]
    },
    {
      "cell_type": "markdown",
      "metadata": {
        "id": "ewnuMag9RJF5"
      },
      "source": [
        "##●富士山紙折問題\n",
        "紙を折った時の厚さの数式\n",
        "紙を \n",
        "n\n",
        " 回折ったときの厚さを \n",
        "t\n",
        "n\n",
        " としたとき、以下のように表せます。\n",
        "\n",
        "\n",
        "t\n",
        "n\n",
        "=\n",
        "t\n",
        "0\n",
        "×\n",
        "2^\n",
        "n\n",
        "\n",
        "一般的なコピー用紙の厚さはおよそ 0.00008m なので、\n",
        "t\n",
        "0\n",
        "=\n",
        "0.00008\n",
        " とします。"
      ]
    },
    {
      "cell_type": "markdown",
      "metadata": {
        "id": "WP0fbljURPvy"
      },
      "source": [
        "###【問題1】何回折ったら富士山を超えるか\n",
        "厚さが「富士山の高さ(3776m)」を超えるのに必要な紙を折る最小回数を計算するプログラムを作成してください。"
      ]
    },
    {
      "cell_type": "code",
      "metadata": {
        "colab": {
          "base_uri": "https://localhost:8080/"
        },
        "id": "wA2I_DVAV5Sj",
        "outputId": "983211e3-f61b-434c-f421-3c17e8f0632b"
      },
      "source": [
        "import numpy as np\n",
        "import math\n",
        "\n",
        "height = 3776   #富士山の高さ[m]\n",
        "THICKNESS = 0.00008    #紙の厚さ[m]\n",
        "\n",
        "n = np.log2(height / THICKNESS)   #紙を折る回数\n",
        "print(\"高さ={}mを超えるのに必要な紙を折る回数： {}\".format(height, math.ceil(n)))"
      ],
      "execution_count": 1,
      "outputs": [
        {
          "output_type": "stream",
          "text": [
            "高さ=3776mを超えるのに必要な紙を折る回数： 26\n"
          ],
          "name": "stdout"
        }
      ]
    },
    {
      "cell_type": "markdown",
      "metadata": {
        "id": "h3TyqAfgYcO_"
      },
      "source": [
        "###【問題2】任意の厚さに対応した関数\n",
        "高さを入力すると、それを超えるのに必要な紙を折る最小回数を出力する関数を実装してください。引数として、折る前の厚さ \n",
        "t\n",
        "0\n",
        " も設定できるようにしましょう。\n",
        "\n",
        "\n",
        "この関数を利用して、「最も近い太陽以外の恒星」に到達するには紙を何回折る必要があるか計算してください。\n",
        "「最も近い太陽以外の恒星」は「プロキシマ・ケンタウリ」で、地球からの距離はおよそ \n",
        "4.0175\n",
        "×\n",
        "10^\n",
        "16\n",
        "m です。"
      ]
    },
    {
      "cell_type": "code",
      "metadata": {
        "colab": {
          "base_uri": "https://localhost:8080/"
        },
        "id": "d6ghDbFbYnA9",
        "outputId": "b47ae990-fe58-44b2-a90c-a75e773f747e"
      },
      "source": [
        "def compute_fold_num(arg_height = 1000, arg_thickness = 0.00008):\n",
        "    '''\n",
        "    #Description: #高さを入力すると、それを超えるのに必要な紙を折る最小回数を出力する関数\n",
        "\n",
        "    #Parameters:\n",
        "    arg_height     #高さ[m]\n",
        "    arg_thickness  #紙の厚さ[m]\n",
        "\n",
        "    #Returns:\n",
        "    ret_fold_num   #高さを超えるのに必要な紙を折る最小回数\n",
        "    '''\n",
        "\n",
        "    n = np.log2(arg_height / arg_thickness)   #紙を折る回数\n",
        "    ret_fold_num = math.ceil(n)           #紙を折る回数（小数点以下切り上げ）\n",
        "\n",
        "    return ret_fold_num\n",
        "\n",
        "\n",
        "#height = 3776\n",
        "height = 4.0175 * 10**16\n",
        "thickness = 0.00008\n",
        "\n",
        "print(\"高さ={}mを超えるのに必要な紙を折る回数： {}\".format(height, compute_fold_num(height, thickness)))"
      ],
      "execution_count": 2,
      "outputs": [
        {
          "output_type": "stream",
          "text": [
            "高さ=4.0175e+16mを超えるのに必要な紙を折る回数： 69\n"
          ],
          "name": "stdout"
        }
      ]
    },
    {
      "cell_type": "markdown",
      "metadata": {
        "id": "MDJa4Pm7ksWv"
      },
      "source": [
        "###【問題3】必要な紙の長さ\n",
        "実際のところ身近にある紙は43回はおろか10回も折れません。しかし、大きな紙ほどたくさん折ることができ、トイレットペーパーのような長い紙を一方向に折ることを考えた時の折れる回数を求める公式が存在します。\n",
        "\n",
        "\n",
        "厚さ \n",
        "t\n",
        "0\n",
        " の紙をn回折るために必要な紙の長さLは以下の公式で求まります。\n",
        "\n",
        "\n",
        "L\n",
        "=\n",
        "π\n",
        "t\n",
        "0/\n",
        "6 * \n",
        "(\n",
        "2^\n",
        "n\n",
        "+\n",
        "4\n",
        ")\n",
        "(\n",
        "2^\n",
        "n\n",
        "−\n",
        "1\n",
        ")\n",
        "\n",
        "この公式を利用して、実際に紙を折り任意の厚さに到達するために必要な紙の長さを求める関数を実装してください。\n",
        "\n",
        "\n",
        "そしてこれを使って「月」「富士山」「最も近い太陽以外の恒星」に届くために必要な紙の長さを求めてください。"
      ]
    },
    {
      "cell_type": "code",
      "metadata": {
        "id": "c7mHIni7dxuD",
        "colab": {
          "base_uri": "https://localhost:8080/"
        },
        "outputId": "1b139b79-8050-4166-9475-20466f3140a4"
      },
      "source": [
        "def compute_paper_length(arg_fold_num, arg_thickness):\n",
        "    '''\n",
        "    #Description: 紙を折り任意の厚さに到達するために必要な紙の長さを求める関数\n",
        "\n",
        "    #Parameters:\n",
        "    arg_fold_num   #紙を折る回数\n",
        "    arg_thickness  #紙の厚さ[m]\n",
        "\n",
        "    #Returns:\n",
        "    ret_length     #紙を「arg_fold_num」回折るために必要な紙の長さ\n",
        "    '''\n",
        "\n",
        "    ret_length = (np.pi*arg_thickness / 6)*(2**arg_fold_num + 4)*(2**arg_fold_num - 1)\n",
        "\n",
        "    return ret_length\n",
        "\n",
        "thickness = 0.00008\n",
        "\n",
        "height = 384400*10**3     #富士山の高さ[m]\n",
        "print(\"###月までの距離({}m)に届くために必要な紙の長さ###\".format(height))\n",
        "fold_num = compute_fold_num(height, thickness)\n",
        "print(\"{}mを超えるのに必要な紙を折る回数： {}\".format(height, fold_num))\n",
        "paper_length = compute_paper_length(fold_num, thickness)\n",
        "print(\"紙を{}回折るのに必要な紙の長さ： {}m\".format(fold_num, paper_length))\n",
        "\n",
        "print(\"\\n\")\n",
        "\n",
        "height = 3776     #富士山の高さ[m]\n",
        "print(\"###富士山の高さ({}m)に届くために必要な紙の長さ###\".format(height))\n",
        "fold_num = compute_fold_num(height, thickness)\n",
        "print(\"{}mを超えるのに必要な紙を折る回数： {}\".format(height, fold_num))\n",
        "paper_length = compute_paper_length(fold_num, thickness)\n",
        "print(\"紙を{}回折るのに必要な紙の長さ： {}m\".format(fold_num, paper_length))\n",
        "\n",
        "print(\"\\n\")\n",
        "    \n",
        "height = 4.0175*10**16     #最も近い太陽以外の恒星までの距離[m]\n",
        "print(\"###最も近い太陽以外の恒星までの距離({}m)に届くために必要な紙の長さ###\".format(height))\n",
        "fold_num = compute_fold_num(height, thickness)\n",
        "print(\"{}mを超えるのに必要な紙を折る回数： {}\".format(height, fold_num))\n",
        "paper_length = compute_paper_length(fold_num, thickness)\n",
        "print(\"紙を{}回折るのに必要な紙の長さ： {}m\".format(fold_num, paper_length))\n"
      ],
      "execution_count": 3,
      "outputs": [
        {
          "output_type": "stream",
          "text": [
            "###月までの距離(384400000m)に届くために必要な紙の長さ###\n",
            "384400000mを超えるのに必要な紙を折る回数： 43\n",
            "紙を43回折るのに必要な紙の長さ： 3.240919444170781e+21m\n",
            "\n",
            "\n",
            "###富士山の高さ(3776m)に届くために必要な紙の長さ###\n",
            "3776mを超えるのに必要な紙を折る回数： 26\n",
            "紙を26回折るのに必要な紙の長さ： 188646348487.24017m\n",
            "\n",
            "\n",
            "###最も近い太陽以外の恒星までの距離(4.0175e+16m)に届くために必要な紙の長さ###\n",
            "4.0175e+16mを超えるのに必要な紙を折る回数： 69\n",
            "紙を69回折るのに必要な紙の長さ： 1.4595803601100348e+37m\n"
          ],
          "name": "stdout"
        }
      ]
    }
  ]
}
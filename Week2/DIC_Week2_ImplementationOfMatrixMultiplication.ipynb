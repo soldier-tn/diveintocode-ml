{
  "nbformat": 4,
  "nbformat_minor": 0,
  "metadata": {
    "colab": {
      "name": "DIC_Week2_ImplementationOfMatrixMultiplication.ipynb",
      "provenance": [],
      "collapsed_sections": [],
      "toc_visible": true
    },
    "kernelspec": {
      "name": "python3",
      "display_name": "Python 3"
    },
    "language_info": {
      "name": "python"
    }
  },
  "cells": [
    {
      "cell_type": "markdown",
      "metadata": {
        "id": "IWz1Bs6QPJ2v"
      },
      "source": [
        "#Week2 機械学習のための数学"
      ]
    },
    {
      "cell_type": "markdown",
      "metadata": {
        "id": "ewnuMag9RJF5"
      },
      "source": [
        "##●行列積の実装\n"
      ]
    },
    {
      "cell_type": "markdown",
      "metadata": {
        "id": "WP0fbljURPvy"
      },
      "source": [
        "###【問題1】行列積を手計算する\n",
        "AとBの行列積を手計算で解いてください。\n",
        "\n",
        "計算過程もマークダウンテキストを用いて説明してください。"
      ]
    },
    {
      "cell_type": "markdown",
      "metadata": {
        "id": "5lPbs7CQodnT"
      },
      "source": [
        "####【問題1 解答】\n",
        "$$\n",
        "\\boldsymbol{A} =\n",
        "\\begin{bmatrix}\n",
        "-1 & 2 & 3 \\\\\n",
        "4 & -5 & 6 \\\\\n",
        "7 & 8 & -9\n",
        "\\end{bmatrix}\n",
        "\\boldsymbol{B} =\n",
        "\\begin{bmatrix}\n",
        "0 & 2 & 1 \\\\\n",
        "0 & 2 & -8 \\\\\n",
        "2 & 9 & -1\n",
        "\\end{bmatrix}\\\\\n",
        "\\begin{align}\n",
        "\\boldsymbol{AB} &=\n",
        "\\begin{bmatrix}\n",
        "-1 \\times 0\\ + 2 \\times 0\\ + 3 \\times 2 &  -1 \\times 2\\ + 2 \\times 2\\ + 3 \\times 9 & -1 \\times 1\\ + 2 \\times \\bigl(-8 \\bigr)\\ + 3 \\times \\bigl(-1 \\bigr) \\\\\n",
        "4  \\times 0\\ - 5 \\times 0\\ + 6 \\times 2 &  4  \\times 2\\ - 5 \\times 2\\ + 6 \\times 9 &  4 \\times 1\\ - 5 \\times \\bigl(-8 \\bigr)\\ + 6 \\times \\bigl(-1 \\bigr) \\\\\n",
        "7  \\times 0\\ + 8 \\times 0\\ - 9 \\times 2 &  7  \\times 2\\ + 8 \\times 2\\ - 9 \\times 9 &  7 \\times 1\\ + 8 \\times \\bigl(-8 \\bigr)\\ - 9 \\times \\bigl(-1 \\bigr) \\\\\n",
        "\\end{bmatrix}\\\\\n",
        "&=\n",
        "\\begin{bmatrix}\n",
        "6 & 29 & -20 \\\\\n",
        "12 & 52 & 38 \\\\\n",
        "-18 & -51 & -48\n",
        "\\end{bmatrix}\n",
        "\\end{align}\n",
        "$$"
      ]
    },
    {
      "cell_type": "markdown",
      "metadata": {
        "id": "DRuZXr5F3fs0"
      },
      "source": [
        "###【問題2】NumPyの関数による計算\n",
        "この行列積はNumPyのnp.matmul()やnp.dot()、または@演算子を使うことで簡単に計算できます。\n",
        "\n",
        "\n",
        "これらを使い行列積を計算してください。"
      ]
    },
    {
      "cell_type": "code",
      "metadata": {
        "colab": {
          "base_uri": "https://localhost:8080/"
        },
        "id": "KY_eeEshSBwZ",
        "outputId": "6e803953-a4b1-4301-a0e8-c9d604b9953b"
      },
      "source": [
        "import numpy as np\n",
        "\n",
        "A_ndarray = np.array([[-1, 2, 3], [4, -5, 6], [7, 8, -9]])\n",
        "B_ndarray = np.array([[0, 2, 1], [0, 2, -8], [2, 9, -1]])\n",
        "\n",
        "AB_ndarray = np.matmul(A_ndarray, B_ndarray)\n",
        "\n",
        "print(\"AB=\\n{}\".format(AB_ndarray))\n"
      ],
      "execution_count": 1,
      "outputs": [
        {
          "output_type": "stream",
          "text": [
            "AB=\n",
            "[[  6  29 -20]\n",
            " [ 12  52  38]\n",
            " [-18 -51 -48]]\n"
          ],
          "name": "stdout"
        }
      ]
    },
    {
      "cell_type": "markdown",
      "metadata": {
        "id": "1R5OvF_O8i9g"
      },
      "source": [
        "###【問題3】ある要素の計算を実装\n",
        "手計算をする際はまず行列Aの0行目と行列Bの0列目に注目し、以下の計算を行ったかと思います。\n",
        "\n",
        "\n",
        "行列Aの(0,0)の要素 \n",
        "a\n",
        "0\n",
        ",\n",
        "0\n",
        " と行列Bの(0,0)の要素 \n",
        "b\n",
        "0\n",
        ",\n",
        "0\n",
        " を掛け合わせる\n",
        "行列Aの(0,1)の要素 \n",
        "a\n",
        "0\n",
        ",\n",
        "1\n",
        " と行列Bの(1,0)の要素 \n",
        "b\n",
        "1\n",
        ",\n",
        "0\n",
        " を掛け合わせる\n",
        "行列Aの(0,2)の要素 \n",
        "a\n",
        "0\n",
        ",\n",
        "2\n",
        " と行列Bの(2,0)の要素 \n",
        "b\n",
        "2\n",
        ",\n",
        "0\n",
        " を掛け合わせる\n",
        "それらの値をすべて足し合わせる\n",
        "\n",
        "数式で表すと\n",
        "\n",
        "\n",
        "2\n",
        "∑\n",
        "k\n",
        "=\n",
        "0\n",
        " \n",
        "a\n",
        "0\n",
        ",\n",
        "k\n",
        "b\n",
        "k\n",
        ",\n",
        "0\n",
        "\n",
        "です。\n",
        "\n",
        "\n",
        "この計算をnp.matmul()やnp.dot()、または@演算子を使わずに行うコードを書いてください。"
      ]
    },
    {
      "cell_type": "code",
      "metadata": {
        "colab": {
          "base_uri": "https://localhost:8080/"
        },
        "id": "YIvaNFxy3lPN",
        "outputId": "0fb963a5-b89a-4ec1-88f9-a21bd081aa30"
      },
      "source": [
        "AB_0_0 = 0    #行列ABの(0, 0)の要素\n",
        "\n",
        "for k in range(A_ndarray.shape[1]):\n",
        "    AB_0_0 += A_ndarray[0][k] * B_ndarray[k][0]\n",
        "print(\"行列ABの(0, 0)= {}\".format(AB_0_0))"
      ],
      "execution_count": 2,
      "outputs": [
        {
          "output_type": "stream",
          "text": [
            "行列ABの(0, 0)= 6\n"
          ],
          "name": "stdout"
        }
      ]
    },
    {
      "cell_type": "markdown",
      "metadata": {
        "id": "Ljsv1DphA2Yb"
      },
      "source": [
        "###【問題4】行列積を行う関数の作成\n",
        "問題3のコードを拡張し、行列積のスクラッチ実装を完成させてください。行列AとBを引数に受け取り、行列積を返す関数としてください。\n",
        "\n",
        "\n",
        "行列積を計算する場合は、問題3の計算を異なる行や列に対して繰り返していくことになります。\n",
        "\n",
        "\n",
        "計算結果である \n",
        "3\n",
        "×\n",
        "3\n",
        " の行列Cの各要素 \n",
        "c\n",
        "i\n",
        ",\n",
        "j\n",
        " は数式で表すと次のようになります。"
      ]
    },
    {
      "cell_type": "code",
      "metadata": {
        "colab": {
          "base_uri": "https://localhost:8080/"
        },
        "id": "WDtXsvmv9dPz",
        "outputId": "9e26a620-8de1-4729-8af8-f34b78ca38a0"
      },
      "source": [
        "def compute_matrix_multiplication(arg_ndarray1, arg_ndarray2):\n",
        "    '''\n",
        "    #Description\n",
        "        2つの行列のドット積を計算\n",
        "\n",
        "    #Parameters\n",
        "        arg_ndarray1:          行列1\n",
        "        arg_ndarray2:          行列2\n",
        "\n",
        "    #Returns\n",
        "        ret_ndarray_answer:    行列1と行列2のドット積の結果\n",
        "    '''\n",
        "\n",
        "    num_row = arg_ndarray1.shape[0]    #計算結果の行列の行数（＝行列1の行数）\n",
        "    num_col = arg_ndarray2.shape[1]    #計算結果の行列の列数（＝行列2の列数）\n",
        "\n",
        "    ret_ndarray_answer = np.zeros(num_row* num_col).reshape(num_row, num_col)\n",
        "\n",
        "    for i in range(num_row):\n",
        "        for j in range(num_col):\n",
        "            for k in range(arg_ndarray1.shape[1]):\n",
        "                ret_ndarray_answer[i][j] += arg_ndarray1[i][k] * arg_ndarray2[k][j]\n",
        "    return ret_ndarray_answer\n",
        "\n",
        "AB_ndarray2 = compute_matrix_multiplication(A_ndarray, B_ndarray)\n",
        "print(\"AB_ndarray2= \\n{}\".format(AB_ndarray2))"
      ],
      "execution_count": 3,
      "outputs": [
        {
          "output_type": "stream",
          "text": [
            "AB_ndarray2= \n",
            "[[  6.  29. -20.]\n",
            " [ 12.  52.  38.]\n",
            " [-18. -51. -48.]]\n"
          ],
          "name": "stdout"
        }
      ]
    },
    {
      "cell_type": "markdown",
      "metadata": {
        "id": "viuAV3GPJLG2"
      },
      "source": [
        "###【問題5】計算が定義されない入力を判定する\n",
        "問題4で作成した関数は、実装方法によってはこのDとEの配列を入力しても動いてしまう可能性があります。この場合、不適切な計算が行われることになります。また、途中でエラーになる場合でも、なぜエラーになったかが直接的には分かりづらいメッセージが表示されます。\n",
        "\n",
        "\n",
        "if文などによってこれを防ぎ、入力される形に問題があることをprint()を使い表示するコードを書き加えてください。"
      ]
    },
    {
      "cell_type": "code",
      "metadata": {
        "colab": {
          "base_uri": "https://localhost:8080/"
        },
        "id": "ZKAsqqMnJN7C",
        "outputId": "1abbdf8f-3a13-47db-e1ce-6d938a05d0ad"
      },
      "source": [
        "def compute_matrix_multiplication_ver2(arg_ndarray1, arg_ndarray2):\n",
        "    '''\n",
        "    #Description\n",
        "        2つの行列のドット積を計算（各引数の行列の要素数が不当な場合は警告文を出力）\n",
        "\n",
        "    #Parameters\n",
        "        arg_ndarray1:          1番目の行列\n",
        "        arg_ndarray2:          2番目の行列\n",
        "\n",
        "    #Returns\n",
        "        ret_ndarray_answer:    2つの行列のドット積の結果\n",
        "    '''\n",
        "    \n",
        "    if(arg_ndarray1.shape[1] == arg_ndarray2.shape[0]):\n",
        "\n",
        "        num_row_AB = arg_ndarray1.shape[0]\n",
        "        num_col_AB = arg_ndarray2.shape[1]\n",
        "\n",
        "        ret_ndarray_answer = np.zeros(num_row_AB* num_col_AB).reshape(num_row_AB, num_col_AB)\n",
        "\n",
        "        for i in range(num_row_AB):\n",
        "            for j in range(num_col_AB):\n",
        "                for k in range(arg_ndarray1.shape[1]):\n",
        "                    ret_ndarray_answer[i][j] += arg_ndarray1[i][k] * arg_ndarray2[k][j]\n",
        "        return ret_ndarray_answer\n",
        "\n",
        "    else:\n",
        "        print(\"Warning: Invalid number of row and column are given!\")\n",
        "        print(\"         Matrix calculation is stopped!\")\n",
        "\n",
        "D_ndarray = np.array([[-1, 2, 3], [4, -5, 6]])\n",
        "E_ndarray = np.array([[-9, 8, 7], [6, -5, 4]])\n",
        "\n",
        "DE_ndarray = compute_matrix_multiplication_ver2(D_ndarray, E_ndarray)\n",
        "print(\"DE_ndarray= \\n{}\".format(DE_ndarray))"
      ],
      "execution_count": 4,
      "outputs": [
        {
          "output_type": "stream",
          "text": [
            "Warning: Invalid number of row and column are given!\n",
            "         Matrix calculation is stopped!\n",
            "DE_ndarray= \n",
            "None\n"
          ],
          "name": "stdout"
        }
      ]
    },
    {
      "cell_type": "markdown",
      "metadata": {
        "id": "Bq9hGTjSMiBd"
      },
      "source": [
        "###【問題6】転置\n",
        "片方の行列を転置することで、行列積が計算できるようになります。\n",
        "\n",
        "\n",
        "np.transpose()や.Tアトリビュートを用いて転置し、行列積を計算してください。"
      ]
    },
    {
      "cell_type": "code",
      "metadata": {
        "colab": {
          "base_uri": "https://localhost:8080/"
        },
        "id": "tU1Nl65xMmP3",
        "outputId": "e5331fe5-b8b9-43a5-f4c8-a83c5b19b8fc"
      },
      "source": [
        "Et_ndarray = np.transpose(E_ndarray)\n",
        "#Et_ndarray = E_ndarray.T\n",
        "print(\"E_transposed= \\n{}\".format(Et_ndarray))\n",
        "\n",
        "DEt_ndarray = compute_matrix_multiplication_ver2(D_ndarray, Et_ndarray)\n",
        "print(\"DEt_ndarray= \\n{}\".format(DEt_ndarray))\n",
        "#print(\"DEt_ndarray= \\n{}\".format(np.dot(D_ndarray, Et_ndarray)))"
      ],
      "execution_count": 5,
      "outputs": [
        {
          "output_type": "stream",
          "text": [
            "E_transposed= \n",
            "[[-9  6]\n",
            " [ 8 -5]\n",
            " [ 7  4]]\n",
            "DEt_ndarray= \n",
            "[[ 46.  -4.]\n",
            " [-34.  73.]]\n"
          ],
          "name": "stdout"
        }
      ]
    }
  ]
}
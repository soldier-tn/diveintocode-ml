{
  "nbformat": 4,
  "nbformat_minor": 0,
  "metadata": {
    "colab": {
      "name": "DIC_Week2_2-D-ArrayAndGradient.ipynb",
      "provenance": [],
      "collapsed_sections": []
    },
    "kernelspec": {
      "name": "python3",
      "display_name": "Python 3"
    },
    "language_info": {
      "name": "python"
    }
  },
  "cells": [
    {
      "cell_type": "markdown",
      "metadata": {
        "id": "IWz1Bs6QPJ2v"
      },
      "source": [
        "#Week2 機械学習のための数学"
      ]
    },
    {
      "cell_type": "markdown",
      "metadata": {
        "id": "ewnuMag9RJF5"
      },
      "source": [
        "##●二次元配列と勾配問題\n"
      ]
    },
    {
      "cell_type": "markdown",
      "metadata": {
        "id": "WP0fbljURPvy"
      },
      "source": [
        "###【問題1】1次関数\n",
        "x\n",
        " が-50から50の範囲で次の式を考えます。\n",
        "\n",
        "\n",
        "y\n",
        "=\n",
        "1/2\n",
        "x\n",
        "+\n",
        "1\n",
        "\n",
        "-50から50まで0.1間隔のxを表すndarrayと、各要素に対するyを表すndarrayを作成してください。"
      ]
    },
    {
      "cell_type": "code",
      "metadata": {
        "colab": {
          "base_uri": "https://localhost:8080/"
        },
        "id": "MW1AeDrflzHZ",
        "outputId": "e0ea0e5e-84f6-4849-d244-b5a4e9811339"
      },
      "source": [
        "import numpy as np\n",
        "\n",
        "#np.set_printoptions(precision=6)\n",
        "np.set_printoptions(suppress=True)    #指数表示：無し\n",
        "#np.set_printoptions(threshold=np.inf)   #print表示での配列の省略：無し\n",
        "np.set_printoptions(threshold=100)   #print表示での配列の省略：有り（閾値=100）\n",
        "\n",
        "x_ndarray = np.arange(-50, 50.1, 0.1)\n",
        "y_ndarray = (1 / 2) * x_ndarray + 1\n",
        "\n",
        "print(\"x_ndarray=\\n{}\".format(x_ndarray))\n",
        "print(\"y_ndarray=\\n{}\".format(y_ndarray))\n"
      ],
      "execution_count": 17,
      "outputs": [
        {
          "output_type": "stream",
          "text": [
            "x_ndarray=\n",
            "[-50.  -49.9 -49.8 ...  49.8  49.9  50. ]\n",
            "y_ndarray=\n",
            "[-24.   -23.95 -23.9  ...  25.9   25.95  26.  ]\n"
          ],
          "name": "stdout"
        }
      ]
    },
    {
      "cell_type": "markdown",
      "metadata": {
        "id": "DRuZXr5F3fs0"
      },
      "source": [
        "###【問題2】配列の結合\n",
        "問題1で作成したndarrayを結合し、(1001, 2)の形の配列にしてください。0列目にx、1列目にyが来るようにします。"
      ]
    },
    {
      "cell_type": "code",
      "metadata": {
        "colab": {
          "base_uri": "https://localhost:8080/"
        },
        "id": "KY_eeEshSBwZ",
        "outputId": "7f9695a0-de69-41cc-9444-da735af77bf8"
      },
      "source": [
        "x_y_ndarray = np.stack([x_ndarray, y_ndarray], axis = 1)\n",
        "print(\"x_y_ndarray=\\n{}\".format(x_y_ndarray))\n",
        "print(\"shape=\\n{}\".format(x_y_ndarray.shape))\n"
      ],
      "execution_count": 2,
      "outputs": [
        {
          "output_type": "stream",
          "text": [
            "x_y_ndarray=\n",
            "[[-50.   -24.  ]\n",
            " [-49.9  -23.95]\n",
            " [-49.8  -23.9 ]\n",
            " ...\n",
            " [ 49.8   25.9 ]\n",
            " [ 49.9   25.95]\n",
            " [ 50.    26.  ]]\n",
            "shape=\n",
            "(1001, 2)\n"
          ],
          "name": "stdout"
        }
      ]
    },
    {
      "cell_type": "markdown",
      "metadata": {
        "id": "1R5OvF_O8i9g"
      },
      "source": [
        "###【問題3】勾配を求める\n",
        "各x座標における勾配を求めます。ここで勾配はyの変化量をxの変化量で割ることで計算します。"
      ]
    },
    {
      "cell_type": "code",
      "metadata": {
        "colab": {
          "base_uri": "https://localhost:8080/"
        },
        "id": "YIvaNFxy3lPN",
        "outputId": "428b15ca-0386-46e5-930a-377e076ac80f"
      },
      "source": [
        "x_variation_ndarray = x_ndarray[1:] - x_ndarray[:-1]    #xの変化量の配列\n",
        "y_variation_ndarray = y_ndarray[1:] - y_ndarray[:-1]    #yの変化量の配列\n",
        "\n",
        "grad_ndarray = y_variation_ndarray / x_variation_ndarray    #各x座標における勾配\n",
        "print(\"各x座標における勾配:\\n{}\".format(grad_ndarray))"
      ],
      "execution_count": 3,
      "outputs": [
        {
          "output_type": "stream",
          "text": [
            "各x座標における勾配:\n",
            "[0.5 0.5 0.5 ... 0.5 0.5 0.5]\n"
          ],
          "name": "stdout"
        }
      ]
    },
    {
      "cell_type": "markdown",
      "metadata": {
        "id": "Ljsv1DphA2Yb"
      },
      "source": [
        "###【問題4】グラフを描く\n",
        "1次関数のグラフをMatplotlibを用いて描いてください。また、それとは別に横軸をx、縦軸を勾配としたグラフも描いてください。"
      ]
    },
    {
      "cell_type": "code",
      "metadata": {
        "colab": {
          "base_uri": "https://localhost:8080/",
          "height": 299
        },
        "id": "WDtXsvmv9dPz",
        "outputId": "73619058-81e3-45d3-b170-51689fef53a1"
      },
      "source": [
        "import matplotlib.pyplot as plt\n",
        "import matplotlib.style\n",
        "%matplotlib inline\n",
        "matplotlib.style.use('ggplot')\n",
        "\n",
        "#サブプロット作成\n",
        "fig, ax = plt.subplots(2)\n",
        "\n",
        "#グラフ間の間隔を空ける\n",
        "fig.subplots_adjust(wspace=0.4, hspace=1)\n",
        "\n",
        "#1次関数のグラフ作成\n",
        "ax[0].set_title(\"y-x\")\n",
        "ax[0].set_xlabel(\"x\")\n",
        "ax[0].set_ylabel(\"y\")\n",
        "ax[0].plot(x_ndarray, y_ndarray)\n",
        "\n",
        "#勾配のグラフ作成\n",
        "ax[1].set_title(\"gradient\")\n",
        "ax[1].set_xlabel(\"x\")\n",
        "ax[1].set_ylabel(\"dy/dx\")\n",
        "ax[1].plot(x_ndarray[0:-1], grad_ndarray)\n",
        "plt.show()"
      ],
      "execution_count": 4,
      "outputs": [
        {
          "output_type": "display_data",
          "data": {
            "image/png": "[encoded data removed]",
            "text/plain": [
              "<Figure size 432x288 with 2 Axes>"
            ]
          },
          "metadata": {
            "tags": []
          }
        }
      ]
    },
    {
      "cell_type": "markdown",
      "metadata": {
        "id": "viuAV3GPJLG2"
      },
      "source": [
        "###【問題5】Pythonの関数化\n",
        "問題1から問題3までの範囲をまとめて行うPythonの関数を雛形を参考に作成してください。\n",
        "\n",
        "\n",
        "そして、以下の3式の勾配を0.1間隔で求めてndarrayで出力してください。\n",
        "\n",
        "\n",
        "y\n",
        "=\n",
        "x\n",
        "2\n",
        "(\n",
        "−\n",
        "50\n",
        "≤\n",
        "x\n",
        "≤\n",
        "50\n",
        ")\n",
        "y\n",
        "=\n",
        "2\n",
        "x\n",
        "2\n",
        "+\n",
        "2\n",
        "x\n",
        "(\n",
        "−\n",
        "50\n",
        "≤\n",
        "x\n",
        "≤\n",
        "50\n",
        ")\n",
        "y\n",
        "=\n",
        "s\n",
        "i\n",
        "n\n",
        "(\n",
        "x\n",
        "1\n",
        "2\n",
        ")\n",
        "(\n",
        "0\n",
        "≤\n",
        "x\n",
        "≤\n",
        "50\n",
        ")\n",
        "\n",
        "また、問題4と同様にグラフを描いてください。\n",
        "\n",
        "\n",
        "ndarrayに対して三角関数のsinの計算を行うには np.sin()を用います。"
      ]
    },
    {
      "cell_type": "code",
      "metadata": {
        "colab": {
          "base_uri": "https://localhost:8080/",
          "height": 1000
        },
        "id": "EDw-dTwjbdSy",
        "outputId": "3ab7bce0-82e3-49e5-9a91-41783e68fc86"
      },
      "source": [
        "def compute_gradient(arg_function, arg_x_range=(-50, 50.1, 0.1)):\n",
        "    '''\n",
        "    #Description\n",
        "        変化量を使い勾配を計算する。\n",
        "    #Parameters\n",
        "        arg_function:    求めたい関数、xのndarrayを入れるとyのndarrayを返すもの。(function)\n",
        "        arg_x_range:   np.arange()の引数と同じ方法で範囲を指定する。(tuple)\n",
        "    #Returns\n",
        "        ret_xy_ndarray:     xとyを結合したもの。nはx_rangeに依存する。(ndarray, shape(n, 2))\n",
        "        ret_gradient_ndarray:     関数の勾配。差をとるため要素は1つ減る。(ndarray, shape(n-1,))\n",
        "    '''\n",
        "    temp_x_ndarray = np.arange(*arg_x_range)   #x座標の配列\n",
        "    temp_y_ndarray = arg_function(temp_x_ndarray)   #y座標の配列\n",
        "\n",
        "    #xとyを結合（問題2より抜粋）\n",
        "    ret_xy_ndarray = np.stack([temp_x_ndarray, temp_y_ndarray], axis = 1)\n",
        "    print(\"xy_ndarray=\\n{}\".format(ret_xy_ndarray))\n",
        "    print(\"shape: {}\".format(ret_xy_ndarray.shape))\n",
        "\n",
        "    #勾配を計算（問題3より抜粋）\n",
        "    temp_x_variation_ndarray = temp_x_ndarray[1:] - temp_x_ndarray[:-1]    #xの変化量の配列\n",
        "    temp_y_variation_ndarray = temp_y_ndarray[1:] - temp_y_ndarray[:-1]    #yの変化量の配列\n",
        "    ret_gradient_ndarray = temp_y_variation_ndarray / temp_x_variation_ndarray    #各x座標における勾配\n",
        "    print(\"各x座標における勾配:\\n{}\".format(ret_gradient_ndarray))\n",
        "    \n",
        "    return ret_xy_ndarray, ret_gradient_ndarray\n",
        "\n",
        "\n",
        "def function1(arg_x_ndarray):\n",
        "    '''\n",
        "    #Description\n",
        "        「y = x^2」の演算\n",
        "    #Parameters\n",
        "        arg_x_ndarray:    上記関数の入力x\n",
        "    #Returns\n",
        "        ret_y_ndarray:    上記関数の出力y\n",
        "    '''\n",
        "    #ret_y_ndarray = (1 / 2) * arg_x_ndarray + 1\n",
        "    ret_y_ndarray = arg_x_ndarray ** 2\n",
        "    return ret_y_ndarray\n",
        "\n",
        "\n",
        "def function2(arg_x_ndarray):\n",
        "    '''\n",
        "    #Description\n",
        "        「y = 2x^2 + 2^x」の演算\n",
        "    #Parameters\n",
        "        arg_x_ndarray:    上記関数の入力x\n",
        "    #Returns\n",
        "        ret_y_ndarray:    上記関数の出力y\n",
        "    '''\n",
        "    ret_y_ndarray = 2 * (arg_x_ndarray ** 2) + (2 ** arg_x_ndarray)\n",
        "    return ret_y_ndarray\n",
        "\n",
        "\n",
        "def function3(arg_x_ndarray):\n",
        "    '''\n",
        "    #Description\n",
        "        「y = sin(x^(1/2))」の演算\n",
        "    #Parameters\n",
        "        arg_x_ndarray:    上記関数の入力x\n",
        "    #Returns\n",
        "        ret_y_ndarray:    上記関数の出力y\n",
        "    '''\n",
        "    ret_y_ndarray = np.sin(arg_x_ndarray ** (1/2))\n",
        "    return ret_y_ndarray\n",
        "\n",
        "#np.set_printoptions(threshold=np.inf)   #print表示での配列の省略：無し\n",
        "np.set_printoptions(threshold=100)   #print表示での配列の省略：有り（閾値=100）\n",
        "\n",
        "print(\"\\n\")\n",
        "print(\"### 関数1 ###\")\n",
        "xy1_ndarray, gradient1_ndarray = compute_gradient(function1, (-50, 50.1, 0.1))\n",
        "print(\"\\n\")\n",
        "print(\"### 関数2 ###\")\n",
        "xy2_ndarray, gradient2_ndarray = compute_gradient(function2, (-50, 50.1, 0.1))\n",
        "print(\"\\n\")\n",
        "print(\"### 関数3 ###\")\n",
        "xy3_ndarray, gradient3_ndarray = compute_gradient(function3, (0, 50.1, 0.1))\n",
        "\n",
        "\n",
        "#サブプロット作成\n",
        "fig2, ax2 = plt.subplots(3, 2)\n",
        "\n",
        "#グラフ間の間隔を空ける\n",
        "fig2.subplots_adjust(wspace=0.4, hspace=2)\n",
        "\n",
        "#関数1のグラフ作成\n",
        "ax2[0][0].set_title(\"y=x^2\")\n",
        "ax2[0][0].set_xlabel(\"x\")\n",
        "ax2[0][0].set_ylabel(\"y\")\n",
        "ax2[0][0].plot(xy1_ndarray[:, 0], xy1_ndarray[:, 1])\n",
        "#関数1の勾配のグラフ作成\n",
        "ax2[0][1].set_title(\"gradient of [y=x^2]\")\n",
        "ax2[0][1].set_xlabel(\"x\")\n",
        "ax2[0][1].set_ylabel(\"dy/dx\")\n",
        "ax2[0][1].plot(xy1_ndarray[0:-1, 0], gradient1_ndarray)\n",
        "\n",
        "#関数2のグラフ作成\n",
        "ax2[1][0].set_title(\"y=2x^2+2^x\")\n",
        "ax2[1][0].set_xlabel(\"x\")\n",
        "ax2[1][0].set_ylabel(\"y\")\n",
        "ax2[1][0].plot(xy2_ndarray[:, 0], xy2_ndarray[:, 1])\n",
        "#関数2の勾配のグラフ作成\n",
        "ax2[1][1].set_title(\"gradient of [y=2x^2+2^x]\")\n",
        "ax2[1][1].set_xlabel(\"x\")\n",
        "ax2[1][1].set_ylabel(\"dy/dx\")\n",
        "ax2[1][1].plot(xy2_ndarray[0:-1, 0], gradient2_ndarray)\n",
        "\n",
        "#関数3のグラフ作成\n",
        "ax2[2][0].set_title(\"y=sin(x^(1/2))\")\n",
        "ax2[2][0].set_xlabel(\"x\")\n",
        "ax2[2][0].set_ylabel(\"y\")\n",
        "ax2[2][0].plot(xy3_ndarray[:, 0], xy3_ndarray[:, 1])\n",
        "#関数3の勾配のグラフ作成\n",
        "ax2[2][1].set_title(\"gradient of [y=sin(x^(1/2))]\")\n",
        "ax2[2][1].set_xlabel(\"x\")\n",
        "ax2[2][1].set_ylabel(\"dy/dx\")\n",
        "ax2[2][1].plot(xy3_ndarray[0:-1, 0], gradient3_ndarray)\n",
        "plt.show()\n"
      ],
      "execution_count": 47,
      "outputs": [
        {
          "output_type": "stream",
          "text": [
            "\n",
            "\n",
            "### 関数1 ###\n",
            "xy_ndarray=\n",
            "[[ -50.   2500.  ]\n",
            " [ -49.9  2490.01]\n",
            " [ -49.8  2480.04]\n",
            " ...\n",
            " [  49.8  2480.04]\n",
            " [  49.9  2490.01]\n",
            " [  50.   2500.  ]]\n",
            "shape: (1001, 2)\n",
            "各x座標における勾配:\n",
            "[-99.9 -99.7 -99.5 ...  99.5  99.7  99.9]\n",
            "\n",
            "\n",
            "### 関数2 ###\n",
            "xy_ndarray=\n",
            "[[-5.000000e+01  5.000000e+03]\n",
            " [-4.990000e+01  4.980020e+03]\n",
            " [-4.980000e+01  4.960080e+03]\n",
            " ...\n",
            " [ 4.980000e+01  9.801528e+14]\n",
            " [ 4.990000e+01  1.050502e+15]\n",
            " [ 5.000000e+01  1.125900e+15]]\n",
            "shape: (1001, 2)\n",
            "各x座標における勾配:\n",
            "[-1.998000e+02 -1.994000e+02 -1.990000e+02 ...  6.563790e+14  7.034896e+14\n",
            "  7.539815e+14]\n",
            "\n",
            "\n",
            "### 関数3 ###\n",
            "xy_ndarray=\n",
            "[[ 0.        0.      ]\n",
            " [ 0.1       0.310984]\n",
            " [ 0.2       0.432455]\n",
            " ...\n",
            " [49.8       0.698805]\n",
            " [49.9       0.703854]\n",
            " [50.        0.708861]]\n",
            "shape: (501, 2)\n",
            "各x座標における勾配:\n",
            "[3.109836 1.214712 0.882895 ... 0.050882 0.050481 0.050078]\n"
          ],
          "name": "stdout"
        },
        {
          "output_type": "display_data",
          "data": {
            "image/png": "[encoded data removed]",
            "text/plain": [
              "<Figure size 432x288 with 6 Axes>"
            ]
          },
          "metadata": {
            "tags": []
          }
        }
      ]
    },
    {
      "cell_type": "markdown",
      "metadata": {
        "id": "Y5a96PPJsi6H"
      },
      "source": [
        "###【問題6】最小値を求める\n",
        "問題5で扱った関数のyの最小値を求めます。xの範囲も問題5と同様とします。\n",
        "\n",
        "\n",
        "今回は勾配降下法ではなく、ndarrayのminメソッド、argminメソッドを用いてください。minメソッドは最小値を、argminメソッドは最小値のインデックスを取得することができます。\n",
        "\n",
        "\n",
        "また、最小のyをとる前後の勾配を表示してください。"
      ]
    },
    {
      "cell_type": "code",
      "metadata": {
        "colab": {
          "base_uri": "https://localhost:8080/"
        },
        "id": "8paaopELsl-0",
        "outputId": "eefc376d-3faa-469d-9db1-644754053bed"
      },
      "source": [
        "#print(xy1_ndarray.min(axis=0))\n",
        "#print(xy1_ndarray.argmin(axis=0))\n",
        "\n",
        "#関数1\n",
        "min_of_xy1_index = int(xy1_ndarray.argmin(axis=0)[1])\n",
        "min_of_xy1 = xy1_ndarray.min(axis=0)[1]\n",
        "print(\"\\n\")\n",
        "print(\"####関数1###\")\n",
        "print(\"yの最小値: {}\".format(min_of_xy1))\n",
        "print(\"yの最小値のindex: {}\".format(min_of_xy1_index))\n",
        "print(\"最小値の前後の勾配:\")\n",
        "print(\"  ([index, 勾配])\")\n",
        "print(\"   [{}, {}]\".format(min_of_xy1_index - 1, gradient1_ndarray[min_of_xy1_index - 1]))\n",
        "print(\"   [{}, {}]\".format(min_of_xy1_index, gradient1_ndarray[min_of_xy1_index]))\n",
        "print(\"   [{}, {}]\".format(min_of_xy1_index + 1, gradient1_ndarray[min_of_xy1_index + 1]))\n",
        "\n",
        "#関数2\n",
        "min_of_xy2_index = int(xy2_ndarray.argmin(axis=0)[1])\n",
        "min_of_xy2 = xy2_ndarray.min(axis=0)[1]\n",
        "print(\"\\n\")\n",
        "print(\"####関数2###\")\n",
        "print(\"yの最小値: {}\".format(min_of_xy2))\n",
        "print(\"yの最小値のindex: {}\".format(min_of_xy2_index))\n",
        "print(\"最小値の前後の勾配:\")\n",
        "print(\"  ([index, 勾配])\")\n",
        "print(\"   [{}, {}]\".format(min_of_xy2_index - 1, gradient2_ndarray[min_of_xy2_index - 1]))\n",
        "print(\"   [{}, {}]\".format(min_of_xy2_index, gradient2_ndarray[min_of_xy2_index]))\n",
        "print(\"   [{}, {}]\".format(min_of_xy2_index + 1, gradient2_ndarray[min_of_xy2_index + 1]))\n",
        "\n",
        "#関数3\n",
        "min_of_xy3_index = int(xy3_ndarray.argmin(axis=0)[1])\n",
        "min_of_xy3 = xy3_ndarray.min(axis=0)[1]\n",
        "print(\"\\n\")\n",
        "print(\"####関数3###\")\n",
        "print(\"yの最小値: {}\".format(min_of_xy3))\n",
        "print(\"yの最小値のindex: {}\".format(min_of_xy3_index))\n",
        "print(\"最小値の前後の勾配:\")\n",
        "print(\"  ([index, 勾配])\")\n",
        "print(\"   [{}, {}]\".format(min_of_xy3_index - 1, gradient3_ndarray[min_of_xy3_index - 1]))\n",
        "print(\"   [{}, {}]\".format(min_of_xy3_index, gradient3_ndarray[min_of_xy3_index]))\n",
        "print(\"   [{}, {}]\".format(min_of_xy3_index + 1, gradient3_ndarray[min_of_xy3_index + 1]))"
      ],
      "execution_count": 49,
      "outputs": [
        {
          "output_type": "stream",
          "text": [
            "\n",
            "\n",
            "####関数1###\n",
            "yの最小値: 5.048709793414476e-25\n",
            "yの最小値のindex: 500\n",
            "最小値の前後の勾配:\n",
            "  ([index, 勾配])\n",
            "   [499, -0.09999999999858034]\n",
            "   [500, 0.1000000000014225]\n",
            "   [501, 0.30000000000142535]\n",
            "\n",
            "\n",
            "####関数2###\n",
            "yの最小値: 0.9505505632959851\n",
            "yの最小値のindex: 498\n",
            "最小値の前後の勾配:\n",
            "  ([index, 勾配])\n",
            "   [497, -0.4170183305979998]\n",
            "   [498, 0.024824282409972788]\n",
            "   [499, 0.4696700846350943]\n",
            "\n",
            "\n",
            "####関数3###\n",
            "yの最小値: -0.9999997540298113\n",
            "yの最小値のindex: 222\n",
            "最小値の前後の勾配:\n",
            "  ([index, 勾配])\n",
            "   [221, -0.0006388422559544435]\n",
            "   [222, 0.0004874477930660974]\n",
            "   [223, 0.0016061158921243152]\n"
          ],
          "name": "stdout"
        }
      ]
    },
    {
      "cell_type": "code",
      "metadata": {
        "id": "0nJXxlkgtmsb"
      },
      "source": [
        ""
      ],
      "execution_count": null,
      "outputs": []
    }
  ]
}